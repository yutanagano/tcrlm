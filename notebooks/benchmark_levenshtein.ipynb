{
 "cells": [
  {
   "cell_type": "markdown",
   "metadata": {},
   "source": [
    "# Benchmarking simple CDR3 Levenshtein distance"
   ]
  },
  {
   "cell_type": "markdown",
   "metadata": {},
   "source": [
    "## Importing modules and data"
   ]
  },
  {
   "cell_type": "code",
   "execution_count": 1,
   "metadata": {},
   "outputs": [],
   "source": [
    "import sys\n",
    "import os\n",
    "sys.path.append('/home/yutanagano/Projects/tcr_embedder')\n",
    "os.chdir('/home/yutanagano/Projects/tcr_embedder')"
   ]
  },
  {
   "cell_type": "code",
   "execution_count": 2,
   "metadata": {},
   "outputs": [],
   "source": [
    "from itertools import combinations\n",
    "import json\n",
    "from math import exp, log\n",
    "import numpy as np\n",
    "import pandas as pd\n",
    "from pandas import DataFrame, notna\n",
    "from pathlib import Path\n",
    "from polyleven import levenshtein\n",
    "import random\n",
    "import seaborn\n",
    "from sklearn.neighbors import KNeighborsClassifier\n",
    "from statistics import mean\n",
    "import torch\n",
    "from tqdm import tqdm\n",
    "\n",
    "seaborn.set_theme()\n",
    "seaborn.set_style('white')"
   ]
  },
  {
   "cell_type": "code",
   "execution_count": 3,
   "metadata": {},
   "outputs": [],
   "source": [
    "back_df = pd.read_csv('/home/yutanagano/UCLOneDrive/MBPhD/projects/tcr_embedder/data/tanno_processed/test.csv')\n",
    "ep_df = pd.read_csv('/home/yutanagano/UCLOneDrive/MBPhD/projects/tcr_embedder/data/vdjdb/evaluation.csv')\n",
    "\n",
    "back_df = back_df[['CDR3A', 'CDR3B']]\n",
    "ep_df = ep_df[['CDR3A', 'CDR3B', 'Epitope']]"
   ]
  },
  {
   "cell_type": "markdown",
   "metadata": {},
   "source": [
    "### Load model"
   ]
  },
  {
   "cell_type": "code",
   "execution_count": 4,
   "metadata": {},
   "outputs": [],
   "source": [
    "random_back_pairs = back_df.sample(5000).apply(lambda x: list(combinations(x, 2)))\n",
    "random_back_pairs['CDR3A_leven_dist'] = random_back_pairs['CDR3A'].map(lambda pair: levenshtein(*pair))\n",
    "random_back_pairs['CDR3B_leven_dist'] = random_back_pairs['CDR3B'].map(lambda pair: levenshtein(*pair))"
   ]
  },
  {
   "cell_type": "code",
   "execution_count": 5,
   "metadata": {},
   "outputs": [],
   "source": [
    "alpha_expected_dist = random_back_pairs['CDR3A_leven_dist'].mean()\n",
    "beta_expected_dist = random_back_pairs['CDR3B_leven_dist'].mean()"
   ]
  },
  {
   "cell_type": "code",
   "execution_count": 6,
   "metadata": {},
   "outputs": [],
   "source": [
    "def cdr3_leven_dist(\n",
    "    cdr3a_1: str,\n",
    "    cdr3a_2: str,\n",
    "    cdr3b_1: str,\n",
    "    cdr3b_2: str\n",
    ") -> float:\n",
    "    alpha_dist = 0\n",
    "    beta_dist = 0\n",
    "\n",
    "    if notna(cdr3a_1) and notna(cdr3a_2):\n",
    "        alpha_dist = levenshtein(cdr3a_1, cdr3a_2)\n",
    "    else:\n",
    "        alpha_dist = alpha_expected_dist\n",
    "    \n",
    "    if notna(cdr3b_1) and notna(cdr3b_2):\n",
    "        beta_dist = levenshtein(cdr3b_1, cdr3b_2)\n",
    "    else:\n",
    "        beta_dist = beta_expected_dist\n",
    "    \n",
    "    return float(alpha_dist + beta_dist)"
   ]
  },
  {
   "cell_type": "markdown",
   "metadata": {},
   "source": [
    "### Create benchmarking directory"
   ]
  },
  {
   "cell_type": "code",
   "execution_count": 7,
   "metadata": {},
   "outputs": [],
   "source": [
    "BENCHMARK_DIR = Path(f'benchmarks/cdr3_levenshtein')\n",
    "if not BENCHMARK_DIR.is_dir():\n",
    "    BENCHMARK_DIR.mkdir()"
   ]
  },
  {
   "cell_type": "markdown",
   "metadata": {},
   "source": [
    "## Calculate alignment and uniformity"
   ]
  },
  {
   "cell_type": "code",
   "execution_count": 8,
   "metadata": {},
   "outputs": [],
   "source": [
    "# def cdr3_leven_alignment(ep_df: DataFrame) -> float:\n",
    "#     pairs_by_ep = ep_df.groupby('Epitope').apply(lambda subdf: subdf.apply(lambda x: list(combinations(x, 2))))\n",
    "#     pairs_by_ep = pairs_by_ep.reset_index(drop=True)\n",
    "\n",
    "#     pairs_by_ep['Epitope'] = pairs_by_ep['Epitope'].map(lambda x: x[0])\n",
    "#     pairs_by_ep['d'] = pairs_by_ep.apply(lambda row: cdr3_leven_dist(row['CDR3A'][0], row['CDR3A'][1], row['CDR3B'][0], row['CDR3B'][1]), axis=1)\n",
    "\n",
    "#     distances_by_ep = pairs_by_ep.groupby('Epitope')['d'].mean()\n",
    "\n",
    "#     return distances_by_ep.mean()"
   ]
  },
  {
   "cell_type": "code",
   "execution_count": 9,
   "metadata": {},
   "outputs": [],
   "source": [
    "# def cdr3_leven_uniformity(back_df: DataFrame) -> float:\n",
    "#     pairs = back_df.apply(lambda x: list(combinations(x, 2)))\n",
    "#     pairs = pairs.reset_index(drop=True)\n",
    "\n",
    "#     pairs['Epitope'] = pairs['Epitope'].map(lambda x: x[0])\n",
    "#     pairs['d'] = pairs.apply(lambda row: cdr3_leven_dist(row['CDR3A'][0], row['CDR3A'][1], row['CDR3B'][0], row['CDR3B'][1]), axis=1)\n",
    "#     exp_neg_dists = pairs['d'].map(lambda d: exp(-d))\n",
    "\n",
    "#     return log(exp_neg_dists.mean())"
   ]
  },
  {
   "cell_type": "code",
   "execution_count": 10,
   "metadata": {},
   "outputs": [],
   "source": [
    "# alignment = cdr3_leven_alignment(ep_df)"
   ]
  },
  {
   "cell_type": "code",
   "execution_count": 11,
   "metadata": {},
   "outputs": [],
   "source": [
    "# uniformity = cdr3_leven_uniformity(ep_df)"
   ]
  },
  {
   "cell_type": "markdown",
   "metadata": {},
   "source": [
    "## k-NN evaluation of embeddings"
   ]
  },
  {
   "cell_type": "code",
   "execution_count": 12,
   "metadata": {},
   "outputs": [],
   "source": [
    "def knn_cdr3_leven_dist(x: np.ndarray, y: np.ndarray) -> float:\n",
    "    tcr1 = ep_df.iloc[int(x[0])]\n",
    "    tcr2 = ep_df.iloc[int(y[0])]\n",
    "    dist = cdr3_leven_dist(tcr1['CDR3A'], tcr2['CDR3A'], tcr1['CDR3B'], tcr2['CDR3B'])\n",
    "\n",
    "    if dist is None:\n",
    "        return np.inf\n",
    "\n",
    "    return dist"
   ]
  },
  {
   "cell_type": "code",
   "execution_count": 13,
   "metadata": {},
   "outputs": [
    {
     "name": "stderr",
     "output_type": "stream",
     "text": [
      "100%|██████████| 4800/4800 [4:45:09<00:00,  3.56s/it]  \n"
     ]
    }
   ],
   "source": [
    "scores = []\n",
    "tcr_ivecs = np.array([[idx] for idx in ep_df.index], dtype=float)\n",
    "ep_cat_codes = ep_df['Epitope'].astype('category').cat.codes\n",
    "ep_len = len(ep_df)\n",
    "\n",
    "for i in tqdm(range(ep_len)):\n",
    "    filt = np.ones(ep_len, dtype=bool)\n",
    "    filt[i] = False\n",
    "\n",
    "    loo_ivecs = tcr_ivecs[filt]\n",
    "    loo_cat_codes = ep_cat_codes[filt]\n",
    "\n",
    "    test_ivec = tcr_ivecs[[i]]\n",
    "    expected_cat_code = ep_cat_codes[[i]]\n",
    "\n",
    "    knn = KNeighborsClassifier(metric=knn_cdr3_leven_dist)\n",
    "    knn.fit(loo_ivecs, loo_cat_codes)\n",
    "\n",
    "    scores.append(knn.predict(test_ivec).item() == expected_cat_code.item())\n",
    "\n",
    "knn_accuracy = torch.tensor(scores, dtype=torch.float32).mean().item()"
   ]
  },
  {
   "cell_type": "markdown",
   "metadata": {},
   "source": [
    "## Write out evaluation metrics to json"
   ]
  },
  {
   "cell_type": "code",
   "execution_count": 14,
   "metadata": {},
   "outputs": [],
   "source": [
    "metrics_dict = {\n",
    "    'model_name': 'cdr3_levenshtein',\n",
    "    # 'alignment': alignment,\n",
    "    # 'uniformity': uniformity,\n",
    "    # 'alignment + uniformity': alignment + uniformity,\n",
    "    '5nn_accuracy': knn_accuracy\n",
    "}"
   ]
  },
  {
   "cell_type": "code",
   "execution_count": 15,
   "metadata": {},
   "outputs": [],
   "source": [
    "with open(BENCHMARK_DIR/'metrics.json', 'w') as f:\n",
    "    json.dump(metrics_dict, f, indent=4)"
   ]
  },
  {
   "cell_type": "code",
   "execution_count": null,
   "metadata": {},
   "outputs": [],
   "source": []
  }
 ],
 "metadata": {
  "kernelspec": {
   "display_name": "Python 3.8.15 ('.venv': venv)",
   "language": "python",
   "name": "python3"
  },
  "language_info": {
   "codemirror_mode": {
    "name": "ipython",
    "version": 3
   },
   "file_extension": ".py",
   "mimetype": "text/x-python",
   "name": "python",
   "nbconvert_exporter": "python",
   "pygments_lexer": "ipython3",
   "version": "3.10.9"
  },
  "orig_nbformat": 4,
  "vscode": {
   "interpreter": {
    "hash": "bab11497baf8882c4e95e2d544b4f7a8d499018a7e93af1d4b5fac976897075f"
   }
  }
 },
 "nbformat": 4,
 "nbformat_minor": 2
}
