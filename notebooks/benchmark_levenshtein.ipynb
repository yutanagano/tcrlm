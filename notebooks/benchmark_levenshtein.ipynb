{
 "cells": [
  {
   "cell_type": "markdown",
   "metadata": {},
   "source": [
    "# Benchmarking simple CDR3 Levenshtein distance"
   ]
  },
  {
   "cell_type": "markdown",
   "metadata": {},
   "source": [
    "## Importing modules and data"
   ]
  },
  {
   "cell_type": "code",
   "execution_count": 1,
   "metadata": {},
   "outputs": [],
   "source": [
    "import sys\n",
    "import os\n",
    "sys.path.append('/home/yutanagano/Projects/tcr_embedder')\n",
    "os.chdir('/home/yutanagano/Projects/tcr_embedder')"
   ]
  },
  {
   "cell_type": "code",
   "execution_count": 2,
   "metadata": {},
   "outputs": [],
   "source": [
    "from itertools import combinations\n",
    "import json\n",
    "from math import exp, log\n",
    "import numpy as np\n",
    "import pandas as pd\n",
    "from pandas import DataFrame, notna\n",
    "from pathlib import Path\n",
    "from polyleven import levenshtein\n",
    "import random\n",
    "import seaborn\n",
    "from sklearn.neighbors import KNeighborsClassifier\n",
    "from statistics import mean\n",
    "import torch\n",
    "from tqdm import tqdm\n",
    "\n",
    "seaborn.set_theme()\n",
    "seaborn.set_style('white')"
   ]
  },
  {
   "cell_type": "code",
   "execution_count": 3,
   "metadata": {},
   "outputs": [],
   "source": [
    "back_df = pd.read_csv('/home/yutanagano/UCLOneDrive/MBPhD/projects/tcr_embedder/data/tanno_processed/test.csv').iloc[:1000]\n",
    "ep_df = pd.read_csv('/home/yutanagano/UCLOneDrive/MBPhD/projects/tcr_embedder/data/vdjdb/evaluation.csv')\n",
    "\n",
    "back_df = back_df[['CDR3A', 'CDR3B', 'Epitope']]\n",
    "ep_df = ep_df[['CDR3A', 'CDR3B', 'Epitope']]"
   ]
  },
  {
   "cell_type": "markdown",
   "metadata": {},
   "source": [
    "### Load model"
   ]
  },
  {
   "cell_type": "code",
   "execution_count": 4,
   "metadata": {},
   "outputs": [],
   "source": [
    "def cdr3_leven_dist(\n",
    "    cdr3a_1: str,\n",
    "    cdr3a_2: str,\n",
    "    cdr3b_1: str,\n",
    "    cdr3b_2: str\n",
    ") -> float:\n",
    "    dists = []\n",
    "\n",
    "    if notna(cdr3a_1) and notna(cdr3a_2):\n",
    "        dists.append(levenshtein(cdr3a_1, cdr3a_2))\n",
    "    \n",
    "    if notna(cdr3b_1) and notna(cdr3b_2):\n",
    "        dists.append(levenshtein(cdr3b_1, cdr3b_2))\n",
    "\n",
    "    if len(dists) == 0:\n",
    "        return None\n",
    "    \n",
    "    return float(mean(dists))"
   ]
  },
  {
   "cell_type": "markdown",
   "metadata": {},
   "source": [
    "### Create benchmarking directory"
   ]
  },
  {
   "cell_type": "code",
   "execution_count": 5,
   "metadata": {},
   "outputs": [],
   "source": [
    "BENCHMARK_DIR = Path(f'benchmarks/cdr3_levenshtein')\n",
    "if not BENCHMARK_DIR.is_dir():\n",
    "    BENCHMARK_DIR.mkdir()"
   ]
  },
  {
   "cell_type": "markdown",
   "metadata": {},
   "source": [
    "## Calculate alignment and uniformity"
   ]
  },
  {
   "cell_type": "code",
   "execution_count": 6,
   "metadata": {},
   "outputs": [],
   "source": [
    "# def cdr3_leven_alignment(ep_df: DataFrame) -> float:\n",
    "#     pairs_by_ep = ep_df.groupby('Epitope').apply(lambda subdf: subdf.apply(lambda x: list(combinations(x, 2))))\n",
    "#     pairs_by_ep = pairs_by_ep.reset_index(drop=True)\n",
    "\n",
    "#     pairs_by_ep['Epitope'] = pairs_by_ep['Epitope'].map(lambda x: x[0])\n",
    "#     pairs_by_ep['d'] = pairs_by_ep.apply(lambda row: cdr3_leven_dist(row['CDR3A'][0], row['CDR3A'][1], row['CDR3B'][0], row['CDR3B'][1]), axis=1)\n",
    "\n",
    "#     distances_by_ep = pairs_by_ep.groupby('Epitope')['d'].mean()\n",
    "\n",
    "#     return distances_by_ep.mean()"
   ]
  },
  {
   "cell_type": "code",
   "execution_count": 7,
   "metadata": {},
   "outputs": [],
   "source": [
    "# def cdr3_leven_uniformity(back_df: DataFrame) -> float:\n",
    "#     pairs = back_df.apply(lambda x: list(combinations(x, 2)))\n",
    "#     pairs = pairs.reset_index(drop=True)\n",
    "\n",
    "#     pairs['Epitope'] = pairs['Epitope'].map(lambda x: x[0])\n",
    "#     pairs['d'] = pairs.apply(lambda row: cdr3_leven_dist(row['CDR3A'][0], row['CDR3A'][1], row['CDR3B'][0], row['CDR3B'][1]), axis=1)\n",
    "#     exp_neg_dists = pairs['d'].map(lambda d: exp(-d))\n",
    "\n",
    "#     return log(exp_neg_dists.mean())"
   ]
  },
  {
   "cell_type": "code",
   "execution_count": 8,
   "metadata": {},
   "outputs": [],
   "source": [
    "# alignment = cdr3_leven_alignment(ep_df)"
   ]
  },
  {
   "cell_type": "code",
   "execution_count": 9,
   "metadata": {},
   "outputs": [],
   "source": [
    "# uniformity = cdr3_leven_uniformity(ep_df)"
   ]
  },
  {
   "cell_type": "markdown",
   "metadata": {},
   "source": [
    "## k-NN evaluation of embeddings"
   ]
  },
  {
   "cell_type": "code",
   "execution_count": 10,
   "metadata": {},
   "outputs": [],
   "source": [
    "def knn_cdr3_leven_dist(x: np.ndarray, y: np.ndarray) -> float:\n",
    "    tcr1 = ep_df.iloc[int(x[0])]\n",
    "    tcr2 = ep_df.iloc[int(y[0])]\n",
    "    dist = cdr3_leven_dist(tcr1['CDR3A'], tcr2['CDR3A'], tcr1['CDR3B'], tcr2['CDR3B'])\n",
    "\n",
    "    if dist is None:\n",
    "        return np.inf\n",
    "\n",
    "    return dist"
   ]
  },
  {
   "cell_type": "code",
   "execution_count": 11,
   "metadata": {},
   "outputs": [
    {
     "name": "stderr",
     "output_type": "stream",
     "text": [
      "  4%|▍         | 44/1000 [02:38<57:34,  3.61s/it]  \n"
     ]
    },
    {
     "ename": "KeyboardInterrupt",
     "evalue": "",
     "output_type": "error",
     "traceback": [
      "\u001b[0;31m---------------------------------------------------------------------------\u001b[0m",
      "\u001b[0;31mKeyboardInterrupt\u001b[0m                         Traceback (most recent call last)",
      "Cell \u001b[0;32mIn[11], line 17\u001b[0m\n\u001b[1;32m     14\u001b[0m     expected_cat_code \u001b[39m=\u001b[39m ep_cat_codes[[i]]\n\u001b[1;32m     16\u001b[0m     knn \u001b[39m=\u001b[39m KNeighborsClassifier(metric\u001b[39m=\u001b[39mknn_cdr3_leven_dist)\n\u001b[0;32m---> 17\u001b[0m     knn\u001b[39m.\u001b[39;49mfit(loo_ivecs, loo_cat_codes)\n\u001b[1;32m     19\u001b[0m     scores\u001b[39m.\u001b[39mappend(knn\u001b[39m.\u001b[39mpredict(test_ivec)\u001b[39m.\u001b[39mitem() \u001b[39m==\u001b[39m expected_cat_code\u001b[39m.\u001b[39mitem())\n\u001b[1;32m     21\u001b[0m knn_accuracy \u001b[39m=\u001b[39m torch\u001b[39m.\u001b[39mtensor(scores, dtype\u001b[39m=\u001b[39mtorch\u001b[39m.\u001b[39mfloat32)\u001b[39m.\u001b[39mmean()\u001b[39m.\u001b[39mitem()\n",
      "File \u001b[0;32m~/Projects/tcr_embedder/.venv/lib64/python3.10/site-packages/sklearn/neighbors/_classification.py:207\u001b[0m, in \u001b[0;36mKNeighborsClassifier.fit\u001b[0;34m(self, X, y)\u001b[0m\n\u001b[1;32m    188\u001b[0m \u001b[39m\"\"\"Fit the k-nearest neighbors classifier from the training dataset.\u001b[39;00m\n\u001b[1;32m    189\u001b[0m \n\u001b[1;32m    190\u001b[0m \u001b[39mParameters\u001b[39;00m\n\u001b[0;32m   (...)\u001b[0m\n\u001b[1;32m    203\u001b[0m \u001b[39m    The fitted k-nearest neighbors classifier.\u001b[39;00m\n\u001b[1;32m    204\u001b[0m \u001b[39m\"\"\"\u001b[39;00m\n\u001b[1;32m    205\u001b[0m \u001b[39mself\u001b[39m\u001b[39m.\u001b[39mweights \u001b[39m=\u001b[39m _check_weights(\u001b[39mself\u001b[39m\u001b[39m.\u001b[39mweights)\n\u001b[0;32m--> 207\u001b[0m \u001b[39mreturn\u001b[39;00m \u001b[39mself\u001b[39;49m\u001b[39m.\u001b[39;49m_fit(X, y)\n",
      "File \u001b[0;32m~/Projects/tcr_embedder/.venv/lib64/python3.10/site-packages/sklearn/neighbors/_base.py:573\u001b[0m, in \u001b[0;36mNeighborsBase._fit\u001b[0;34m(self, X, y)\u001b[0m\n\u001b[1;32m    570\u001b[0m             \u001b[39mself\u001b[39m\u001b[39m.\u001b[39m_fit_method \u001b[39m=\u001b[39m \u001b[39m\"\u001b[39m\u001b[39mbrute\u001b[39m\u001b[39m\"\u001b[39m\n\u001b[1;32m    572\u001b[0m \u001b[39mif\u001b[39;00m \u001b[39mself\u001b[39m\u001b[39m.\u001b[39m_fit_method \u001b[39m==\u001b[39m \u001b[39m\"\u001b[39m\u001b[39mball_tree\u001b[39m\u001b[39m\"\u001b[39m:\n\u001b[0;32m--> 573\u001b[0m     \u001b[39mself\u001b[39m\u001b[39m.\u001b[39m_tree \u001b[39m=\u001b[39m BallTree(\n\u001b[1;32m    574\u001b[0m         X,\n\u001b[1;32m    575\u001b[0m         \u001b[39mself\u001b[39;49m\u001b[39m.\u001b[39;49mleaf_size,\n\u001b[1;32m    576\u001b[0m         metric\u001b[39m=\u001b[39;49m\u001b[39mself\u001b[39;49m\u001b[39m.\u001b[39;49meffective_metric_,\n\u001b[1;32m    577\u001b[0m         \u001b[39m*\u001b[39;49m\u001b[39m*\u001b[39;49m\u001b[39mself\u001b[39;49m\u001b[39m.\u001b[39;49meffective_metric_params_,\n\u001b[1;32m    578\u001b[0m     )\n\u001b[1;32m    579\u001b[0m \u001b[39melif\u001b[39;00m \u001b[39mself\u001b[39m\u001b[39m.\u001b[39m_fit_method \u001b[39m==\u001b[39m \u001b[39m\"\u001b[39m\u001b[39mkd_tree\u001b[39m\u001b[39m\"\u001b[39m:\n\u001b[1;32m    580\u001b[0m     \u001b[39mif\u001b[39;00m (\n\u001b[1;32m    581\u001b[0m         \u001b[39mself\u001b[39m\u001b[39m.\u001b[39meffective_metric_ \u001b[39m==\u001b[39m \u001b[39m\"\u001b[39m\u001b[39mminkowski\u001b[39m\u001b[39m\"\u001b[39m\n\u001b[1;32m    582\u001b[0m         \u001b[39mand\u001b[39;00m \u001b[39mself\u001b[39m\u001b[39m.\u001b[39meffective_metric_params_\u001b[39m.\u001b[39mget(\u001b[39m\"\u001b[39m\u001b[39mw\u001b[39m\u001b[39m\"\u001b[39m) \u001b[39mis\u001b[39;00m \u001b[39mnot\u001b[39;00m \u001b[39mNone\u001b[39;00m\n\u001b[1;32m    583\u001b[0m     ):\n",
      "File \u001b[0;32msklearn/neighbors/_binary_tree.pxi:871\u001b[0m, in \u001b[0;36msklearn.neighbors._ball_tree.BinaryTree.__init__\u001b[0;34m()\u001b[0m\n",
      "File \u001b[0;32msklearn/neighbors/_binary_tree.pxi:1070\u001b[0m, in \u001b[0;36msklearn.neighbors._ball_tree.BinaryTree._recursive_build\u001b[0;34m()\u001b[0m\n",
      "File \u001b[0;32msklearn/neighbors/_binary_tree.pxi:1072\u001b[0m, in \u001b[0;36msklearn.neighbors._ball_tree.BinaryTree._recursive_build\u001b[0;34m()\u001b[0m\n",
      "File \u001b[0;32msklearn/neighbors/_binary_tree.pxi:1072\u001b[0m, in \u001b[0;36msklearn.neighbors._ball_tree.BinaryTree._recursive_build\u001b[0;34m()\u001b[0m\n",
      "File \u001b[0;32msklearn/neighbors/_binary_tree.pxi:1070\u001b[0m, in \u001b[0;36msklearn.neighbors._ball_tree.BinaryTree._recursive_build\u001b[0;34m()\u001b[0m\n",
      "File \u001b[0;32msklearn/neighbors/_binary_tree.pxi:1043\u001b[0m, in \u001b[0;36msklearn.neighbors._ball_tree.BinaryTree._recursive_build\u001b[0;34m()\u001b[0m\n",
      "File \u001b[0;32msklearn/neighbors/_ball_tree.pyx:93\u001b[0m, in \u001b[0;36msklearn.neighbors._ball_tree.init_node\u001b[0;34m()\u001b[0m\n",
      "File \u001b[0;32msklearn/neighbors/_binary_tree.pxi:1021\u001b[0m, in \u001b[0;36msklearn.neighbors._ball_tree.BinaryTree.rdist\u001b[0;34m()\u001b[0m\n",
      "File \u001b[0;32msklearn/metrics/_dist_metrics.pyx:319\u001b[0m, in \u001b[0;36msklearn.metrics._dist_metrics.DistanceMetric.rdist\u001b[0;34m()\u001b[0m\n",
      "File \u001b[0;32msklearn/metrics/_dist_metrics.pyx:1124\u001b[0m, in \u001b[0;36msklearn.metrics._dist_metrics.PyFuncDistance.dist\u001b[0;34m()\u001b[0m\n",
      "File \u001b[0;32msklearn/metrics/_dist_metrics.pyx:1132\u001b[0m, in \u001b[0;36msklearn.metrics._dist_metrics.PyFuncDistance._dist\u001b[0;34m()\u001b[0m\n",
      "Cell \u001b[0;32mIn[10], line 3\u001b[0m, in \u001b[0;36mknn_cdr3_leven_dist\u001b[0;34m(x, y)\u001b[0m\n\u001b[1;32m      1\u001b[0m \u001b[39mdef\u001b[39;00m \u001b[39mknn_cdr3_leven_dist\u001b[39m(x: np\u001b[39m.\u001b[39mndarray, y: np\u001b[39m.\u001b[39mndarray) \u001b[39m-\u001b[39m\u001b[39m>\u001b[39m \u001b[39mfloat\u001b[39m:\n\u001b[1;32m      2\u001b[0m     tcr1 \u001b[39m=\u001b[39m ep_df\u001b[39m.\u001b[39miloc[\u001b[39mint\u001b[39m(x[\u001b[39m0\u001b[39m])]\n\u001b[0;32m----> 3\u001b[0m     tcr2 \u001b[39m=\u001b[39m ep_df\u001b[39m.\u001b[39;49miloc[\u001b[39mint\u001b[39;49m(y[\u001b[39m0\u001b[39;49m])]\n\u001b[1;32m      4\u001b[0m     dist \u001b[39m=\u001b[39m cdr3_leven_dist(tcr1[\u001b[39m'\u001b[39m\u001b[39mCDR3A\u001b[39m\u001b[39m'\u001b[39m], tcr2[\u001b[39m'\u001b[39m\u001b[39mCDR3A\u001b[39m\u001b[39m'\u001b[39m], tcr1[\u001b[39m'\u001b[39m\u001b[39mCDR3B\u001b[39m\u001b[39m'\u001b[39m], tcr2[\u001b[39m'\u001b[39m\u001b[39mCDR3B\u001b[39m\u001b[39m'\u001b[39m])\n\u001b[1;32m      6\u001b[0m     \u001b[39mif\u001b[39;00m dist \u001b[39mis\u001b[39;00m \u001b[39mNone\u001b[39;00m:\n",
      "File \u001b[0;32m~/Projects/tcr_embedder/.venv/lib64/python3.10/site-packages/pandas/core/indexing.py:1073\u001b[0m, in \u001b[0;36m_LocationIndexer.__getitem__\u001b[0;34m(self, key)\u001b[0m\n\u001b[1;32m   1070\u001b[0m axis \u001b[39m=\u001b[39m \u001b[39mself\u001b[39m\u001b[39m.\u001b[39maxis \u001b[39mor\u001b[39;00m \u001b[39m0\u001b[39m\n\u001b[1;32m   1072\u001b[0m maybe_callable \u001b[39m=\u001b[39m com\u001b[39m.\u001b[39mapply_if_callable(key, \u001b[39mself\u001b[39m\u001b[39m.\u001b[39mobj)\n\u001b[0;32m-> 1073\u001b[0m \u001b[39mreturn\u001b[39;00m \u001b[39mself\u001b[39;49m\u001b[39m.\u001b[39;49m_getitem_axis(maybe_callable, axis\u001b[39m=\u001b[39;49maxis)\n",
      "File \u001b[0;32m~/Projects/tcr_embedder/.venv/lib64/python3.10/site-packages/pandas/core/indexing.py:1627\u001b[0m, in \u001b[0;36m_iLocIndexer._getitem_axis\u001b[0;34m(self, key, axis)\u001b[0m\n\u001b[1;32m   1624\u001b[0m \u001b[39m# validate the location\u001b[39;00m\n\u001b[1;32m   1625\u001b[0m \u001b[39mself\u001b[39m\u001b[39m.\u001b[39m_validate_integer(key, axis)\n\u001b[0;32m-> 1627\u001b[0m \u001b[39mreturn\u001b[39;00m \u001b[39mself\u001b[39;49m\u001b[39m.\u001b[39;49mobj\u001b[39m.\u001b[39;49m_ixs(key, axis\u001b[39m=\u001b[39;49maxis)\n",
      "File \u001b[0;32m~/Projects/tcr_embedder/.venv/lib64/python3.10/site-packages/pandas/core/frame.py:3718\u001b[0m, in \u001b[0;36mDataFrame._ixs\u001b[0;34m(self, i, axis)\u001b[0m\n\u001b[1;32m   3716\u001b[0m \u001b[39m# if we are a copy, mark as such\u001b[39;00m\n\u001b[1;32m   3717\u001b[0m copy \u001b[39m=\u001b[39m \u001b[39misinstance\u001b[39m(new_mgr\u001b[39m.\u001b[39marray, np\u001b[39m.\u001b[39mndarray) \u001b[39mand\u001b[39;00m new_mgr\u001b[39m.\u001b[39marray\u001b[39m.\u001b[39mbase \u001b[39mis\u001b[39;00m \u001b[39mNone\u001b[39;00m\n\u001b[0;32m-> 3718\u001b[0m result \u001b[39m=\u001b[39m \u001b[39mself\u001b[39;49m\u001b[39m.\u001b[39;49m_constructor_sliced(new_mgr, name\u001b[39m=\u001b[39;49m\u001b[39mself\u001b[39;49m\u001b[39m.\u001b[39;49mindex[i])\u001b[39m.\u001b[39;49m__finalize__(\n\u001b[1;32m   3719\u001b[0m     \u001b[39mself\u001b[39;49m\n\u001b[1;32m   3720\u001b[0m )\n\u001b[1;32m   3721\u001b[0m result\u001b[39m.\u001b[39m_set_is_copy(\u001b[39mself\u001b[39m, copy\u001b[39m=\u001b[39mcopy)\n\u001b[1;32m   3722\u001b[0m \u001b[39mreturn\u001b[39;00m result\n",
      "File \u001b[0;32m~/Projects/tcr_embedder/.venv/lib64/python3.10/site-packages/pandas/core/generic.py:5865\u001b[0m, in \u001b[0;36mNDFrame.__finalize__\u001b[0;34m(self, other, method, **kwargs)\u001b[0m\n\u001b[1;32m   5848\u001b[0m \u001b[39m\"\"\"\u001b[39;00m\n\u001b[1;32m   5849\u001b[0m \u001b[39mPropagate metadata from other to self.\u001b[39;00m\n\u001b[1;32m   5850\u001b[0m \n\u001b[0;32m   (...)\u001b[0m\n\u001b[1;32m   5862\u001b[0m \u001b[39m       stable across pandas releases.\u001b[39;00m\n\u001b[1;32m   5863\u001b[0m \u001b[39m\"\"\"\u001b[39;00m\n\u001b[1;32m   5864\u001b[0m \u001b[39mif\u001b[39;00m \u001b[39misinstance\u001b[39m(other, NDFrame):\n\u001b[0;32m-> 5865\u001b[0m     \u001b[39mfor\u001b[39;00m name \u001b[39min\u001b[39;00m other\u001b[39m.\u001b[39;49mattrs:\n\u001b[1;32m   5866\u001b[0m         \u001b[39mself\u001b[39m\u001b[39m.\u001b[39mattrs[name] \u001b[39m=\u001b[39m other\u001b[39m.\u001b[39mattrs[name]\n\u001b[1;32m   5868\u001b[0m     \u001b[39mself\u001b[39m\u001b[39m.\u001b[39mflags\u001b[39m.\u001b[39mallows_duplicate_labels \u001b[39m=\u001b[39m other\u001b[39m.\u001b[39mflags\u001b[39m.\u001b[39mallows_duplicate_labels\n",
      "File \u001b[0;32m~/Projects/tcr_embedder/.venv/lib64/python3.10/site-packages/pandas/core/generic.py:332\u001b[0m, in \u001b[0;36mNDFrame.attrs\u001b[0;34m(self)\u001b[0m\n\u001b[1;32m    327\u001b[0m     \u001b[39mreturn\u001b[39;00m \u001b[39mself\u001b[39m\u001b[39m.\u001b[39m_constructor(new_mgr)\u001b[39m.\u001b[39m__finalize__(\u001b[39mself\u001b[39m)\n\u001b[1;32m    329\u001b[0m \u001b[39m# ----------------------------------------------------------------------\u001b[39;00m\n\u001b[1;32m    330\u001b[0m \u001b[39m# attrs and flags\u001b[39;00m\n\u001b[0;32m--> 332\u001b[0m \u001b[39m@property\u001b[39m\n\u001b[1;32m    333\u001b[0m \u001b[39mdef\u001b[39;00m \u001b[39mattrs\u001b[39m(\u001b[39mself\u001b[39m) \u001b[39m-\u001b[39m\u001b[39m>\u001b[39m \u001b[39mdict\u001b[39m[Hashable, Any]:\n\u001b[1;32m    334\u001b[0m     \u001b[39m\"\"\"\u001b[39;00m\n\u001b[1;32m    335\u001b[0m \u001b[39m    Dictionary of global attributes of this dataset.\u001b[39;00m\n\u001b[1;32m    336\u001b[0m \n\u001b[0;32m   (...)\u001b[0m\n\u001b[1;32m    343\u001b[0m \u001b[39m    DataFrame.flags : Global flags applying to this object.\u001b[39;00m\n\u001b[1;32m    344\u001b[0m \u001b[39m    \"\"\"\u001b[39;00m\n\u001b[1;32m    345\u001b[0m     \u001b[39mif\u001b[39;00m \u001b[39mself\u001b[39m\u001b[39m.\u001b[39m_attrs \u001b[39mis\u001b[39;00m \u001b[39mNone\u001b[39;00m:\n",
      "\u001b[0;31mKeyboardInterrupt\u001b[0m: "
     ]
    }
   ],
   "source": [
    "scores = []\n",
    "tcr_ivecs = np.array([[idx] for idx in ep_df.index], dtype=float)\n",
    "ep_cat_codes = ep_df['Epitope'].astype('category').cat.codes\n",
    "ep_len = len(ep_df)\n",
    "\n",
    "for i in tqdm(random.sample(range(ep_len), k=1000)):\n",
    "    filt = np.ones(ep_len, dtype=bool)\n",
    "    filt[i] = False\n",
    "\n",
    "    loo_ivecs = tcr_ivecs[filt]\n",
    "    loo_cat_codes = ep_cat_codes[filt]\n",
    "\n",
    "    test_ivec = tcr_ivecs[[i]]\n",
    "    expected_cat_code = ep_cat_codes[[i]]\n",
    "\n",
    "    knn = KNeighborsClassifier(metric=knn_cdr3_leven_dist)\n",
    "    knn.fit(loo_ivecs, loo_cat_codes)\n",
    "\n",
    "    scores.append(knn.predict(test_ivec).item() == expected_cat_code.item())\n",
    "\n",
    "knn_accuracy = torch.tensor(scores, dtype=torch.float32).mean().item()"
   ]
  },
  {
   "cell_type": "markdown",
   "metadata": {},
   "source": [
    "## Write out evaluation metrics to json"
   ]
  },
  {
   "cell_type": "code",
   "execution_count": null,
   "metadata": {},
   "outputs": [],
   "source": [
    "metrics_dict = {\n",
    "    'model_name': 'cdr3_levenshtein',\n",
    "    # 'alignment': alignment,\n",
    "    # 'uniformity': uniformity,\n",
    "    # 'alignment + uniformity': alignment + uniformity,\n",
    "    '5nn_accuracy': knn_accuracy\n",
    "}"
   ]
  },
  {
   "cell_type": "code",
   "execution_count": null,
   "metadata": {},
   "outputs": [],
   "source": [
    "with open(BENCHMARK_DIR/'metrics.json', 'w') as f:\n",
    "    json.dump(metrics_dict, f, indent=4)"
   ]
  },
  {
   "cell_type": "code",
   "execution_count": null,
   "metadata": {},
   "outputs": [],
   "source": []
  }
 ],
 "metadata": {
  "kernelspec": {
   "display_name": "Python 3.8.15 ('.venv': venv)",
   "language": "python",
   "name": "python3"
  },
  "language_info": {
   "codemirror_mode": {
    "name": "ipython",
    "version": 3
   },
   "file_extension": ".py",
   "mimetype": "text/x-python",
   "name": "python",
   "nbconvert_exporter": "python",
   "pygments_lexer": "ipython3",
   "version": "3.10.8"
  },
  "orig_nbformat": 4,
  "vscode": {
   "interpreter": {
    "hash": "bab11497baf8882c4e95e2d544b4f7a8d499018a7e93af1d4b5fac976897075f"
   }
  }
 },
 "nbformat": 4,
 "nbformat_minor": 2
}
