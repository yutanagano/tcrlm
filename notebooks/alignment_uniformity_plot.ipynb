{
 "cells": [
  {
   "cell_type": "code",
   "execution_count": 27,
   "metadata": {},
   "outputs": [],
   "source": [
    "import sys\n",
    "import os\n",
    "sys.path.append('/home/yutanagano/Projects/tcr_embedder')\n",
    "os.chdir('/home/yutanagano/Projects/tcr_embedder')"
   ]
  },
  {
   "cell_type": "code",
   "execution_count": 28,
   "metadata": {},
   "outputs": [],
   "source": [
    "import json\n",
    "import matplotlib.pyplot as plt\n",
    "import pandas as pd\n",
    "from pathlib import Path\n",
    "import seaborn\n",
    "\n",
    "seaborn.set_theme()\n",
    "seaborn.set_style('white')"
   ]
  },
  {
   "cell_type": "code",
   "execution_count": 29,
   "metadata": {},
   "outputs": [],
   "source": [
    "BENCHMARKING_PARENT_DIR = Path('benchmarks')"
   ]
  },
  {
   "cell_type": "code",
   "execution_count": 30,
   "metadata": {},
   "outputs": [],
   "source": [
    "metric_dicts = []\n",
    "\n",
    "for model in BENCHMARKING_PARENT_DIR.iterdir():\n",
    "    with open(model/'metrics.json', 'r') as f:\n",
    "        metric_dicts.append(json.load(f))"
   ]
  },
  {
   "cell_type": "code",
   "execution_count": 31,
   "metadata": {},
   "outputs": [],
   "source": [
    "metrics = pd.DataFrame(metric_dicts)\n",
    "metrics['model_name'] = metrics['model_name'].map(lambda x: 'random_embedder' if 'random_embedder' in x else x)\n",
    "metrics = metrics.sort_values(by='model_name', ignore_index=True)"
   ]
  },
  {
   "cell_type": "code",
   "execution_count": 32,
   "metadata": {},
   "outputs": [
    {
     "data": {
      "text/html": [
       "<div>\n",
       "<style scoped>\n",
       "    .dataframe tbody tr th:only-of-type {\n",
       "        vertical-align: middle;\n",
       "    }\n",
       "\n",
       "    .dataframe tbody tr th {\n",
       "        vertical-align: top;\n",
       "    }\n",
       "\n",
       "    .dataframe thead th {\n",
       "        text-align: right;\n",
       "    }\n",
       "</style>\n",
       "<table border=\"1\" class=\"dataframe\">\n",
       "  <thead>\n",
       "    <tr style=\"text-align: right;\">\n",
       "      <th></th>\n",
       "      <th>model_name</th>\n",
       "      <th>alignment</th>\n",
       "      <th>uniformity</th>\n",
       "    </tr>\n",
       "  </thead>\n",
       "  <tbody>\n",
       "    <tr>\n",
       "      <th>0</th>\n",
       "      <td>atchley_embedder</td>\n",
       "      <td>0.880457</td>\n",
       "      <td>-1.691871</td>\n",
       "    </tr>\n",
       "    <tr>\n",
       "      <th>1</th>\n",
       "      <td>random_embedder</td>\n",
       "      <td>1.106915</td>\n",
       "      <td>-2.192567</td>\n",
       "    </tr>\n",
       "    <tr>\n",
       "      <th>2</th>\n",
       "      <td>random_embedder</td>\n",
       "      <td>0.648963</td>\n",
       "      <td>-1.496908</td>\n",
       "    </tr>\n",
       "    <tr>\n",
       "      <th>3</th>\n",
       "      <td>random_embedder</td>\n",
       "      <td>1.090223</td>\n",
       "      <td>-2.022780</td>\n",
       "    </tr>\n",
       "    <tr>\n",
       "      <th>4</th>\n",
       "      <td>random_embedder</td>\n",
       "      <td>0.638965</td>\n",
       "      <td>-1.296466</td>\n",
       "    </tr>\n",
       "    <tr>\n",
       "      <th>5</th>\n",
       "      <td>random_embedder</td>\n",
       "      <td>0.532533</td>\n",
       "      <td>-1.148620</td>\n",
       "    </tr>\n",
       "    <tr>\n",
       "      <th>6</th>\n",
       "      <td>random_embedder</td>\n",
       "      <td>0.581461</td>\n",
       "      <td>-1.358597</td>\n",
       "    </tr>\n",
       "    <tr>\n",
       "      <th>7</th>\n",
       "      <td>random_embedder</td>\n",
       "      <td>0.779544</td>\n",
       "      <td>-1.700451</td>\n",
       "    </tr>\n",
       "    <tr>\n",
       "      <th>8</th>\n",
       "      <td>random_embedder</td>\n",
       "      <td>0.836832</td>\n",
       "      <td>-1.654058</td>\n",
       "    </tr>\n",
       "    <tr>\n",
       "      <th>9</th>\n",
       "      <td>random_embedder</td>\n",
       "      <td>0.424248</td>\n",
       "      <td>-1.023224</td>\n",
       "    </tr>\n",
       "    <tr>\n",
       "      <th>10</th>\n",
       "      <td>random_embedder</td>\n",
       "      <td>0.880871</td>\n",
       "      <td>-2.072949</td>\n",
       "    </tr>\n",
       "  </tbody>\n",
       "</table>\n",
       "</div>"
      ],
      "text/plain": [
       "          model_name  alignment  uniformity\n",
       "0   atchley_embedder   0.880457   -1.691871\n",
       "1    random_embedder   1.106915   -2.192567\n",
       "2    random_embedder   0.648963   -1.496908\n",
       "3    random_embedder   1.090223   -2.022780\n",
       "4    random_embedder   0.638965   -1.296466\n",
       "5    random_embedder   0.532533   -1.148620\n",
       "6    random_embedder   0.581461   -1.358597\n",
       "7    random_embedder   0.779544   -1.700451\n",
       "8    random_embedder   0.836832   -1.654058\n",
       "9    random_embedder   0.424248   -1.023224\n",
       "10   random_embedder   0.880871   -2.072949"
      ]
     },
     "execution_count": 32,
     "metadata": {},
     "output_type": "execute_result"
    }
   ],
   "source": [
    "metrics"
   ]
  },
  {
   "cell_type": "code",
   "execution_count": 33,
   "metadata": {},
   "outputs": [
    {
     "data": {
      "text/plain": [
       "<AxesSubplot: xlabel='uniformity', ylabel='alignment'>"
      ]
     },
     "execution_count": 33,
     "metadata": {},
     "output_type": "execute_result"
    },
    {
     "data": {
      "image/png": "[encoded data removed]",
      "text/plain": [
       "<Figure size 640x480 with 1 Axes>"
      ]
     },
     "metadata": {},
     "output_type": "display_data"
    }
   ],
   "source": [
    "seaborn.scatterplot(metrics, x='uniformity', y='alignment', hue='model_name')"
   ]
  },
  {
   "cell_type": "code",
   "execution_count": null,
   "metadata": {},
   "outputs": [],
   "source": []
  }
 ],
 "metadata": {
  "kernelspec": {
   "display_name": "Python 3.8.15 ('.venv': venv)",
   "language": "python",
   "name": "python3"
  },
  "language_info": {
   "codemirror_mode": {
    "name": "ipython",
    "version": 3
   },
   "file_extension": ".py",
   "mimetype": "text/x-python",
   "name": "python",
   "nbconvert_exporter": "python",
   "pygments_lexer": "ipython3",
   "version": "3.8.15"
  },
  "orig_nbformat": 4,
  "vscode": {
   "interpreter": {
    "hash": "bab11497baf8882c4e95e2d544b4f7a8d499018a7e93af1d4b5fac976897075f"
   }
  }
 },
 "nbformat": 4,
 "nbformat_minor": 2
}
