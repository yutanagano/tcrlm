{
 "cells": [
  {
   "attachments": {},
   "cell_type": "markdown",
   "metadata": {},
   "source": [
    "# Benchmarking simple CDR3 Beta Levenshtein distance"
   ]
  },
  {
   "attachments": {},
   "cell_type": "markdown",
   "metadata": {},
   "source": [
    "## Setup"
   ]
  },
  {
   "cell_type": "code",
   "execution_count": 6,
   "metadata": {},
   "outputs": [],
   "source": [
    "import os\n",
    "from pathlib import Path\n",
    "import sys\n",
    "\n",
    "if '__project_dir__' not in globals():\n",
    "    __project_dir__ = Path.cwd().parent.resolve()\n",
    "\n",
    "sys.path.append(__project_dir__)\n",
    "os.chdir(__project_dir__)"
   ]
  },
  {
   "cell_type": "code",
   "execution_count": 21,
   "metadata": {},
   "outputs": [],
   "source": [
    "import numpy as np\n",
    "import pandas as pd\n",
    "from pathlib import Path\n",
    "from tcrdist.repertoire import TCRrep\n",
    "from tcrdist.setup_tests import download_and_extract_zip_file"
   ]
  },
  {
   "attachments": {},
   "cell_type": "markdown",
   "metadata": {},
   "source": [
    "### Load data"
   ]
  },
  {
   "cell_type": "code",
   "execution_count": 8,
   "metadata": {},
   "outputs": [],
   "source": [
    "download_and_extract_zip_file('dash.zip', source = \"dropbox\", dest =\"/home/yutanagano/UCLOneDrive/MBPhD/projects/tcr_embedder/data/tcrdist/\")"
   ]
  },
  {
   "cell_type": "code",
   "execution_count": 25,
   "metadata": {},
   "outputs": [],
   "source": [
    "df = pd.read_csv(\"/home/yutanagano/UCLOneDrive/MBPhD/projects/tcr_embedder/data/tcrdist/dash_human.csv\").dropna()\n",
    "tr = TCRrep(cell_df = df, \n",
    "            organism = 'human', \n",
    "            chains = ['beta'])"
   ]
  },
  {
   "cell_type": "code",
   "execution_count": 26,
   "metadata": {},
   "outputs": [
    {
     "data": {
      "text/html": [
       "<div>\n",
       "<style scoped>\n",
       "    .dataframe tbody tr th:only-of-type {\n",
       "        vertical-align: middle;\n",
       "    }\n",
       "\n",
       "    .dataframe tbody tr th {\n",
       "        vertical-align: top;\n",
       "    }\n",
       "\n",
       "    .dataframe thead th {\n",
       "        text-align: right;\n",
       "    }\n",
       "</style>\n",
       "<table border=\"1\" class=\"dataframe\">\n",
       "  <thead>\n",
       "    <tr style=\"text-align: right;\">\n",
       "      <th></th>\n",
       "      <th>subject</th>\n",
       "      <th>epitope</th>\n",
       "      <th>count</th>\n",
       "      <th>v_a_gene</th>\n",
       "      <th>j_a_gene</th>\n",
       "      <th>cdr3_a_aa</th>\n",
       "      <th>v_b_gene</th>\n",
       "      <th>j_b_gene</th>\n",
       "      <th>cdr3_b_aa</th>\n",
       "      <th>clone_id</th>\n",
       "    </tr>\n",
       "  </thead>\n",
       "  <tbody>\n",
       "    <tr>\n",
       "      <th>0</th>\n",
       "      <td>human_subject0005</td>\n",
       "      <td>BMLF</td>\n",
       "      <td>1</td>\n",
       "      <td>TRAV5*01</td>\n",
       "      <td>TRAJ31*01</td>\n",
       "      <td>CAADSNARFMF</td>\n",
       "      <td>TRBV20-1*01</td>\n",
       "      <td>TRBJ1-3*01</td>\n",
       "      <td>CSARDRVGNTIYF</td>\n",
       "      <td>clone_0</td>\n",
       "    </tr>\n",
       "    <tr>\n",
       "      <th>1</th>\n",
       "      <td>human_subject0005</td>\n",
       "      <td>BMLF</td>\n",
       "      <td>1</td>\n",
       "      <td>TRAV5*01</td>\n",
       "      <td>TRAJ31*01</td>\n",
       "      <td>CAADSNARLMF</td>\n",
       "      <td>TRBV20-1*01</td>\n",
       "      <td>TRBJ1-3*01</td>\n",
       "      <td>CSARDRVGNTIYF</td>\n",
       "      <td>clone_1</td>\n",
       "    </tr>\n",
       "    <tr>\n",
       "      <th>2</th>\n",
       "      <td>human_subject0028</td>\n",
       "      <td>M1</td>\n",
       "      <td>1</td>\n",
       "      <td>TRAV13-1*01</td>\n",
       "      <td>TRAJ43*01</td>\n",
       "      <td>CAAENNNDMRF</td>\n",
       "      <td>TRBV7-6*01</td>\n",
       "      <td>TRBJ2-7*01</td>\n",
       "      <td>CASSLGTSYEQYF</td>\n",
       "      <td>clone_2</td>\n",
       "    </tr>\n",
       "    <tr>\n",
       "      <th>3</th>\n",
       "      <td>human_subject0029</td>\n",
       "      <td>M1</td>\n",
       "      <td>1</td>\n",
       "      <td>TRAV41*01</td>\n",
       "      <td>TRAJ40*01</td>\n",
       "      <td>CAAETTSGTYKYIF</td>\n",
       "      <td>TRBV14*01</td>\n",
       "      <td>TRBJ2-7*01</td>\n",
       "      <td>CASSPIAGSSYEQYF</td>\n",
       "      <td>clone_3</td>\n",
       "    </tr>\n",
       "    <tr>\n",
       "      <th>4</th>\n",
       "      <td>human_subject0011</td>\n",
       "      <td>M1</td>\n",
       "      <td>1</td>\n",
       "      <td>TRAV27*01</td>\n",
       "      <td>TRAJ42*01</td>\n",
       "      <td>CAAGGSQGNLIF</td>\n",
       "      <td>TRBV19*02</td>\n",
       "      <td>TRBJ2-7*01</td>\n",
       "      <td>CASSIRSSYEQYF</td>\n",
       "      <td>clone_4</td>\n",
       "    </tr>\n",
       "  </tbody>\n",
       "</table>\n",
       "</div>"
      ],
      "text/plain": [
       "             subject epitope  count  ...    j_b_gene        cdr3_b_aa clone_id\n",
       "0  human_subject0005    BMLF      1  ...  TRBJ1-3*01    CSARDRVGNTIYF  clone_0\n",
       "1  human_subject0005    BMLF      1  ...  TRBJ1-3*01    CSARDRVGNTIYF  clone_1\n",
       "2  human_subject0028      M1      1  ...  TRBJ2-7*01    CASSLGTSYEQYF  clone_2\n",
       "3  human_subject0029      M1      1  ...  TRBJ2-7*01  CASSPIAGSSYEQYF  clone_3\n",
       "4  human_subject0011      M1      1  ...  TRBJ2-7*01    CASSIRSSYEQYF  clone_4\n",
       "\n",
       "[5 rows x 10 columns]"
      ]
     },
     "execution_count": 26,
     "metadata": {},
     "output_type": "execute_result"
    }
   ],
   "source": [
    "df.head()"
   ]
  },
  {
   "cell_type": "code",
   "execution_count": 27,
   "metadata": {},
   "outputs": [
    {
     "data": {
      "text/plain": [
       "408"
      ]
     },
     "execution_count": 27,
     "metadata": {},
     "output_type": "execute_result"
    }
   ],
   "source": [
    "len(df)"
   ]
  },
  {
   "cell_type": "code",
   "execution_count": 29,
   "metadata": {},
   "outputs": [
    {
     "data": {
      "text/plain": [
       "(403, 403)"
      ]
     },
     "execution_count": 29,
     "metadata": {},
     "output_type": "execute_result"
    }
   ],
   "source": [
    "tr.pw_beta.shape"
   ]
  },
  {
   "cell_type": "code",
   "execution_count": 22,
   "metadata": {},
   "outputs": [],
   "source": [
    "epitope = df['epitope'].to_numpy()\n",
    "within = (epitope[:, np.newaxis] == epitope[np.newaxis, :]) & (~(np.eye(len(epitope))==1))"
   ]
  },
  {
   "cell_type": "code",
   "execution_count": 24,
   "metadata": {},
   "outputs": [
    {
     "data": {
      "text/plain": [
       "(408, 408)"
      ]
     },
     "execution_count": 24,
     "metadata": {},
     "output_type": "execute_result"
    }
   ],
   "source": [
    "within.shape"
   ]
  }
 ],
 "metadata": {
  "kernelspec": {
   "display_name": ".python3.8",
   "language": "python",
   "name": "python3"
  },
  "language_info": {
   "codemirror_mode": {
    "name": "ipython",
    "version": 3
   },
   "file_extension": ".py",
   "mimetype": "text/x-python",
   "name": "python",
   "nbconvert_exporter": "python",
   "pygments_lexer": "ipython3",
   "version": "3.8.16"
  },
  "orig_nbformat": 4,
  "vscode": {
   "interpreter": {
    "hash": "e52711b2fc1a80dc0404c7734f26e5ab32ead07120a70179117be7a8ca1eea27"
   }
  }
 },
 "nbformat": 4,
 "nbformat_minor": 2
}
