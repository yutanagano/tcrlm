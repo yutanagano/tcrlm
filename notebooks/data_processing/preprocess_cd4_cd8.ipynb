{
 "cells": [
  {
   "cell_type": "code",
   "execution_count": 1,
   "metadata": {},
   "outputs": [],
   "source": [
    "import os\n",
    "from pathlib import Path\n",
    "import sys\n",
    "\n",
    "if \"__project_dir__\" not in globals():\n",
    "    __project_dir__ = Path.cwd().parents[1].resolve()\n",
    "\n",
    "sys.path.append(__project_dir__)\n",
    "os.chdir(__project_dir__)"
   ]
  },
  {
   "cell_type": "code",
   "execution_count": 5,
   "metadata": {},
   "outputs": [],
   "source": [
    "import pandas as pd\n",
    "import tidytcells as tt"
   ]
  },
  {
   "cell_type": "code",
   "execution_count": 3,
   "metadata": {},
   "outputs": [],
   "source": [
    "df = pd.read_excel(\"/home/yutanagano/UCLOneDrive/MBPhD/projects/tcr_embedder/data/raw/kane/tcrs_cd4_cd8.xlsx\")\n",
    "df = df.rename(\n",
    "    columns={\n",
    "        \"TRB_v_gene\": \"TRBV\",\n",
    "        \"TRB_cdr3\": \"CDR3B\",\n",
    "        \"TRB_j_gene\": \"TRBJ\",\n",
    "        \"majorType\": \"type\"\n",
    "    }\n",
    ")"
   ]
  },
  {
   "cell_type": "code",
   "execution_count": 4,
   "metadata": {},
   "outputs": [],
   "source": [
    "df = df[[\"TRBV\", \"CDR3B\", \"TRBJ\", \"type\"]]\n",
    "df = df[df[\"type\"].map(lambda x: x in (\"CD4\", \"CD8\"))]"
   ]
  },
  {
   "cell_type": "code",
   "execution_count": 6,
   "metadata": {},
   "outputs": [
    {
     "name": "stderr",
     "output_type": "stream",
     "text": [
      "/home/yutanagano/Projects/tcr_embedder/.venv/lib64/python3.8/site-packages/tidytcells/_utils/warnings.py:10: UserWarning: Failed to standardise: \"TRBV5-7\" for species homosapiens. Attempted fix \"TRBV5-7\" did not meet the standardised format requirements. Ignoring this gene name...\n",
      "  warn(\n",
      "/home/yutanagano/Projects/tcr_embedder/.venv/lib64/python3.8/site-packages/tidytcells/_utils/warnings.py:10: UserWarning: Failed to standardise: \"TRBV6-7\" for species homosapiens. Attempted fix \"TRBV6-7\" did not meet the standardised format requirements. Ignoring this gene name...\n",
      "  warn(\n",
      "/home/yutanagano/Projects/tcr_embedder/.venv/lib64/python3.8/site-packages/tidytcells/_utils/warnings.py:10: UserWarning: Failed to standardise: \"TRBV23-1\" for species homosapiens. Attempted fix \"TRBV23-1\" did not meet the standardised format requirements. Ignoring this gene name...\n",
      "  warn(\n",
      "/home/yutanagano/Projects/tcr_embedder/.venv/lib64/python3.8/site-packages/tidytcells/_utils/warnings.py:10: UserWarning: Failed to standardise: \"TRBV21-1\" for species homosapiens. Attempted fix \"TRBV21-1\" did not meet the standardised format requirements. Ignoring this gene name...\n",
      "  warn(\n",
      "/home/yutanagano/Projects/tcr_embedder/.venv/lib64/python3.8/site-packages/tidytcells/_utils/warnings.py:10: UserWarning: Failed to standardise: \"TRBV5-3\" for species homosapiens. Attempted fix \"TRBV5-3\" did not meet the standardised format requirements. Ignoring this gene name...\n",
      "  warn(\n",
      "/home/yutanagano/Projects/tcr_embedder/.venv/lib64/python3.8/site-packages/tidytcells/_utils/abstract_functions.py:131: UserWarning: Input CASSKKQGALETPYILEREVGSLL* was rejected as it is not a valid amino acid sequence.\n",
      "  warn(\n",
      "/home/yutanagano/Projects/tcr_embedder/.venv/lib64/python3.8/site-packages/tidytcells/_utils/abstract_functions.py:131: UserWarning: Input CASTPRNDRLPLETPYILEREVGSLL* was rejected as it is not a valid amino acid sequence.\n",
      "  warn(\n",
      "/home/yutanagano/Projects/tcr_embedder/.venv/lib64/python3.8/site-packages/tidytcells/_utils/abstract_functions.py:131: UserWarning: Input CASSPHILEREVGSLL* was rejected as it is not a valid amino acid sequence.\n",
      "  warn(\n",
      "/home/yutanagano/Projects/tcr_embedder/.venv/lib64/python3.8/site-packages/tidytcells/_utils/abstract_functions.py:131: UserWarning: Input CASSSRQGLETPYILEREVGSLL* was rejected as it is not a valid amino acid sequence.\n",
      "  warn(\n",
      "/home/yutanagano/Projects/tcr_embedder/.venv/lib64/python3.8/site-packages/tidytcells/_utils/abstract_functions.py:131: UserWarning: Input CASSPRTALETPYILEREVGSLL* was rejected as it is not a valid amino acid sequence.\n",
      "  warn(\n",
      "/home/yutanagano/Projects/tcr_embedder/.venv/lib64/python3.8/site-packages/tidytcells/_utils/abstract_functions.py:131: UserWarning: Input CASSKSRGNRICLETPYILEREVGSLL* was rejected as it is not a valid amino acid sequence.\n",
      "  warn(\n",
      "/home/yutanagano/Projects/tcr_embedder/.venv/lib64/python3.8/site-packages/tidytcells/_utils/abstract_functions.py:131: UserWarning: Input CASSPVQGAFLTFLEREVGSLL* was rejected as it is not a valid amino acid sequence.\n",
      "  warn(\n",
      "/home/yutanagano/Projects/tcr_embedder/.venv/lib64/python3.8/site-packages/tidytcells/_utils/warnings.py:10: UserWarning: Failed to standardise: \"None\" for species homosapiens. Attempted fix \"TRNONE\" did not meet the standardised format requirements. Ignoring this gene name...\n",
      "  warn(\n"
     ]
    }
   ],
   "source": [
    "df[\"TRBV\"] = df[\"TRBV\"].map(lambda x: tt.tcr.standardise(x, enforce_functional=True))\n",
    "df[\"CDR3B\"] = df[\"CDR3B\"].map(tt.junction.standardise)\n",
    "df[\"TRBJ\"] = df[\"TRBJ\"].map(lambda x: tt.tcr.standardise(x, enforce_functional=True))"
   ]
  },
  {
   "cell_type": "code",
   "execution_count": 7,
   "metadata": {},
   "outputs": [],
   "source": [
    "cleaned = df[df[\"TRBV\"].notna() & df[\"CDR3B\"].notna() & df[\"TRBJ\"].notna()]"
   ]
  },
  {
   "cell_type": "code",
   "execution_count": 9,
   "metadata": {},
   "outputs": [],
   "source": [
    "subset = cleaned.groupby(\"type\").sample(n=10_000, random_state=420).reset_index(drop=True)"
   ]
  },
  {
   "cell_type": "code",
   "execution_count": 10,
   "metadata": {},
   "outputs": [],
   "source": [
    "test = subset.groupby(\"type\").sample(n=1000, random_state=420)\n",
    "train = subset[~subset.index.isin(test.index)]"
   ]
  },
  {
   "cell_type": "code",
   "execution_count": 11,
   "metadata": {},
   "outputs": [],
   "source": [
    "train.to_csv(\"/home/yutanagano/UCLOneDrive/MBPhD/projects/tcr_embedder/data/preprocessed/cd4_cd8/train.csv\", index=False)\n",
    "test.to_csv(\"/home/yutanagano/UCLOneDrive/MBPhD/projects/tcr_embedder/data/preprocessed/cd4_cd8/test.csv\", index=False)"
   ]
  },
  {
   "cell_type": "code",
   "execution_count": null,
   "metadata": {},
   "outputs": [],
   "source": []
  }
 ],
 "metadata": {
  "kernelspec": {
   "display_name": ".venv",
   "language": "python",
   "name": "python3"
  },
  "language_info": {
   "codemirror_mode": {
    "name": "ipython",
    "version": 3
   },
   "file_extension": ".py",
   "mimetype": "text/x-python",
   "name": "python",
   "nbconvert_exporter": "python",
   "pygments_lexer": "ipython3",
   "version": "3.8.16"
  },
  "orig_nbformat": 4
 },
 "nbformat": 4,
 "nbformat_minor": 2
}
