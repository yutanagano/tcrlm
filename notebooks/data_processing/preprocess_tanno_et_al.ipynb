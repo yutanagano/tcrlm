{
 "cells": [
  {
   "cell_type": "code",
   "execution_count": 1,
   "metadata": {},
   "outputs": [
    {
     "data": {
      "text/plain": [
       "<Figure size 640x480 with 0 Axes>"
      ]
     },
     "metadata": {},
     "output_type": "display_data"
    }
   ],
   "source": [
    "import json\n",
    "import matplotlib.pyplot as plt\n",
    "from pathlib import Path\n",
    "import pandas as pd\n",
    "import seaborn\n",
    "import tidytcells\n",
    "\n",
    "seaborn.set_theme()\n",
    "seaborn.set_style(\"darkgrid\")\n",
    "plt.tight_layout()"
   ]
  },
  {
   "cell_type": "code",
   "execution_count": 2,
   "metadata": {},
   "outputs": [],
   "source": [
    "raw_dir = Path(\n",
    "    \"/home/yutanagano/UCLOneDrive/MBPhD/projects/tcr_embedder/data/raw/tanno\"\n",
    ")\n",
    "preprocessed_dir = Path(\n",
    "    \"/home/yutanagano/UCLOneDrive/MBPhD/projects/tcr_embedder/data/preprocessed/tanno\"\n",
    ")"
   ]
  },
  {
   "cell_type": "code",
   "execution_count": 3,
   "metadata": {},
   "outputs": [],
   "source": [
    "example = pd.read_csv(raw_dir / \"data\" / \"A1 memory.txt\", sep=\"\\t\")"
   ]
  },
  {
   "cell_type": "code",
   "execution_count": 4,
   "metadata": {},
   "outputs": [
    {
     "data": {
      "text/html": [
       "<div>\n",
       "<style scoped>\n",
       "    .dataframe tbody tr th:only-of-type {\n",
       "        vertical-align: middle;\n",
       "    }\n",
       "\n",
       "    .dataframe tbody tr th {\n",
       "        vertical-align: top;\n",
       "    }\n",
       "\n",
       "    .dataframe thead th {\n",
       "        text-align: right;\n",
       "    }\n",
       "</style>\n",
       "<table border=\"1\" class=\"dataframe\">\n",
       "  <thead>\n",
       "    <tr style=\"text-align: right;\">\n",
       "      <th></th>\n",
       "      <th>Clustered</th>\n",
       "      <th>Collapsed</th>\n",
       "      <th>ClusterID</th>\n",
       "      <th>CDRH3_AA</th>\n",
       "      <th>CDRL3_AA</th>\n",
       "      <th>CDRH3_NT</th>\n",
       "      <th>CDRL3_NT</th>\n",
       "      <th>VH</th>\n",
       "      <th>DH</th>\n",
       "      <th>JH</th>\n",
       "      <th>VL</th>\n",
       "      <th>JL</th>\n",
       "    </tr>\n",
       "  </thead>\n",
       "  <tbody>\n",
       "    <tr>\n",
       "      <th>0</th>\n",
       "      <td>8899</td>\n",
       "      <td>5544</td>\n",
       "      <td>1</td>\n",
       "      <td>CASSLQGARETQYF</td>\n",
       "      <td>CALLSTGGGNKLTF</td>\n",
       "      <td>TGTGCCAGCAGCTTACAGGGGGCGCGGGAGACCCAGTACTTC</td>\n",
       "      <td>TGTGCTCTCCTTTCCACGGGAGGAGGAAACAAACTCACCTTT</td>\n",
       "      <td>TRBV11-2</td>\n",
       "      <td>TRBD1</td>\n",
       "      <td>TRBJ2-5</td>\n",
       "      <td>TRAV9-2</td>\n",
       "      <td>TRAJ10</td>\n",
       "    </tr>\n",
       "    <tr>\n",
       "      <th>1</th>\n",
       "      <td>1945</td>\n",
       "      <td>1077</td>\n",
       "      <td>2</td>\n",
       "      <td>CSWKREIVEQFF</td>\n",
       "      <td>CAVSDRNTNAGKSTF</td>\n",
       "      <td>TGCAGTTGGAAGCGGGAGATAGTTGAGCAGTTCTTC</td>\n",
       "      <td>TGTGCTGTGAGTGATAGGAACACCAATGCAGGCAAATCAACCTTT</td>\n",
       "      <td>TRBV20-1</td>\n",
       "      <td>TRBD2</td>\n",
       "      <td>TRBJ2-1</td>\n",
       "      <td>TRAV8-4</td>\n",
       "      <td>TRAJ27</td>\n",
       "    </tr>\n",
       "    <tr>\n",
       "      <th>2</th>\n",
       "      <td>1215</td>\n",
       "      <td>867</td>\n",
       "      <td>3</td>\n",
       "      <td>CASSSQGANTEAFF</td>\n",
       "      <td>CIVRKRNQFYF</td>\n",
       "      <td>TGTGCCAGCAGCTCCCAAGGAGCGAACACTGAAGCTTTCTTT</td>\n",
       "      <td>TGCATCGTCAGAAAACGTAACCAGTTCTATTTT</td>\n",
       "      <td>TRBV9</td>\n",
       "      <td>NaN</td>\n",
       "      <td>TRBJ1-1</td>\n",
       "      <td>TRAV26-1</td>\n",
       "      <td>TRAJ49</td>\n",
       "    </tr>\n",
       "    <tr>\n",
       "      <th>3</th>\n",
       "      <td>1185</td>\n",
       "      <td>866</td>\n",
       "      <td>4</td>\n",
       "      <td>CASSFQGQGGQPQHF</td>\n",
       "      <td>CAVRPRDTGGFKTIF</td>\n",
       "      <td>TGTGCCAGCAGTTTCCAGGGACAGGGCGGTCAGCCCCAGCATTTT</td>\n",
       "      <td>TGTGCTGTGAGGCCTCGGGATACTGGAGGCTTCAAAACTATCTTT</td>\n",
       "      <td>TRBV12-3</td>\n",
       "      <td>TRBD1</td>\n",
       "      <td>TRBJ1-5</td>\n",
       "      <td>TRAV21</td>\n",
       "      <td>TRAJ9</td>\n",
       "    </tr>\n",
       "    <tr>\n",
       "      <th>4</th>\n",
       "      <td>1002</td>\n",
       "      <td>785</td>\n",
       "      <td>5</td>\n",
       "      <td>CSAPLAGVSYNEQFF</td>\n",
       "      <td>CIVRSYNYGQNFVF</td>\n",
       "      <td>TGCAGTGCGCCACTAGCGGGCGTCTCCTACAATGAGCAGTTCTTC</td>\n",
       "      <td>TGCATCGTCAGATCTTATAACTATGGTCAGAATTTTGTCTTT</td>\n",
       "      <td>TRBV20-1</td>\n",
       "      <td>TRBD2</td>\n",
       "      <td>TRBJ2-1</td>\n",
       "      <td>TRAV26-1</td>\n",
       "      <td>TRAJ26</td>\n",
       "    </tr>\n",
       "  </tbody>\n",
       "</table>\n",
       "</div>"
      ],
      "text/plain": [
       "   Clustered  Collapsed  ClusterID         CDRH3_AA         CDRL3_AA  \\\n",
       "0       8899       5544          1   CASSLQGARETQYF   CALLSTGGGNKLTF   \n",
       "1       1945       1077          2     CSWKREIVEQFF  CAVSDRNTNAGKSTF   \n",
       "2       1215        867          3   CASSSQGANTEAFF      CIVRKRNQFYF   \n",
       "3       1185        866          4  CASSFQGQGGQPQHF  CAVRPRDTGGFKTIF   \n",
       "4       1002        785          5  CSAPLAGVSYNEQFF   CIVRSYNYGQNFVF   \n",
       "\n",
       "                                        CDRH3_NT  \\\n",
       "0     TGTGCCAGCAGCTTACAGGGGGCGCGGGAGACCCAGTACTTC   \n",
       "1           TGCAGTTGGAAGCGGGAGATAGTTGAGCAGTTCTTC   \n",
       "2     TGTGCCAGCAGCTCCCAAGGAGCGAACACTGAAGCTTTCTTT   \n",
       "3  TGTGCCAGCAGTTTCCAGGGACAGGGCGGTCAGCCCCAGCATTTT   \n",
       "4  TGCAGTGCGCCACTAGCGGGCGTCTCCTACAATGAGCAGTTCTTC   \n",
       "\n",
       "                                        CDRL3_NT        VH     DH       JH  \\\n",
       "0     TGTGCTCTCCTTTCCACGGGAGGAGGAAACAAACTCACCTTT  TRBV11-2  TRBD1  TRBJ2-5   \n",
       "1  TGTGCTGTGAGTGATAGGAACACCAATGCAGGCAAATCAACCTTT  TRBV20-1  TRBD2  TRBJ2-1   \n",
       "2              TGCATCGTCAGAAAACGTAACCAGTTCTATTTT     TRBV9    NaN  TRBJ1-1   \n",
       "3  TGTGCTGTGAGGCCTCGGGATACTGGAGGCTTCAAAACTATCTTT  TRBV12-3  TRBD1  TRBJ1-5   \n",
       "4     TGCATCGTCAGATCTTATAACTATGGTCAGAATTTTGTCTTT  TRBV20-1  TRBD2  TRBJ2-1   \n",
       "\n",
       "         VL      JL  \n",
       "0   TRAV9-2  TRAJ10  \n",
       "1   TRAV8-4  TRAJ27  \n",
       "2  TRAV26-1  TRAJ49  \n",
       "3    TRAV21   TRAJ9  \n",
       "4  TRAV26-1  TRAJ26  "
      ]
     },
     "execution_count": 4,
     "metadata": {},
     "output_type": "execute_result"
    }
   ],
   "source": [
    "example.sort_values(by=\"Clustered\", ascending=False).head()"
   ]
  },
  {
   "cell_type": "code",
   "execution_count": 5,
   "metadata": {},
   "outputs": [
    {
     "name": "stderr",
     "output_type": "stream",
     "text": [
      "/home/yutanagano/Projects/tcr_embedder/.venv/lib/python3.11/site-packages/tidytcells/_utils/warnings.py:12: UserWarning: Failed to standardize \"TRAV8-7\" for species homosapiens: gene has no functional alleles. Attempted fix: \"TRAV8-7\".\n",
      "  warn(\n",
      "/home/yutanagano/Projects/tcr_embedder/.venv/lib/python3.11/site-packages/tidytcells/_utils/warnings.py:12: UserWarning: Failed to standardize \"TRAV15\" for species homosapiens: gene has no functional alleles. Attempted fix: \"TRAV15\".\n",
      "  warn(\n",
      "/home/yutanagano/Projects/tcr_embedder/.venv/lib/python3.11/site-packages/tidytcells/_utils/warnings.py:12: UserWarning: Failed to standardize \"TRAV32\" for species homosapiens: gene has no functional alleles. Attempted fix: \"TRAV32\".\n",
      "  warn(\n",
      "/home/yutanagano/Projects/tcr_embedder/.venv/lib/python3.11/site-packages/tidytcells/_utils/warnings.py:12: UserWarning: Failed to standardize \"TRAV33\" for species homosapiens: gene has no functional alleles. Attempted fix: \"TRAV33\".\n",
      "  warn(\n",
      "/home/yutanagano/Projects/tcr_embedder/.venv/lib/python3.11/site-packages/tidytcells/_utils/warnings.py:12: UserWarning: Failed to standardize \"TRAV11\" for species homosapiens: gene has no functional alleles. Attempted fix: \"TRAV11\".\n",
      "  warn(\n",
      "/home/yutanagano/Projects/tcr_embedder/.venv/lib/python3.11/site-packages/tidytcells/_utils/warnings.py:12: UserWarning: Failed to standardize \"TRAJ58\" for species homosapiens: gene has no functional alleles. Attempted fix: \"TRAJ58\".\n",
      "  warn(\n",
      "/home/yutanagano/Projects/tcr_embedder/.venv/lib/python3.11/site-packages/tidytcells/_utils/warnings.py:12: UserWarning: Failed to standardize \"TRAJ61\" for species homosapiens: gene has no functional alleles. Attempted fix: \"TRAJ61\".\n",
      "  warn(\n",
      "/home/yutanagano/Projects/tcr_embedder/.venv/lib/python3.11/site-packages/tidytcells/_utils/warnings.py:12: UserWarning: Failed to standardize \"TRAJ25\" for species homosapiens: gene has no functional alleles. Attempted fix: \"TRAJ25\".\n",
      "  warn(\n",
      "/home/yutanagano/Projects/tcr_embedder/.venv/lib/python3.11/site-packages/tidytcells/_utils/warnings.py:12: UserWarning: Failed to standardize \"TRAJ60\" for species homosapiens: gene has no functional alleles. Attempted fix: \"TRAJ60\".\n",
      "  warn(\n",
      "/home/yutanagano/Projects/tcr_embedder/.venv/lib/python3.11/site-packages/tidytcells/_utils/warnings.py:12: UserWarning: Failed to standardize \"TRAJ2\" for species homosapiens: gene has no functional alleles. Attempted fix: \"TRAJ2\".\n",
      "  warn(\n",
      "/home/yutanagano/Projects/tcr_embedder/.venv/lib/python3.11/site-packages/tidytcells/_utils/warnings.py:12: UserWarning: Failed to standardize \"TRBV7-1\" for species homosapiens: gene has no functional alleles. Attempted fix: \"TRBV7-1\".\n",
      "  warn(\n",
      "/home/yutanagano/Projects/tcr_embedder/.venv/lib/python3.11/site-packages/tidytcells/_utils/warnings.py:12: UserWarning: Failed to standardize \"TRBV3-2\" for species homosapiens: gene has no functional alleles. Attempted fix: \"TRBV3-2\".\n",
      "  warn(\n",
      "/home/yutanagano/Projects/tcr_embedder/.venv/lib/python3.11/site-packages/tidytcells/_utils/warnings.py:12: UserWarning: Failed to standardize \"TRBV23-1\" for species homosapiens: gene has no functional alleles. Attempted fix: \"TRBV23-1\".\n",
      "  warn(\n",
      "/home/yutanagano/Projects/tcr_embedder/.venv/lib/python3.11/site-packages/tidytcells/_utils/warnings.py:12: UserWarning: Failed to standardize \"TRBV12-1\" for species homosapiens: gene has no functional alleles. Attempted fix: \"TRBV12-1\".\n",
      "  warn(\n",
      "/home/yutanagano/Projects/tcr_embedder/.venv/lib/python3.11/site-packages/tidytcells/_utils/warnings.py:12: UserWarning: Failed to standardize \"TRBV1\" for species homosapiens: gene has no functional alleles. Attempted fix: \"TRBV1\".\n",
      "  warn(\n",
      "/home/yutanagano/Projects/tcr_embedder/.venv/lib/python3.11/site-packages/tidytcells/_utils/warnings.py:12: UserWarning: Failed to standardize \"TRBV26\" for species homosapiens: gene has no functional alleles. Attempted fix: \"TRBV26\".\n",
      "  warn(\n",
      "/home/yutanagano/Projects/tcr_embedder/.venv/lib/python3.11/site-packages/tidytcells/_utils/warnings.py:12: UserWarning: Failed to standardize \"TRBV6-7\" for species homosapiens: gene has no functional alleles. Attempted fix: \"TRBV6-7\".\n",
      "  warn(\n",
      "/home/yutanagano/Projects/tcr_embedder/.venv/lib/python3.11/site-packages/tidytcells/_utils/warnings.py:12: UserWarning: Failed to standardize \"TRBV21-1\" for species homosapiens: gene has no functional alleles. Attempted fix: \"TRBV21-1\".\n",
      "  warn(\n",
      "/home/yutanagano/Projects/tcr_embedder/.venv/lib/python3.11/site-packages/tidytcells/_utils/warnings.py:12: UserWarning: Failed to standardize \"TRBV5-7\" for species homosapiens: gene has no functional alleles. Attempted fix: \"TRBV5-7\".\n",
      "  warn(\n",
      "/home/yutanagano/Projects/tcr_embedder/.venv/lib/python3.11/site-packages/tidytcells/_utils/warnings.py:12: UserWarning: Failed to standardize \"TRBV8-2\" for species homosapiens: gene has no functional alleles. Attempted fix: \"TRBV8-2\".\n",
      "  warn(\n",
      "/home/yutanagano/Projects/tcr_embedder/.venv/lib/python3.11/site-packages/tidytcells/_utils/warnings.py:12: UserWarning: Failed to standardize \"TRBV5-2\" for species homosapiens: gene has no functional alleles. Attempted fix: \"TRBV5-2\".\n",
      "  warn(\n",
      "/home/yutanagano/Projects/tcr_embedder/.venv/lib/python3.11/site-packages/tidytcells/_utils/warnings.py:12: UserWarning: Failed to standardize \"TRBV5-3\" for species homosapiens: gene has no functional alleles. Attempted fix: \"TRBV5-3\".\n",
      "  warn(\n",
      "/home/yutanagano/Projects/tcr_embedder/.venv/lib/python3.11/site-packages/tidytcells/_utils/warnings.py:12: UserWarning: Failed to standardize \"TRBV12-2\" for species homosapiens: gene has no functional alleles. Attempted fix: \"TRBV12-2\".\n",
      "  warn(\n",
      "/home/yutanagano/Projects/tcr_embedder/.venv/lib/python3.11/site-packages/tidytcells/_utils/warnings.py:12: UserWarning: Failed to standardize \"TRBV22-1\" for species homosapiens: gene has no functional alleles. Attempted fix: \"TRBV22-1\".\n",
      "  warn(\n",
      "/home/yutanagano/Projects/tcr_embedder/.venv/lib/python3.11/site-packages/tidytcells/_utils/warnings.py:12: UserWarning: Failed to standardize \"TRBV7-5\" for species homosapiens: gene has no functional alleles. Attempted fix: \"TRBV7-5\".\n",
      "  warn(\n"
     ]
    }
   ],
   "source": [
    "dfs = []\n",
    "\n",
    "for f in (raw_dir / \"data\").iterdir():\n",
    "    df = pd.read_csv(f, sep=\"\\t\")\n",
    "\n",
    "    # Filter for potential mispairings\n",
    "    df = df.sort_values(by=\"Clustered\", ascending=False)\n",
    "    df = df.drop_duplicates(\"CDRH3_NT\", keep=\"first\")\n",
    "    df = df.drop_duplicates(\"CDRL3_NT\", keep=\"first\")\n",
    "\n",
    "    df = df[[\"VL\", \"CDRL3_AA\", \"JL\", \"VH\", \"CDRH3_AA\", \"JH\"]]\n",
    "    df.columns = [\"TRAV\", \"CDR3A\", \"TRAJ\", \"TRBV\", \"CDR3B\", \"TRBJ\"]\n",
    "\n",
    "    dfs.append(df)\n",
    "\n",
    "combined = pd.concat(dfs, axis=\"index\")\n",
    "\n",
    "combined[\"TRAV\"] = combined[\"TRAV\"].map(\n",
    "    lambda x: tidytcells.tcr.standardise(x, enforce_functional=True)\n",
    ")\n",
    "combined[\"TRAJ\"] = combined[\"TRAJ\"].map(\n",
    "    lambda x: tidytcells.tcr.standardise(x, enforce_functional=True)\n",
    ")\n",
    "combined[\"TRBV\"] = combined[\"TRBV\"].map(\n",
    "    lambda x: tidytcells.tcr.standardise(x, enforce_functional=True)\n",
    ")\n",
    "combined[\"TRBJ\"] = combined[\"TRBJ\"].map(\n",
    "    lambda x: tidytcells.tcr.standardise(x, enforce_functional=True)\n",
    ")"
   ]
  },
  {
   "cell_type": "code",
   "execution_count": 6,
   "metadata": {},
   "outputs": [],
   "source": [
    "test_frac = 0.1\n",
    "test_rows = int(test_frac * len(combined))\n",
    "\n",
    "shuffled = combined.sample(frac=1, random_state=12345)\n",
    "\n",
    "test = shuffled.iloc[:test_rows]\n",
    "train = shuffled.iloc[test_rows:]"
   ]
  },
  {
   "cell_type": "code",
   "execution_count": 7,
   "metadata": {},
   "outputs": [],
   "source": [
    "def combine_similar_clones(df):\n",
    "    df = df.copy()\n",
    "\n",
    "    if not \"clone_count\" in df:\n",
    "        df[\"clone_count\"] = 1\n",
    "\n",
    "    df = df.groupby(\n",
    "        [\"TRAV\", \"CDR3A\", \"TRAJ\", \"TRBV\", \"CDR3B\", \"TRBJ\"],\n",
    "        as_index=False,\n",
    "        dropna=False\n",
    "    ).aggregate({\"clone_count\": \"sum\"})\n",
    "\n",
    "    df[[\"Epitope\", \"MHCA\", \"MHCB\"]] = pd.NA \n",
    "\n",
    "    df = df[[\"TRAV\", \"CDR3A\", \"TRAJ\", \"TRBV\", \"CDR3B\", \"TRBJ\", \"Epitope\", \"MHCA\", \"MHCB\", \"clone_count\"]]\n",
    "\n",
    "    df = df.sort_values(by=df.columns.tolist(), ignore_index=True)\n",
    "    \n",
    "    return df"
   ]
  },
  {
   "cell_type": "code",
   "execution_count": 8,
   "metadata": {},
   "outputs": [],
   "source": [
    "combined = combine_similar_clones(combined)\n",
    "test = combine_similar_clones(test)\n",
    "train = combine_similar_clones(train)"
   ]
  },
  {
   "cell_type": "code",
   "execution_count": 9,
   "metadata": {},
   "outputs": [],
   "source": [
    "def generate_tcr_string(tcr_row):\n",
    "    return \"{}{}{}{}{}{}\".format(\n",
    "        tcr_row[\"TRAV\"],\n",
    "        tcr_row[\"CDR3A\"],\n",
    "        tcr_row[\"TRAJ\"],\n",
    "        tcr_row[\"TRBV\"],\n",
    "        tcr_row[\"CDR3B\"],\n",
    "        tcr_row[\"TRBJ\"]\n",
    "    )\n",
    "\n",
    "def remove_tcrs_in_b_from_a(df_a, df_b):\n",
    "    tcrs_in_b = set(df_b.apply(generate_tcr_string, axis=1).unique())\n",
    "\n",
    "    tcrs_to_remove_from_a = df_a.apply(generate_tcr_string, axis=1).map(lambda tcr: tcr in tcrs_in_b)\n",
    "\n",
    "    return df_a.copy()[~tcrs_to_remove_from_a]"
   ]
  },
  {
   "cell_type": "code",
   "execution_count": 10,
   "metadata": {},
   "outputs": [],
   "source": [
    "train = remove_tcrs_in_b_from_a(train, test)"
   ]
  },
  {
   "cell_type": "code",
   "execution_count": 11,
   "metadata": {},
   "outputs": [],
   "source": [
    "travs = tidytcells.tcr.query(precision=\"gene\", functionality=\"F\", contains=\"TRAV\")\n",
    "trajs = tidytcells.tcr.query(precision=\"gene\", functionality=\"F\", contains=\"TRAJ\")\n",
    "trbvs = tidytcells.tcr.query(precision=\"gene\", functionality=\"F\", contains=\"TRBV\")\n",
    "trbjs = tidytcells.tcr.query(precision=\"gene\", functionality=\"F\", contains=\"TRBJ\")"
   ]
  },
  {
   "cell_type": "code",
   "execution_count": 12,
   "metadata": {},
   "outputs": [],
   "source": [
    "for dataset in (train, test):\n",
    "    assert travs == set(dataset[\"TRAV\"].dropna())\n",
    "    assert trajs == set(dataset[\"TRAJ\"].dropna())\n",
    "    assert trbvs == set(dataset[\"TRBV\"].dropna())\n",
    "    assert trbjs == set(dataset[\"TRBJ\"].dropna())"
   ]
  },
  {
   "cell_type": "code",
   "execution_count": 51,
   "metadata": {},
   "outputs": [],
   "source": [
    "bv_counts = dict()\n",
    "\n",
    "for bv in combined[\"TRBV\"].dropna().unique():\n",
    "    bv_count = combined[\"clone_count\"][combined[\"TRBV\"] == bv].sum()\n",
    "    bv_counts[bv] = int(bv_count)"
   ]
  },
  {
   "cell_type": "code",
   "execution_count": 52,
   "metadata": {},
   "outputs": [],
   "source": [
    "with open(\"trbv_frequencies.json\", \"w\") as f:\n",
    "    json.dump(bv_counts, f, indent=4)"
   ]
  },
  {
   "cell_type": "code",
   "execution_count": 53,
   "metadata": {},
   "outputs": [],
   "source": [
    "combined.to_csv(preprocessed_dir / \"combined.csv\", index=False)"
   ]
  },
  {
   "cell_type": "code",
   "execution_count": 54,
   "metadata": {},
   "outputs": [],
   "source": [
    "train.to_csv(preprocessed_dir / \"train.csv\", index=False)\n",
    "test.to_csv(preprocessed_dir / \"test.csv\", index=False)"
   ]
  },
  {
   "cell_type": "code",
   "execution_count": 55,
   "metadata": {},
   "outputs": [],
   "source": [
    "test.sample(n=5, random_state=420).to_csv(\n",
    "    preprocessed_dir / \"exemplars.csv\", index=False\n",
    ")"
   ]
  },
  {
   "cell_type": "code",
   "execution_count": null,
   "metadata": {},
   "outputs": [],
   "source": []
  }
 ],
 "metadata": {
  "kernelspec": {
   "display_name": "Python 3.8.15 ('.venv': venv)",
   "language": "python",
   "name": "python3"
  },
  "language_info": {
   "codemirror_mode": {
    "name": "ipython",
    "version": 3
   },
   "file_extension": ".py",
   "mimetype": "text/x-python",
   "name": "python",
   "nbconvert_exporter": "python",
   "pygments_lexer": "ipython3",
   "version": "3.11.2"
  },
  "orig_nbformat": 4,
  "vscode": {
   "interpreter": {
    "hash": "bab11497baf8882c4e95e2d544b4f7a8d499018a7e93af1d4b5fac976897075f"
   }
  }
 },
 "nbformat": 4,
 "nbformat_minor": 2
}
