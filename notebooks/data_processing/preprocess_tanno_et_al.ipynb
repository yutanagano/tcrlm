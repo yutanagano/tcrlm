{
 "cells": [
  {
   "cell_type": "code",
   "execution_count": 11,
   "metadata": {},
   "outputs": [
    {
     "data": {
      "text/plain": [
       "<Figure size 640x480 with 0 Axes>"
      ]
     },
     "metadata": {},
     "output_type": "display_data"
    }
   ],
   "source": [
    "import json\n",
    "import matplotlib.pyplot as plt\n",
    "from pathlib import Path\n",
    "import pandas as pd\n",
    "import seaborn\n",
    "import tidytcells\n",
    "\n",
    "seaborn.set_theme()\n",
    "seaborn.set_style(\"darkgrid\")\n",
    "plt.tight_layout()"
   ]
  },
  {
   "cell_type": "code",
   "execution_count": 2,
   "metadata": {},
   "outputs": [],
   "source": [
    "raw_dir = Path(\n",
    "    \"/home/yutanagano/UCLOneDrive/MBPhD/projects/tcr_embedder/data/raw/tanno\"\n",
    ")\n",
    "preprocessed_dir = Path(\n",
    "    \"/home/yutanagano/UCLOneDrive/MBPhD/projects/tcr_embedder/data/preprocessed/tanno\"\n",
    ")"
   ]
  },
  {
   "cell_type": "code",
   "execution_count": 3,
   "metadata": {},
   "outputs": [],
   "source": [
    "example = pd.read_csv(raw_dir / \"data\" / \"A1 memory.txt\", sep=\"\\t\")"
   ]
  },
  {
   "cell_type": "code",
   "execution_count": 4,
   "metadata": {},
   "outputs": [
    {
     "data": {
      "text/html": [
       "<div>\n",
       "<style scoped>\n",
       "    .dataframe tbody tr th:only-of-type {\n",
       "        vertical-align: middle;\n",
       "    }\n",
       "\n",
       "    .dataframe tbody tr th {\n",
       "        vertical-align: top;\n",
       "    }\n",
       "\n",
       "    .dataframe thead th {\n",
       "        text-align: right;\n",
       "    }\n",
       "</style>\n",
       "<table border=\"1\" class=\"dataframe\">\n",
       "  <thead>\n",
       "    <tr style=\"text-align: right;\">\n",
       "      <th></th>\n",
       "      <th>Clustered</th>\n",
       "      <th>Collapsed</th>\n",
       "      <th>ClusterID</th>\n",
       "      <th>CDRH3_AA</th>\n",
       "      <th>CDRL3_AA</th>\n",
       "      <th>CDRH3_NT</th>\n",
       "      <th>CDRL3_NT</th>\n",
       "      <th>VH</th>\n",
       "      <th>DH</th>\n",
       "      <th>JH</th>\n",
       "      <th>VL</th>\n",
       "      <th>JL</th>\n",
       "    </tr>\n",
       "  </thead>\n",
       "  <tbody>\n",
       "    <tr>\n",
       "      <th>0</th>\n",
       "      <td>8899</td>\n",
       "      <td>5544</td>\n",
       "      <td>1</td>\n",
       "      <td>CASSLQGARETQYF</td>\n",
       "      <td>CALLSTGGGNKLTF</td>\n",
       "      <td>TGTGCCAGCAGCTTACAGGGGGCGCGGGAGACCCAGTACTTC</td>\n",
       "      <td>TGTGCTCTCCTTTCCACGGGAGGAGGAAACAAACTCACCTTT</td>\n",
       "      <td>TRBV11-2</td>\n",
       "      <td>TRBD1</td>\n",
       "      <td>TRBJ2-5</td>\n",
       "      <td>TRAV9-2</td>\n",
       "      <td>TRAJ10</td>\n",
       "    </tr>\n",
       "    <tr>\n",
       "      <th>1</th>\n",
       "      <td>1945</td>\n",
       "      <td>1077</td>\n",
       "      <td>2</td>\n",
       "      <td>CSWKREIVEQFF</td>\n",
       "      <td>CAVSDRNTNAGKSTF</td>\n",
       "      <td>TGCAGTTGGAAGCGGGAGATAGTTGAGCAGTTCTTC</td>\n",
       "      <td>TGTGCTGTGAGTGATAGGAACACCAATGCAGGCAAATCAACCTTT</td>\n",
       "      <td>TRBV20-1</td>\n",
       "      <td>TRBD2</td>\n",
       "      <td>TRBJ2-1</td>\n",
       "      <td>TRAV8-4</td>\n",
       "      <td>TRAJ27</td>\n",
       "    </tr>\n",
       "    <tr>\n",
       "      <th>2</th>\n",
       "      <td>1215</td>\n",
       "      <td>867</td>\n",
       "      <td>3</td>\n",
       "      <td>CASSSQGANTEAFF</td>\n",
       "      <td>CIVRKRNQFYF</td>\n",
       "      <td>TGTGCCAGCAGCTCCCAAGGAGCGAACACTGAAGCTTTCTTT</td>\n",
       "      <td>TGCATCGTCAGAAAACGTAACCAGTTCTATTTT</td>\n",
       "      <td>TRBV9</td>\n",
       "      <td>NaN</td>\n",
       "      <td>TRBJ1-1</td>\n",
       "      <td>TRAV26-1</td>\n",
       "      <td>TRAJ49</td>\n",
       "    </tr>\n",
       "    <tr>\n",
       "      <th>3</th>\n",
       "      <td>1185</td>\n",
       "      <td>866</td>\n",
       "      <td>4</td>\n",
       "      <td>CASSFQGQGGQPQHF</td>\n",
       "      <td>CAVRPRDTGGFKTIF</td>\n",
       "      <td>TGTGCCAGCAGTTTCCAGGGACAGGGCGGTCAGCCCCAGCATTTT</td>\n",
       "      <td>TGTGCTGTGAGGCCTCGGGATACTGGAGGCTTCAAAACTATCTTT</td>\n",
       "      <td>TRBV12-3</td>\n",
       "      <td>TRBD1</td>\n",
       "      <td>TRBJ1-5</td>\n",
       "      <td>TRAV21</td>\n",
       "      <td>TRAJ9</td>\n",
       "    </tr>\n",
       "    <tr>\n",
       "      <th>4</th>\n",
       "      <td>1002</td>\n",
       "      <td>785</td>\n",
       "      <td>5</td>\n",
       "      <td>CSAPLAGVSYNEQFF</td>\n",
       "      <td>CIVRSYNYGQNFVF</td>\n",
       "      <td>TGCAGTGCGCCACTAGCGGGCGTCTCCTACAATGAGCAGTTCTTC</td>\n",
       "      <td>TGCATCGTCAGATCTTATAACTATGGTCAGAATTTTGTCTTT</td>\n",
       "      <td>TRBV20-1</td>\n",
       "      <td>TRBD2</td>\n",
       "      <td>TRBJ2-1</td>\n",
       "      <td>TRAV26-1</td>\n",
       "      <td>TRAJ26</td>\n",
       "    </tr>\n",
       "  </tbody>\n",
       "</table>\n",
       "</div>"
      ],
      "text/plain": [
       "   Clustered  Collapsed  ClusterID         CDRH3_AA         CDRL3_AA  \\\n",
       "0       8899       5544          1   CASSLQGARETQYF   CALLSTGGGNKLTF   \n",
       "1       1945       1077          2     CSWKREIVEQFF  CAVSDRNTNAGKSTF   \n",
       "2       1215        867          3   CASSSQGANTEAFF      CIVRKRNQFYF   \n",
       "3       1185        866          4  CASSFQGQGGQPQHF  CAVRPRDTGGFKTIF   \n",
       "4       1002        785          5  CSAPLAGVSYNEQFF   CIVRSYNYGQNFVF   \n",
       "\n",
       "                                        CDRH3_NT  \\\n",
       "0     TGTGCCAGCAGCTTACAGGGGGCGCGGGAGACCCAGTACTTC   \n",
       "1           TGCAGTTGGAAGCGGGAGATAGTTGAGCAGTTCTTC   \n",
       "2     TGTGCCAGCAGCTCCCAAGGAGCGAACACTGAAGCTTTCTTT   \n",
       "3  TGTGCCAGCAGTTTCCAGGGACAGGGCGGTCAGCCCCAGCATTTT   \n",
       "4  TGCAGTGCGCCACTAGCGGGCGTCTCCTACAATGAGCAGTTCTTC   \n",
       "\n",
       "                                        CDRL3_NT        VH     DH       JH  \\\n",
       "0     TGTGCTCTCCTTTCCACGGGAGGAGGAAACAAACTCACCTTT  TRBV11-2  TRBD1  TRBJ2-5   \n",
       "1  TGTGCTGTGAGTGATAGGAACACCAATGCAGGCAAATCAACCTTT  TRBV20-1  TRBD2  TRBJ2-1   \n",
       "2              TGCATCGTCAGAAAACGTAACCAGTTCTATTTT     TRBV9    NaN  TRBJ1-1   \n",
       "3  TGTGCTGTGAGGCCTCGGGATACTGGAGGCTTCAAAACTATCTTT  TRBV12-3  TRBD1  TRBJ1-5   \n",
       "4     TGCATCGTCAGATCTTATAACTATGGTCAGAATTTTGTCTTT  TRBV20-1  TRBD2  TRBJ2-1   \n",
       "\n",
       "         VL      JL  \n",
       "0   TRAV9-2  TRAJ10  \n",
       "1   TRAV8-4  TRAJ27  \n",
       "2  TRAV26-1  TRAJ49  \n",
       "3    TRAV21   TRAJ9  \n",
       "4  TRAV26-1  TRAJ26  "
      ]
     },
     "execution_count": 4,
     "metadata": {},
     "output_type": "execute_result"
    }
   ],
   "source": [
    "example.sort_values(by=\"Clustered\", ascending=False).head()"
   ]
  },
  {
   "cell_type": "code",
   "execution_count": 5,
   "metadata": {},
   "outputs": [],
   "source": [
    "dfs = []\n",
    "\n",
    "for f in (raw_dir / \"data\").iterdir():\n",
    "    df = pd.read_csv(f, sep=\"\\t\")\n",
    "\n",
    "    # Filter for potential mispairings\n",
    "    df = df.sort_values(by=\"Clustered\", ascending=False)\n",
    "    df = df.drop_duplicates(\"CDRH3_NT\", keep=\"first\")\n",
    "    df = df.drop_duplicates(\"CDRL3_NT\", keep=\"first\")\n",
    "\n",
    "    df = df[[\"VL\", \"CDRL3_AA\", \"JL\", \"VH\", \"CDRH3_AA\", \"JH\"]]\n",
    "    df = df.drop_duplicates()\n",
    "    df.columns = [\"TRAV\", \"CDR3A\", \"TRAJ\", \"TRBV\", \"CDR3B\", \"TRBJ\"]\n",
    "    df[\"Epitope\"] = pd.NA\n",
    "    df[\"MHCA\"] = pd.NA\n",
    "    df[\"MHCB\"] = pd.NA\n",
    "    df[\"duplicate_count\"] = pd.NA\n",
    "\n",
    "    dfs.append(df)\n",
    "\n",
    "combined = pd.concat(dfs, axis=\"index\")\n",
    "combined = combined.drop_duplicates()\n",
    "combined = combined.sort_values(by=combined.columns.tolist(), ignore_index=True)"
   ]
  },
  {
   "cell_type": "code",
   "execution_count": 6,
   "metadata": {},
   "outputs": [
    {
     "name": "stderr",
     "output_type": "stream",
     "text": [
      "/home/yutanagano/Projects/tcr_embedder/.venv/lib64/python3.8/site-packages/tidytcells/_utils/warnings.py:10: UserWarning: Failed to standardise: \"TRAV11\" for species homosapiens. Attempted fix \"TRAV11\" did not meet the standardised format requirements. Ignoring this gene name...\n",
      "  warn(\n",
      "/home/yutanagano/Projects/tcr_embedder/.venv/lib64/python3.8/site-packages/tidytcells/_utils/warnings.py:10: UserWarning: Failed to standardise: \"TRAV15\" for species homosapiens. Attempted fix \"TRAV15\" did not meet the standardised format requirements. Ignoring this gene name...\n",
      "  warn(\n",
      "/home/yutanagano/Projects/tcr_embedder/.venv/lib64/python3.8/site-packages/tidytcells/_utils/warnings.py:10: UserWarning: Failed to standardise: \"TRAV32\" for species homosapiens. Attempted fix \"TRAV32\" did not meet the standardised format requirements. Ignoring this gene name...\n",
      "  warn(\n",
      "/home/yutanagano/Projects/tcr_embedder/.venv/lib64/python3.8/site-packages/tidytcells/_utils/warnings.py:10: UserWarning: Failed to standardise: \"TRAV33\" for species homosapiens. Attempted fix \"TRAV33\" did not meet the standardised format requirements. Ignoring this gene name...\n",
      "  warn(\n",
      "/home/yutanagano/Projects/tcr_embedder/.venv/lib64/python3.8/site-packages/tidytcells/_utils/warnings.py:10: UserWarning: Failed to standardise: \"TRAV8-7\" for species homosapiens. Attempted fix \"TRAV8-7\" did not meet the standardised format requirements. Ignoring this gene name...\n",
      "  warn(\n",
      "/home/yutanagano/Projects/tcr_embedder/.venv/lib64/python3.8/site-packages/tidytcells/_utils/warnings.py:10: UserWarning: Failed to standardise: \"TRAJ58\" for species homosapiens. Attempted fix \"TRAJ58\" did not meet the standardised format requirements. Ignoring this gene name...\n",
      "  warn(\n",
      "/home/yutanagano/Projects/tcr_embedder/.venv/lib64/python3.8/site-packages/tidytcells/_utils/warnings.py:10: UserWarning: Failed to standardise: \"TRAJ25\" for species homosapiens. Attempted fix \"TRAJ25\" did not meet the standardised format requirements. Ignoring this gene name...\n",
      "  warn(\n",
      "/home/yutanagano/Projects/tcr_embedder/.venv/lib64/python3.8/site-packages/tidytcells/_utils/warnings.py:10: UserWarning: Failed to standardise: \"TRAJ61\" for species homosapiens. Attempted fix \"TRAJ61\" did not meet the standardised format requirements. Ignoring this gene name...\n",
      "  warn(\n",
      "/home/yutanagano/Projects/tcr_embedder/.venv/lib64/python3.8/site-packages/tidytcells/_utils/warnings.py:10: UserWarning: Failed to standardise: \"TRAJ60\" for species homosapiens. Attempted fix \"TRAJ60\" did not meet the standardised format requirements. Ignoring this gene name...\n",
      "  warn(\n",
      "/home/yutanagano/Projects/tcr_embedder/.venv/lib64/python3.8/site-packages/tidytcells/_utils/warnings.py:10: UserWarning: Failed to standardise: \"TRAJ2\" for species homosapiens. Attempted fix \"TRAJ2\" did not meet the standardised format requirements. Ignoring this gene name...\n",
      "  warn(\n",
      "/home/yutanagano/Projects/tcr_embedder/.venv/lib64/python3.8/site-packages/tidytcells/_utils/warnings.py:10: UserWarning: Failed to standardise: \"TRBV5-2\" for species homosapiens. Attempted fix \"TRBV5-2\" did not meet the standardised format requirements. Ignoring this gene name...\n",
      "  warn(\n",
      "/home/yutanagano/Projects/tcr_embedder/.venv/lib64/python3.8/site-packages/tidytcells/_utils/warnings.py:10: UserWarning: Failed to standardise: \"TRBV7-1\" for species homosapiens. Attempted fix \"TRBV7-1\" did not meet the standardised format requirements. Ignoring this gene name...\n",
      "  warn(\n",
      "/home/yutanagano/Projects/tcr_embedder/.venv/lib64/python3.8/site-packages/tidytcells/_utils/warnings.py:10: UserWarning: Failed to standardise: \"TRBV21-1\" for species homosapiens. Attempted fix \"TRBV21-1\" did not meet the standardised format requirements. Ignoring this gene name...\n",
      "  warn(\n",
      "/home/yutanagano/Projects/tcr_embedder/.venv/lib64/python3.8/site-packages/tidytcells/_utils/warnings.py:10: UserWarning: Failed to standardise: \"TRBV6-7\" for species homosapiens. Attempted fix \"TRBV6-7\" did not meet the standardised format requirements. Ignoring this gene name...\n",
      "  warn(\n",
      "/home/yutanagano/Projects/tcr_embedder/.venv/lib64/python3.8/site-packages/tidytcells/_utils/warnings.py:10: UserWarning: Failed to standardise: \"TRBV23-1\" for species homosapiens. Attempted fix \"TRBV23-1\" did not meet the standardised format requirements. Ignoring this gene name...\n",
      "  warn(\n",
      "/home/yutanagano/Projects/tcr_embedder/.venv/lib64/python3.8/site-packages/tidytcells/_utils/warnings.py:10: UserWarning: Failed to standardise: \"TRBV12-1\" for species homosapiens. Attempted fix \"TRBV12-1\" did not meet the standardised format requirements. Ignoring this gene name...\n",
      "  warn(\n",
      "/home/yutanagano/Projects/tcr_embedder/.venv/lib64/python3.8/site-packages/tidytcells/_utils/warnings.py:10: UserWarning: Failed to standardise: \"TRBV22-1\" for species homosapiens. Attempted fix \"TRBV22-1\" did not meet the standardised format requirements. Ignoring this gene name...\n",
      "  warn(\n",
      "/home/yutanagano/Projects/tcr_embedder/.venv/lib64/python3.8/site-packages/tidytcells/_utils/warnings.py:10: UserWarning: Failed to standardise: \"TRBV5-7\" for species homosapiens. Attempted fix \"TRBV5-7\" did not meet the standardised format requirements. Ignoring this gene name...\n",
      "  warn(\n",
      "/home/yutanagano/Projects/tcr_embedder/.venv/lib64/python3.8/site-packages/tidytcells/_utils/warnings.py:10: UserWarning: Failed to standardise: \"TRBV3-2\" for species homosapiens. Attempted fix \"TRBV3-2\" did not meet the standardised format requirements. Ignoring this gene name...\n",
      "  warn(\n",
      "/home/yutanagano/Projects/tcr_embedder/.venv/lib64/python3.8/site-packages/tidytcells/_utils/warnings.py:10: UserWarning: Failed to standardise: \"TRBV12-2\" for species homosapiens. Attempted fix \"TRBV12-2\" did not meet the standardised format requirements. Ignoring this gene name...\n",
      "  warn(\n",
      "/home/yutanagano/Projects/tcr_embedder/.venv/lib64/python3.8/site-packages/tidytcells/_utils/warnings.py:10: UserWarning: Failed to standardise: \"TRBV26\" for species homosapiens. Attempted fix \"TRBV26\" did not meet the standardised format requirements. Ignoring this gene name...\n",
      "  warn(\n",
      "/home/yutanagano/Projects/tcr_embedder/.venv/lib64/python3.8/site-packages/tidytcells/_utils/warnings.py:10: UserWarning: Failed to standardise: \"TRBV5-3\" for species homosapiens. Attempted fix \"TRBV5-3\" did not meet the standardised format requirements. Ignoring this gene name...\n",
      "  warn(\n",
      "/home/yutanagano/Projects/tcr_embedder/.venv/lib64/python3.8/site-packages/tidytcells/_utils/warnings.py:10: UserWarning: Failed to standardise: \"TRBV7-5\" for species homosapiens. Attempted fix \"TRBV7-5\" did not meet the standardised format requirements. Ignoring this gene name...\n",
      "  warn(\n",
      "/home/yutanagano/Projects/tcr_embedder/.venv/lib64/python3.8/site-packages/tidytcells/_utils/warnings.py:10: UserWarning: Failed to standardise: \"TRBV1\" for species homosapiens. Attempted fix \"TRBV1\" did not meet the standardised format requirements. Ignoring this gene name...\n",
      "  warn(\n",
      "/home/yutanagano/Projects/tcr_embedder/.venv/lib64/python3.8/site-packages/tidytcells/_utils/warnings.py:10: UserWarning: Failed to standardise: \"TRBV8-2\" for species homosapiens. Attempted fix \"TRBV8-2\" did not meet the standardised format requirements. Ignoring this gene name...\n",
      "  warn(\n"
     ]
    }
   ],
   "source": [
    "combined[\"TRAV\"] = combined[\"TRAV\"].map(\n",
    "    lambda x: tidytcells.tcr.standardise(x, enforce_functional=True)\n",
    ")\n",
    "combined[\"TRAJ\"] = combined[\"TRAJ\"].map(\n",
    "    lambda x: tidytcells.tcr.standardise(x, enforce_functional=True)\n",
    ")\n",
    "combined[\"TRBV\"] = combined[\"TRBV\"].map(\n",
    "    lambda x: tidytcells.tcr.standardise(x, enforce_functional=True)\n",
    ")\n",
    "combined[\"TRBJ\"] = combined[\"TRBJ\"].map(\n",
    "    lambda x: tidytcells.tcr.standardise(x, enforce_functional=True)\n",
    ")"
   ]
  },
  {
   "cell_type": "code",
   "execution_count": 7,
   "metadata": {},
   "outputs": [
    {
     "data": {
      "image/png": "[encoded data removed]",
      "text/plain": [
       "<Figure size 1000x500 with 1 Axes>"
      ]
     },
     "metadata": {},
     "output_type": "display_data"
    }
   ],
   "source": [
    "ax = combined[\"TRBV\"].value_counts().plot.bar()\n",
    "ax.set_ylabel(\"count\")\n",
    "ax.set_xlabel(\"V gene\")\n",
    "ax.get_figure().set_size_inches(10, 5)"
   ]
  },
  {
   "cell_type": "code",
   "execution_count": 13,
   "metadata": {},
   "outputs": [],
   "source": [
    "with open(\"trbv_frequencies.json\", \"w\") as f:\n",
    "    json.dump(combined[\"TRBV\"].value_counts(normalize=True).to_dict(), f, indent=4)"
   ]
  },
  {
   "cell_type": "code",
   "execution_count": 8,
   "metadata": {},
   "outputs": [],
   "source": [
    "combined.to_csv(preprocessed_dir / \"combined.csv\", index=False)"
   ]
  },
  {
   "cell_type": "code",
   "execution_count": 9,
   "metadata": {},
   "outputs": [],
   "source": [
    "test_frac = 0.1\n",
    "test_rows = int(test_frac * len(combined))\n",
    "\n",
    "shuffled = combined.sample(frac=1, random_state=420)\n",
    "\n",
    "test = shuffled.iloc[:test_rows]\n",
    "train = shuffled.iloc[test_rows:]"
   ]
  },
  {
   "cell_type": "code",
   "execution_count": 10,
   "metadata": {},
   "outputs": [],
   "source": [
    "travs = tidytcells.tcr.query(precision=\"gene\", functionality=\"F\", contains=\"TRAV\")\n",
    "trajs = tidytcells.tcr.query(precision=\"gene\", functionality=\"F\", contains=\"TRAJ\")\n",
    "trbvs = tidytcells.tcr.query(precision=\"gene\", functionality=\"F\", contains=\"TRBV\")\n",
    "trbjs = tidytcells.tcr.query(precision=\"gene\", functionality=\"F\", contains=\"TRBJ\")"
   ]
  },
  {
   "cell_type": "code",
   "execution_count": 13,
   "metadata": {},
   "outputs": [
    {
     "name": "stdout",
     "output_type": "stream",
     "text": [
      "TRBV20-1    97492\n",
      "TRBV12-3    57756\n",
      "TRBV7-2     51351\n",
      "TRBV30      38143\n",
      "TRBV5-1     36462\n",
      "TRBV7-9     33495\n",
      "TRBV9       27154\n",
      "TRBV27      26669\n",
      "TRBV4-1     26585\n",
      "TRBV2       24967\n",
      "TRBV6-5     22318\n",
      "TRBV29-1    19902\n",
      "TRBV4-2     17603\n",
      "TRBV19      17273\n",
      "TRBV28      16807\n",
      "TRBV6-2     16661\n",
      "TRBV18      15992\n",
      "TRBV6-1     15623\n",
      "TRBV10-3    13384\n",
      "TRBV4-3     13211\n",
      "TRBV3-1     13018\n",
      "TRBV11-2    12839\n",
      "TRBV15      12186\n",
      "TRBV5-4     11898\n",
      "TRBV25-1    11284\n",
      "TRBV13      11080\n",
      "TRBV7-6     10278\n",
      "TRBV7-3      9948\n",
      "TRBV6-6      9174\n",
      "TRBV14       8857\n",
      "TRBV7-8      8373\n",
      "TRBV24-1     5257\n",
      "TRBV11-3     4172\n",
      "TRBV11-1     3630\n",
      "TRBV7-7      3599\n",
      "TRBV12-5     2601\n",
      "TRBV10-2     2230\n",
      "TRBV5-8      1975\n",
      "TRBV6-4      1806\n",
      "TRBV10-1      950\n",
      "TRBV16        506\n",
      "TRBV7-4       389\n",
      "TRBV12-4      150\n",
      "TRBV6-9       144\n",
      "TRBV6-8       141\n",
      "TRBV6-3        99\n",
      "TRBV5-6        55\n",
      "TRBV5-5        52\n",
      "Name: TRBV, dtype: int64\n",
      "TRBV20-1    10904\n",
      "TRBV12-3     6441\n",
      "TRBV7-2      5704\n",
      "TRBV30       4296\n",
      "TRBV5-1      4077\n",
      "TRBV7-9      3639\n",
      "TRBV4-1      3007\n",
      "TRBV27       2952\n",
      "TRBV9        2935\n",
      "TRBV2        2797\n",
      "TRBV6-5      2519\n",
      "TRBV29-1     2210\n",
      "TRBV4-2      1935\n",
      "TRBV28       1910\n",
      "TRBV19       1858\n",
      "TRBV6-2      1841\n",
      "TRBV18       1776\n",
      "TRBV6-1      1761\n",
      "TRBV10-3     1492\n",
      "TRBV4-3      1453\n",
      "TRBV3-1      1435\n",
      "TRBV11-2     1383\n",
      "TRBV15       1312\n",
      "TRBV5-4      1303\n",
      "TRBV25-1     1284\n",
      "TRBV13       1209\n",
      "TRBV7-6      1132\n",
      "TRBV7-3      1108\n",
      "TRBV6-6       975\n",
      "TRBV14        964\n",
      "TRBV7-8       913\n",
      "TRBV24-1      618\n",
      "TRBV11-3      469\n",
      "TRBV11-1      461\n",
      "TRBV7-7       398\n",
      "TRBV10-2      282\n",
      "TRBV12-5      274\n",
      "TRBV5-8       213\n",
      "TRBV6-4       197\n",
      "TRBV10-1      106\n",
      "TRBV16         54\n",
      "TRBV7-4        42\n",
      "TRBV6-3        17\n",
      "TRBV5-5        16\n",
      "TRBV6-9        14\n",
      "TRBV6-8        13\n",
      "TRBV12-4        8\n",
      "TRBV5-6         7\n",
      "Name: TRBV, dtype: int64\n"
     ]
    }
   ],
   "source": [
    "for dataset in (train, test):\n",
    "    assert dataset[\"TRAV\"].nunique() == len(travs)\n",
    "    assert not (set(travs) - set(dataset[\"TRAV\"]))\n",
    "    assert dataset[\"TRAJ\"].nunique() == len(trajs)\n",
    "    assert not (set(trajs) - set(dataset[\"TRAJ\"]))\n",
    "    assert dataset[\"TRBV\"].nunique() == len(trbvs)\n",
    "    assert not (set(trbvs) - set(dataset[\"TRBV\"]))\n",
    "    assert dataset[\"TRBJ\"].nunique() == len(trbjs)\n",
    "    assert not (set(trbjs) - set(dataset[\"TRBJ\"]))\n",
    "    print(dataset[\"TRBV\"].value_counts())"
   ]
  },
  {
   "cell_type": "code",
   "execution_count": 14,
   "metadata": {},
   "outputs": [],
   "source": [
    "train.to_csv(preprocessed_dir / \"train.csv\", index=False)\n",
    "test.to_csv(preprocessed_dir / \"test.csv\", index=False)"
   ]
  },
  {
   "cell_type": "code",
   "execution_count": 17,
   "metadata": {},
   "outputs": [],
   "source": [
    "test.sample(n=5, random_state=420).to_csv(\n",
    "    preprocessed_dir / \"exemplars.csv\", index=False\n",
    ")"
   ]
  },
  {
   "cell_type": "code",
   "execution_count": null,
   "metadata": {},
   "outputs": [],
   "source": []
  }
 ],
 "metadata": {
  "kernelspec": {
   "display_name": "Python 3.8.15 ('.venv': venv)",
   "language": "python",
   "name": "python3"
  },
  "language_info": {
   "codemirror_mode": {
    "name": "ipython",
    "version": 3
   },
   "file_extension": ".py",
   "mimetype": "text/x-python",
   "name": "python",
   "nbconvert_exporter": "python",
   "pygments_lexer": "ipython3",
   "version": "3.8.16"
  },
  "orig_nbformat": 4,
  "vscode": {
   "interpreter": {
    "hash": "bab11497baf8882c4e95e2d544b4f7a8d499018a7e93af1d4b5fac976897075f"
   }
  }
 },
 "nbformat": 4,
 "nbformat_minor": 2
}
