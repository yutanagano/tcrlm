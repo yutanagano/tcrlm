{
 "cells": [
  {
   "cell_type": "code",
   "execution_count": 1,
   "metadata": {},
   "outputs": [],
   "source": [
    "import pandas as pd\n",
    "from pathlib import Path\n",
    "import tidytcells as tt"
   ]
  },
  {
   "cell_type": "code",
   "execution_count": 2,
   "metadata": {},
   "outputs": [],
   "source": [
    "raw_dir = Path(\"/home/yutanagano/UCLOneDrive/MBPhD/projects/tcr_embedder/data/raw/olga\")\n",
    "preprocessed_dir = Path(\"/home/yutanagano/UCLOneDrive/MBPhD/projects/tcr_embedder/data/preprocessed/olga\")"
   ]
  },
  {
   "cell_type": "code",
   "execution_count": 3,
   "metadata": {},
   "outputs": [],
   "source": [
    "alpha_dataframe = pd.read_csv(raw_dir/\"tra.tsv\", sep=\"\\t\", names=[\"CDR3A_NT\", \"CDR3A\", \"TRAV\", \"TRAJ\"])\n",
    "beta_dataframe = pd.read_csv(raw_dir/\"trb.tsv\", sep=\"\\t\", names=[\"CDR3B_NT\", \"CDR3B\", \"TRBV\", \"TRBJ\"])"
   ]
  },
  {
   "cell_type": "code",
   "execution_count": 4,
   "metadata": {},
   "outputs": [],
   "source": [
    "paired_chain_dataframe = pd.concat([alpha_dataframe, beta_dataframe], axis=1)\n",
    "paired_chain_dataframe = paired_chain_dataframe[[\"TRAV\", \"CDR3A\", \"TRAJ\", \"TRBV\", \"CDR3B\", \"TRBJ\"]]"
   ]
  },
  {
   "cell_type": "code",
   "execution_count": 6,
   "metadata": {},
   "outputs": [
    {
     "name": "stderr",
     "output_type": "stream",
     "text": [
      "/home/yutanagano/Projects/tcr_embedder/.venv/lib/python3.11/site-packages/tidytcells/_utils/warnings.py:7: UserWarning: Failed to standardize \"TRAJ58\" for species homosapiens: gene has no functional alleles. Attempted fix: \"TRAJ58\".\n",
      "  warn(\n"
     ]
    }
   ],
   "source": [
    "paired_chain_dataframe.TRAV = paired_chain_dataframe.TRAV.map(lambda x: tt.tr.standardize(x, enforce_functional=True))\n",
    "paired_chain_dataframe.TRAJ = paired_chain_dataframe.TRAJ.map(lambda x: tt.tr.standardize(x, enforce_functional=True))\n",
    "paired_chain_dataframe.TRBV = paired_chain_dataframe.TRBV.map(lambda x: tt.tr.standardize(x, enforce_functional=True))\n",
    "paired_chain_dataframe.TRBJ = paired_chain_dataframe.TRBJ.map(lambda x: tt.tr.standardize(x, enforce_functional=True))"
   ]
  },
  {
   "cell_type": "code",
   "execution_count": 7,
   "metadata": {},
   "outputs": [],
   "source": [
    "paired_chain_dataframe.to_csv(preprocessed_dir/\"olga.csv\", index=False)"
   ]
  },
  {
   "cell_type": "code",
   "execution_count": null,
   "metadata": {},
   "outputs": [],
   "source": []
  }
 ],
 "metadata": {
  "kernelspec": {
   "display_name": ".venv",
   "language": "python",
   "name": "python3"
  },
  "language_info": {
   "codemirror_mode": {
    "name": "ipython",
    "version": 3
   },
   "file_extension": ".py",
   "mimetype": "text/x-python",
   "name": "python",
   "nbconvert_exporter": "python",
   "pygments_lexer": "ipython3",
   "version": "3.11.4"
  }
 },
 "nbformat": 4,
 "nbformat_minor": 2
}
