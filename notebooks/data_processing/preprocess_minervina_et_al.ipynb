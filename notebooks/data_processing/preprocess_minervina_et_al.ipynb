{
 "cells": [
  {
   "cell_type": "code",
   "execution_count": 1,
   "metadata": {},
   "outputs": [],
   "source": [
    "import os\n",
    "from pathlib import Path\n",
    "import sys\n",
    "\n",
    "if \"__project_dir__\" not in globals():\n",
    "    __project_dir__ = Path.cwd().parents[1].resolve()\n",
    "\n",
    "sys.path.append(__project_dir__)\n",
    "os.chdir(__project_dir__)"
   ]
  },
  {
   "cell_type": "code",
   "execution_count": 2,
   "metadata": {},
   "outputs": [],
   "source": [
    "import pandas as pd\n",
    "from pandas import DataFrame\n",
    "import tidytcells as tt"
   ]
  },
  {
   "cell_type": "code",
   "execution_count": 3,
   "metadata": {},
   "outputs": [],
   "source": [
    "raw_dir = Path(\"/home/yutanagano/UCLOneDrive/MBPhD/projects/tcr_embedder/data/raw\")\n",
    "processed_dir = Path(\n",
    "    \"/home/yutanagano/UCLOneDrive/MBPhD/projects/tcr_embedder/data/preprocessed\"\n",
    ")"
   ]
  },
  {
   "cell_type": "code",
   "execution_count": 4,
   "metadata": {},
   "outputs": [],
   "source": [
    "df = pd.read_excel(\n",
    "    raw_dir / \"minervina\" / \"Minervina_SARS_CoV_2_TCRs.xlsx\", sheet_name=\"clonotypes\"\n",
    ")"
   ]
  },
  {
   "cell_type": "code",
   "execution_count": 5,
   "metadata": {},
   "outputs": [],
   "source": [
    "df = df.drop_duplicates([\"cdr3b_nt\", \"vb\", \"jb\", \"cdr3a_nt\", \"va\", \"ja\", \"epitope\"])"
   ]
  },
  {
   "cell_type": "code",
   "execution_count": 6,
   "metadata": {},
   "outputs": [],
   "source": [
    "def extract_mhca_and_epitope(encoding):\n",
    "    tokens = encoding.split(\"_\")\n",
    "    \n",
    "    mhca = tokens[0]\n",
    "    epitope = \"_\".join(tokens[1:])\n",
    "\n",
    "    return tt.mhc.standardize(mhca), epitope\n",
    "\n",
    "df[[\"MHCA\", \"Epitope\"]] = df.apply(lambda row: extract_mhca_and_epitope(row[\"epitope\"]), result_type=\"expand\", axis=1)"
   ]
  },
  {
   "cell_type": "code",
   "execution_count": 7,
   "metadata": {},
   "outputs": [],
   "source": [
    "def drop_chains_independently(df: DataFrame):\n",
    "    df = df.sort_values(by=\"Degree\", ascending=False)\n",
    "    df = df.drop_duplicates(subset=[\"cdr3a_nt\", \"Epitope\"], keep=\"first\")\n",
    "    df = df.drop_duplicates(subset=[\"cdr3b_nt\", \"Epitope\"], keep=\"first\")\n",
    "    return df\n",
    "\n",
    "tcrs_chains_dropped_independently = drop_chains_independently(df)"
   ]
  },
  {
   "cell_type": "code",
   "execution_count": 8,
   "metadata": {},
   "outputs": [
    {
     "data": {
      "text/plain": [
       "array(['TGTGCCAGCAGCCCGGATATTGAAGCTTTCTTT',\n",
       "       'TGTGCCAGCAGCCCCGACATTGAAGCTTTCTTT',\n",
       "       'TGTGCCAGCAGCCCAGACATAGAAGCTTTCTTT',\n",
       "       'TGTGCCAGCAGCCCGGACATTGAAGCTTTCTTT',\n",
       "       'TGTGCCAGCAGCCCTGACATTGAAGCTTTCTTT',\n",
       "       'TGTGCCAGCAGTCCGGACATTGAAGCTTTCTTT',\n",
       "       'TGTGCCAGCAGCCCCGATATTGAAGCTTTCTTT',\n",
       "       'TGTGCCAGCAGCCCAGATATTGAAGCTTTCTTT',\n",
       "       'TGTGCCAGCAGCCCCGACATCGAAGCTTTCTTT',\n",
       "       'TGTGCCAGCAGCCCAGACATCGAAGCTTTCTTT',\n",
       "       'TGTGCCAGCAGCCCAGACATTGAAGCTTTCTTT'], dtype=object)"
      ]
     },
     "execution_count": 8,
     "metadata": {},
     "output_type": "execute_result"
    }
   ],
   "source": [
    "df[df.cdr3b == \"CASSPDIEAFF\"].cdr3b_nt.unique()"
   ]
  },
  {
   "cell_type": "code",
   "execution_count": 9,
   "metadata": {},
   "outputs": [],
   "source": [
    "def rename_columns(df: DataFrame):\n",
    "    df = df.copy(deep=True)[[\"va\", \"cdr3a\", \"ja\", \"vb\", \"cdr3b\", \"jb\", \"Epitope\", \"MHCA\"]]\n",
    "    df.columns = [\"TRAV\", \"CDR3A\", \"TRAJ\", \"TRBV\", \"CDR3B\", \"TRBJ\", \"Epitope\", \"MHCA\"]\n",
    "    return df"
   ]
  },
  {
   "cell_type": "code",
   "execution_count": 10,
   "metadata": {},
   "outputs": [],
   "source": [
    "tcrs = rename_columns(df)\n",
    "tcrs_chains_dropped_independently = rename_columns(tcrs_chains_dropped_independently)"
   ]
  },
  {
   "cell_type": "code",
   "execution_count": 11,
   "metadata": {},
   "outputs": [],
   "source": [
    "def standardize_gene_symbols(df: DataFrame):\n",
    "    df = df.copy(deep=True)\n",
    "    df[\"TRAV\"] = df[\"TRAV\"].map(\n",
    "        lambda x: tt.tcr.standardise(x, enforce_functional=True)\n",
    "    )\n",
    "    df[\"TRAJ\"] = df[\"TRAJ\"].map(\n",
    "        lambda x: tt.tcr.standardise(x, enforce_functional=True)\n",
    "    )\n",
    "    df[\"TRBV\"] = df[\"TRBV\"].map(\n",
    "        lambda x: tt.tcr.standardise(x, enforce_functional=True)\n",
    "    )\n",
    "    df[\"TRBJ\"] = df[\"TRBJ\"].map(\n",
    "        lambda x: tt.tcr.standardise(x, enforce_functional=True)\n",
    "    )\n",
    "    return df"
   ]
  },
  {
   "cell_type": "code",
   "execution_count": 12,
   "metadata": {},
   "outputs": [
    {
     "name": "stderr",
     "output_type": "stream",
     "text": [
      "/home/yutanagano/Projects/tcr_embedder/.venv/lib64/python3.11/site-packages/tidytcells/_utils/warnings.py:12: UserWarning: Failed to standardize \"TRAJ58\" for species homosapiens: gene has no functional alleles. Attempted fix: \"TRAJ58\".\n",
      "  warn(\n",
      "/home/yutanagano/Projects/tcr_embedder/.venv/lib64/python3.11/site-packages/tidytcells/_utils/warnings.py:12: UserWarning: Failed to standardize \"TRBV6-7\" for species homosapiens: gene has no functional alleles. Attempted fix: \"TRBV6-7\".\n",
      "  warn(\n"
     ]
    }
   ],
   "source": [
    "tcrs = standardize_gene_symbols(tcrs)\n",
    "tcrs_chains_dropped_independently = standardize_gene_symbols(tcrs_chains_dropped_independently)"
   ]
  },
  {
   "cell_type": "code",
   "execution_count": 13,
   "metadata": {},
   "outputs": [
    {
     "data": {
      "text/html": [
       "<div>\n",
       "<style scoped>\n",
       "    .dataframe tbody tr th:only-of-type {\n",
       "        vertical-align: middle;\n",
       "    }\n",
       "\n",
       "    .dataframe tbody tr th {\n",
       "        vertical-align: top;\n",
       "    }\n",
       "\n",
       "    .dataframe thead th {\n",
       "        text-align: right;\n",
       "    }\n",
       "</style>\n",
       "<table border=\"1\" class=\"dataframe\">\n",
       "  <thead>\n",
       "    <tr style=\"text-align: right;\">\n",
       "      <th></th>\n",
       "      <th>TRAV</th>\n",
       "      <th>CDR3A</th>\n",
       "      <th>TRAJ</th>\n",
       "      <th>TRBV</th>\n",
       "      <th>CDR3B</th>\n",
       "      <th>TRBJ</th>\n",
       "      <th>Epitope</th>\n",
       "      <th>MHCA</th>\n",
       "    </tr>\n",
       "  </thead>\n",
       "  <tbody>\n",
       "    <tr>\n",
       "      <th>2211</th>\n",
       "      <td>TRAV12-1</td>\n",
       "      <td>CVVNGADKLIF</td>\n",
       "      <td>TRAJ34</td>\n",
       "      <td>TRBV7-9</td>\n",
       "      <td>CASSPDIEAFF</td>\n",
       "      <td>TRBJ1-1</td>\n",
       "      <td>YLQ</td>\n",
       "      <td>HLA-A*02</td>\n",
       "    </tr>\n",
       "    <tr>\n",
       "      <th>508</th>\n",
       "      <td>TRAV12-1</td>\n",
       "      <td>CVVNRADKLIF</td>\n",
       "      <td>TRAJ34</td>\n",
       "      <td>TRBV7-9</td>\n",
       "      <td>CASSPDIEAFF</td>\n",
       "      <td>TRBJ1-1</td>\n",
       "      <td>YLQ</td>\n",
       "      <td>HLA-A*02</td>\n",
       "    </tr>\n",
       "    <tr>\n",
       "      <th>146</th>\n",
       "      <td>TRAV12-1</td>\n",
       "      <td>CVVNSGDKLTF</td>\n",
       "      <td>TRAJ46</td>\n",
       "      <td>TRBV7-9</td>\n",
       "      <td>CASSPDIEAFF</td>\n",
       "      <td>TRBJ1-1</td>\n",
       "      <td>YLQ</td>\n",
       "      <td>HLA-A*02</td>\n",
       "    </tr>\n",
       "    <tr>\n",
       "      <th>3089</th>\n",
       "      <td>TRAV12-1</td>\n",
       "      <td>CVVNEDDKIIF</td>\n",
       "      <td>TRAJ30</td>\n",
       "      <td>TRBV7-9</td>\n",
       "      <td>CASSPDIEAFF</td>\n",
       "      <td>TRBJ1-1</td>\n",
       "      <td>AEV</td>\n",
       "      <td>HLA-B*44</td>\n",
       "    </tr>\n",
       "    <tr>\n",
       "      <th>3988</th>\n",
       "      <td>TRAV12-1</td>\n",
       "      <td>CVVNEDDKIIF</td>\n",
       "      <td>TRAJ30</td>\n",
       "      <td>TRBV7-9</td>\n",
       "      <td>CASSPDIEAFF</td>\n",
       "      <td>TRBJ1-1</td>\n",
       "      <td>YLQ</td>\n",
       "      <td>HLA-A*02</td>\n",
       "    </tr>\n",
       "    <tr>\n",
       "      <th>1545</th>\n",
       "      <td>TRAV12-1</td>\n",
       "      <td>CVVNEDDKIIF</td>\n",
       "      <td>TRAJ30</td>\n",
       "      <td>TRBV7-9</td>\n",
       "      <td>CASSPDIEAFF</td>\n",
       "      <td>TRBJ1-1</td>\n",
       "      <td>YLQ</td>\n",
       "      <td>HLA-A*02</td>\n",
       "    </tr>\n",
       "    <tr>\n",
       "      <th>2001</th>\n",
       "      <td>TRAV12-2</td>\n",
       "      <td>CAVNRDDKIIF</td>\n",
       "      <td>TRAJ30</td>\n",
       "      <td>TRBV7-9</td>\n",
       "      <td>CASSPDIEAFF</td>\n",
       "      <td>TRBJ1-1</td>\n",
       "      <td>YLQ</td>\n",
       "      <td>HLA-A*02</td>\n",
       "    </tr>\n",
       "    <tr>\n",
       "      <th>1809</th>\n",
       "      <td>TRAV12-2</td>\n",
       "      <td>CAVNGDDKIIF</td>\n",
       "      <td>TRAJ30</td>\n",
       "      <td>TRBV7-9</td>\n",
       "      <td>CASSPDIEAFF</td>\n",
       "      <td>TRBJ1-1</td>\n",
       "      <td>YLQ</td>\n",
       "      <td>HLA-A*02</td>\n",
       "    </tr>\n",
       "    <tr>\n",
       "      <th>536</th>\n",
       "      <td>TRAV12-2</td>\n",
       "      <td>CAVNGLGMGGGADGLTF</td>\n",
       "      <td>TRAJ45</td>\n",
       "      <td>TRBV7-9</td>\n",
       "      <td>CASSPDIEAFF</td>\n",
       "      <td>TRBJ1-1</td>\n",
       "      <td>YLQ</td>\n",
       "      <td>HLA-A*02</td>\n",
       "    </tr>\n",
       "    <tr>\n",
       "      <th>116</th>\n",
       "      <td>TRAV21</td>\n",
       "      <td>CAVSNSGYSTLTF</td>\n",
       "      <td>TRAJ11</td>\n",
       "      <td>TRBV7-9</td>\n",
       "      <td>CASSPDIEAFF</td>\n",
       "      <td>TRBJ1-1</td>\n",
       "      <td>YLQ</td>\n",
       "      <td>HLA-A*02</td>\n",
       "    </tr>\n",
       "  </tbody>\n",
       "</table>\n",
       "</div>"
      ],
      "text/plain": [
       "          TRAV              CDR3A    TRAJ     TRBV        CDR3B     TRBJ  \\\n",
       "2211  TRAV12-1        CVVNGADKLIF  TRAJ34  TRBV7-9  CASSPDIEAFF  TRBJ1-1   \n",
       "508   TRAV12-1        CVVNRADKLIF  TRAJ34  TRBV7-9  CASSPDIEAFF  TRBJ1-1   \n",
       "146   TRAV12-1        CVVNSGDKLTF  TRAJ46  TRBV7-9  CASSPDIEAFF  TRBJ1-1   \n",
       "3089  TRAV12-1        CVVNEDDKIIF  TRAJ30  TRBV7-9  CASSPDIEAFF  TRBJ1-1   \n",
       "3988  TRAV12-1        CVVNEDDKIIF  TRAJ30  TRBV7-9  CASSPDIEAFF  TRBJ1-1   \n",
       "1545  TRAV12-1        CVVNEDDKIIF  TRAJ30  TRBV7-9  CASSPDIEAFF  TRBJ1-1   \n",
       "2001  TRAV12-2        CAVNRDDKIIF  TRAJ30  TRBV7-9  CASSPDIEAFF  TRBJ1-1   \n",
       "1809  TRAV12-2        CAVNGDDKIIF  TRAJ30  TRBV7-9  CASSPDIEAFF  TRBJ1-1   \n",
       "536   TRAV12-2  CAVNGLGMGGGADGLTF  TRAJ45  TRBV7-9  CASSPDIEAFF  TRBJ1-1   \n",
       "116     TRAV21      CAVSNSGYSTLTF  TRAJ11  TRBV7-9  CASSPDIEAFF  TRBJ1-1   \n",
       "\n",
       "     Epitope      MHCA  \n",
       "2211     YLQ  HLA-A*02  \n",
       "508      YLQ  HLA-A*02  \n",
       "146      YLQ  HLA-A*02  \n",
       "3089     AEV  HLA-B*44  \n",
       "3988     YLQ  HLA-A*02  \n",
       "1545     YLQ  HLA-A*02  \n",
       "2001     YLQ  HLA-A*02  \n",
       "1809     YLQ  HLA-A*02  \n",
       "536      YLQ  HLA-A*02  \n",
       "116      YLQ  HLA-A*02  "
      ]
     },
     "execution_count": 13,
     "metadata": {},
     "output_type": "execute_result"
    }
   ],
   "source": [
    "tcrs_chains_dropped_independently[tcrs_chains_dropped_independently.CDR3B == \"CASSPDIEAFF\"]"
   ]
  },
  {
   "cell_type": "code",
   "execution_count": 14,
   "metadata": {},
   "outputs": [],
   "source": [
    "def aggregate_similar_clones(df: DataFrame):\n",
    "    df = df.copy(deep=True)\n",
    "    df[\"MHCB\"] = pd.NA\n",
    "    df[\"clone_count\"] = 1\n",
    "\n",
    "    df = df.groupby(\n",
    "        [\"TRAV\", \"CDR3A\", \"TRAJ\", \"TRBV\", \"CDR3B\", \"TRBJ\", \"Epitope\", \"MHCA\", \"MHCB\"],\n",
    "        as_index=False,\n",
    "        dropna=False\n",
    "    ).aggregate({\"clone_count\": \"sum\"})\n",
    "    return df"
   ]
  },
  {
   "cell_type": "code",
   "execution_count": 15,
   "metadata": {},
   "outputs": [],
   "source": [
    "tcrs = aggregate_similar_clones(tcrs)\n",
    "tcrs_chains_dropped_independently = aggregate_similar_clones(tcrs_chains_dropped_independently)"
   ]
  },
  {
   "cell_type": "code",
   "execution_count": 17,
   "metadata": {},
   "outputs": [],
   "source": [
    "def drop_trivial_epitope_groups(df: DataFrame):\n",
    "    filtered = df.groupby(\"Epitope\").filter(lambda x: len(x) > 1)\n",
    "    filtered = filtered.dropna(subset=[\"TRAV\", \"CDR3A\", \"TRBV\", \"CDR3B\", \"Epitope\"])\n",
    "    return filtered"
   ]
  },
  {
   "cell_type": "code",
   "execution_count": 18,
   "metadata": {},
   "outputs": [],
   "source": [
    "tcrs = drop_trivial_epitope_groups(tcrs)\n",
    "tcrs_chains_dropped_independently = drop_trivial_epitope_groups(tcrs_chains_dropped_independently)"
   ]
  },
  {
   "cell_type": "code",
   "execution_count": 19,
   "metadata": {},
   "outputs": [],
   "source": [
    "tcrs.to_csv(processed_dir / \"minervina\" / \"preprocessed.csv\", index=False)\n",
    "tcrs_chains_dropped_independently.to_csv(processed_dir/\"minervina\"/\"preprocessed_chains_dropped_independently.csv\", index=False)"
   ]
  },
  {
   "cell_type": "code",
   "execution_count": null,
   "metadata": {},
   "outputs": [],
   "source": []
  }
 ],
 "metadata": {
  "kernelspec": {
   "display_name": "Python 3.8.15 ('.venv': venv)",
   "language": "python",
   "name": "python3"
  },
  "language_info": {
   "codemirror_mode": {
    "name": "ipython",
    "version": 3
   },
   "file_extension": ".py",
   "mimetype": "text/x-python",
   "name": "python",
   "nbconvert_exporter": "python",
   "pygments_lexer": "ipython3",
   "version": "3.11.5"
  },
  "orig_nbformat": 4,
  "vscode": {
   "interpreter": {
    "hash": "bab11497baf8882c4e95e2d544b4f7a8d499018a7e93af1d4b5fac976897075f"
   }
  }
 },
 "nbformat": 4,
 "nbformat_minor": 2
}
