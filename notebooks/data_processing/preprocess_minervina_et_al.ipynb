{
 "cells": [
  {
   "cell_type": "code",
   "execution_count": 1,
   "metadata": {},
   "outputs": [],
   "source": [
    "import os\n",
    "from pathlib import Path\n",
    "import sys\n",
    "\n",
    "if \"__project_dir__\" not in globals():\n",
    "    __project_dir__ = Path.cwd().parents[1].resolve()\n",
    "\n",
    "sys.path.append(__project_dir__)\n",
    "os.chdir(__project_dir__)"
   ]
  },
  {
   "cell_type": "code",
   "execution_count": 2,
   "metadata": {},
   "outputs": [],
   "source": [
    "import pandas as pd\n",
    "import tidytcells as tt"
   ]
  },
  {
   "cell_type": "code",
   "execution_count": 3,
   "metadata": {},
   "outputs": [],
   "source": [
    "raw_dir = Path(\"/home/yutanagano/UCLOneDrive/MBPhD/projects/tcr_embedder/data/raw\")\n",
    "processed_dir = Path(\n",
    "    \"/home/yutanagano/UCLOneDrive/MBPhD/projects/tcr_embedder/data/preprocessed\"\n",
    ")"
   ]
  },
  {
   "cell_type": "code",
   "execution_count": 4,
   "metadata": {},
   "outputs": [],
   "source": [
    "tcrs = pd.read_excel(\n",
    "    raw_dir / \"minervina\" / \"Minervina_SARS_CoV_2_TCRs.xlsx\", sheet_name=\"clonotypes\"\n",
    ")"
   ]
  },
  {
   "cell_type": "code",
   "execution_count": 5,
   "metadata": {},
   "outputs": [],
   "source": [
    "tcrs = tcrs.drop_duplicates([\"cdr3b_nt\", \"vb\", \"jb\", \"cdr3a_nt\", \"va\", \"ja\", \"epitope\"])"
   ]
  },
  {
   "cell_type": "code",
   "execution_count": 6,
   "metadata": {},
   "outputs": [],
   "source": [
    "def extract_mhca_and_epitope(encoding):\n",
    "    tokens = encoding.split(\"_\")\n",
    "    \n",
    "    mhca = tokens[0]\n",
    "    epitope = \"_\".join(tokens[1:])\n",
    "\n",
    "    return tt.mhc.standardize(mhca), epitope\n",
    "\n",
    "tcrs[[\"MHCA\", \"Epitope\"]] = tcrs.apply(lambda row: extract_mhca_and_epitope(row[\"epitope\"]), result_type=\"expand\", axis=1)"
   ]
  },
  {
   "cell_type": "code",
   "execution_count": 7,
   "metadata": {},
   "outputs": [],
   "source": [
    "tcrs = tcrs[[\"va\", \"cdr3a\", \"ja\", \"vb\", \"cdr3b\", \"jb\", \"Epitope\", \"MHCA\"]]\n",
    "tcrs.columns = [\"TRAV\", \"CDR3A\", \"TRAJ\", \"TRBV\", \"CDR3B\", \"TRBJ\", \"Epitope\", \"MHCA\"]"
   ]
  },
  {
   "cell_type": "code",
   "execution_count": 8,
   "metadata": {},
   "outputs": [
    {
     "name": "stderr",
     "output_type": "stream",
     "text": [
      "/home/yutanagano/Projects/tcr_embedder/.venv/lib/python3.11/site-packages/tidytcells/_utils/warnings.py:12: UserWarning: Failed to standardize \"TRAJ58\" for species homosapiens: gene has no functional alleles. Attempted fix: \"TRAJ58\".\n",
      "  warn(\n",
      "/home/yutanagano/Projects/tcr_embedder/.venv/lib/python3.11/site-packages/tidytcells/_utils/warnings.py:12: UserWarning: Failed to standardize \"TRBV6-7\" for species homosapiens: gene has no functional alleles. Attempted fix: \"TRBV6-7\".\n",
      "  warn(\n"
     ]
    }
   ],
   "source": [
    "tcrs[\"TRAV\"] = tcrs[\"TRAV\"].map(\n",
    "    lambda x: tt.tcr.standardise(x, enforce_functional=True)\n",
    ")\n",
    "tcrs[\"TRAJ\"] = tcrs[\"TRAJ\"].map(\n",
    "    lambda x: tt.tcr.standardise(x, enforce_functional=True)\n",
    ")\n",
    "tcrs[\"TRBV\"] = tcrs[\"TRBV\"].map(\n",
    "    lambda x: tt.tcr.standardise(x, enforce_functional=True)\n",
    ")\n",
    "tcrs[\"TRBJ\"] = tcrs[\"TRBJ\"].map(\n",
    "    lambda x: tt.tcr.standardise(x, enforce_functional=True)\n",
    ")"
   ]
  },
  {
   "cell_type": "code",
   "execution_count": 9,
   "metadata": {},
   "outputs": [],
   "source": [
    "tcrs[\"MHCB\"] = pd.NA\n",
    "tcrs[\"clone_count\"] = 1\n",
    "\n",
    "tcrs = tcrs.groupby(\n",
    "    [\"TRAV\", \"CDR3A\", \"TRAJ\", \"TRBV\", \"CDR3B\", \"TRBJ\", \"Epitope\", \"MHCA\", \"MHCB\"],\n",
    "    as_index=False,\n",
    "    dropna=False\n",
    ").aggregate({\"clone_count\": \"sum\"})"
   ]
  },
  {
   "cell_type": "code",
   "execution_count": 10,
   "metadata": {},
   "outputs": [
    {
     "data": {
      "text/plain": [
       "Epitope\n",
       "AEA         1\n",
       "AEV        57\n",
       "ALS       196\n",
       "DTD        85\n",
       "FTS       445\n",
       "LLY        52\n",
       "LTD       394\n",
       "NQK       142\n",
       "NTN         9\n",
       "NYN       166\n",
       "PTD       153\n",
       "QEL        31\n",
       "QYI       102\n",
       "RVA        68\n",
       "TTD      1887\n",
       "VEN_H       4\n",
       "VYF       269\n",
       "VYI        91\n",
       "YLQ       285\n",
       "dtype: int64"
      ]
     },
     "execution_count": 10,
     "metadata": {},
     "output_type": "execute_result"
    }
   ],
   "source": [
    "tcrs.groupby(\"Epitope\").size()"
   ]
  },
  {
   "cell_type": "code",
   "execution_count": 11,
   "metadata": {},
   "outputs": [],
   "source": [
    "filtered = tcrs.groupby(\"Epitope\").filter(lambda x: len(x) > 1)"
   ]
  },
  {
   "cell_type": "code",
   "execution_count": 12,
   "metadata": {},
   "outputs": [],
   "source": [
    "filtered.to_csv(processed_dir / \"minervina\" / \"preprocessed.csv\", index=False)"
   ]
  },
  {
   "cell_type": "code",
   "execution_count": null,
   "metadata": {},
   "outputs": [],
   "source": []
  }
 ],
 "metadata": {
  "kernelspec": {
   "display_name": "Python 3.8.15 ('.venv': venv)",
   "language": "python",
   "name": "python3"
  },
  "language_info": {
   "codemirror_mode": {
    "name": "ipython",
    "version": 3
   },
   "file_extension": ".py",
   "mimetype": "text/x-python",
   "name": "python",
   "nbconvert_exporter": "python",
   "pygments_lexer": "ipython3",
   "version": "3.11.2"
  },
  "orig_nbformat": 4,
  "vscode": {
   "interpreter": {
    "hash": "bab11497baf8882c4e95e2d544b4f7a8d499018a7e93af1d4b5fac976897075f"
   }
  }
 },
 "nbformat": 4,
 "nbformat_minor": 2
}
