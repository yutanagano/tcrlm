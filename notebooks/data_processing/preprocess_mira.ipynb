{
 "cells": [
  {
   "cell_type": "code",
   "execution_count": 34,
   "metadata": {},
   "outputs": [],
   "source": [
    "from pathlib import Path\n",
    "import pandas as pd\n",
    "import tidytcells as tt\n",
    "from tqdm import tqdm"
   ]
  },
  {
   "cell_type": "code",
   "execution_count": 2,
   "metadata": {},
   "outputs": [],
   "source": [
    "raw_dir = Path('/home/yutanagano/UCLOneDrive/MBPhD/projects/tcr_embedder/data/raw/mira')\n",
    "preprocessed_dir = Path('/home/yutanagano/UCLOneDrive/MBPhD/projects/tcr_embedder/data/preprocessed/mira')"
   ]
  },
  {
   "attachments": {},
   "cell_type": "markdown",
   "metadata": {},
   "source": [
    "## Load data"
   ]
  },
  {
   "cell_type": "code",
   "execution_count": 3,
   "metadata": {},
   "outputs": [],
   "source": [
    "ci = pd.read_csv(raw_dir/\"peptide-detail-ci.csv\")\n",
    "cii = pd.read_csv(raw_dir/\"peptide-detail-cii.csv\")"
   ]
  },
  {
   "attachments": {},
   "cell_type": "markdown",
   "metadata": {},
   "source": [
    "### Data summary"
   ]
  },
  {
   "cell_type": "code",
   "execution_count": 27,
   "metadata": {},
   "outputs": [
    {
     "name": "stdout",
     "output_type": "stream",
     "text": [
      "\n",
      "    Data sizes:\n",
      "    ci: 154320\n",
      "    cii:6809\n",
      "\n",
      "    Group sizes:\n",
      "    ci: 269\n",
      "    cii:56\n",
      "    \n"
     ]
    }
   ],
   "source": [
    "ci_size = len(ci)\n",
    "cii_size = len(cii)\n",
    "\n",
    "ci_groups = ci[\"Amino Acids\"].nunique()\n",
    "cii_groups = cii[\"Amino Acids\"].nunique()\n",
    "\n",
    "print(\n",
    "    f\"\"\"\n",
    "    Data sizes:\n",
    "    ci: {ci_size}\n",
    "    cii:{cii_size}\n",
    "\n",
    "    Group sizes:\n",
    "    ci: {ci_groups}\n",
    "    cii:{cii_groups}\n",
    "    \"\"\"\n",
    ")"
   ]
  },
  {
   "attachments": {},
   "cell_type": "markdown",
   "metadata": {},
   "source": [
    "## Reformat data"
   ]
  },
  {
   "cell_type": "code",
   "execution_count": 28,
   "metadata": {},
   "outputs": [
    {
     "data": {
      "text/html": [
       "<div>\n",
       "<style scoped>\n",
       "    .dataframe tbody tr th:only-of-type {\n",
       "        vertical-align: middle;\n",
       "    }\n",
       "\n",
       "    .dataframe tbody tr th {\n",
       "        vertical-align: top;\n",
       "    }\n",
       "\n",
       "    .dataframe thead th {\n",
       "        text-align: right;\n",
       "    }\n",
       "</style>\n",
       "<table border=\"1\" class=\"dataframe\">\n",
       "  <thead>\n",
       "    <tr style=\"text-align: right;\">\n",
       "      <th></th>\n",
       "      <th>TCR BioIdentity</th>\n",
       "      <th>TCR Nucleotide Sequence</th>\n",
       "      <th>Experiment</th>\n",
       "      <th>ORF Coverage</th>\n",
       "      <th>Amino Acids</th>\n",
       "      <th>Start Index in Genome</th>\n",
       "      <th>End Index in Genome</th>\n",
       "    </tr>\n",
       "  </thead>\n",
       "  <tbody>\n",
       "    <tr>\n",
       "      <th>0</th>\n",
       "      <td>CASSAQGTGDRGYTF+TCRBV27-01+TCRBJ01-02</td>\n",
       "      <td>GAGTCGCCCAGCCCCAACCAGACCTCTCTGTACTTCTGTGCCAGCA...</td>\n",
       "      <td>eAV93</td>\n",
       "      <td>ORF1ab,surface glycoprotein</td>\n",
       "      <td>ADAGFIKQY,AELEGIQY,LADAGFIKQY,TLADAGFIK</td>\n",
       "      <td>533</td>\n",
       "      <td>24073</td>\n",
       "    </tr>\n",
       "    <tr>\n",
       "      <th>1</th>\n",
       "      <td>CASSLVATGNTGELFF+TCRBV07-09+TCRBJ02-02</td>\n",
       "      <td>CGCACAGAGCAGGGGGACTCGGCCATGTATCTCTGTGCCAGCAGCT...</td>\n",
       "      <td>eOX56</td>\n",
       "      <td>ORF1ab,surface glycoprotein</td>\n",
       "      <td>ADAGFIKQY,AELEGIQY,LADAGFIKQY,TLADAGFIK</td>\n",
       "      <td>533</td>\n",
       "      <td>24073</td>\n",
       "    </tr>\n",
       "    <tr>\n",
       "      <th>2</th>\n",
       "      <td>CASSKGTVSGLSG+TCRBV21-01+TCRBJ02-07</td>\n",
       "      <td>GAGATCCAGTCCACGGAGTCAGGGGACACAGCACTGTATTTCTGTG...</td>\n",
       "      <td>eAV93</td>\n",
       "      <td>ORF1ab,surface glycoprotein</td>\n",
       "      <td>ADAGFIKQY,AELEGIQY,LADAGFIKQY,TLADAGFIK</td>\n",
       "      <td>533</td>\n",
       "      <td>24073</td>\n",
       "    </tr>\n",
       "    <tr>\n",
       "      <th>3</th>\n",
       "      <td>CALKVGADTQYF+TCRBV30-01+TCRBJ02-03</td>\n",
       "      <td>CTGAGTTCTAAGAAGCTCCTTCTCAGTGACTCTGGCTTCTATCTCT...</td>\n",
       "      <td>eQD124</td>\n",
       "      <td>ORF1ab,surface glycoprotein</td>\n",
       "      <td>ADAGFIKQY,AELEGIQY,LADAGFIKQY,TLADAGFIK</td>\n",
       "      <td>533</td>\n",
       "      <td>24073</td>\n",
       "    </tr>\n",
       "    <tr>\n",
       "      <th>4</th>\n",
       "      <td>CASSLWASGRGGTGELFF+TCRBV27-01+TCRBJ02-02</td>\n",
       "      <td>AGCCCCAACCAGACCTCTCTGTACTTCTGTGCCAGCAGTTTATGGG...</td>\n",
       "      <td>eAV93</td>\n",
       "      <td>ORF1ab,surface glycoprotein</td>\n",
       "      <td>ADAGFIKQY,AELEGIQY,LADAGFIKQY,TLADAGFIK</td>\n",
       "      <td>533</td>\n",
       "      <td>24073</td>\n",
       "    </tr>\n",
       "  </tbody>\n",
       "</table>\n",
       "</div>"
      ],
      "text/plain": [
       "                            TCR BioIdentity  \\\n",
       "0     CASSAQGTGDRGYTF+TCRBV27-01+TCRBJ01-02   \n",
       "1    CASSLVATGNTGELFF+TCRBV07-09+TCRBJ02-02   \n",
       "2       CASSKGTVSGLSG+TCRBV21-01+TCRBJ02-07   \n",
       "3        CALKVGADTQYF+TCRBV30-01+TCRBJ02-03   \n",
       "4  CASSLWASGRGGTGELFF+TCRBV27-01+TCRBJ02-02   \n",
       "\n",
       "                             TCR Nucleotide Sequence Experiment  \\\n",
       "0  GAGTCGCCCAGCCCCAACCAGACCTCTCTGTACTTCTGTGCCAGCA...      eAV93   \n",
       "1  CGCACAGAGCAGGGGGACTCGGCCATGTATCTCTGTGCCAGCAGCT...      eOX56   \n",
       "2  GAGATCCAGTCCACGGAGTCAGGGGACACAGCACTGTATTTCTGTG...      eAV93   \n",
       "3  CTGAGTTCTAAGAAGCTCCTTCTCAGTGACTCTGGCTTCTATCTCT...     eQD124   \n",
       "4  AGCCCCAACCAGACCTCTCTGTACTTCTGTGCCAGCAGTTTATGGG...      eAV93   \n",
       "\n",
       "                  ORF Coverage                              Amino Acids  \\\n",
       "0  ORF1ab,surface glycoprotein  ADAGFIKQY,AELEGIQY,LADAGFIKQY,TLADAGFIK   \n",
       "1  ORF1ab,surface glycoprotein  ADAGFIKQY,AELEGIQY,LADAGFIKQY,TLADAGFIK   \n",
       "2  ORF1ab,surface glycoprotein  ADAGFIKQY,AELEGIQY,LADAGFIKQY,TLADAGFIK   \n",
       "3  ORF1ab,surface glycoprotein  ADAGFIKQY,AELEGIQY,LADAGFIKQY,TLADAGFIK   \n",
       "4  ORF1ab,surface glycoprotein  ADAGFIKQY,AELEGIQY,LADAGFIKQY,TLADAGFIK   \n",
       "\n",
       "   Start Index in Genome  End Index in Genome  \n",
       "0                    533                24073  \n",
       "1                    533                24073  \n",
       "2                    533                24073  \n",
       "3                    533                24073  \n",
       "4                    533                24073  "
      ]
     },
     "execution_count": 28,
     "metadata": {},
     "output_type": "execute_result"
    }
   ],
   "source": [
    "ci.head()"
   ]
  },
  {
   "cell_type": "code",
   "execution_count": 41,
   "metadata": {},
   "outputs": [],
   "source": [
    "ci[[\"CDR3B\", \"TRBV\", \"TRBJ\"]] = ci.apply(lambda x: x[\"TCR BioIdentity\"].split(\"+\"), result_type=\"expand\", axis=1)"
   ]
  },
  {
   "cell_type": "code",
   "execution_count": 42,
   "metadata": {},
   "outputs": [
    {
     "name": "stderr",
     "output_type": "stream",
     "text": [
      "/home/yutanagano/Projects/tcr_embedder/.venv/lib64/python3.8/site-packages/tidytcells/_utils/warnings.py:10: UserWarning: Failed to standardise: \"TCRBV27-01\" for species homosapiens. Attempted fix \"TRBV27-1\" did not meet the standardised format requirements. Ignoring this gene name...\n",
      "  warn(\n",
      "/home/yutanagano/Projects/tcr_embedder/.venv/lib64/python3.8/site-packages/tidytcells/_utils/warnings.py:10: UserWarning: Failed to standardise: \"TCRBV30-01\" for species homosapiens. Attempted fix \"TRBV30-1\" did not meet the standardised format requirements. Ignoring this gene name...\n",
      "  warn(\n",
      "/home/yutanagano/Projects/tcr_embedder/.venv/lib64/python3.8/site-packages/tidytcells/_utils/warnings.py:10: UserWarning: Failed to standardise: \"TCRBV12-X\" for species homosapiens. Attempted fix \"TRBV12-X\" did not meet the standardised format requirements. Ignoring this gene name...\n",
      "  warn(\n",
      "/home/yutanagano/Projects/tcr_embedder/.venv/lib64/python3.8/site-packages/tidytcells/_utils/warnings.py:10: UserWarning: Failed to standardise: \"TCRBV06-X\" for species homosapiens. Attempted fix \"TRBV6-X\" did not meet the standardised format requirements. Ignoring this gene name...\n",
      "  warn(\n",
      "/home/yutanagano/Projects/tcr_embedder/.venv/lib64/python3.8/site-packages/tidytcells/_utils/warnings.py:10: UserWarning: Failed to standardise: \"TCRBV13-01\" for species homosapiens. Attempted fix \"TRBV13-1\" did not meet the standardised format requirements. Ignoring this gene name...\n",
      "  warn(\n",
      "/home/yutanagano/Projects/tcr_embedder/.venv/lib64/python3.8/site-packages/tidytcells/_utils/warnings.py:10: UserWarning: Failed to standardise: \"TCRBV12-03/12-04\" for species homosapiens. Attempted fix \"TRBV12-3/12-4\" did not meet the standardised format requirements. Ignoring this gene name...\n",
      "  warn(\n",
      "/home/yutanagano/Projects/tcr_embedder/.venv/lib64/python3.8/site-packages/tidytcells/_utils/warnings.py:10: UserWarning: Failed to standardise: \"TCRBV09-01\" for species homosapiens. Attempted fix \"TRBV9-1\" did not meet the standardised format requirements. Ignoring this gene name...\n",
      "  warn(\n",
      "/home/yutanagano/Projects/tcr_embedder/.venv/lib64/python3.8/site-packages/tidytcells/_utils/warnings.py:10: UserWarning: Failed to standardise: \"TCRBV28-01\" for species homosapiens. Attempted fix \"TRBV28-1\" did not meet the standardised format requirements. Ignoring this gene name...\n",
      "  warn(\n",
      "/home/yutanagano/Projects/tcr_embedder/.venv/lib64/python3.8/site-packages/tidytcells/_utils/warnings.py:10: UserWarning: Failed to standardise: \"X\" for species homosapiens. Attempted fix \"TRX\" did not meet the standardised format requirements. Ignoring this gene name...\n",
      "  warn(\n",
      "/home/yutanagano/Projects/tcr_embedder/.venv/lib64/python3.8/site-packages/tidytcells/_utils/warnings.py:10: UserWarning: Failed to standardise: \"TCRBV06-02/06-03\" for species homosapiens. Attempted fix \"TRBV6-2/6-3\" did not meet the standardised format requirements. Ignoring this gene name...\n",
      "  warn(\n",
      "/home/yutanagano/Projects/tcr_embedder/.venv/lib64/python3.8/site-packages/tidytcells/_utils/warnings.py:10: UserWarning: Failed to standardise: \"TCRBV19-01\" for species homosapiens. Attempted fix \"TRBV19-1\" did not meet the standardised format requirements. Ignoring this gene name...\n",
      "  warn(\n",
      "/home/yutanagano/Projects/tcr_embedder/.venv/lib64/python3.8/site-packages/tidytcells/_utils/warnings.py:10: UserWarning: Failed to standardise: \"TCRBV15-01\" for species homosapiens. Attempted fix \"TRBV15-1\" did not meet the standardised format requirements. Ignoring this gene name...\n",
      "  warn(\n",
      "/home/yutanagano/Projects/tcr_embedder/.venv/lib64/python3.8/site-packages/tidytcells/_utils/warnings.py:10: UserWarning: Failed to standardise: \"TCRBV20-X\" for species homosapiens. Attempted fix \"TRBV20-X\" did not meet the standardised format requirements. Ignoring this gene name...\n",
      "  warn(\n",
      "/home/yutanagano/Projects/tcr_embedder/.venv/lib64/python3.8/site-packages/tidytcells/_utils/warnings.py:10: UserWarning: Failed to standardise: \"TCRBV02-01\" for species homosapiens. Attempted fix \"TRBV2-1\" did not meet the standardised format requirements. Ignoring this gene name...\n",
      "  warn(\n",
      "/home/yutanagano/Projects/tcr_embedder/.venv/lib64/python3.8/site-packages/tidytcells/_utils/warnings.py:10: UserWarning: Failed to standardise: \"TCRBV14-01\" for species homosapiens. Attempted fix \"TRBV14-1\" did not meet the standardised format requirements. Ignoring this gene name...\n",
      "  warn(\n",
      "/home/yutanagano/Projects/tcr_embedder/.venv/lib64/python3.8/site-packages/tidytcells/_utils/warnings.py:10: UserWarning: Failed to standardise: \"TCRBV18-01\" for species homosapiens. Attempted fix \"TRBV18-1\" did not meet the standardised format requirements. Ignoring this gene name...\n",
      "  warn(\n",
      "/home/yutanagano/Projects/tcr_embedder/.venv/lib64/python3.8/site-packages/tidytcells/_utils/warnings.py:10: UserWarning: Failed to standardise: \"TCRBV03-01/03-02\" for species homosapiens. Attempted fix \"TRBV3-1/3-2\" did not meet the standardised format requirements. Ignoring this gene name...\n",
      "  warn(\n",
      "/home/yutanagano/Projects/tcr_embedder/.venv/lib64/python3.8/site-packages/tidytcells/_utils/warnings.py:10: UserWarning: Failed to standardise: \"TCRBV07-X\" for species homosapiens. Attempted fix \"TRBV7-X\" did not meet the standardised format requirements. Ignoring this gene name...\n",
      "  warn(\n",
      "/home/yutanagano/Projects/tcr_embedder/.venv/lib64/python3.8/site-packages/tidytcells/_utils/warnings.py:10: UserWarning: Failed to standardise: \"TCRBV16-01\" for species homosapiens. Attempted fix \"TRBV16-1\" did not meet the standardised format requirements. Ignoring this gene name...\n",
      "  warn(\n",
      "/home/yutanagano/Projects/tcr_embedder/.venv/lib64/python3.8/site-packages/tidytcells/_utils/warnings.py:10: UserWarning: Failed to standardise: \"TCRBV25-X\" for species homosapiens. Attempted fix \"TRBV25-X\" did not meet the standardised format requirements. Ignoring this gene name...\n",
      "  warn(\n",
      "/home/yutanagano/Projects/tcr_embedder/.venv/lib64/python3.8/site-packages/tidytcells/_utils/warnings.py:10: UserWarning: Failed to standardise: \"TCRBV11-X\" for species homosapiens. Attempted fix \"TRBV11-X\" did not meet the standardised format requirements. Ignoring this gene name...\n",
      "  warn(\n",
      "/home/yutanagano/Projects/tcr_embedder/.venv/lib64/python3.8/site-packages/tidytcells/_utils/warnings.py:10: UserWarning: Failed to standardise: \"TCRBV05-X\" for species homosapiens. Attempted fix \"TRBV5-X\" did not meet the standardised format requirements. Ignoring this gene name...\n",
      "  warn(\n",
      "/home/yutanagano/Projects/tcr_embedder/.venv/lib64/python3.8/site-packages/tidytcells/_utils/warnings.py:10: UserWarning: Failed to standardise: \"TCRBV04-X\" for species homosapiens. Attempted fix \"TRBV4-X\" did not meet the standardised format requirements. Ignoring this gene name...\n",
      "  warn(\n",
      "/home/yutanagano/Projects/tcr_embedder/.venv/lib64/python3.8/site-packages/tidytcells/_utils/warnings.py:10: UserWarning: Failed to standardise: \"TCRBV01-01\" for species homosapiens. Attempted fix \"TRBV1-1\" did not meet the standardised format requirements. Ignoring this gene name...\n",
      "  warn(\n",
      "/home/yutanagano/Projects/tcr_embedder/.venv/lib64/python3.8/site-packages/tidytcells/_utils/warnings.py:10: UserWarning: Failed to standardise: \"TCRBV17-01\" for species homosapiens. Attempted fix \"TRBV17-1\" did not meet the standardised format requirements. Ignoring this gene name...\n",
      "  warn(\n"
     ]
    }
   ],
   "source": [
    "ci[\"TRBV\"] = ci[\"TRBV\"].map(lambda x: tt.tcr.standardise(x, enforce_functional=False))"
   ]
  },
  {
   "cell_type": "code",
   "execution_count": 44,
   "metadata": {},
   "outputs": [
    {
     "data": {
      "text/plain": [
       "70101"
      ]
     },
     "execution_count": 44,
     "metadata": {},
     "output_type": "execute_result"
    }
   ],
   "source": [
    "ci[\"TRBV\"].notna().sum()"
   ]
  },
  {
   "cell_type": "code",
   "execution_count": null,
   "metadata": {},
   "outputs": [],
   "source": []
  }
 ],
 "metadata": {
  "kernelspec": {
   "display_name": ".venv",
   "language": "python",
   "name": "python3"
  },
  "language_info": {
   "codemirror_mode": {
    "name": "ipython",
    "version": 3
   },
   "file_extension": ".py",
   "mimetype": "text/x-python",
   "name": "python",
   "nbconvert_exporter": "python",
   "pygments_lexer": "ipython3",
   "version": "3.8.16"
  },
  "orig_nbformat": 4
 },
 "nbformat": 4,
 "nbformat_minor": 2
}
