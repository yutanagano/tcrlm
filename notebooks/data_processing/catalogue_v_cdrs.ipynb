{
 "cells": [
  {
   "attachments": {},
   "cell_type": "markdown",
   "metadata": {},
   "source": [
    "# Catalogue CDRs 1 and 2 for all functional V genes"
   ]
  },
  {
   "cell_type": "code",
   "execution_count": 1,
   "metadata": {},
   "outputs": [],
   "source": [
    "import sys\n",
    "import os\n",
    "from pathlib import Path\n",
    "\n",
    "if not \"PROJECT_PATH\" in globals():\n",
    "    PROJECT_PATH = Path.cwd().parents[1].resolve()\n",
    "\n",
    "sys.path.append(PROJECT_PATH)\n",
    "os.chdir(PROJECT_PATH)"
   ]
  },
  {
   "cell_type": "code",
   "execution_count": 2,
   "metadata": {},
   "outputs": [],
   "source": [
    "import json"
   ]
  },
  {
   "cell_type": "code",
   "execution_count": 3,
   "metadata": {},
   "outputs": [],
   "source": [
    "v_cdrs = dict()\n",
    "\n",
    "with open(Path(\"data\") / \"v_cdrs.fasta\", \"r\") as f:\n",
    "    current_v = None\n",
    "    current_cdr = None\n",
    "\n",
    "    for line in f.readlines():\n",
    "        if line.startswith(\">\"):\n",
    "            fields = line.split(\"|\")\n",
    "            current_v = fields[1]\n",
    "            current_cdr = fields[4]\n",
    "            continue\n",
    "\n",
    "        if not current_v in v_cdrs:\n",
    "            v_cdrs[current_v] = dict()\n",
    "\n",
    "        v_cdrs[current_v][current_cdr] = line.strip()"
   ]
  },
  {
   "cell_type": "code",
   "execution_count": 4,
   "metadata": {},
   "outputs": [],
   "source": [
    "with open(Path(\"src\") / \"resources\" / \"v_cdrs.json\", \"w\") as f:\n",
    "    json.dump(v_cdrs, f, indent=4)"
   ]
  },
  {
   "cell_type": "code",
   "execution_count": null,
   "metadata": {},
   "outputs": [],
   "source": []
  }
 ],
 "metadata": {
  "kernelspec": {
   "display_name": ".venv",
   "language": "python",
   "name": "python3"
  },
  "language_info": {
   "codemirror_mode": {
    "name": "ipython",
    "version": 3
   },
   "file_extension": ".py",
   "mimetype": "text/x-python",
   "name": "python",
   "nbconvert_exporter": "python",
   "pygments_lexer": "ipython3",
   "version": "3.10.9"
  },
  "orig_nbformat": 4,
  "vscode": {
   "interpreter": {
    "hash": "bab11497baf8882c4e95e2d544b4f7a8d499018a7e93af1d4b5fac976897075f"
   }
  }
 },
 "nbformat": 4,
 "nbformat_minor": 2
}
