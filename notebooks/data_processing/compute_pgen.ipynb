{
 "cells": [
  {
   "cell_type": "code",
   "execution_count": 1,
   "metadata": {},
   "outputs": [],
   "source": [
    "import os\n",
    "from pathlib import Path\n",
    "import sys\n",
    "\n",
    "if \"__project_dir__\" not in globals():\n",
    "    __project_dir__ = Path.cwd().parents[1].resolve()\n",
    "\n",
    "sys.path.append(__project_dir__)\n",
    "os.chdir(__project_dir__)"
   ]
  },
  {
   "attachments": {},
   "cell_type": "markdown",
   "metadata": {},
   "source": [
    "### Load data"
   ]
  },
  {
   "cell_type": "code",
   "execution_count": 11,
   "metadata": {},
   "outputs": [],
   "source": [
    "import pandas as pd"
   ]
  },
  {
   "cell_type": "code",
   "execution_count": 12,
   "metadata": {},
   "outputs": [],
   "source": [
    "df = pd.read_csv(\"/home/yutanagano/UCLOneDrive/MBPhD/projects/tcr_embedder/data/preprocessed/tanno/test.csv\")"
   ]
  },
  {
   "cell_type": "code",
   "execution_count": 13,
   "metadata": {},
   "outputs": [
    {
     "data": {
      "text/html": [
       "<div>\n",
       "<style scoped>\n",
       "    .dataframe tbody tr th:only-of-type {\n",
       "        vertical-align: middle;\n",
       "    }\n",
       "\n",
       "    .dataframe tbody tr th {\n",
       "        vertical-align: top;\n",
       "    }\n",
       "\n",
       "    .dataframe thead th {\n",
       "        text-align: right;\n",
       "    }\n",
       "</style>\n",
       "<table border=\"1\" class=\"dataframe\">\n",
       "  <thead>\n",
       "    <tr style=\"text-align: right;\">\n",
       "      <th></th>\n",
       "      <th>TRAV</th>\n",
       "      <th>CDR3A</th>\n",
       "      <th>TRAJ</th>\n",
       "      <th>TRBV</th>\n",
       "      <th>CDR3B</th>\n",
       "      <th>TRBJ</th>\n",
       "      <th>Epitope</th>\n",
       "      <th>MHCA</th>\n",
       "      <th>MHCB</th>\n",
       "      <th>duplicate_count</th>\n",
       "    </tr>\n",
       "  </thead>\n",
       "  <tbody>\n",
       "    <tr>\n",
       "      <th>0</th>\n",
       "      <td>TRAV13-1</td>\n",
       "      <td>CAASILDNDMRF</td>\n",
       "      <td>TRAJ43</td>\n",
       "      <td>TRBV15</td>\n",
       "      <td>CATSDWRPQGEETQYF</td>\n",
       "      <td>TRBJ2-5</td>\n",
       "      <td>NaN</td>\n",
       "      <td>NaN</td>\n",
       "      <td>NaN</td>\n",
       "      <td>NaN</td>\n",
       "    </tr>\n",
       "    <tr>\n",
       "      <th>1</th>\n",
       "      <td>TRAV12-3</td>\n",
       "      <td>CAMITNFGNEKLTF</td>\n",
       "      <td>TRAJ48</td>\n",
       "      <td>TRBV29-1</td>\n",
       "      <td>CSAAGTGSSYEQYF</td>\n",
       "      <td>TRBJ2-7</td>\n",
       "      <td>NaN</td>\n",
       "      <td>NaN</td>\n",
       "      <td>NaN</td>\n",
       "      <td>NaN</td>\n",
       "    </tr>\n",
       "    <tr>\n",
       "      <th>2</th>\n",
       "      <td>TRAV39</td>\n",
       "      <td>CAVEEGGADGLTF</td>\n",
       "      <td>TRAJ45</td>\n",
       "      <td>TRBV19</td>\n",
       "      <td>CASSLSPNYGYTF</td>\n",
       "      <td>TRBJ1-2</td>\n",
       "      <td>NaN</td>\n",
       "      <td>NaN</td>\n",
       "      <td>NaN</td>\n",
       "      <td>NaN</td>\n",
       "    </tr>\n",
       "    <tr>\n",
       "      <th>3</th>\n",
       "      <td>TRAV8-6</td>\n",
       "      <td>CAVSDEDYGGATNKLIF</td>\n",
       "      <td>TRAJ32</td>\n",
       "      <td>TRBV6-1</td>\n",
       "      <td>CASSGQGGTEAFF</td>\n",
       "      <td>TRBJ1-1</td>\n",
       "      <td>NaN</td>\n",
       "      <td>NaN</td>\n",
       "      <td>NaN</td>\n",
       "      <td>NaN</td>\n",
       "    </tr>\n",
       "    <tr>\n",
       "      <th>4</th>\n",
       "      <td>TRAV9-2</td>\n",
       "      <td>CALSGGSQGNLIF</td>\n",
       "      <td>TRAJ42</td>\n",
       "      <td>TRBV4-3</td>\n",
       "      <td>CASSQEARGENIQYF</td>\n",
       "      <td>TRBJ2-4</td>\n",
       "      <td>NaN</td>\n",
       "      <td>NaN</td>\n",
       "      <td>NaN</td>\n",
       "      <td>NaN</td>\n",
       "    </tr>\n",
       "    <tr>\n",
       "      <th>...</th>\n",
       "      <td>...</td>\n",
       "      <td>...</td>\n",
       "      <td>...</td>\n",
       "      <td>...</td>\n",
       "      <td>...</td>\n",
       "      <td>...</td>\n",
       "      <td>...</td>\n",
       "      <td>...</td>\n",
       "      <td>...</td>\n",
       "      <td>...</td>\n",
       "    </tr>\n",
       "    <tr>\n",
       "      <th>81844</th>\n",
       "      <td>TRAV29/DV5</td>\n",
       "      <td>CAAWTGTASKLTF</td>\n",
       "      <td>TRAJ44</td>\n",
       "      <td>TRBV20-1</td>\n",
       "      <td>CSARDLAVSYNEQFF</td>\n",
       "      <td>TRBJ2-1</td>\n",
       "      <td>NaN</td>\n",
       "      <td>NaN</td>\n",
       "      <td>NaN</td>\n",
       "      <td>NaN</td>\n",
       "    </tr>\n",
       "    <tr>\n",
       "      <th>81845</th>\n",
       "      <td>TRAV13-1</td>\n",
       "      <td>CAAGNNFNKFYF</td>\n",
       "      <td>TRAJ21</td>\n",
       "      <td>TRBV27</td>\n",
       "      <td>CASSTRGRGYEKLFF</td>\n",
       "      <td>TRBJ1-4</td>\n",
       "      <td>NaN</td>\n",
       "      <td>NaN</td>\n",
       "      <td>NaN</td>\n",
       "      <td>NaN</td>\n",
       "    </tr>\n",
       "    <tr>\n",
       "      <th>81846</th>\n",
       "      <td>TRAV8-4</td>\n",
       "      <td>CAVSEAPGYSTLTF</td>\n",
       "      <td>TRAJ11</td>\n",
       "      <td>TRBV4-1</td>\n",
       "      <td>CASSQGGGTGNTIYF</td>\n",
       "      <td>TRBJ1-3</td>\n",
       "      <td>NaN</td>\n",
       "      <td>NaN</td>\n",
       "      <td>NaN</td>\n",
       "      <td>NaN</td>\n",
       "    </tr>\n",
       "    <tr>\n",
       "      <th>81847</th>\n",
       "      <td>TRAV26-2</td>\n",
       "      <td>CILSYNFNKFYF</td>\n",
       "      <td>TRAJ21</td>\n",
       "      <td>TRBV29-1</td>\n",
       "      <td>CSVDGNTEAFF</td>\n",
       "      <td>TRBJ1-1</td>\n",
       "      <td>NaN</td>\n",
       "      <td>NaN</td>\n",
       "      <td>NaN</td>\n",
       "      <td>NaN</td>\n",
       "    </tr>\n",
       "    <tr>\n",
       "      <th>81848</th>\n",
       "      <td>TRAV26-1</td>\n",
       "      <td>CIVDSGGATNKLIF</td>\n",
       "      <td>TRAJ32</td>\n",
       "      <td>TRBV7-2</td>\n",
       "      <td>CASSRRGKWNGYTF</td>\n",
       "      <td>TRBJ1-2</td>\n",
       "      <td>NaN</td>\n",
       "      <td>NaN</td>\n",
       "      <td>NaN</td>\n",
       "      <td>NaN</td>\n",
       "    </tr>\n",
       "  </tbody>\n",
       "</table>\n",
       "<p>81849 rows × 10 columns</p>\n",
       "</div>"
      ],
      "text/plain": [
       "             TRAV              CDR3A    TRAJ      TRBV             CDR3B  \\\n",
       "0        TRAV13-1       CAASILDNDMRF  TRAJ43    TRBV15  CATSDWRPQGEETQYF   \n",
       "1        TRAV12-3     CAMITNFGNEKLTF  TRAJ48  TRBV29-1    CSAAGTGSSYEQYF   \n",
       "2          TRAV39      CAVEEGGADGLTF  TRAJ45    TRBV19     CASSLSPNYGYTF   \n",
       "3         TRAV8-6  CAVSDEDYGGATNKLIF  TRAJ32   TRBV6-1     CASSGQGGTEAFF   \n",
       "4         TRAV9-2      CALSGGSQGNLIF  TRAJ42   TRBV4-3   CASSQEARGENIQYF   \n",
       "...           ...                ...     ...       ...               ...   \n",
       "81844  TRAV29/DV5      CAAWTGTASKLTF  TRAJ44  TRBV20-1   CSARDLAVSYNEQFF   \n",
       "81845    TRAV13-1       CAAGNNFNKFYF  TRAJ21    TRBV27   CASSTRGRGYEKLFF   \n",
       "81846     TRAV8-4     CAVSEAPGYSTLTF  TRAJ11   TRBV4-1   CASSQGGGTGNTIYF   \n",
       "81847    TRAV26-2       CILSYNFNKFYF  TRAJ21  TRBV29-1       CSVDGNTEAFF   \n",
       "81848    TRAV26-1     CIVDSGGATNKLIF  TRAJ32   TRBV7-2    CASSRRGKWNGYTF   \n",
       "\n",
       "          TRBJ  Epitope  MHCA  MHCB  duplicate_count  \n",
       "0      TRBJ2-5      NaN   NaN   NaN              NaN  \n",
       "1      TRBJ2-7      NaN   NaN   NaN              NaN  \n",
       "2      TRBJ1-2      NaN   NaN   NaN              NaN  \n",
       "3      TRBJ1-1      NaN   NaN   NaN              NaN  \n",
       "4      TRBJ2-4      NaN   NaN   NaN              NaN  \n",
       "...        ...      ...   ...   ...              ...  \n",
       "81844  TRBJ2-1      NaN   NaN   NaN              NaN  \n",
       "81845  TRBJ1-4      NaN   NaN   NaN              NaN  \n",
       "81846  TRBJ1-3      NaN   NaN   NaN              NaN  \n",
       "81847  TRBJ1-1      NaN   NaN   NaN              NaN  \n",
       "81848  TRBJ1-2      NaN   NaN   NaN              NaN  \n",
       "\n",
       "[81849 rows x 10 columns]"
      ]
     },
     "execution_count": 13,
     "metadata": {},
     "output_type": "execute_result"
    }
   ],
   "source": [
    "df"
   ]
  },
  {
   "attachments": {},
   "cell_type": "markdown",
   "metadata": {},
   "source": [
    "### OLGA setup"
   ]
  },
  {
   "cell_type": "code",
   "execution_count": 14,
   "metadata": {},
   "outputs": [],
   "source": [
    "from olga import load_model\n",
    "import olga.generation_probability as pgen\n",
    "\n",
    "OLGA_PATH = Path(\".venv\") / \"lib64\" / \"python3.8\" / \"site-packages\" / \"olga\"\n",
    "DEFAULT_HUMAN_T_BETA_PATH = OLGA_PATH / \"default_models\" / \"human_T_beta\""
   ]
  },
  {
   "cell_type": "code",
   "execution_count": 6,
   "metadata": {},
   "outputs": [],
   "source": [
    "params_file_name = DEFAULT_HUMAN_T_BETA_PATH / \"model_params.txt\"\n",
    "marginals_file_name = DEFAULT_HUMAN_T_BETA_PATH / \"model_marginals.txt\"\n",
    "v_anchor_pos_file = DEFAULT_HUMAN_T_BETA_PATH / \"V_gene_CDR3_anchors.csv\"\n",
    "j_anchor_pos_file = DEFAULT_HUMAN_T_BETA_PATH / \"J_gene_CDR3_anchors.csv\""
   ]
  },
  {
   "cell_type": "code",
   "execution_count": 7,
   "metadata": {},
   "outputs": [],
   "source": [
    "genomic_data = load_model.GenomicDataVDJ()\n",
    "genomic_data.load_igor_genomic_data(params_file_name, v_anchor_pos_file, j_anchor_pos_file)"
   ]
  },
  {
   "cell_type": "code",
   "execution_count": 9,
   "metadata": {},
   "outputs": [],
   "source": [
    "generative_model = load_model.GenerativeModelVDJ()\n",
    "generative_model.load_and_process_igor_model(marginals_file_name)"
   ]
  },
  {
   "cell_type": "code",
   "execution_count": 10,
   "metadata": {},
   "outputs": [],
   "source": [
    "pgen_model = pgen.GenerationProbabilityVDJ(generative_model, genomic_data)"
   ]
  },
  {
   "attachments": {},
   "cell_type": "markdown",
   "metadata": {},
   "source": [
    "### Compute pGens"
   ]
  },
  {
   "cell_type": "code",
   "execution_count": 17,
   "metadata": {},
   "outputs": [
    {
     "data": {
      "text/plain": [
       "1.7682625631576856e-12"
      ]
     },
     "execution_count": 17,
     "metadata": {},
     "output_type": "execute_result"
    }
   ],
   "source": [
    "pgen_model.compute_aa_CDR3_pgen(\"CASSRRGKWNGYTF\", \"TRBV7-2\", \"TRBJ1-2\")"
   ]
  },
  {
   "cell_type": "code",
   "execution_count": null,
   "metadata": {},
   "outputs": [],
   "source": []
  }
 ],
 "metadata": {
  "kernelspec": {
   "display_name": ".venv",
   "language": "python",
   "name": "python3"
  },
  "language_info": {
   "codemirror_mode": {
    "name": "ipython",
    "version": 3
   },
   "file_extension": ".py",
   "mimetype": "text/x-python",
   "name": "python",
   "nbconvert_exporter": "python",
   "pygments_lexer": "ipython3",
   "version": "3.8.16"
  },
  "orig_nbformat": 4
 },
 "nbformat": 4,
 "nbformat_minor": 2
}
