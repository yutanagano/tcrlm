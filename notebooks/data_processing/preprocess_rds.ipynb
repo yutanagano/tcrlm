{
 "cells": [
  {
   "cell_type": "code",
   "execution_count": 1,
   "metadata": {},
   "outputs": [],
   "source": [
    "from pathlib import Path\n",
    "import pandas as pd\n",
    "from pandas import DataFrame\n",
    "import tidytcells as tt"
   ]
  },
  {
   "cell_type": "code",
   "execution_count": 2,
   "metadata": {},
   "outputs": [],
   "source": [
    "raw_dir = Path(\"/home/yutanagano/UCLOneDrive/MBPhD/projects/tcr_embedder/data/raw/rds\")\n",
    "preprocessed_dir = Path(\n",
    "    \"/home/yutanagano/UCLOneDrive/MBPhD/projects/tcr_embedder/data/preprocessed/rds\"\n",
    ")"
   ]
  },
  {
   "cell_type": "code",
   "execution_count": 3,
   "metadata": {},
   "outputs": [],
   "source": [
    "paths_to_tsvs = [item for item in raw_dir.iterdir() if \"tsv\" in item.name]"
   ]
  },
  {
   "cell_type": "code",
   "execution_count": 5,
   "metadata": {},
   "outputs": [],
   "source": [
    "def load_and_clean_decombinator_tsv(path_to_tsv: Path) -> DataFrame:\n",
    "    tcrs = pd.read_csv(path_to_tsv, sep=\"\\t\")\n",
    "    functional_tcrs = tcrs[tcrs.productive == \"T\"]\n",
    "    functional_tcrs_simplified = functional_tcrs[[\"decombinator_id\", \"v_call\", \"junction_aa\", \"j_call\", \"duplicate_count\"]]\n",
    "    functional_tcrs_simplified.columns = [\"decombinator_id\", \"TRBV\", \"CDR3B\", \"TRBJ\", \"duplicate_count\"]\n",
    "    functional_tcrs_standardized = standardize_simplified_decombinator_dataframe(functional_tcrs_simplified.copy())\n",
    "    return functional_tcrs_standardized\n",
    "\n",
    "def standardize_simplified_decombinator_dataframe(simplified_decombinator_dataframe: DataFrame) -> DataFrame:\n",
    "    simplified_decombinator_dataframe.TRBV = simplified_decombinator_dataframe.TRBV.map(lambda x: tt.tcr.standardize(x, enforce_functional=True, suppress_warnings=True))\n",
    "    simplified_decombinator_dataframe.TRBJ = simplified_decombinator_dataframe.TRBJ.map(lambda x: tt.tcr.standardize(x, enforce_functional=True, suppress_warnings=True))\n",
    "    return simplified_decombinator_dataframe.dropna()"
   ]
  },
  {
   "cell_type": "code",
   "execution_count": 6,
   "metadata": {},
   "outputs": [],
   "source": [
    "tsvs = [load_and_clean_decombinator_tsv(path_to_tsv) for path_to_tsv in paths_to_tsvs]"
   ]
  },
  {
   "cell_type": "code",
   "execution_count": 7,
   "metadata": {},
   "outputs": [],
   "source": [
    "combined = pd.concat(tsvs)"
   ]
  },
  {
   "cell_type": "code",
   "execution_count": 8,
   "metadata": {},
   "outputs": [],
   "source": [
    "hyperexpanded = combined.copy()[combined.duplicate_count > 2]"
   ]
  },
  {
   "cell_type": "code",
   "execution_count": 10,
   "metadata": {},
   "outputs": [],
   "source": [
    "memory_like = combined.copy()[combined.duplicate_count > 1]"
   ]
  },
  {
   "cell_type": "code",
   "execution_count": 11,
   "metadata": {},
   "outputs": [],
   "source": [
    "naive_like = combined.copy()[combined.duplicate_count == 1]"
   ]
  },
  {
   "cell_type": "code",
   "execution_count": 12,
   "metadata": {},
   "outputs": [],
   "source": [
    "def collapse_clones(standardized_decombinator_dataframe: DataFrame) -> DataFrame:\n",
    "    standardized_decombinator_dataframe[\"clone_count\"] = 1\n",
    "    collapsed_dataframe = standardized_decombinator_dataframe.groupby(\n",
    "        by=[\"TRBV\", \"CDR3B\", \"TRBJ\"],\n",
    "        as_index=False\n",
    "    ).aggregate({\"clone_count\": \"sum\"})\n",
    "    return collapsed_dataframe"
   ]
  },
  {
   "cell_type": "code",
   "execution_count": 13,
   "metadata": {},
   "outputs": [],
   "source": [
    "combined_collapsed = collapse_clones(combined)"
   ]
  },
  {
   "cell_type": "code",
   "execution_count": 16,
   "metadata": {},
   "outputs": [],
   "source": [
    "hyperexpanded_collapsed = collapse_clones(hyperexpanded)"
   ]
  },
  {
   "cell_type": "code",
   "execution_count": 14,
   "metadata": {},
   "outputs": [],
   "source": [
    "memory_like_collapsed = collapse_clones(memory_like)"
   ]
  },
  {
   "cell_type": "code",
   "execution_count": 15,
   "metadata": {},
   "outputs": [],
   "source": [
    "naive_like_collapsed = collapse_clones(naive_like)"
   ]
  },
  {
   "cell_type": "code",
   "execution_count": 20,
   "metadata": {},
   "outputs": [],
   "source": [
    "SUBSAMPLE_SIZE = 734355\n",
    "\n",
    "combined_collapsed_subsampled = combined_collapsed.sample(n=SUBSAMPLE_SIZE, random_state=12345)\n",
    "memory_like_collapsed_subsampled = memory_like_collapsed.sample(n=SUBSAMPLE_SIZE, random_state=12345)\n",
    "naive_like_collapsed_subsampled = naive_like_collapsed.sample(n=SUBSAMPLE_SIZE, random_state=12345)"
   ]
  },
  {
   "cell_type": "code",
   "execution_count": 21,
   "metadata": {},
   "outputs": [
    {
     "data": {
      "text/html": [
       "<div>\n",
       "<style scoped>\n",
       "    .dataframe tbody tr th:only-of-type {\n",
       "        vertical-align: middle;\n",
       "    }\n",
       "\n",
       "    .dataframe tbody tr th {\n",
       "        vertical-align: top;\n",
       "    }\n",
       "\n",
       "    .dataframe thead th {\n",
       "        text-align: right;\n",
       "    }\n",
       "</style>\n",
       "<table border=\"1\" class=\"dataframe\">\n",
       "  <thead>\n",
       "    <tr style=\"text-align: right;\">\n",
       "      <th></th>\n",
       "      <th>TRBV</th>\n",
       "      <th>CDR3B</th>\n",
       "      <th>TRBJ</th>\n",
       "      <th>clone_count</th>\n",
       "    </tr>\n",
       "  </thead>\n",
       "  <tbody>\n",
       "    <tr>\n",
       "      <th>6616803</th>\n",
       "      <td>TRBV6-1</td>\n",
       "      <td>CASSYSTSGLAKNIQYF</td>\n",
       "      <td>TRBJ2-4</td>\n",
       "      <td>1</td>\n",
       "    </tr>\n",
       "    <tr>\n",
       "      <th>1556466</th>\n",
       "      <td>TRBV18</td>\n",
       "      <td>CASSPGDGFYEQYF</td>\n",
       "      <td>TRBJ2-7</td>\n",
       "      <td>1</td>\n",
       "    </tr>\n",
       "    <tr>\n",
       "      <th>6751207</th>\n",
       "      <td>TRBV6-5</td>\n",
       "      <td>CASRGLAGAIEGETQYF</td>\n",
       "      <td>TRBJ2-5</td>\n",
       "      <td>1</td>\n",
       "    </tr>\n",
       "    <tr>\n",
       "      <th>4071323</th>\n",
       "      <td>TRBV29-1</td>\n",
       "      <td>CSSRRGGGETQYF</td>\n",
       "      <td>TRBJ2-5</td>\n",
       "      <td>1</td>\n",
       "    </tr>\n",
       "    <tr>\n",
       "      <th>2036577</th>\n",
       "      <td>TRBV2</td>\n",
       "      <td>CASGRADTQYF</td>\n",
       "      <td>TRBJ2-3</td>\n",
       "      <td>3</td>\n",
       "    </tr>\n",
       "    <tr>\n",
       "      <th>...</th>\n",
       "      <td>...</td>\n",
       "      <td>...</td>\n",
       "      <td>...</td>\n",
       "      <td>...</td>\n",
       "    </tr>\n",
       "    <tr>\n",
       "      <th>2289735</th>\n",
       "      <td>TRBV2</td>\n",
       "      <td>CASSVRQGIDTQYF</td>\n",
       "      <td>TRBJ2-3</td>\n",
       "      <td>1</td>\n",
       "    </tr>\n",
       "    <tr>\n",
       "      <th>2979369</th>\n",
       "      <td>TRBV20-1</td>\n",
       "      <td>CSATGLAGGPSNEQFF</td>\n",
       "      <td>TRBJ2-1</td>\n",
       "      <td>1</td>\n",
       "    </tr>\n",
       "    <tr>\n",
       "      <th>5616598</th>\n",
       "      <td>TRBV5-1</td>\n",
       "      <td>CASSLSWTSPEGYTF</td>\n",
       "      <td>TRBJ1-2</td>\n",
       "      <td>2</td>\n",
       "    </tr>\n",
       "    <tr>\n",
       "      <th>7998002</th>\n",
       "      <td>TRBV7-7</td>\n",
       "      <td>CASSYNGPGGQETQYF</td>\n",
       "      <td>TRBJ2-5</td>\n",
       "      <td>1</td>\n",
       "    </tr>\n",
       "    <tr>\n",
       "      <th>7588483</th>\n",
       "      <td>TRBV7-2</td>\n",
       "      <td>CASSSDREDEKLFF</td>\n",
       "      <td>TRBJ1-4</td>\n",
       "      <td>1</td>\n",
       "    </tr>\n",
       "  </tbody>\n",
       "</table>\n",
       "<p>734355 rows × 4 columns</p>\n",
       "</div>"
      ],
      "text/plain": [
       "             TRBV              CDR3B     TRBJ  clone_count\n",
       "6616803   TRBV6-1  CASSYSTSGLAKNIQYF  TRBJ2-4            1\n",
       "1556466    TRBV18     CASSPGDGFYEQYF  TRBJ2-7            1\n",
       "6751207   TRBV6-5  CASRGLAGAIEGETQYF  TRBJ2-5            1\n",
       "4071323  TRBV29-1      CSSRRGGGETQYF  TRBJ2-5            1\n",
       "2036577     TRBV2        CASGRADTQYF  TRBJ2-3            3\n",
       "...           ...                ...      ...          ...\n",
       "2289735     TRBV2     CASSVRQGIDTQYF  TRBJ2-3            1\n",
       "2979369  TRBV20-1   CSATGLAGGPSNEQFF  TRBJ2-1            1\n",
       "5616598   TRBV5-1    CASSLSWTSPEGYTF  TRBJ1-2            2\n",
       "7998002   TRBV7-7   CASSYNGPGGQETQYF  TRBJ2-5            1\n",
       "7588483   TRBV7-2     CASSSDREDEKLFF  TRBJ1-4            1\n",
       "\n",
       "[734355 rows x 4 columns]"
      ]
     },
     "execution_count": 21,
     "metadata": {},
     "output_type": "execute_result"
    }
   ],
   "source": [
    "combined_collapsed_subsampled"
   ]
  },
  {
   "cell_type": "code",
   "execution_count": 22,
   "metadata": {},
   "outputs": [],
   "source": [
    "combined_collapsed.to_csv(preprocessed_dir/\"combined.csv\", index=False)\n",
    "hyperexpanded_collapsed.to_csv(preprocessed_dir/\"hyperexpanded.csv\", index=False)\n",
    "memory_like_collapsed.to_csv(preprocessed_dir/\"memory_like.csv\", index=False)\n",
    "naive_like_collapsed.to_csv(preprocessed_dir/\"naive_like.csv\", index=False)"
   ]
  },
  {
   "cell_type": "code",
   "execution_count": 23,
   "metadata": {},
   "outputs": [],
   "source": [
    "combined_collapsed_subsampled.to_csv(preprocessed_dir/\"combined_subsampled.csv\", index=False)\n",
    "memory_like_collapsed_subsampled.to_csv(preprocessed_dir/\"memory_like_subsampled.csv\", index=False)\n",
    "naive_like_collapsed_subsampled.to_csv(preprocessed_dir/\"naive_like_subsampled.csv\", index=False)"
   ]
  },
  {
   "cell_type": "code",
   "execution_count": null,
   "metadata": {},
   "outputs": [],
   "source": []
  }
 ],
 "metadata": {
  "kernelspec": {
   "display_name": "Python 3.8.15 ('.venv': venv)",
   "language": "python",
   "name": "python3"
  },
  "language_info": {
   "codemirror_mode": {
    "name": "ipython",
    "version": 3
   },
   "file_extension": ".py",
   "mimetype": "text/x-python",
   "name": "python",
   "nbconvert_exporter": "python",
   "pygments_lexer": "ipython3",
   "version": "3.11.4"
  },
  "orig_nbformat": 4,
  "vscode": {
   "interpreter": {
    "hash": "bab11497baf8882c4e95e2d544b4f7a8d499018a7e93af1d4b5fac976897075f"
   }
  }
 },
 "nbformat": 4,
 "nbformat_minor": 2
}
