{
 "cells": [
  {
   "cell_type": "code",
   "execution_count": 1,
   "metadata": {},
   "outputs": [],
   "source": [
    "from pathlib import Path\n",
    "import pandas as pd\n",
    "import tidytcells"
   ]
  },
  {
   "cell_type": "code",
   "execution_count": 2,
   "metadata": {},
   "outputs": [],
   "source": [
    "raw_dir = Path('/home/yutanagano/UCLOneDrive/MBPhD/projects/tcr_embedder/data/raw/rds')\n",
    "preprocessed_dir = Path('/home/yutanagano/UCLOneDrive/MBPhD/projects/tcr_embedder/data/preprocessed/rds')"
   ]
  },
  {
   "cell_type": "code",
   "execution_count": 3,
   "metadata": {},
   "outputs": [],
   "source": [
    "allowed_trbvs = {\n",
    "    \"TRBV2\",\n",
    "    \"TRBV3-1\",\n",
    "    \"TRBV4-1\",\n",
    "    \"TRBV4-2\",\n",
    "    \"TRBV4-3\",\n",
    "    \"TRBV5-1\",\n",
    "    \"TRBV5-4\",\n",
    "    \"TRBV5-5\",\n",
    "    \"TRBV5-6\",\n",
    "    \"TRBV5-8\",\n",
    "    \"TRBV6-1\",\n",
    "    \"TRBV6-2\",\n",
    "    \"TRBV6-3\",\n",
    "    \"TRBV6-4\",\n",
    "    \"TRBV6-5\",\n",
    "    \"TRBV6-6\",\n",
    "    \"TRBV6-8\",\n",
    "    \"TRBV6-9\",\n",
    "    \"TRBV7-2\",\n",
    "    \"TRBV7-3\",\n",
    "    \"TRBV7-4\",\n",
    "    \"TRBV7-6\",\n",
    "    \"TRBV7-7\",\n",
    "    \"TRBV7-8\",\n",
    "    \"TRBV7-9\",\n",
    "    \"TRBV9\",\n",
    "    \"TRBV10-1\",\n",
    "    \"TRBV10-2\",\n",
    "    \"TRBV10-3\",\n",
    "    \"TRBV11-1\",\n",
    "    \"TRBV11-2\",\n",
    "    \"TRBV11-3\",\n",
    "    \"TRBV12-3\",\n",
    "    \"TRBV12-4\",\n",
    "    \"TRBV12-5\",\n",
    "    \"TRBV13\",\n",
    "    \"TRBV14\",\n",
    "    \"TRBV15\",\n",
    "    \"TRBV16\",\n",
    "    \"TRBV18\",\n",
    "    \"TRBV19\",\n",
    "    \"TRBV20-1\",\n",
    "    \"TRBV24-1\",\n",
    "    \"TRBV25-1\",\n",
    "    \"TRBV27\",\n",
    "    \"TRBV28\",\n",
    "    \"TRBV29-1\",\n",
    "    \"TRBV30\"\n",
    "}"
   ]
  },
  {
   "cell_type": "code",
   "execution_count": 4,
   "metadata": {},
   "outputs": [],
   "source": [
    "beta = pd.read_csv(raw_dir/'beta.csv')"
   ]
  },
  {
   "cell_type": "code",
   "execution_count": 5,
   "metadata": {},
   "outputs": [
    {
     "name": "stderr",
     "output_type": "stream",
     "text": [
      "/home/yutanagano/Projects/tcr_embedder/.venv/lib64/python3.10/site-packages/tidytcells/tcr.py:385: UserWarning: Unrecognised TCR gene name: \"TRBV1\" for species Homo sapiens. Attempted fix \"TRBV1\" did not meet the standardised format requirements. Ignoring this gene name...\n",
      "  warn(\n",
      "/home/yutanagano/Projects/tcr_embedder/.venv/lib64/python3.10/site-packages/tidytcells/tcr.py:385: UserWarning: Unrecognised TCR gene name: \"TRBV21-1\" for species Homo sapiens. Attempted fix \"TRBV21-1\" did not meet the standardised format requirements. Ignoring this gene name...\n",
      "  warn(\n",
      "/home/yutanagano/Projects/tcr_embedder/.venv/lib64/python3.10/site-packages/tidytcells/tcr.py:385: UserWarning: Unrecognised TCR gene name: \"TRBV7-5\" for species Homo sapiens. Attempted fix \"TRBV7-5\" did not meet the standardised format requirements. Ignoring this gene name...\n",
      "  warn(\n"
     ]
    }
   ],
   "source": [
    "beta['TRBV'] = beta['TRBV'].apply(tidytcells.tcr.standardise)"
   ]
  },
  {
   "cell_type": "code",
   "execution_count": 6,
   "metadata": {},
   "outputs": [
    {
     "data": {
      "text/plain": [
       "{'TRBV12-3', 'TRBV6-2', 'TRBV6-3'}"
      ]
     },
     "execution_count": 6,
     "metadata": {},
     "output_type": "execute_result"
    }
   ],
   "source": [
    "allowed_trbvs - set(beta['TRBV'])"
   ]
  },
  {
   "cell_type": "code",
   "execution_count": 7,
   "metadata": {},
   "outputs": [],
   "source": [
    "beta = beta[beta['TRBV'].map(lambda x: x in allowed_trbvs)]"
   ]
  },
  {
   "cell_type": "code",
   "execution_count": 8,
   "metadata": {},
   "outputs": [],
   "source": [
    "test_frac = 0.1\n",
    "test_rows = int(test_frac * len(beta))\n",
    "\n",
    "shuffled = beta.sample(frac=1, random_state=420)\n",
    "\n",
    "test = shuffled.iloc[:test_rows]\n",
    "train = shuffled.iloc[test_rows:]"
   ]
  },
  {
   "cell_type": "code",
   "execution_count": 9,
   "metadata": {},
   "outputs": [],
   "source": [
    "train.to_csv(raw_dir/'train_beta.csv', index=False)\n",
    "test.to_csv(raw_dir/'test_beta.csv', index=False)"
   ]
  },
  {
   "cell_type": "code",
   "execution_count": null,
   "metadata": {},
   "outputs": [],
   "source": []
  }
 ],
 "metadata": {
  "kernelspec": {
   "display_name": "Python 3.8.15 ('.venv': venv)",
   "language": "python",
   "name": "python3"
  },
  "language_info": {
   "codemirror_mode": {
    "name": "ipython",
    "version": 3
   },
   "file_extension": ".py",
   "mimetype": "text/x-python",
   "name": "python",
   "nbconvert_exporter": "python",
   "pygments_lexer": "ipython3",
   "version": "3.10.9"
  },
  "orig_nbformat": 4,
  "vscode": {
   "interpreter": {
    "hash": "bab11497baf8882c4e95e2d544b4f7a8d499018a7e93af1d4b5fac976897075f"
   }
  }
 },
 "nbformat": 4,
 "nbformat_minor": 2
}
