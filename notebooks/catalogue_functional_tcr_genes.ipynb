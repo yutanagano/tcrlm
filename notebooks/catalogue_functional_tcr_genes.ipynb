{
 "cells": [
  {
   "attachments": {},
   "cell_type": "markdown",
   "metadata": {},
   "source": [
    "# Catalogue functional TR[AB][VJ] genes"
   ]
  },
  {
   "cell_type": "code",
   "execution_count": 1,
   "metadata": {},
   "outputs": [],
   "source": [
    "import sys\n",
    "import os\n",
    "from pathlib import Path\n",
    "\n",
    "if not 'PROJECT_PATH' in globals():\n",
    "    PROJECT_PATH = Path.cwd().parent.resolve()\n",
    "\n",
    "sys.path.append(PROJECT_PATH)\n",
    "os.chdir(PROJECT_PATH)"
   ]
  },
  {
   "cell_type": "code",
   "execution_count": 2,
   "metadata": {},
   "outputs": [],
   "source": [
    "import json"
   ]
  },
  {
   "cell_type": "code",
   "execution_count": 3,
   "metadata": {},
   "outputs": [],
   "source": [
    "for tcr_gene in ('trav', 'traj', 'trbv', 'trbj'):\n",
    "\n",
    "    with open(Path('data')/f'functional_{tcr_gene}s.fasta', 'r') as f:\n",
    "        genes = []\n",
    "\n",
    "        for line in f.readlines():\n",
    "            if line.startswith('>'):\n",
    "                fields = line.split('|')\n",
    "                gene = fields[1].split('*')[0]\n",
    "                \n",
    "                if not gene in genes:\n",
    "                    genes.append(gene)\n",
    "\n",
    "        genes = sorted(genes)\n",
    "    \n",
    "        with open(Path('src')/'resources'/f'functional_{tcr_gene}s.json', 'w') as f:\n",
    "            json.dump(genes, f, indent=4)"
   ]
  },
  {
   "cell_type": "code",
   "execution_count": null,
   "metadata": {},
   "outputs": [],
   "source": []
  }
 ],
 "metadata": {
  "kernelspec": {
   "display_name": ".venv",
   "language": "python",
   "name": "python3"
  },
  "language_info": {
   "codemirror_mode": {
    "name": "ipython",
    "version": 3
   },
   "file_extension": ".py",
   "mimetype": "text/x-python",
   "name": "python",
   "nbconvert_exporter": "python",
   "pygments_lexer": "ipython3",
   "version": "3.10.9"
  },
  "orig_nbformat": 4,
  "vscode": {
   "interpreter": {
    "hash": "bab11497baf8882c4e95e2d544b4f7a8d499018a7e93af1d4b5fac976897075f"
   }
  }
 },
 "nbformat": 4,
 "nbformat_minor": 2
}
