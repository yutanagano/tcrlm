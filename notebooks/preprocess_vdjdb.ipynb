{
 "cells": [
  {
   "cell_type": "code",
   "execution_count": 1,
   "metadata": {},
   "outputs": [],
   "source": [
    "from pathlib import Path\n",
    "import pandas as pd\n",
    "from tqdm import tqdm"
   ]
  },
  {
   "cell_type": "code",
   "execution_count": 2,
   "metadata": {},
   "outputs": [],
   "source": [
    "vdjdb_dir = Path('/home/yutanagano/UCLOneDrive/MBPhD/data/tcr_embedder/data_sources/vdjdb')"
   ]
  },
  {
   "cell_type": "code",
   "execution_count": 3,
   "metadata": {},
   "outputs": [],
   "source": [
    "df = pd.read_csv(vdjdb_dir/'vdjdb_20220607.tsv',sep='\\t')"
   ]
  },
  {
   "cell_type": "code",
   "execution_count": 4,
   "metadata": {},
   "outputs": [
    {
     "data": {
      "text/html": [
       "<div>\n",
       "<style scoped>\n",
       "    .dataframe tbody tr th:only-of-type {\n",
       "        vertical-align: middle;\n",
       "    }\n",
       "\n",
       "    .dataframe tbody tr th {\n",
       "        vertical-align: top;\n",
       "    }\n",
       "\n",
       "    .dataframe thead th {\n",
       "        text-align: right;\n",
       "    }\n",
       "</style>\n",
       "<table border=\"1\" class=\"dataframe\">\n",
       "  <thead>\n",
       "    <tr style=\"text-align: right;\">\n",
       "      <th></th>\n",
       "      <th>complex.id</th>\n",
       "      <th>Gene</th>\n",
       "      <th>CDR3</th>\n",
       "      <th>V</th>\n",
       "      <th>J</th>\n",
       "      <th>Species</th>\n",
       "      <th>MHC A</th>\n",
       "      <th>MHC B</th>\n",
       "      <th>MHC class</th>\n",
       "      <th>Epitope</th>\n",
       "      <th>Epitope gene</th>\n",
       "      <th>Epitope species</th>\n",
       "      <th>Reference</th>\n",
       "      <th>Method</th>\n",
       "      <th>Meta</th>\n",
       "      <th>CDR3fix</th>\n",
       "      <th>Score</th>\n",
       "    </tr>\n",
       "  </thead>\n",
       "  <tbody>\n",
       "    <tr>\n",
       "      <th>0</th>\n",
       "      <td>1</td>\n",
       "      <td>TRA</td>\n",
       "      <td>CIVRAPGRADMRF</td>\n",
       "      <td>TRAV26-1*01</td>\n",
       "      <td>TRAJ43*01</td>\n",
       "      <td>HomoSapiens</td>\n",
       "      <td>HLA-B*08</td>\n",
       "      <td>B2M</td>\n",
       "      <td>MHCI</td>\n",
       "      <td>FLKEKGGL</td>\n",
       "      <td>Nef</td>\n",
       "      <td>HIV-1</td>\n",
       "      <td>PMID:15596521</td>\n",
       "      <td>{\"frequency\": \"\", \"identification\": \"tetramer-...</td>\n",
       "      <td>{\"cell.subset\": \"CD8+\", \"clone.id\": \"\", \"donor...</td>\n",
       "      <td>{\"cdr3\": \"CIVRAPGRADMRF\", \"cdr3_old\": \"CIVRAPG...</td>\n",
       "      <td>2</td>\n",
       "    </tr>\n",
       "    <tr>\n",
       "      <th>1</th>\n",
       "      <td>1</td>\n",
       "      <td>TRB</td>\n",
       "      <td>CASSYLPGQGDHYSNQPQHF</td>\n",
       "      <td>TRBV13*01</td>\n",
       "      <td>TRBJ1-5*01</td>\n",
       "      <td>HomoSapiens</td>\n",
       "      <td>HLA-B*08</td>\n",
       "      <td>B2M</td>\n",
       "      <td>MHCI</td>\n",
       "      <td>FLKEKGGL</td>\n",
       "      <td>Nef</td>\n",
       "      <td>HIV-1</td>\n",
       "      <td>PMID:15596521</td>\n",
       "      <td>{\"frequency\": \"\", \"identification\": \"tetramer-...</td>\n",
       "      <td>{\"cell.subset\": \"CD8+\", \"clone.id\": \"\", \"donor...</td>\n",
       "      <td>{\"cdr3\": \"CASSYLPGQGDHYSNQPQHF\", \"cdr3_old\": \"...</td>\n",
       "      <td>2</td>\n",
       "    </tr>\n",
       "    <tr>\n",
       "      <th>2</th>\n",
       "      <td>0</td>\n",
       "      <td>TRB</td>\n",
       "      <td>CASSFEAGQGFFSNQPQHF</td>\n",
       "      <td>TRBV13*01</td>\n",
       "      <td>TRBJ1-5*01</td>\n",
       "      <td>HomoSapiens</td>\n",
       "      <td>HLA-B*08</td>\n",
       "      <td>B2M</td>\n",
       "      <td>MHCI</td>\n",
       "      <td>FLKEKGGL</td>\n",
       "      <td>Nef</td>\n",
       "      <td>HIV-1</td>\n",
       "      <td>PMID:15596521</td>\n",
       "      <td>{\"frequency\": \"\", \"identification\": \"tetramer-...</td>\n",
       "      <td>{\"cell.subset\": \"CD8+\", \"clone.id\": \"\", \"donor...</td>\n",
       "      <td>{\"cdr3\": \"CASSFEAGQGFFSNQPQHF\", \"cdr3_old\": \"C...</td>\n",
       "      <td>2</td>\n",
       "    </tr>\n",
       "    <tr>\n",
       "      <th>3</th>\n",
       "      <td>2</td>\n",
       "      <td>TRA</td>\n",
       "      <td>CAVPSGAGSYQLTF</td>\n",
       "      <td>TRAV20*01</td>\n",
       "      <td>TRAJ28*01</td>\n",
       "      <td>HomoSapiens</td>\n",
       "      <td>HLA-B*08</td>\n",
       "      <td>B2M</td>\n",
       "      <td>MHCI</td>\n",
       "      <td>FLKEKGGL</td>\n",
       "      <td>Nef</td>\n",
       "      <td>HIV-1</td>\n",
       "      <td>PMID:15596521</td>\n",
       "      <td>{\"frequency\": \"\", \"identification\": \"tetramer-...</td>\n",
       "      <td>{\"cell.subset\": \"CD8+\", \"clone.id\": \"\", \"donor...</td>\n",
       "      <td>{\"cdr3\": \"CAVPSGAGSYQLTF\", \"cdr3_old\": \"CAVPSG...</td>\n",
       "      <td>2</td>\n",
       "    </tr>\n",
       "    <tr>\n",
       "      <th>4</th>\n",
       "      <td>2</td>\n",
       "      <td>TRB</td>\n",
       "      <td>CASSFEPGQGFYSNQPQHF</td>\n",
       "      <td>TRBV13*01</td>\n",
       "      <td>TRBJ1-5*01</td>\n",
       "      <td>HomoSapiens</td>\n",
       "      <td>HLA-B*08</td>\n",
       "      <td>B2M</td>\n",
       "      <td>MHCI</td>\n",
       "      <td>FLKEKGGL</td>\n",
       "      <td>Nef</td>\n",
       "      <td>HIV-1</td>\n",
       "      <td>PMID:15596521</td>\n",
       "      <td>{\"frequency\": \"\", \"identification\": \"tetramer-...</td>\n",
       "      <td>{\"cell.subset\": \"CD8+\", \"clone.id\": \"\", \"donor...</td>\n",
       "      <td>{\"cdr3\": \"CASSFEPGQGFYSNQPQHF\", \"cdr3_old\": \"C...</td>\n",
       "      <td>2</td>\n",
       "    </tr>\n",
       "  </tbody>\n",
       "</table>\n",
       "</div>"
      ],
      "text/plain": [
       "   complex.id Gene                  CDR3            V           J  \\\n",
       "0           1  TRA         CIVRAPGRADMRF  TRAV26-1*01   TRAJ43*01   \n",
       "1           1  TRB  CASSYLPGQGDHYSNQPQHF    TRBV13*01  TRBJ1-5*01   \n",
       "2           0  TRB   CASSFEAGQGFFSNQPQHF    TRBV13*01  TRBJ1-5*01   \n",
       "3           2  TRA        CAVPSGAGSYQLTF    TRAV20*01   TRAJ28*01   \n",
       "4           2  TRB   CASSFEPGQGFYSNQPQHF    TRBV13*01  TRBJ1-5*01   \n",
       "\n",
       "       Species     MHC A MHC B MHC class   Epitope Epitope gene  \\\n",
       "0  HomoSapiens  HLA-B*08   B2M      MHCI  FLKEKGGL          Nef   \n",
       "1  HomoSapiens  HLA-B*08   B2M      MHCI  FLKEKGGL          Nef   \n",
       "2  HomoSapiens  HLA-B*08   B2M      MHCI  FLKEKGGL          Nef   \n",
       "3  HomoSapiens  HLA-B*08   B2M      MHCI  FLKEKGGL          Nef   \n",
       "4  HomoSapiens  HLA-B*08   B2M      MHCI  FLKEKGGL          Nef   \n",
       "\n",
       "  Epitope species      Reference  \\\n",
       "0           HIV-1  PMID:15596521   \n",
       "1           HIV-1  PMID:15596521   \n",
       "2           HIV-1  PMID:15596521   \n",
       "3           HIV-1  PMID:15596521   \n",
       "4           HIV-1  PMID:15596521   \n",
       "\n",
       "                                              Method  \\\n",
       "0  {\"frequency\": \"\", \"identification\": \"tetramer-...   \n",
       "1  {\"frequency\": \"\", \"identification\": \"tetramer-...   \n",
       "2  {\"frequency\": \"\", \"identification\": \"tetramer-...   \n",
       "3  {\"frequency\": \"\", \"identification\": \"tetramer-...   \n",
       "4  {\"frequency\": \"\", \"identification\": \"tetramer-...   \n",
       "\n",
       "                                                Meta  \\\n",
       "0  {\"cell.subset\": \"CD8+\", \"clone.id\": \"\", \"donor...   \n",
       "1  {\"cell.subset\": \"CD8+\", \"clone.id\": \"\", \"donor...   \n",
       "2  {\"cell.subset\": \"CD8+\", \"clone.id\": \"\", \"donor...   \n",
       "3  {\"cell.subset\": \"CD8+\", \"clone.id\": \"\", \"donor...   \n",
       "4  {\"cell.subset\": \"CD8+\", \"clone.id\": \"\", \"donor...   \n",
       "\n",
       "                                             CDR3fix  Score  \n",
       "0  {\"cdr3\": \"CIVRAPGRADMRF\", \"cdr3_old\": \"CIVRAPG...      2  \n",
       "1  {\"cdr3\": \"CASSYLPGQGDHYSNQPQHF\", \"cdr3_old\": \"...      2  \n",
       "2  {\"cdr3\": \"CASSFEAGQGFFSNQPQHF\", \"cdr3_old\": \"C...      2  \n",
       "3  {\"cdr3\": \"CAVPSGAGSYQLTF\", \"cdr3_old\": \"CAVPSG...      2  \n",
       "4  {\"cdr3\": \"CASSFEPGQGFYSNQPQHF\", \"cdr3_old\": \"C...      2  "
      ]
     },
     "execution_count": 4,
     "metadata": {},
     "output_type": "execute_result"
    }
   ],
   "source": [
    "df.head()"
   ]
  },
  {
   "cell_type": "code",
   "execution_count": 5,
   "metadata": {},
   "outputs": [
    {
     "data": {
      "text/plain": [
       "array(['HIV-1', 'TriticumAestivum', 'CMV', 'SARS-CoV-2', 'HomoSapiens',\n",
       "       'EBV', 'M.tuberculosis', 'HTLV-1', 'GallusGallus', 'MusMusculus',\n",
       "       'InfluenzaA', 'Synthetic', 'VSV', 'SaccharomycesCerevisiae',\n",
       "       'ManducaSexta', 'HCV', 'synthetic', 'E.Coli', 'HHV', 'LCMV',\n",
       "       'DENV1', 'DENV3/4', 'PlasmodiumBerghei',\n",
       "       'SelaginellaMoellendorffii', 'PseudomonasFluorescens',\n",
       "       'PseudomonasAeruginosa', 'HIV1', 'Homo sapiens', 'YFV', 'RSV',\n",
       "       'HSV-2', 'DENV2', 'MCMV', 'MCPyV', 'HPV',\n",
       "       'StreptomycesKanamyceticus', 'HIV', 'HCoV-HKU1', 'SIV'],\n",
       "      dtype=object)"
      ]
     },
     "execution_count": 5,
     "metadata": {},
     "output_type": "execute_result"
    }
   ],
   "source": [
    "df['Epitope species'].unique()"
   ]
  },
  {
   "cell_type": "code",
   "execution_count": 6,
   "metadata": {},
   "outputs": [],
   "source": [
    "filtered = df[df['Epitope species'] != 'SARS-CoV-2']"
   ]
  },
  {
   "cell_type": "code",
   "execution_count": 7,
   "metadata": {},
   "outputs": [
    {
     "data": {
      "text/plain": [
       "81024"
      ]
     },
     "execution_count": 7,
     "metadata": {},
     "output_type": "execute_result"
    }
   ],
   "source": [
    "len(filtered)"
   ]
  },
  {
   "cell_type": "code",
   "execution_count": 8,
   "metadata": {},
   "outputs": [],
   "source": [
    "def reformat(df: pd.DataFrame) -> pd.DataFrame:\n",
    "    reformatted_rows = []\n",
    "\n",
    "    # Process bulk data\n",
    "    bulk_data = df[df['complex.id'] == 0]\n",
    "    for _, row in tqdm(bulk_data.iterrows(), total=len(bulk_data)):\n",
    "        if row['Gene'] == 'TRA':\n",
    "            chain_cols = ['TRAV', 'CDR3A', 'TRAJ']\n",
    "        else:\n",
    "            chain_cols = ['TRBV', 'CDR3B', 'TRBJ']\n",
    "        reformatted_rows.append(\n",
    "            {\n",
    "                chain_cols[0]: row['V'],\n",
    "                chain_cols[1]: row['CDR3'],\n",
    "                chain_cols[2]: row['J'],\n",
    "                'Epitope': row['Epitope'],\n",
    "                'MHCA': row['MHC A'],\n",
    "                'MHCB': row['MHC B'],\n",
    "                'duplicate_count': pd.NA\n",
    "            }\n",
    "        )\n",
    "\n",
    "    # Process single cell data\n",
    "    sc_complex_ids = df[df['complex.id'] != 0]['complex.id'].unique()\n",
    "    for complex_id in tqdm(sc_complex_ids):\n",
    "        tcr_info = df[df['complex.id'] == complex_id]\n",
    "        tcr_info = tcr_info.drop_duplicates(subset=['V','J','CDR3'])\n",
    "\n",
    "        tra_info = tcr_info[tcr_info['Gene'] == 'TRA'].iloc[0]\n",
    "        trb_info = tcr_info[tcr_info['Gene'] == 'TRB'].iloc[0]\n",
    "\n",
    "        reformatted_rows.append(\n",
    "            {\n",
    "                'TRAV': tra_info['V'],\n",
    "                'CDR3A': tra_info['CDR3'],\n",
    "                'TRAJ': tra_info['J'],\n",
    "                'TRBV': trb_info['V'],\n",
    "                'CDR3B': trb_info['CDR3'],\n",
    "                'TRBJ': trb_info['J'],\n",
    "                'Epitope': tra_info['Epitope'],\n",
    "                'MHCA': tra_info['MHC A'],\n",
    "                'MHCB': tra_info['MHC B'],\n",
    "                'duplicate_count': pd.NA\n",
    "            }\n",
    "        )\n",
    "\n",
    "    reformatted_df = pd.DataFrame.from_records(reformatted_rows)\n",
    "    reformatted_df = reformatted_df.drop_duplicates()\n",
    "    return reformatted_df[\n",
    "        ['TRAV','CDR3A','TRAJ','TRBV','CDR3B','TRBJ','Epitope','MHCA','MHCB','duplicate_count']\n",
    "    ]"
   ]
  },
  {
   "cell_type": "code",
   "execution_count": 9,
   "metadata": {},
   "outputs": [
    {
     "name": "stderr",
     "output_type": "stream",
     "text": [
      "100%|██████████| 27934/27934 [00:01<00:00, 22976.66it/s]\n",
      "100%|██████████| 26545/26545 [00:31<00:00, 841.61it/s]\n"
     ]
    }
   ],
   "source": [
    "filtered = reformat(filtered)"
   ]
  },
  {
   "cell_type": "code",
   "execution_count": 10,
   "metadata": {},
   "outputs": [],
   "source": [
    "filtered = filtered.groupby('Epitope').filter(lambda x: len(x) >= 100)"
   ]
  },
  {
   "cell_type": "code",
   "execution_count": 11,
   "metadata": {},
   "outputs": [],
   "source": [
    "subsampled = filtered.groupby('Epitope').sample(100)"
   ]
  },
  {
   "cell_type": "code",
   "execution_count": 12,
   "metadata": {},
   "outputs": [],
   "source": [
    "subsampled.to_csv(vdjdb_dir/'evaluation.csv', index=False)"
   ]
  }
 ],
 "metadata": {
  "kernelspec": {
   "display_name": "Python 3.8.15 ('.venv': venv)",
   "language": "python",
   "name": "python3"
  },
  "language_info": {
   "codemirror_mode": {
    "name": "ipython",
    "version": 3
   },
   "file_extension": ".py",
   "mimetype": "text/x-python",
   "name": "python",
   "nbconvert_exporter": "python",
   "pygments_lexer": "ipython3",
   "version": "3.8.15"
  },
  "orig_nbformat": 4,
  "vscode": {
   "interpreter": {
    "hash": "bab11497baf8882c4e95e2d544b4f7a8d499018a7e93af1d4b5fac976897075f"
   }
  }
 },
 "nbformat": 4,
 "nbformat_minor": 2
}
