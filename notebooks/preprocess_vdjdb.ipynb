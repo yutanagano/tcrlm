{
 "cells": [
  {
   "attachments": {},
   "cell_type": "markdown",
   "metadata": {},
   "source": [
    "# Extract epitope-labelled evaluation data from VDJdb"
   ]
  },
  {
   "attachments": {},
   "cell_type": "markdown",
   "metadata": {},
   "source": [
    "## Setup"
   ]
  },
  {
   "cell_type": "code",
   "execution_count": 29,
   "metadata": {},
   "outputs": [],
   "source": [
    "from pathlib import Path\n",
    "import pandas as pd\n",
    "from pandas import isna, notna\n",
    "import tidytcells\n",
    "from tqdm import tqdm"
   ]
  },
  {
   "cell_type": "code",
   "execution_count": 30,
   "metadata": {},
   "outputs": [],
   "source": [
    "travs = {\n",
    "    \"TRAV1-1\",\n",
    "    \"TRAV1-2\",\n",
    "    \"TRAV2\",\n",
    "    \"TRAV3\",\n",
    "    \"TRAV4\",\n",
    "    \"TRAV5\",\n",
    "    \"TRAV6\",\n",
    "    \"TRAV7\",\n",
    "    \"TRAV8-1\",\n",
    "    \"TRAV8-2\",\n",
    "    \"TRAV8-3\",\n",
    "    \"TRAV8-4\",\n",
    "    \"TRAV8-6\",\n",
    "    \"TRAV9-1\",\n",
    "    \"TRAV9-2\",\n",
    "    \"TRAV10\",\n",
    "    \"TRAV12-1\",\n",
    "    \"TRAV12-2\",\n",
    "    \"TRAV12-3\",\n",
    "    \"TRAV13-1\",\n",
    "    \"TRAV13-2\",\n",
    "    \"TRAV14/DV4\",\n",
    "    \"TRAV16\",\n",
    "    \"TRAV17\",\n",
    "    \"TRAV18\",\n",
    "    \"TRAV19\",\n",
    "    \"TRAV20\",\n",
    "    \"TRAV21\",\n",
    "    \"TRAV22\",\n",
    "    \"TRAV23/DV6\",\n",
    "    \"TRAV24\",\n",
    "    \"TRAV25\",\n",
    "    \"TRAV26-1\",\n",
    "    \"TRAV26-2\",\n",
    "    \"TRAV27\",\n",
    "    \"TRAV29/DV5\",\n",
    "    \"TRAV30\",\n",
    "    \"TRAV34\",\n",
    "    \"TRAV35\",\n",
    "    \"TRAV36/DV7\",\n",
    "    \"TRAV38-1\",\n",
    "    \"TRAV38-2/DV8\",\n",
    "    \"TRAV39\",\n",
    "    \"TRAV40\",\n",
    "    \"TRAV41\"\n",
    "}\n",
    "\n",
    "trajs = {\n",
    "    \"TRAJ3\",\n",
    "    \"TRAJ4\",\n",
    "    \"TRAJ5\",\n",
    "    \"TRAJ6\",\n",
    "    \"TRAJ7\",\n",
    "    \"TRAJ8\",\n",
    "    \"TRAJ9\",\n",
    "    \"TRAJ10\",\n",
    "    \"TRAJ11\",\n",
    "    \"TRAJ12\",\n",
    "    \"TRAJ13\",\n",
    "    \"TRAJ14\",\n",
    "    \"TRAJ15\",\n",
    "    \"TRAJ16\",\n",
    "    \"TRAJ17\",\n",
    "    \"TRAJ18\",\n",
    "    \"TRAJ20\",\n",
    "    \"TRAJ21\",\n",
    "    \"TRAJ22\",\n",
    "    \"TRAJ23\",\n",
    "    \"TRAJ24\",\n",
    "    \"TRAJ26\",\n",
    "    \"TRAJ27\",\n",
    "    \"TRAJ28\",\n",
    "    \"TRAJ29\",\n",
    "    \"TRAJ30\",\n",
    "    \"TRAJ31\",\n",
    "    \"TRAJ32\",\n",
    "    \"TRAJ33\",\n",
    "    \"TRAJ34\",\n",
    "    \"TRAJ35\",\n",
    "    \"TRAJ36\",\n",
    "    \"TRAJ37\",\n",
    "    \"TRAJ38\",\n",
    "    \"TRAJ39\",\n",
    "    \"TRAJ40\",\n",
    "    \"TRAJ41\",\n",
    "    \"TRAJ42\",\n",
    "    \"TRAJ43\",\n",
    "    \"TRAJ44\",\n",
    "    \"TRAJ45\",\n",
    "    \"TRAJ46\",\n",
    "    \"TRAJ47\",\n",
    "    \"TRAJ48\",\n",
    "    \"TRAJ49\",\n",
    "    \"TRAJ50\",\n",
    "    \"TRAJ52\",\n",
    "    \"TRAJ53\",\n",
    "    \"TRAJ54\",\n",
    "    \"TRAJ56\",\n",
    "    \"TRAJ57\"\n",
    "}\n",
    "\n",
    "trbvs = {\n",
    "    \"TRBV2\",\n",
    "    \"TRBV3-1\",\n",
    "    \"TRBV4-1\",\n",
    "    \"TRBV4-2\",\n",
    "    \"TRBV4-3\",\n",
    "    \"TRBV5-1\",\n",
    "    \"TRBV5-4\",\n",
    "    \"TRBV5-5\",\n",
    "    \"TRBV5-6\",\n",
    "    \"TRBV5-8\",\n",
    "    \"TRBV6-1\",\n",
    "    \"TRBV6-2\",\n",
    "    \"TRBV6-3\",\n",
    "    \"TRBV6-4\",\n",
    "    \"TRBV6-5\",\n",
    "    \"TRBV6-6\",\n",
    "    \"TRBV6-8\",\n",
    "    \"TRBV6-9\",\n",
    "    \"TRBV7-2\",\n",
    "    \"TRBV7-3\",\n",
    "    \"TRBV7-4\",\n",
    "    \"TRBV7-6\",\n",
    "    \"TRBV7-7\",\n",
    "    \"TRBV7-8\",\n",
    "    \"TRBV7-9\",\n",
    "    \"TRBV9\",\n",
    "    \"TRBV10-1\",\n",
    "    \"TRBV10-2\",\n",
    "    \"TRBV10-3\",\n",
    "    \"TRBV11-1\",\n",
    "    \"TRBV11-2\",\n",
    "    \"TRBV11-3\",\n",
    "    \"TRBV12-3\",\n",
    "    \"TRBV12-4\",\n",
    "    \"TRBV12-5\",\n",
    "    \"TRBV13\",\n",
    "    \"TRBV14\",\n",
    "    \"TRBV15\",\n",
    "    \"TRBV16\",\n",
    "    \"TRBV18\",\n",
    "    \"TRBV19\",\n",
    "    \"TRBV20-1\",\n",
    "    \"TRBV24-1\",\n",
    "    \"TRBV25-1\",\n",
    "    \"TRBV27\",\n",
    "    \"TRBV28\",\n",
    "    \"TRBV29-1\",\n",
    "    \"TRBV30\"\n",
    "}\n",
    "\n",
    "\n",
    "trbjs = {\n",
    "    \"TRBJ1-1\",\n",
    "    \"TRBJ1-2\",\n",
    "    \"TRBJ1-3\",\n",
    "    \"TRBJ1-4\",\n",
    "    \"TRBJ1-5\",\n",
    "    \"TRBJ1-6\",\n",
    "    \"TRBJ2-1\",\n",
    "    \"TRBJ2-2\",\n",
    "    \"TRBJ2-3\",\n",
    "    \"TRBJ2-4\",\n",
    "    \"TRBJ2-5\",\n",
    "    \"TRBJ2-6\",\n",
    "    \"TRBJ2-7\"\n",
    "}"
   ]
  },
  {
   "cell_type": "code",
   "execution_count": 31,
   "metadata": {},
   "outputs": [],
   "source": [
    "raw_dir = Path('/home/yutanagano/UCLOneDrive/MBPhD/projects/tcr_embedder/data/raw/vdjdb')\n",
    "preprocessed_dir = Path('/home/yutanagano/UCLOneDrive/MBPhD/projects/tcr_embedder/data/preprocessed/vdjdb')"
   ]
  },
  {
   "attachments": {},
   "cell_type": "markdown",
   "metadata": {},
   "source": [
    "## Reformat and clean data"
   ]
  },
  {
   "cell_type": "code",
   "execution_count": 32,
   "metadata": {},
   "outputs": [],
   "source": [
    "df = pd.read_csv(raw_dir/'vdjdb_20220607.tsv',sep='\\t')"
   ]
  },
  {
   "cell_type": "code",
   "execution_count": 33,
   "metadata": {},
   "outputs": [],
   "source": [
    "filtered = df[df['Species'] == 'HomoSapiens']"
   ]
  },
  {
   "cell_type": "code",
   "execution_count": 34,
   "metadata": {},
   "outputs": [
    {
     "data": {
      "text/html": [
       "<div>\n",
       "<style scoped>\n",
       "    .dataframe tbody tr th:only-of-type {\n",
       "        vertical-align: middle;\n",
       "    }\n",
       "\n",
       "    .dataframe tbody tr th {\n",
       "        vertical-align: top;\n",
       "    }\n",
       "\n",
       "    .dataframe thead th {\n",
       "        text-align: right;\n",
       "    }\n",
       "</style>\n",
       "<table border=\"1\" class=\"dataframe\">\n",
       "  <thead>\n",
       "    <tr style=\"text-align: right;\">\n",
       "      <th></th>\n",
       "      <th>complex.id</th>\n",
       "      <th>Gene</th>\n",
       "      <th>CDR3</th>\n",
       "      <th>V</th>\n",
       "      <th>J</th>\n",
       "      <th>Species</th>\n",
       "      <th>MHC A</th>\n",
       "      <th>MHC B</th>\n",
       "      <th>MHC class</th>\n",
       "      <th>Epitope</th>\n",
       "      <th>Epitope gene</th>\n",
       "      <th>Epitope species</th>\n",
       "      <th>Reference</th>\n",
       "      <th>Method</th>\n",
       "      <th>Meta</th>\n",
       "      <th>CDR3fix</th>\n",
       "      <th>Score</th>\n",
       "    </tr>\n",
       "  </thead>\n",
       "  <tbody>\n",
       "    <tr>\n",
       "      <th>0</th>\n",
       "      <td>1</td>\n",
       "      <td>TRA</td>\n",
       "      <td>CIVRAPGRADMRF</td>\n",
       "      <td>TRAV26-1*01</td>\n",
       "      <td>TRAJ43*01</td>\n",
       "      <td>HomoSapiens</td>\n",
       "      <td>HLA-B*08</td>\n",
       "      <td>B2M</td>\n",
       "      <td>MHCI</td>\n",
       "      <td>FLKEKGGL</td>\n",
       "      <td>Nef</td>\n",
       "      <td>HIV-1</td>\n",
       "      <td>PMID:15596521</td>\n",
       "      <td>{\"frequency\": \"\", \"identification\": \"tetramer-...</td>\n",
       "      <td>{\"cell.subset\": \"CD8+\", \"clone.id\": \"\", \"donor...</td>\n",
       "      <td>{\"cdr3\": \"CIVRAPGRADMRF\", \"cdr3_old\": \"CIVRAPG...</td>\n",
       "      <td>2</td>\n",
       "    </tr>\n",
       "    <tr>\n",
       "      <th>1</th>\n",
       "      <td>1</td>\n",
       "      <td>TRB</td>\n",
       "      <td>CASSYLPGQGDHYSNQPQHF</td>\n",
       "      <td>TRBV13*01</td>\n",
       "      <td>TRBJ1-5*01</td>\n",
       "      <td>HomoSapiens</td>\n",
       "      <td>HLA-B*08</td>\n",
       "      <td>B2M</td>\n",
       "      <td>MHCI</td>\n",
       "      <td>FLKEKGGL</td>\n",
       "      <td>Nef</td>\n",
       "      <td>HIV-1</td>\n",
       "      <td>PMID:15596521</td>\n",
       "      <td>{\"frequency\": \"\", \"identification\": \"tetramer-...</td>\n",
       "      <td>{\"cell.subset\": \"CD8+\", \"clone.id\": \"\", \"donor...</td>\n",
       "      <td>{\"cdr3\": \"CASSYLPGQGDHYSNQPQHF\", \"cdr3_old\": \"...</td>\n",
       "      <td>2</td>\n",
       "    </tr>\n",
       "    <tr>\n",
       "      <th>2</th>\n",
       "      <td>0</td>\n",
       "      <td>TRB</td>\n",
       "      <td>CASSFEAGQGFFSNQPQHF</td>\n",
       "      <td>TRBV13*01</td>\n",
       "      <td>TRBJ1-5*01</td>\n",
       "      <td>HomoSapiens</td>\n",
       "      <td>HLA-B*08</td>\n",
       "      <td>B2M</td>\n",
       "      <td>MHCI</td>\n",
       "      <td>FLKEKGGL</td>\n",
       "      <td>Nef</td>\n",
       "      <td>HIV-1</td>\n",
       "      <td>PMID:15596521</td>\n",
       "      <td>{\"frequency\": \"\", \"identification\": \"tetramer-...</td>\n",
       "      <td>{\"cell.subset\": \"CD8+\", \"clone.id\": \"\", \"donor...</td>\n",
       "      <td>{\"cdr3\": \"CASSFEAGQGFFSNQPQHF\", \"cdr3_old\": \"C...</td>\n",
       "      <td>2</td>\n",
       "    </tr>\n",
       "    <tr>\n",
       "      <th>3</th>\n",
       "      <td>2</td>\n",
       "      <td>TRA</td>\n",
       "      <td>CAVPSGAGSYQLTF</td>\n",
       "      <td>TRAV20*01</td>\n",
       "      <td>TRAJ28*01</td>\n",
       "      <td>HomoSapiens</td>\n",
       "      <td>HLA-B*08</td>\n",
       "      <td>B2M</td>\n",
       "      <td>MHCI</td>\n",
       "      <td>FLKEKGGL</td>\n",
       "      <td>Nef</td>\n",
       "      <td>HIV-1</td>\n",
       "      <td>PMID:15596521</td>\n",
       "      <td>{\"frequency\": \"\", \"identification\": \"tetramer-...</td>\n",
       "      <td>{\"cell.subset\": \"CD8+\", \"clone.id\": \"\", \"donor...</td>\n",
       "      <td>{\"cdr3\": \"CAVPSGAGSYQLTF\", \"cdr3_old\": \"CAVPSG...</td>\n",
       "      <td>2</td>\n",
       "    </tr>\n",
       "    <tr>\n",
       "      <th>4</th>\n",
       "      <td>2</td>\n",
       "      <td>TRB</td>\n",
       "      <td>CASSFEPGQGFYSNQPQHF</td>\n",
       "      <td>TRBV13*01</td>\n",
       "      <td>TRBJ1-5*01</td>\n",
       "      <td>HomoSapiens</td>\n",
       "      <td>HLA-B*08</td>\n",
       "      <td>B2M</td>\n",
       "      <td>MHCI</td>\n",
       "      <td>FLKEKGGL</td>\n",
       "      <td>Nef</td>\n",
       "      <td>HIV-1</td>\n",
       "      <td>PMID:15596521</td>\n",
       "      <td>{\"frequency\": \"\", \"identification\": \"tetramer-...</td>\n",
       "      <td>{\"cell.subset\": \"CD8+\", \"clone.id\": \"\", \"donor...</td>\n",
       "      <td>{\"cdr3\": \"CASSFEPGQGFYSNQPQHF\", \"cdr3_old\": \"C...</td>\n",
       "      <td>2</td>\n",
       "    </tr>\n",
       "  </tbody>\n",
       "</table>\n",
       "</div>"
      ],
      "text/plain": [
       "   complex.id Gene                  CDR3            V           J  \\\n",
       "0           1  TRA         CIVRAPGRADMRF  TRAV26-1*01   TRAJ43*01   \n",
       "1           1  TRB  CASSYLPGQGDHYSNQPQHF    TRBV13*01  TRBJ1-5*01   \n",
       "2           0  TRB   CASSFEAGQGFFSNQPQHF    TRBV13*01  TRBJ1-5*01   \n",
       "3           2  TRA        CAVPSGAGSYQLTF    TRAV20*01   TRAJ28*01   \n",
       "4           2  TRB   CASSFEPGQGFYSNQPQHF    TRBV13*01  TRBJ1-5*01   \n",
       "\n",
       "       Species     MHC A MHC B MHC class   Epitope Epitope gene  \\\n",
       "0  HomoSapiens  HLA-B*08   B2M      MHCI  FLKEKGGL          Nef   \n",
       "1  HomoSapiens  HLA-B*08   B2M      MHCI  FLKEKGGL          Nef   \n",
       "2  HomoSapiens  HLA-B*08   B2M      MHCI  FLKEKGGL          Nef   \n",
       "3  HomoSapiens  HLA-B*08   B2M      MHCI  FLKEKGGL          Nef   \n",
       "4  HomoSapiens  HLA-B*08   B2M      MHCI  FLKEKGGL          Nef   \n",
       "\n",
       "  Epitope species      Reference  \\\n",
       "0           HIV-1  PMID:15596521   \n",
       "1           HIV-1  PMID:15596521   \n",
       "2           HIV-1  PMID:15596521   \n",
       "3           HIV-1  PMID:15596521   \n",
       "4           HIV-1  PMID:15596521   \n",
       "\n",
       "                                              Method  \\\n",
       "0  {\"frequency\": \"\", \"identification\": \"tetramer-...   \n",
       "1  {\"frequency\": \"\", \"identification\": \"tetramer-...   \n",
       "2  {\"frequency\": \"\", \"identification\": \"tetramer-...   \n",
       "3  {\"frequency\": \"\", \"identification\": \"tetramer-...   \n",
       "4  {\"frequency\": \"\", \"identification\": \"tetramer-...   \n",
       "\n",
       "                                                Meta  \\\n",
       "0  {\"cell.subset\": \"CD8+\", \"clone.id\": \"\", \"donor...   \n",
       "1  {\"cell.subset\": \"CD8+\", \"clone.id\": \"\", \"donor...   \n",
       "2  {\"cell.subset\": \"CD8+\", \"clone.id\": \"\", \"donor...   \n",
       "3  {\"cell.subset\": \"CD8+\", \"clone.id\": \"\", \"donor...   \n",
       "4  {\"cell.subset\": \"CD8+\", \"clone.id\": \"\", \"donor...   \n",
       "\n",
       "                                             CDR3fix  Score  \n",
       "0  {\"cdr3\": \"CIVRAPGRADMRF\", \"cdr3_old\": \"CIVRAPG...      2  \n",
       "1  {\"cdr3\": \"CASSYLPGQGDHYSNQPQHF\", \"cdr3_old\": \"...      2  \n",
       "2  {\"cdr3\": \"CASSFEAGQGFFSNQPQHF\", \"cdr3_old\": \"C...      2  \n",
       "3  {\"cdr3\": \"CAVPSGAGSYQLTF\", \"cdr3_old\": \"CAVPSG...      2  \n",
       "4  {\"cdr3\": \"CASSFEPGQGFYSNQPQHF\", \"cdr3_old\": \"C...      2  "
      ]
     },
     "execution_count": 34,
     "metadata": {},
     "output_type": "execute_result"
    }
   ],
   "source": [
    "filtered.head()"
   ]
  },
  {
   "cell_type": "code",
   "execution_count": 35,
   "metadata": {},
   "outputs": [
    {
     "data": {
      "text/plain": [
       "array(['HIV-1', 'TriticumAestivum', 'CMV', 'SARS-CoV-2', 'HomoSapiens',\n",
       "       'EBV', 'M.tuberculosis', 'HTLV-1', 'InfluenzaA',\n",
       "       'SaccharomycesCerevisiae', 'HCV', 'E.Coli', 'HHV', 'synthetic',\n",
       "       'DENV1', 'DENV3/4', 'SelaginellaMoellendorffii',\n",
       "       'PseudomonasFluorescens', 'PseudomonasAeruginosa', 'HIV1',\n",
       "       'Homo sapiens', 'YFV', 'HSV-2', 'DENV2', 'MCPyV', 'HPV',\n",
       "       'StreptomycesKanamyceticus', 'HIV', 'HCoV-HKU1'], dtype=object)"
      ]
     },
     "execution_count": 35,
     "metadata": {},
     "output_type": "execute_result"
    }
   ],
   "source": [
    "filtered['Epitope species'].unique()"
   ]
  },
  {
   "cell_type": "code",
   "execution_count": 36,
   "metadata": {},
   "outputs": [],
   "source": [
    "filtered = filtered[filtered['Epitope species'] != 'SARS-CoV-2']"
   ]
  },
  {
   "cell_type": "code",
   "execution_count": 37,
   "metadata": {},
   "outputs": [
    {
     "data": {
      "text/plain": [
       "73761"
      ]
     },
     "execution_count": 37,
     "metadata": {},
     "output_type": "execute_result"
    }
   ],
   "source": [
    "len(filtered)"
   ]
  },
  {
   "cell_type": "code",
   "execution_count": 38,
   "metadata": {},
   "outputs": [],
   "source": [
    "def reformat(df: pd.DataFrame) -> pd.DataFrame:\n",
    "    reformatted_rows = []\n",
    "\n",
    "    # Process bulk data\n",
    "    bulk_data = df[df['complex.id'] == 0]\n",
    "    for _, row in tqdm(bulk_data.iterrows(), total=len(bulk_data)):\n",
    "        if row['Gene'] == 'TRA':\n",
    "            chain_cols = ['TRAV', 'CDR3A', 'TRAJ']\n",
    "        else:\n",
    "            chain_cols = ['TRBV', 'CDR3B', 'TRBJ']\n",
    "        reformatted_rows.append(\n",
    "            {\n",
    "                chain_cols[0]: row['V'],\n",
    "                chain_cols[1]: row['CDR3'],\n",
    "                chain_cols[2]: row['J'],\n",
    "                'Epitope': row['Epitope'],\n",
    "                'MHCA': row['MHC A'],\n",
    "                'MHCB': row['MHC B'],\n",
    "                'duplicate_count': pd.NA\n",
    "            }\n",
    "        )\n",
    "\n",
    "    # Process single cell data\n",
    "    sc_complex_ids = df[df['complex.id'] != 0]['complex.id'].unique()\n",
    "    for complex_id in tqdm(sc_complex_ids):\n",
    "        tcr_info = df[df['complex.id'] == complex_id]\n",
    "        tcr_info = tcr_info.drop_duplicates(subset=['V','J','CDR3'])\n",
    "\n",
    "        tra_info = tcr_info[tcr_info['Gene'] == 'TRA'].iloc[0]\n",
    "        trb_info = tcr_info[tcr_info['Gene'] == 'TRB'].iloc[0]\n",
    "\n",
    "        reformatted_rows.append(\n",
    "            {\n",
    "                'TRAV': tra_info['V'],\n",
    "                'CDR3A': tra_info['CDR3'],\n",
    "                'TRAJ': tra_info['J'],\n",
    "                'TRBV': trb_info['V'],\n",
    "                'CDR3B': trb_info['CDR3'],\n",
    "                'TRBJ': trb_info['J'],\n",
    "                'Epitope': tra_info['Epitope'],\n",
    "                'MHCA': tra_info['MHC A'],\n",
    "                'MHCB': tra_info['MHC B'],\n",
    "                'duplicate_count': pd.NA\n",
    "            }\n",
    "        )\n",
    "\n",
    "    reformatted_df = pd.DataFrame.from_records(reformatted_rows)\n",
    "    reformatted_df = reformatted_df.drop_duplicates()\n",
    "    return reformatted_df[\n",
    "        ['TRAV','CDR3A','TRAJ','TRBV','CDR3B','TRBJ','Epitope','MHCA','MHCB','duplicate_count']\n",
    "    ]"
   ]
  },
  {
   "cell_type": "code",
   "execution_count": 39,
   "metadata": {},
   "outputs": [
    {
     "name": "stderr",
     "output_type": "stream",
     "text": [
      "100%|██████████| 25163/25163 [00:01<00:00, 19496.24it/s]\n",
      "100%|██████████| 24299/24299 [00:47<00:00, 512.27it/s]\n"
     ]
    }
   ],
   "source": [
    "filtered = reformat(filtered)"
   ]
  },
  {
   "cell_type": "code",
   "execution_count": 40,
   "metadata": {},
   "outputs": [
    {
     "data": {
      "text/html": [
       "<div>\n",
       "<style scoped>\n",
       "    .dataframe tbody tr th:only-of-type {\n",
       "        vertical-align: middle;\n",
       "    }\n",
       "\n",
       "    .dataframe tbody tr th {\n",
       "        vertical-align: top;\n",
       "    }\n",
       "\n",
       "    .dataframe thead th {\n",
       "        text-align: right;\n",
       "    }\n",
       "</style>\n",
       "<table border=\"1\" class=\"dataframe\">\n",
       "  <thead>\n",
       "    <tr style=\"text-align: right;\">\n",
       "      <th></th>\n",
       "      <th>TRAV</th>\n",
       "      <th>CDR3A</th>\n",
       "      <th>TRAJ</th>\n",
       "      <th>TRBV</th>\n",
       "      <th>CDR3B</th>\n",
       "      <th>TRBJ</th>\n",
       "      <th>Epitope</th>\n",
       "      <th>MHCA</th>\n",
       "      <th>MHCB</th>\n",
       "      <th>duplicate_count</th>\n",
       "    </tr>\n",
       "  </thead>\n",
       "  <tbody>\n",
       "    <tr>\n",
       "      <th>0</th>\n",
       "      <td>NaN</td>\n",
       "      <td>NaN</td>\n",
       "      <td>NaN</td>\n",
       "      <td>TRBV13*01</td>\n",
       "      <td>CASSFEAGQGFFSNQPQHF</td>\n",
       "      <td>TRBJ1-5*01</td>\n",
       "      <td>FLKEKGGL</td>\n",
       "      <td>HLA-B*08</td>\n",
       "      <td>B2M</td>\n",
       "      <td>&lt;NA&gt;</td>\n",
       "    </tr>\n",
       "    <tr>\n",
       "      <th>1</th>\n",
       "      <td>NaN</td>\n",
       "      <td>NaN</td>\n",
       "      <td>NaN</td>\n",
       "      <td>TRBV13*01</td>\n",
       "      <td>CASSFEAGQGFFSNQPQHF</td>\n",
       "      <td>TRBJ1-5*01</td>\n",
       "      <td>FLKEQGGL</td>\n",
       "      <td>HLA-B*08</td>\n",
       "      <td>B2M</td>\n",
       "      <td>&lt;NA&gt;</td>\n",
       "    </tr>\n",
       "    <tr>\n",
       "      <th>2</th>\n",
       "      <td>NaN</td>\n",
       "      <td>NaN</td>\n",
       "      <td>NaN</td>\n",
       "      <td>TRBV13*01</td>\n",
       "      <td>CASSFEAGQGFFSNQPQHF</td>\n",
       "      <td>TRBJ1-5*01</td>\n",
       "      <td>FLKETGGL</td>\n",
       "      <td>HLA-B*08</td>\n",
       "      <td>B2M</td>\n",
       "      <td>&lt;NA&gt;</td>\n",
       "    </tr>\n",
       "    <tr>\n",
       "      <th>3</th>\n",
       "      <td>NaN</td>\n",
       "      <td>NaN</td>\n",
       "      <td>NaN</td>\n",
       "      <td>TRBV13*01</td>\n",
       "      <td>CASSFEAGQGFFSNQPQHF</td>\n",
       "      <td>TRBJ1-5*01</td>\n",
       "      <td>FLKEMGGL</td>\n",
       "      <td>HLA-B*08</td>\n",
       "      <td>B2M</td>\n",
       "      <td>&lt;NA&gt;</td>\n",
       "    </tr>\n",
       "    <tr>\n",
       "      <th>4</th>\n",
       "      <td>NaN</td>\n",
       "      <td>NaN</td>\n",
       "      <td>NaN</td>\n",
       "      <td>TRBV7-2*01</td>\n",
       "      <td>CASSFGVEDEQYF</td>\n",
       "      <td>TRBJ2-7*01</td>\n",
       "      <td>LQPFPQPELPYPQPQ</td>\n",
       "      <td>HLA-DQA1*05:01</td>\n",
       "      <td>HLA-DQB1*02:01</td>\n",
       "      <td>&lt;NA&gt;</td>\n",
       "    </tr>\n",
       "  </tbody>\n",
       "</table>\n",
       "</div>"
      ],
      "text/plain": [
       "  TRAV CDR3A TRAJ        TRBV                CDR3B        TRBJ  \\\n",
       "0  NaN   NaN  NaN   TRBV13*01  CASSFEAGQGFFSNQPQHF  TRBJ1-5*01   \n",
       "1  NaN   NaN  NaN   TRBV13*01  CASSFEAGQGFFSNQPQHF  TRBJ1-5*01   \n",
       "2  NaN   NaN  NaN   TRBV13*01  CASSFEAGQGFFSNQPQHF  TRBJ1-5*01   \n",
       "3  NaN   NaN  NaN   TRBV13*01  CASSFEAGQGFFSNQPQHF  TRBJ1-5*01   \n",
       "4  NaN   NaN  NaN  TRBV7-2*01        CASSFGVEDEQYF  TRBJ2-7*01   \n",
       "\n",
       "           Epitope            MHCA            MHCB duplicate_count  \n",
       "0         FLKEKGGL        HLA-B*08             B2M            <NA>  \n",
       "1         FLKEQGGL        HLA-B*08             B2M            <NA>  \n",
       "2         FLKETGGL        HLA-B*08             B2M            <NA>  \n",
       "3         FLKEMGGL        HLA-B*08             B2M            <NA>  \n",
       "4  LQPFPQPELPYPQPQ  HLA-DQA1*05:01  HLA-DQB1*02:01            <NA>  "
      ]
     },
     "execution_count": 40,
     "metadata": {},
     "output_type": "execute_result"
    }
   ],
   "source": [
    "filtered.head()"
   ]
  },
  {
   "cell_type": "code",
   "execution_count": 41,
   "metadata": {},
   "outputs": [],
   "source": [
    "filtered = filtered.drop_duplicates(subset=['TRAV','CDR3A','TRAJ','TRBV','CDR3B','TRBJ'], keep=False)"
   ]
  },
  {
   "cell_type": "code",
   "execution_count": 42,
   "metadata": {},
   "outputs": [
    {
     "data": {
      "text/plain": [
       "41478"
      ]
     },
     "execution_count": 42,
     "metadata": {},
     "output_type": "execute_result"
    }
   ],
   "source": [
    "len(filtered)"
   ]
  },
  {
   "cell_type": "code",
   "execution_count": 43,
   "metadata": {},
   "outputs": [],
   "source": [
    "filtered['TRAV'] = filtered['TRAV'].map(lambda x: None if isna(x) else tidytcells.tcr.standardise(x, enforce_functional=True))\n",
    "filtered['TRAJ'] = filtered['TRAJ'].map(lambda x: None if isna(x) else tidytcells.tcr.standardise(x, enforce_functional=True))\n",
    "filtered['TRBV'] = filtered['TRBV'].map(lambda x: None if isna(x) else tidytcells.tcr.standardise(x, enforce_functional=True))\n",
    "filtered['TRBJ'] = filtered['TRBJ'].map(lambda x: None if isna(x) else tidytcells.tcr.standardise(x, enforce_functional=True))"
   ]
  },
  {
   "cell_type": "code",
   "execution_count": 44,
   "metadata": {},
   "outputs": [
    {
     "data": {
      "text/plain": [
       "41478"
      ]
     },
     "execution_count": 44,
     "metadata": {},
     "output_type": "execute_result"
    }
   ],
   "source": [
    "len(filtered)"
   ]
  },
  {
   "attachments": {},
   "cell_type": "markdown",
   "metadata": {},
   "source": [
    "## Create general (messy) evaluation dataset"
   ]
  },
  {
   "cell_type": "code",
   "execution_count": 45,
   "metadata": {},
   "outputs": [],
   "source": [
    "subsampled = filtered.groupby('Epitope').filter(lambda x: len(x) >= 100)"
   ]
  },
  {
   "cell_type": "code",
   "execution_count": 46,
   "metadata": {},
   "outputs": [],
   "source": [
    "subsampled = subsampled.groupby('Epitope').sample(100, random_state=420)"
   ]
  },
  {
   "cell_type": "code",
   "execution_count": 47,
   "metadata": {},
   "outputs": [
    {
     "data": {
      "text/plain": [
       "3400"
      ]
     },
     "execution_count": 47,
     "metadata": {},
     "output_type": "execute_result"
    }
   ],
   "source": [
    "len(subsampled)"
   ]
  },
  {
   "cell_type": "code",
   "execution_count": 48,
   "metadata": {},
   "outputs": [],
   "source": [
    "subsampled.to_csv(preprocessed_dir/'evaluation.csv', index=False)"
   ]
  },
  {
   "attachments": {},
   "cell_type": "markdown",
   "metadata": {},
   "source": [
    "## Create beta-guaranteed evaluation dataset"
   ]
  },
  {
   "cell_type": "code",
   "execution_count": 49,
   "metadata": {},
   "outputs": [],
   "source": [
    "filtered_beta = filtered[filtered.notna()['CDR3B']]\n",
    "filtered_beta = filtered_beta.drop_duplicates(subset=['TRBV','CDR3B','TRBJ'], keep=False)"
   ]
  },
  {
   "cell_type": "code",
   "execution_count": 50,
   "metadata": {},
   "outputs": [
    {
     "data": {
      "text/plain": [
       "31463"
      ]
     },
     "execution_count": 50,
     "metadata": {},
     "output_type": "execute_result"
    }
   ],
   "source": [
    "len(filtered_beta)"
   ]
  },
  {
   "cell_type": "code",
   "execution_count": 51,
   "metadata": {},
   "outputs": [
    {
     "data": {
      "text/html": [
       "<div>\n",
       "<style scoped>\n",
       "    .dataframe tbody tr th:only-of-type {\n",
       "        vertical-align: middle;\n",
       "    }\n",
       "\n",
       "    .dataframe tbody tr th {\n",
       "        vertical-align: top;\n",
       "    }\n",
       "\n",
       "    .dataframe thead th {\n",
       "        text-align: right;\n",
       "    }\n",
       "</style>\n",
       "<table border=\"1\" class=\"dataframe\">\n",
       "  <thead>\n",
       "    <tr style=\"text-align: right;\">\n",
       "      <th></th>\n",
       "      <th>TRAV</th>\n",
       "      <th>CDR3A</th>\n",
       "      <th>TRAJ</th>\n",
       "      <th>TRBV</th>\n",
       "      <th>CDR3B</th>\n",
       "      <th>TRBJ</th>\n",
       "      <th>Epitope</th>\n",
       "      <th>MHCA</th>\n",
       "      <th>MHCB</th>\n",
       "      <th>duplicate_count</th>\n",
       "    </tr>\n",
       "  </thead>\n",
       "  <tbody>\n",
       "    <tr>\n",
       "      <th>4</th>\n",
       "      <td>None</td>\n",
       "      <td>NaN</td>\n",
       "      <td>None</td>\n",
       "      <td>TRBV7-2*01</td>\n",
       "      <td>CASSFGVEDEQYF</td>\n",
       "      <td>TRBJ2-7*01</td>\n",
       "      <td>LQPFPQPELPYPQPQ</td>\n",
       "      <td>HLA-DQA1*05:01</td>\n",
       "      <td>HLA-DQB1*02:01</td>\n",
       "      <td>&lt;NA&gt;</td>\n",
       "    </tr>\n",
       "    <tr>\n",
       "      <th>5</th>\n",
       "      <td>None</td>\n",
       "      <td>NaN</td>\n",
       "      <td>None</td>\n",
       "      <td>TRBV3-1*01</td>\n",
       "      <td>CASSSLNTQYF</td>\n",
       "      <td>TRBJ2-3*01</td>\n",
       "      <td>LQPFPQPELPYPQPQ</td>\n",
       "      <td>HLA-DQA1*05:01</td>\n",
       "      <td>HLA-DQB1*02:01</td>\n",
       "      <td>&lt;NA&gt;</td>\n",
       "    </tr>\n",
       "    <tr>\n",
       "      <th>6</th>\n",
       "      <td>None</td>\n",
       "      <td>NaN</td>\n",
       "      <td>None</td>\n",
       "      <td>TRBV7-3*01</td>\n",
       "      <td>CASSIRSTDTQYF</td>\n",
       "      <td>TRBJ2-3*01</td>\n",
       "      <td>LQPFPQPELPYPQPQ</td>\n",
       "      <td>HLA-DQA1*05:01</td>\n",
       "      <td>HLA-DQB1*02:01</td>\n",
       "      <td>&lt;NA&gt;</td>\n",
       "    </tr>\n",
       "    <tr>\n",
       "      <th>7</th>\n",
       "      <td>None</td>\n",
       "      <td>NaN</td>\n",
       "      <td>None</td>\n",
       "      <td>TRBV4-1*01</td>\n",
       "      <td>CASSQVTLPTETQYF</td>\n",
       "      <td>TRBJ2-5*01</td>\n",
       "      <td>LQPFPQPELPYPQPQ</td>\n",
       "      <td>HLA-DQA1*05:01</td>\n",
       "      <td>HLA-DQB1*02:01</td>\n",
       "      <td>&lt;NA&gt;</td>\n",
       "    </tr>\n",
       "    <tr>\n",
       "      <th>8</th>\n",
       "      <td>None</td>\n",
       "      <td>NaN</td>\n",
       "      <td>None</td>\n",
       "      <td>TRBV7-2*01</td>\n",
       "      <td>CASNFGVEDEQYF</td>\n",
       "      <td>TRBJ2-7*01</td>\n",
       "      <td>LQPFPQPELPYPQPQ</td>\n",
       "      <td>HLA-DQA1*05:01</td>\n",
       "      <td>HLA-DQB1*02:01</td>\n",
       "      <td>&lt;NA&gt;</td>\n",
       "    </tr>\n",
       "  </tbody>\n",
       "</table>\n",
       "</div>"
      ],
      "text/plain": [
       "   TRAV CDR3A  TRAJ        TRBV            CDR3B        TRBJ          Epitope  \\\n",
       "4  None   NaN  None  TRBV7-2*01    CASSFGVEDEQYF  TRBJ2-7*01  LQPFPQPELPYPQPQ   \n",
       "5  None   NaN  None  TRBV3-1*01      CASSSLNTQYF  TRBJ2-3*01  LQPFPQPELPYPQPQ   \n",
       "6  None   NaN  None  TRBV7-3*01    CASSIRSTDTQYF  TRBJ2-3*01  LQPFPQPELPYPQPQ   \n",
       "7  None   NaN  None  TRBV4-1*01  CASSQVTLPTETQYF  TRBJ2-5*01  LQPFPQPELPYPQPQ   \n",
       "8  None   NaN  None  TRBV7-2*01    CASNFGVEDEQYF  TRBJ2-7*01  LQPFPQPELPYPQPQ   \n",
       "\n",
       "             MHCA            MHCB duplicate_count  \n",
       "4  HLA-DQA1*05:01  HLA-DQB1*02:01            <NA>  \n",
       "5  HLA-DQA1*05:01  HLA-DQB1*02:01            <NA>  \n",
       "6  HLA-DQA1*05:01  HLA-DQB1*02:01            <NA>  \n",
       "7  HLA-DQA1*05:01  HLA-DQB1*02:01            <NA>  \n",
       "8  HLA-DQA1*05:01  HLA-DQB1*02:01            <NA>  "
      ]
     },
     "execution_count": 51,
     "metadata": {},
     "output_type": "execute_result"
    }
   ],
   "source": [
    "filtered_beta.head()"
   ]
  },
  {
   "cell_type": "code",
   "execution_count": 52,
   "metadata": {},
   "outputs": [],
   "source": [
    "subsampled_beta = filtered_beta.groupby('Epitope').filter(lambda x: len(x) >= 100)"
   ]
  },
  {
   "cell_type": "code",
   "execution_count": 53,
   "metadata": {},
   "outputs": [],
   "source": [
    "subsampled_beta = subsampled_beta.groupby('Epitope').sample(100, random_state=420)"
   ]
  },
  {
   "cell_type": "code",
   "execution_count": 54,
   "metadata": {},
   "outputs": [
    {
     "data": {
      "text/plain": [
       "2900"
      ]
     },
     "execution_count": 54,
     "metadata": {},
     "output_type": "execute_result"
    }
   ],
   "source": [
    "len(subsampled_beta)"
   ]
  },
  {
   "cell_type": "code",
   "execution_count": 55,
   "metadata": {},
   "outputs": [],
   "source": [
    "subsampled_beta.to_csv(preprocessed_dir/'evaluation_beta.csv', index=False)"
   ]
  },
  {
   "cell_type": "code",
   "execution_count": null,
   "metadata": {},
   "outputs": [],
   "source": []
  }
 ],
 "metadata": {
  "kernelspec": {
   "display_name": "Python 3.8.15 ('.venv': venv)",
   "language": "python",
   "name": "python3"
  },
  "language_info": {
   "codemirror_mode": {
    "name": "ipython",
    "version": 3
   },
   "file_extension": ".py",
   "mimetype": "text/x-python",
   "name": "python",
   "nbconvert_exporter": "python",
   "pygments_lexer": "ipython3",
   "version": "3.10.9"
  },
  "orig_nbformat": 4,
  "vscode": {
   "interpreter": {
    "hash": "bab11497baf8882c4e95e2d544b4f7a8d499018a7e93af1d4b5fac976897075f"
   }
  }
 },
 "nbformat": 4,
 "nbformat_minor": 2
}
