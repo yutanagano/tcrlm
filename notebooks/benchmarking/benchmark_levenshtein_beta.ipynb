{
 "cells": [
  {
   "attachments": {},
   "cell_type": "markdown",
   "metadata": {},
   "source": [
    "# Benchmarking simple CDR3 Beta Levenshtein distance"
   ]
  },
  {
   "attachments": {},
   "cell_type": "markdown",
   "metadata": {},
   "source": [
    "## Setup"
   ]
  },
  {
   "cell_type": "code",
   "execution_count": 1,
   "metadata": {},
   "outputs": [],
   "source": [
    "import os\n",
    "from pathlib import Path\n",
    "import sys\n",
    "\n",
    "if \"__project_dir__\" not in globals():\n",
    "    __project_dir__ = Path.cwd().parent.resolve()\n",
    "\n",
    "sys.path.append(__project_dir__)\n",
    "os.chdir(__project_dir__)"
   ]
  },
  {
   "cell_type": "code",
   "execution_count": 2,
   "metadata": {},
   "outputs": [],
   "source": [
    "from itertools import combinations\n",
    "import json\n",
    "import matplotlib.pyplot as plt\n",
    "import pandas as pd\n",
    "from pandas import DataFrame, notna\n",
    "from pathlib import Path\n",
    "from rapidfuzz.process import cdist\n",
    "from rapidfuzz.distance import Levenshtein\n",
    "import seaborn\n",
    "import torch\n",
    "from tqdm import tqdm\n",
    "\n",
    "seaborn.set_theme()\n",
    "seaborn.set_style(\"white\")"
   ]
  },
  {
   "cell_type": "code",
   "execution_count": 3,
   "metadata": {},
   "outputs": [],
   "source": [
    "if torch.cuda.is_available():\n",
    "    device = torch.device(\"cuda:0\")\n",
    "else:\n",
    "    device = torch.device(\"cpu\")"
   ]
  },
  {
   "cell_type": "markdown",
   "metadata": {},
   "source": [
    "### Create benchmarking directory"
   ]
  },
  {
   "cell_type": "code",
   "execution_count": 4,
   "metadata": {},
   "outputs": [],
   "source": [
    "BENCHMARK_DIR = Path(f\"benchmarks_beta/CDR3 Levenshtein\")\n",
    "if not BENCHMARK_DIR.is_dir():\n",
    "    BENCHMARK_DIR.mkdir()"
   ]
  },
  {
   "attachments": {},
   "cell_type": "markdown",
   "metadata": {},
   "source": [
    "### Create cache directory"
   ]
  },
  {
   "cell_type": "code",
   "execution_count": 5,
   "metadata": {},
   "outputs": [],
   "source": [
    "CACHE_DIR = BENCHMARK_DIR / \".cache\"\n",
    "if not CACHE_DIR.is_dir():\n",
    "    CACHE_DIR.mkdir()"
   ]
  },
  {
   "attachments": {},
   "cell_type": "markdown",
   "metadata": {},
   "source": [
    "### Load data"
   ]
  },
  {
   "cell_type": "code",
   "execution_count": 6,
   "metadata": {},
   "outputs": [],
   "source": [
    "back_df = pd.read_csv(\n",
    "    \"/home/yutanagano/UCLOneDrive/MBPhD/projects/tcr_embedder/data/preprocessed/tanno/test.csv\"\n",
    ")\n",
    "ep_df = pd.read_csv(\n",
    "    \"/home/yutanagano/UCLOneDrive/MBPhD/projects/tcr_embedder/data/preprocessed/vdjdb/evaluation_beta.csv\"\n",
    ")\n",
    "\n",
    "back_df = back_df[[\"CDR3B\"]]\n",
    "ep_df = ep_df[[\"CDR3B\", \"Epitope\"]]"
   ]
  },
  {
   "cell_type": "code",
   "execution_count": 7,
   "metadata": {},
   "outputs": [],
   "source": [
    "epitope_cat_codes = torch.tensor(ep_df[\"Epitope\"].astype(\"category\").cat.codes).to(\n",
    "    device\n",
    ")"
   ]
  },
  {
   "cell_type": "markdown",
   "metadata": {},
   "source": [
    "## Calculate alignment and uniformity"
   ]
  },
  {
   "cell_type": "code",
   "execution_count": 8,
   "metadata": {},
   "outputs": [],
   "source": [
    "NUM_EPITOPES = ep_df[\"Epitope\"].nunique()\n",
    "EPGRP_SIZE = ep_df.groupby(\"Epitope\").size().iloc[0]"
   ]
  },
  {
   "cell_type": "code",
   "execution_count": 9,
   "metadata": {},
   "outputs": [],
   "source": [
    "if (CACHE_DIR / \"ep_cdist.pt\").is_file():\n",
    "    ep_cdist = torch.load(CACHE_DIR / \"ep_cdist.pt\").to(device)\n",
    "else:\n",
    "    ep_cdist = cdist(ep_df[\"CDR3B\"], ep_df[\"CDR3B\"], scorer=Levenshtein.distance)\n",
    "    ep_cdist = torch.tensor(ep_cdist, dtype=torch.float32).to(device)\n",
    "    torch.save(ep_cdist.cpu(), CACHE_DIR / \"ep_cdist.pt\")"
   ]
  },
  {
   "cell_type": "code",
   "execution_count": 10,
   "metadata": {},
   "outputs": [],
   "source": [
    "if (CACHE_DIR / \"back_cdist.pt\").is_file():\n",
    "    back_cdist = torch.load(CACHE_DIR / \"back_cdist.pt\").to(device)\n",
    "else:\n",
    "    back_cdist = cdist(\n",
    "        back_df[\"CDR3B\"].iloc[:10000],\n",
    "        back_df[\"CDR3B\"].iloc[:10000],\n",
    "        scorer=Levenshtein.distance,\n",
    "    )\n",
    "    back_cdist = torch.tensor(back_cdist, dtype=torch.float32).to(device)\n",
    "    torch.save(back_cdist.cpu(), CACHE_DIR / \"back_cdist.pt\")"
   ]
  },
  {
   "cell_type": "code",
   "execution_count": 11,
   "metadata": {},
   "outputs": [],
   "source": [
    "ep_alignments = []\n",
    "\n",
    "for i in range(NUM_EPITOPES):\n",
    "    start_idx = i * EPGRP_SIZE\n",
    "    end_idx = (i + 1) * EPGRP_SIZE\n",
    "    ep_view = ep_cdist[start_idx:end_idx, start_idx:end_idx]\n",
    "\n",
    "    ep_alignments.append((ep_view.sum() / (EPGRP_SIZE * (EPGRP_SIZE - 1))).item())\n",
    "\n",
    "alignment = torch.tensor(ep_alignments).mean().item()"
   ]
  },
  {
   "cell_type": "code",
   "execution_count": 12,
   "metadata": {},
   "outputs": [],
   "source": [
    "back_cdist_neg_exp = back_cdist.mul(-1).exp()\n",
    "uniformity_exp = back_cdist_neg_exp.sum() / (10000 * 9999)\n",
    "uniformity = uniformity_exp.log().item()"
   ]
  },
  {
   "attachments": {},
   "cell_type": "markdown",
   "metadata": {},
   "source": [
    "## k-NN evaluation"
   ]
  },
  {
   "cell_type": "code",
   "execution_count": 13,
   "metadata": {},
   "outputs": [
    {
     "data": {
      "image/png": "[encoded data removed]",
      "text/plain": [
       "<Figure size 640x480 with 2 Axes>"
      ]
     },
     "metadata": {},
     "output_type": "display_data"
    }
   ],
   "source": [
    "avg_dist_in_group = torch.nn.functional.avg_pool2d(\n",
    "    ep_cdist.unsqueeze(0), EPGRP_SIZE\n",
    ").squeeze(0)\n",
    "scaling_factor = (\n",
    "    torch.ones(NUM_EPITOPES, NUM_EPITOPES)\n",
    "    .fill_diagonal_(EPGRP_SIZE / (EPGRP_SIZE - 1))\n",
    "    .to(device)\n",
    ")\n",
    "avg_dist_in_group *= scaling_factor\n",
    "\n",
    "c_dist_map = seaborn.heatmap(avg_dist_in_group.cpu().detach().numpy())\n",
    "plt.tight_layout()\n",
    "plt.savefig(BENCHMARK_DIR / \"cdists.png\")\n",
    "plt.show()"
   ]
  },
  {
   "cell_type": "code",
   "execution_count": 14,
   "metadata": {},
   "outputs": [
    {
     "data": {
      "text/plain": [
       "device(type='cuda', index=0)"
      ]
     },
     "execution_count": 14,
     "metadata": {},
     "output_type": "execute_result"
    }
   ],
   "source": [
    "ep_cdist.device"
   ]
  },
  {
   "cell_type": "code",
   "execution_count": 15,
   "metadata": {},
   "outputs": [
    {
     "data": {
      "text/plain": [
       "tensor([[inf,  7.,  8.,  ...,  8.,  6., 10.],\n",
       "        [ 7., inf,  6.,  ...,  5.,  5.,  9.],\n",
       "        [ 8.,  6., inf,  ...,  9.,  9., 11.],\n",
       "        ...,\n",
       "        [ 8.,  5.,  9.,  ..., inf,  5.,  6.],\n",
       "        [ 6.,  5.,  9.,  ...,  5., inf,  9.],\n",
       "        [10.,  9., 11.,  ...,  6.,  9., inf]], device='cuda:0')"
      ]
     },
     "execution_count": 15,
     "metadata": {},
     "output_type": "execute_result"
    }
   ],
   "source": [
    "ep_cdist.fill_diagonal_(torch.inf)"
   ]
  },
  {
   "cell_type": "code",
   "execution_count": 16,
   "metadata": {},
   "outputs": [
    {
     "name": "stderr",
     "output_type": "stream",
     "text": [
      "100%|██████████| 2900/2900 [00:00<00:00, 6672.11it/s]\n"
     ]
    },
    {
     "name": "stdout",
     "output_type": "stream",
     "text": [
      "5-NN score: 0.17241379618644714\n"
     ]
    },
    {
     "name": "stderr",
     "output_type": "stream",
     "text": [
      "100%|██████████| 2900/2900 [00:00<00:00, 7446.32it/s]\n"
     ]
    },
    {
     "name": "stdout",
     "output_type": "stream",
     "text": [
      "10-NN score: 0.17275862395763397\n"
     ]
    },
    {
     "name": "stderr",
     "output_type": "stream",
     "text": [
      "100%|██████████| 2900/2900 [00:00<00:00, 7936.51it/s]\n"
     ]
    },
    {
     "name": "stdout",
     "output_type": "stream",
     "text": [
      "50-NN score: 0.15344826877117157\n"
     ]
    },
    {
     "name": "stderr",
     "output_type": "stream",
     "text": [
      "100%|██████████| 2900/2900 [00:00<00:00, 8287.12it/s]"
     ]
    },
    {
     "name": "stdout",
     "output_type": "stream",
     "text": [
      "100-NN score: 0.14379310607910156\n"
     ]
    },
    {
     "name": "stderr",
     "output_type": "stream",
     "text": [
      "\n"
     ]
    }
   ],
   "source": [
    "knn_scores = dict()\n",
    "\n",
    "for k in (5, 10, 50, 100):\n",
    "    scores = []\n",
    "    ep_size = len(ep_df)\n",
    "\n",
    "    for tcr_index in tqdm(range(ep_size)):\n",
    "        # Get correct epitope label\n",
    "        expected = epitope_cat_codes[tcr_index]\n",
    "\n",
    "        # Get list of distances for that TCR\n",
    "        dists = ep_cdist[tcr_index]\n",
    "\n",
    "        # Get indices of nearest neighbours\n",
    "        _, idcs = torch.topk(dists, k=k, largest=False)\n",
    "\n",
    "        # Get epitopes of nearest neighbours\n",
    "        knn_cat_codes = epitope_cat_codes[idcs]\n",
    "\n",
    "        # Predict epitope\n",
    "        pred, _ = torch.mode(knn_cat_codes)\n",
    "\n",
    "        # Record score\n",
    "        scores.append(expected.item() == pred.item())\n",
    "\n",
    "    score = torch.tensor(scores, dtype=torch.float32).mean().item()\n",
    "\n",
    "    print(f\"{k}-NN score: {score}\")\n",
    "\n",
    "    knn_scores[k] = score"
   ]
  },
  {
   "cell_type": "markdown",
   "metadata": {},
   "source": [
    "## Write out evaluation metrics to json"
   ]
  },
  {
   "cell_type": "code",
   "execution_count": 17,
   "metadata": {},
   "outputs": [],
   "source": [
    "metrics_dict = {\n",
    "    \"model_name\": \"CDR3 Levenshtein\",\n",
    "    \"alignment\": alignment,\n",
    "    \"uniformity\": uniformity,\n",
    "    \"knn_scores\": knn_scores,\n",
    "}"
   ]
  },
  {
   "cell_type": "code",
   "execution_count": 18,
   "metadata": {},
   "outputs": [],
   "source": [
    "with open(BENCHMARK_DIR / \"metrics.json\", \"w\") as f:\n",
    "    json.dump(metrics_dict, f, indent=4)"
   ]
  },
  {
   "cell_type": "code",
   "execution_count": null,
   "metadata": {},
   "outputs": [],
   "source": []
  }
 ],
 "metadata": {
  "kernelspec": {
   "display_name": "Python 3.8.15 ('.venv': venv)",
   "language": "python",
   "name": "python3"
  },
  "language_info": {
   "codemirror_mode": {
    "name": "ipython",
    "version": 3
   },
   "file_extension": ".py",
   "mimetype": "text/x-python",
   "name": "python",
   "nbconvert_exporter": "python",
   "pygments_lexer": "ipython3",
   "version": "3.10.9"
  },
  "orig_nbformat": 4,
  "vscode": {
   "interpreter": {
    "hash": "bab11497baf8882c4e95e2d544b4f7a8d499018a7e93af1d4b5fac976897075f"
   }
  }
 },
 "nbformat": 4,
 "nbformat_minor": 2
}
