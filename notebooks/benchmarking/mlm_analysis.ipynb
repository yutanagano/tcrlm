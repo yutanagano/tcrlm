{
 "cells": [
  {
   "attachments": {},
   "cell_type": "markdown",
   "metadata": {},
   "source": [
    "# Benchmarking a TCR Beta embedder model"
   ]
  },
  {
   "attachments": {},
   "cell_type": "markdown",
   "metadata": {},
   "source": [
    "## Setup"
   ]
  },
  {
   "cell_type": "code",
   "execution_count": 36,
   "metadata": {},
   "outputs": [],
   "source": [
    "import os\n",
    "from pathlib import Path\n",
    "import sys\n",
    "\n",
    "if \"__project_dir__\" not in globals():\n",
    "    __project_dir__ = Path.cwd().parents[1].resolve()\n",
    "\n",
    "sys.path.append(__project_dir__)\n",
    "os.chdir(__project_dir__)"
   ]
  },
  {
   "cell_type": "code",
   "execution_count": 37,
   "metadata": {},
   "outputs": [],
   "source": [
    "import json\n",
    "from matplotlib import pyplot as plt\n",
    "import pandas as pd\n",
    "import seaborn\n",
    "from src import modules\n",
    "import torch\n",
    "\n",
    "seaborn.set_theme()\n",
    "seaborn.set_style(\"white\")"
   ]
  },
  {
   "attachments": {},
   "cell_type": "markdown",
   "metadata": {},
   "source": [
    "### Select model"
   ]
  },
  {
   "cell_type": "code",
   "execution_count": 38,
   "metadata": {},
   "outputs": [
    {
     "data": {
      "text/plain": [
       "<All keys matched successfully>"
      ]
     },
     "execution_count": 38,
     "metadata": {},
     "output_type": "execute_result"
    }
   ],
   "source": [
    "model_save_dir = Path(\n",
    "    \"/home/yutanagano/UCLOneDrive/MBPhD/projects/tcr_embedder/model_saves/BetaCDR3BERT_ap\"\n",
    ")\n",
    "with open(model_save_dir / \"config.json\", \"r\") as f:\n",
    "    config = json.load(f)\n",
    "model = modules.BetaCDR3BERT_ap(**config[\"model\"][\"config\"])\n",
    "model.load_state_dict(torch.load(model_save_dir / \"state_dict.pt\"))"
   ]
  },
  {
   "attachments": {},
   "cell_type": "markdown",
   "metadata": {},
   "source": [
    "### Load training log"
   ]
  },
  {
   "cell_type": "code",
   "execution_count": 39,
   "metadata": {},
   "outputs": [],
   "source": [
    "training_log = pd.read_csv(model_save_dir / \"log.csv\")"
   ]
  },
  {
   "cell_type": "code",
   "execution_count": 40,
   "metadata": {},
   "outputs": [
    {
     "data": {
      "text/html": [
       "<div>\n",
       "<style scoped>\n",
       "    .dataframe tbody tr th:only-of-type {\n",
       "        vertical-align: middle;\n",
       "    }\n",
       "\n",
       "    .dataframe tbody tr th {\n",
       "        vertical-align: top;\n",
       "    }\n",
       "\n",
       "    .dataframe thead th {\n",
       "        text-align: right;\n",
       "    }\n",
       "</style>\n",
       "<table border=\"1\" class=\"dataframe\">\n",
       "  <thead>\n",
       "    <tr style=\"text-align: right;\">\n",
       "      <th></th>\n",
       "      <th>epoch</th>\n",
       "      <th>loss</th>\n",
       "      <th>lr</th>\n",
       "      <th>valid_loss</th>\n",
       "      <th>valid_acc</th>\n",
       "      <th>valid_top5_acc</th>\n",
       "    </tr>\n",
       "  </thead>\n",
       "  <tbody>\n",
       "    <tr>\n",
       "      <th>0</th>\n",
       "      <td>1</td>\n",
       "      <td>1.934576</td>\n",
       "      <td>0.000064</td>\n",
       "      <td>1.535824</td>\n",
       "      <td>0.657657</td>\n",
       "      <td>0.852665</td>\n",
       "    </tr>\n",
       "    <tr>\n",
       "      <th>1</th>\n",
       "      <td>2</td>\n",
       "      <td>1.460554</td>\n",
       "      <td>0.000191</td>\n",
       "      <td>1.445925</td>\n",
       "      <td>0.690775</td>\n",
       "      <td>0.870931</td>\n",
       "    </tr>\n",
       "    <tr>\n",
       "      <th>2</th>\n",
       "      <td>3</td>\n",
       "      <td>1.402620</td>\n",
       "      <td>0.000318</td>\n",
       "      <td>1.422470</td>\n",
       "      <td>0.698346</td>\n",
       "      <td>0.874959</td>\n",
       "    </tr>\n",
       "    <tr>\n",
       "      <th>3</th>\n",
       "      <td>4</td>\n",
       "      <td>1.382157</td>\n",
       "      <td>0.000445</td>\n",
       "      <td>1.410517</td>\n",
       "      <td>0.701465</td>\n",
       "      <td>0.878503</td>\n",
       "    </tr>\n",
       "    <tr>\n",
       "      <th>4</th>\n",
       "      <td>5</td>\n",
       "      <td>1.375026</td>\n",
       "      <td>0.000572</td>\n",
       "      <td>1.408233</td>\n",
       "      <td>0.701719</td>\n",
       "      <td>0.878244</td>\n",
       "    </tr>\n",
       "    <tr>\n",
       "      <th>5</th>\n",
       "      <td>6</td>\n",
       "      <td>1.369564</td>\n",
       "      <td>0.000700</td>\n",
       "      <td>1.406445</td>\n",
       "      <td>0.701862</td>\n",
       "      <td>0.879038</td>\n",
       "    </tr>\n",
       "    <tr>\n",
       "      <th>6</th>\n",
       "      <td>7</td>\n",
       "      <td>1.366941</td>\n",
       "      <td>0.000827</td>\n",
       "      <td>1.405469</td>\n",
       "      <td>0.704450</td>\n",
       "      <td>0.881068</td>\n",
       "    </tr>\n",
       "    <tr>\n",
       "      <th>7</th>\n",
       "      <td>8</td>\n",
       "      <td>1.363038</td>\n",
       "      <td>0.000851</td>\n",
       "      <td>1.400994</td>\n",
       "      <td>0.704007</td>\n",
       "      <td>0.881221</td>\n",
       "    </tr>\n",
       "    <tr>\n",
       "      <th>8</th>\n",
       "      <td>9</td>\n",
       "      <td>1.358839</td>\n",
       "      <td>0.000800</td>\n",
       "      <td>1.391279</td>\n",
       "      <td>0.707126</td>\n",
       "      <td>0.882822</td>\n",
       "    </tr>\n",
       "    <tr>\n",
       "      <th>9</th>\n",
       "      <td>10</td>\n",
       "      <td>1.356359</td>\n",
       "      <td>0.000756</td>\n",
       "      <td>1.396588</td>\n",
       "      <td>0.706050</td>\n",
       "      <td>0.881381</td>\n",
       "    </tr>\n",
       "    <tr>\n",
       "      <th>10</th>\n",
       "      <td>11</td>\n",
       "      <td>1.353520</td>\n",
       "      <td>0.000719</td>\n",
       "      <td>1.390258</td>\n",
       "      <td>0.708194</td>\n",
       "      <td>0.884848</td>\n",
       "    </tr>\n",
       "    <tr>\n",
       "      <th>11</th>\n",
       "      <td>12</td>\n",
       "      <td>1.351770</td>\n",
       "      <td>0.000687</td>\n",
       "      <td>1.390757</td>\n",
       "      <td>0.707120</td>\n",
       "      <td>0.883492</td>\n",
       "    </tr>\n",
       "    <tr>\n",
       "      <th>12</th>\n",
       "      <td>13</td>\n",
       "      <td>1.350224</td>\n",
       "      <td>0.000659</td>\n",
       "      <td>1.392322</td>\n",
       "      <td>0.707379</td>\n",
       "      <td>0.883921</td>\n",
       "    </tr>\n",
       "    <tr>\n",
       "      <th>13</th>\n",
       "      <td>14</td>\n",
       "      <td>1.349622</td>\n",
       "      <td>0.000634</td>\n",
       "      <td>1.393566</td>\n",
       "      <td>0.706090</td>\n",
       "      <td>0.883495</td>\n",
       "    </tr>\n",
       "    <tr>\n",
       "      <th>14</th>\n",
       "      <td>15</td>\n",
       "      <td>1.346974</td>\n",
       "      <td>0.000612</td>\n",
       "      <td>1.390304</td>\n",
       "      <td>0.707839</td>\n",
       "      <td>0.883811</td>\n",
       "    </tr>\n",
       "    <tr>\n",
       "      <th>15</th>\n",
       "      <td>16</td>\n",
       "      <td>1.345419</td>\n",
       "      <td>0.000592</td>\n",
       "      <td>1.392541</td>\n",
       "      <td>0.706383</td>\n",
       "      <td>0.883013</td>\n",
       "    </tr>\n",
       "    <tr>\n",
       "      <th>16</th>\n",
       "      <td>17</td>\n",
       "      <td>1.345559</td>\n",
       "      <td>0.000574</td>\n",
       "      <td>1.385562</td>\n",
       "      <td>0.708351</td>\n",
       "      <td>0.885244</td>\n",
       "    </tr>\n",
       "    <tr>\n",
       "      <th>17</th>\n",
       "      <td>18</td>\n",
       "      <td>1.343151</td>\n",
       "      <td>0.000557</td>\n",
       "      <td>1.385517</td>\n",
       "      <td>0.708055</td>\n",
       "      <td>0.884741</td>\n",
       "    </tr>\n",
       "    <tr>\n",
       "      <th>18</th>\n",
       "      <td>19</td>\n",
       "      <td>1.343785</td>\n",
       "      <td>0.000542</td>\n",
       "      <td>1.384857</td>\n",
       "      <td>0.708728</td>\n",
       "      <td>0.885288</td>\n",
       "    </tr>\n",
       "    <tr>\n",
       "      <th>19</th>\n",
       "      <td>20</td>\n",
       "      <td>1.342268</td>\n",
       "      <td>0.000528</td>\n",
       "      <td>1.385441</td>\n",
       "      <td>0.708391</td>\n",
       "      <td>0.884176</td>\n",
       "    </tr>\n",
       "  </tbody>\n",
       "</table>\n",
       "</div>"
      ],
      "text/plain": [
       "    epoch      loss        lr  valid_loss  valid_acc  valid_top5_acc\n",
       "0       1  1.934576  0.000064    1.535824   0.657657        0.852665\n",
       "1       2  1.460554  0.000191    1.445925   0.690775        0.870931\n",
       "2       3  1.402620  0.000318    1.422470   0.698346        0.874959\n",
       "3       4  1.382157  0.000445    1.410517   0.701465        0.878503\n",
       "4       5  1.375026  0.000572    1.408233   0.701719        0.878244\n",
       "5       6  1.369564  0.000700    1.406445   0.701862        0.879038\n",
       "6       7  1.366941  0.000827    1.405469   0.704450        0.881068\n",
       "7       8  1.363038  0.000851    1.400994   0.704007        0.881221\n",
       "8       9  1.358839  0.000800    1.391279   0.707126        0.882822\n",
       "9      10  1.356359  0.000756    1.396588   0.706050        0.881381\n",
       "10     11  1.353520  0.000719    1.390258   0.708194        0.884848\n",
       "11     12  1.351770  0.000687    1.390757   0.707120        0.883492\n",
       "12     13  1.350224  0.000659    1.392322   0.707379        0.883921\n",
       "13     14  1.349622  0.000634    1.393566   0.706090        0.883495\n",
       "14     15  1.346974  0.000612    1.390304   0.707839        0.883811\n",
       "15     16  1.345419  0.000592    1.392541   0.706383        0.883013\n",
       "16     17  1.345559  0.000574    1.385562   0.708351        0.885244\n",
       "17     18  1.343151  0.000557    1.385517   0.708055        0.884741\n",
       "18     19  1.343785  0.000542    1.384857   0.708728        0.885288\n",
       "19     20  1.342268  0.000528    1.385441   0.708391        0.884176"
      ]
     },
     "execution_count": 40,
     "metadata": {},
     "output_type": "execute_result"
    }
   ],
   "source": [
    "training_log"
   ]
  },
  {
   "cell_type": "markdown",
   "metadata": {},
   "source": [
    "### Create benchmarking directory"
   ]
  },
  {
   "cell_type": "code",
   "execution_count": 41,
   "metadata": {},
   "outputs": [],
   "source": [
    "BENCHMARK_DIR = Path(f\"benchmarks_beta/{model.name}\")\n",
    "if not BENCHMARK_DIR.is_dir():\n",
    "    BENCHMARK_DIR.mkdir()"
   ]
  },
  {
   "attachments": {},
   "cell_type": "markdown",
   "metadata": {},
   "source": [
    "## MLM analysis"
   ]
  },
  {
   "attachments": {},
   "cell_type": "markdown",
   "metadata": {},
   "source": [
    "### Figures"
   ]
  },
  {
   "cell_type": "code",
   "execution_count": 42,
   "metadata": {},
   "outputs": [
    {
     "data": {
      "image/png": "[encoded data removed]",
      "text/plain": [
       "<Figure size 640x480 with 1 Axes>"
      ]
     },
     "metadata": {},
     "output_type": "display_data"
    }
   ],
   "source": [
    "seaborn.lineplot(training_log, x=\"epoch\", y=\"loss\")\n",
    "seaborn.lineplot(training_log, x=\"epoch\", y=\"valid_loss\")\n",
    "plt.tight_layout()\n",
    "plt.savefig(BENCHMARK_DIR / \"loss.png\")"
   ]
  },
  {
   "cell_type": "code",
   "execution_count": 43,
   "metadata": {},
   "outputs": [
    {
     "data": {
      "image/png": "[encoded data removed]",
      "text/plain": [
       "<Figure size 640x480 with 1 Axes>"
      ]
     },
     "metadata": {},
     "output_type": "display_data"
    }
   ],
   "source": [
    "seaborn.lineplot(training_log, x=\"epoch\", y=\"valid_acc\")\n",
    "seaborn.lineplot(training_log, x=\"epoch\", y=\"valid_top5_acc\")\n",
    "plt.ylim(0, 1)\n",
    "plt.tight_layout()\n",
    "plt.savefig(BENCHMARK_DIR / \"mlm_acc.png\")"
   ]
  },
  {
   "attachments": {},
   "cell_type": "markdown",
   "metadata": {},
   "source": [
    "### JSON"
   ]
  },
  {
   "cell_type": "code",
   "execution_count": 44,
   "metadata": {},
   "outputs": [],
   "source": [
    "if (BENCHMARK_DIR / \"metrics.json\").is_file():\n",
    "    with open(BENCHMARK_DIR / \"metrics.json\", \"r\") as f:\n",
    "        metrics_dict = json.load(f)\n",
    "else:\n",
    "    metrics_dict = dict()"
   ]
  },
  {
   "cell_type": "code",
   "execution_count": 45,
   "metadata": {},
   "outputs": [],
   "source": [
    "metrics_dict[\"mlm\"] = {\n",
    "    \"top1_acc\": training_log[\"valid_acc\"].iloc[-1].item(),\n",
    "    \"top5_acc\": training_log[\"valid_top5_acc\"].iloc[-1].item(),\n",
    "}"
   ]
  },
  {
   "cell_type": "code",
   "execution_count": 46,
   "metadata": {},
   "outputs": [],
   "source": [
    "with open(BENCHMARK_DIR / \"metrics.json\", \"w\") as f:\n",
    "    json.dump(metrics_dict, f, indent=4)"
   ]
  },
  {
   "cell_type": "code",
   "execution_count": null,
   "metadata": {},
   "outputs": [],
   "source": []
  }
 ],
 "metadata": {
  "kernelspec": {
   "display_name": "Python 3.8.15 ('.venv': venv)",
   "language": "python",
   "name": "python3"
  },
  "language_info": {
   "codemirror_mode": {
    "name": "ipython",
    "version": 3
   },
   "file_extension": ".py",
   "mimetype": "text/x-python",
   "name": "python",
   "nbconvert_exporter": "python",
   "pygments_lexer": "ipython3",
   "version": "3.10.9"
  },
  "orig_nbformat": 4,
  "vscode": {
   "interpreter": {
    "hash": "bab11497baf8882c4e95e2d544b4f7a8d499018a7e93af1d4b5fac976897075f"
   }
  }
 },
 "nbformat": 4,
 "nbformat_minor": 2
}
