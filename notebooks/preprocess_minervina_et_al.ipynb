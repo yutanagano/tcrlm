{
 "cells": [
  {
   "cell_type": "code",
   "execution_count": 48,
   "metadata": {},
   "outputs": [],
   "source": [
    "from pathlib import Path\n",
    "import pandas as pd"
   ]
  },
  {
   "cell_type": "code",
   "execution_count": 49,
   "metadata": {},
   "outputs": [],
   "source": [
    "min_dir = Path('/home/yutanagano/UCLOneDrive/MBPhD/data/tcr_embedder/data_sources/minervina_sars_cov_2')"
   ]
  },
  {
   "cell_type": "code",
   "execution_count": 50,
   "metadata": {},
   "outputs": [],
   "source": [
    "tcrs = pd.read_excel(min_dir/'Minervina_SARS_CoV_2_TCRs.xlsx', sheet_name='clonotypes')"
   ]
  },
  {
   "cell_type": "code",
   "execution_count": 51,
   "metadata": {},
   "outputs": [],
   "source": [
    "tcrs = tcrs[['va', 'cdr3a', 'ja', 'vb', 'cdr3b', 'jb', 'epitope']]\n",
    "tcrs.columns = ['TRAV', 'CDR3A', 'TRAJ', 'TRBV', 'CDR3B', 'TRBJ', 'Epitope']"
   ]
  },
  {
   "cell_type": "code",
   "execution_count": 52,
   "metadata": {},
   "outputs": [],
   "source": [
    "tcrs['MHCA'] = pd.NA\n",
    "tcrs['MHCB'] = pd.NA\n",
    "tcrs['duplicate_count'] = pd.NA"
   ]
  },
  {
   "cell_type": "code",
   "execution_count": 53,
   "metadata": {},
   "outputs": [
    {
     "data": {
      "text/html": [
       "<div>\n",
       "<style scoped>\n",
       "    .dataframe tbody tr th:only-of-type {\n",
       "        vertical-align: middle;\n",
       "    }\n",
       "\n",
       "    .dataframe tbody tr th {\n",
       "        vertical-align: top;\n",
       "    }\n",
       "\n",
       "    .dataframe thead th {\n",
       "        text-align: right;\n",
       "    }\n",
       "</style>\n",
       "<table border=\"1\" class=\"dataframe\">\n",
       "  <thead>\n",
       "    <tr style=\"text-align: right;\">\n",
       "      <th></th>\n",
       "      <th>TRAV</th>\n",
       "      <th>CDR3A</th>\n",
       "      <th>TRAJ</th>\n",
       "      <th>TRBV</th>\n",
       "      <th>CDR3B</th>\n",
       "      <th>TRBJ</th>\n",
       "      <th>Epitope</th>\n",
       "      <th>MHCA</th>\n",
       "      <th>MHCB</th>\n",
       "      <th>duplicate_count</th>\n",
       "    </tr>\n",
       "  </thead>\n",
       "  <tbody>\n",
       "    <tr>\n",
       "      <th>0</th>\n",
       "      <td>TRAV1-1</td>\n",
       "      <td>CAAEMNFNKFYF</td>\n",
       "      <td>TRAJ21</td>\n",
       "      <td>TRBV27</td>\n",
       "      <td>CASSSTVTLAKNIQYF</td>\n",
       "      <td>TRBJ2-4</td>\n",
       "      <td>A24_VYF</td>\n",
       "      <td>NaN</td>\n",
       "      <td>NaN</td>\n",
       "      <td>NaN</td>\n",
       "    </tr>\n",
       "    <tr>\n",
       "      <th>1</th>\n",
       "      <td>TRAV1-1</td>\n",
       "      <td>CAGLEALLNDMRF</td>\n",
       "      <td>TRAJ43</td>\n",
       "      <td>TRBV28</td>\n",
       "      <td>CASERANTGELFF</td>\n",
       "      <td>TRBJ2-2</td>\n",
       "      <td>A01_TTD</td>\n",
       "      <td>NaN</td>\n",
       "      <td>NaN</td>\n",
       "      <td>NaN</td>\n",
       "    </tr>\n",
       "    <tr>\n",
       "      <th>2</th>\n",
       "      <td>TRAV1-1</td>\n",
       "      <td>CAGTDTGGFKTIF</td>\n",
       "      <td>TRAJ9</td>\n",
       "      <td>TRBV5-1</td>\n",
       "      <td>CASSSTDGNTGELFF</td>\n",
       "      <td>TRBJ2-2</td>\n",
       "      <td>A01_FTS</td>\n",
       "      <td>NaN</td>\n",
       "      <td>NaN</td>\n",
       "      <td>NaN</td>\n",
       "    </tr>\n",
       "    <tr>\n",
       "      <th>3</th>\n",
       "      <td>TRAV1-1</td>\n",
       "      <td>CAMPTDKLIF</td>\n",
       "      <td>TRAJ34</td>\n",
       "      <td>TRBV15</td>\n",
       "      <td>CATSPGLAGGETGELFF</td>\n",
       "      <td>TRBJ2-2</td>\n",
       "      <td>A24_VYF</td>\n",
       "      <td>NaN</td>\n",
       "      <td>NaN</td>\n",
       "      <td>NaN</td>\n",
       "    </tr>\n",
       "    <tr>\n",
       "      <th>4</th>\n",
       "      <td>TRAV1-1</td>\n",
       "      <td>CAPDSNYQLIW</td>\n",
       "      <td>TRAJ33</td>\n",
       "      <td>TRBV7-9</td>\n",
       "      <td>CASSLESADRAHYGYTF</td>\n",
       "      <td>TRBJ1-2</td>\n",
       "      <td>A24_VYI</td>\n",
       "      <td>NaN</td>\n",
       "      <td>NaN</td>\n",
       "      <td>NaN</td>\n",
       "    </tr>\n",
       "    <tr>\n",
       "      <th>...</th>\n",
       "      <td>...</td>\n",
       "      <td>...</td>\n",
       "      <td>...</td>\n",
       "      <td>...</td>\n",
       "      <td>...</td>\n",
       "      <td>...</td>\n",
       "      <td>...</td>\n",
       "      <td>...</td>\n",
       "      <td>...</td>\n",
       "      <td>...</td>\n",
       "    </tr>\n",
       "    <tr>\n",
       "      <th>4479</th>\n",
       "      <td>TRAV9-2</td>\n",
       "      <td>CAYGGSQGNLIF</td>\n",
       "      <td>TRAJ42</td>\n",
       "      <td>TRBV27</td>\n",
       "      <td>CASSSRSGSDTQYF</td>\n",
       "      <td>TRBJ2-3</td>\n",
       "      <td>A01_TTD</td>\n",
       "      <td>NaN</td>\n",
       "      <td>NaN</td>\n",
       "      <td>NaN</td>\n",
       "    </tr>\n",
       "    <tr>\n",
       "      <th>4480</th>\n",
       "      <td>TRAV9-2</td>\n",
       "      <td>CGGGFGNVLHC</td>\n",
       "      <td>TRAJ35</td>\n",
       "      <td>TRBV27</td>\n",
       "      <td>CASSYRDYTDTQYF</td>\n",
       "      <td>TRBJ2-3</td>\n",
       "      <td>A01_TTD</td>\n",
       "      <td>NaN</td>\n",
       "      <td>NaN</td>\n",
       "      <td>NaN</td>\n",
       "    </tr>\n",
       "    <tr>\n",
       "      <th>4481</th>\n",
       "      <td>TRAV9-2</td>\n",
       "      <td>CGSSSGGSEKLVF</td>\n",
       "      <td>TRAJ57</td>\n",
       "      <td>TRBV28</td>\n",
       "      <td>CASSHASGVVQPQHF</td>\n",
       "      <td>TRBJ1-5</td>\n",
       "      <td>A01_TTD</td>\n",
       "      <td>NaN</td>\n",
       "      <td>NaN</td>\n",
       "      <td>NaN</td>\n",
       "    </tr>\n",
       "    <tr>\n",
       "      <th>4482</th>\n",
       "      <td>TRAV9-2</td>\n",
       "      <td>CGYGGSQGNLIF</td>\n",
       "      <td>TRAJ42</td>\n",
       "      <td>TRBV27</td>\n",
       "      <td>CASGLRSGTDTQYF</td>\n",
       "      <td>TRBJ2-3</td>\n",
       "      <td>A01_TTD</td>\n",
       "      <td>NaN</td>\n",
       "      <td>NaN</td>\n",
       "      <td>NaN</td>\n",
       "    </tr>\n",
       "    <tr>\n",
       "      <th>4483</th>\n",
       "      <td>TRAV9-2</td>\n",
       "      <td>CLLGFGNVLHC</td>\n",
       "      <td>TRAJ35</td>\n",
       "      <td>TRBV27</td>\n",
       "      <td>CASSDRDSQQPQHF</td>\n",
       "      <td>TRBJ1-5</td>\n",
       "      <td>A01_TTD</td>\n",
       "      <td>NaN</td>\n",
       "      <td>NaN</td>\n",
       "      <td>NaN</td>\n",
       "    </tr>\n",
       "  </tbody>\n",
       "</table>\n",
       "<p>4484 rows × 10 columns</p>\n",
       "</div>"
      ],
      "text/plain": [
       "         TRAV          CDR3A    TRAJ     TRBV              CDR3B     TRBJ  \\\n",
       "0     TRAV1-1   CAAEMNFNKFYF  TRAJ21   TRBV27   CASSSTVTLAKNIQYF  TRBJ2-4   \n",
       "1     TRAV1-1  CAGLEALLNDMRF  TRAJ43   TRBV28      CASERANTGELFF  TRBJ2-2   \n",
       "2     TRAV1-1  CAGTDTGGFKTIF   TRAJ9  TRBV5-1    CASSSTDGNTGELFF  TRBJ2-2   \n",
       "3     TRAV1-1     CAMPTDKLIF  TRAJ34   TRBV15  CATSPGLAGGETGELFF  TRBJ2-2   \n",
       "4     TRAV1-1    CAPDSNYQLIW  TRAJ33  TRBV7-9  CASSLESADRAHYGYTF  TRBJ1-2   \n",
       "...       ...            ...     ...      ...                ...      ...   \n",
       "4479  TRAV9-2   CAYGGSQGNLIF  TRAJ42   TRBV27     CASSSRSGSDTQYF  TRBJ2-3   \n",
       "4480  TRAV9-2    CGGGFGNVLHC  TRAJ35   TRBV27     CASSYRDYTDTQYF  TRBJ2-3   \n",
       "4481  TRAV9-2  CGSSSGGSEKLVF  TRAJ57   TRBV28    CASSHASGVVQPQHF  TRBJ1-5   \n",
       "4482  TRAV9-2   CGYGGSQGNLIF  TRAJ42   TRBV27     CASGLRSGTDTQYF  TRBJ2-3   \n",
       "4483  TRAV9-2    CLLGFGNVLHC  TRAJ35   TRBV27     CASSDRDSQQPQHF  TRBJ1-5   \n",
       "\n",
       "      Epitope MHCA MHCB duplicate_count  \n",
       "0     A24_VYF  NaN  NaN             NaN  \n",
       "1     A01_TTD  NaN  NaN             NaN  \n",
       "2     A01_FTS  NaN  NaN             NaN  \n",
       "3     A24_VYF  NaN  NaN             NaN  \n",
       "4     A24_VYI  NaN  NaN             NaN  \n",
       "...       ...  ...  ...             ...  \n",
       "4479  A01_TTD  NaN  NaN             NaN  \n",
       "4480  A01_TTD  NaN  NaN             NaN  \n",
       "4481  A01_TTD  NaN  NaN             NaN  \n",
       "4482  A01_TTD  NaN  NaN             NaN  \n",
       "4483  A01_TTD  NaN  NaN             NaN  \n",
       "\n",
       "[4484 rows x 10 columns]"
      ]
     },
     "execution_count": 53,
     "metadata": {},
     "output_type": "execute_result"
    }
   ],
   "source": [
    "tcrs = tcrs.sort_values(by=tcrs.columns.to_list(), ignore_index=True)\n",
    "tcrs"
   ]
  },
  {
   "cell_type": "code",
   "execution_count": 54,
   "metadata": {},
   "outputs": [
    {
     "data": {
      "text/plain": [
       "Epitope\n",
       "A01_DTD        88\n",
       "A01_FTS       450\n",
       "A01_LTD       398\n",
       "A01_NTN         9\n",
       "A01_PTD       155\n",
       "A01_TTD      1909\n",
       "A02_ALS       197\n",
       "A02_LLY        53\n",
       "A02_YLQ       288\n",
       "A24_NYN       166\n",
       "A24_QYI       102\n",
       "A24_VYF       269\n",
       "A24_VYI        91\n",
       "B15_NQK       148\n",
       "B15_RVA        68\n",
       "B44_AEA         1\n",
       "B44_AEV        57\n",
       "B44_QEL        31\n",
       "B44_VEN_H       4\n",
       "dtype: int64"
      ]
     },
     "execution_count": 54,
     "metadata": {},
     "output_type": "execute_result"
    }
   ],
   "source": [
    "tcrs.groupby('Epitope').size()"
   ]
  },
  {
   "cell_type": "code",
   "execution_count": 55,
   "metadata": {},
   "outputs": [],
   "source": [
    "filtered = tcrs.groupby('Epitope').filter(lambda x: len(x) > 20)"
   ]
  },
  {
   "cell_type": "code",
   "execution_count": 56,
   "metadata": {},
   "outputs": [
    {
     "data": {
      "text/plain": [
       "Epitope\n",
       "A01_DTD      88\n",
       "A01_FTS     450\n",
       "A01_LTD     398\n",
       "A01_PTD     155\n",
       "A01_TTD    1909\n",
       "A02_ALS     197\n",
       "A02_LLY      53\n",
       "A02_YLQ     288\n",
       "A24_NYN     166\n",
       "A24_QYI     102\n",
       "A24_VYF     269\n",
       "A24_VYI      91\n",
       "B15_NQK     148\n",
       "B15_RVA      68\n",
       "B44_AEV      57\n",
       "B44_QEL      31\n",
       "dtype: int64"
      ]
     },
     "execution_count": 56,
     "metadata": {},
     "output_type": "execute_result"
    }
   ],
   "source": [
    "filtered.groupby('Epitope').size()"
   ]
  },
  {
   "cell_type": "code",
   "execution_count": 57,
   "metadata": {},
   "outputs": [],
   "source": [
    "filtered.to_csv(min_dir/'preprocessed.csv', index=False)"
   ]
  },
  {
   "cell_type": "code",
   "execution_count": null,
   "metadata": {},
   "outputs": [],
   "source": []
  }
 ],
 "metadata": {
  "kernelspec": {
   "display_name": "Python 3.8.15 ('.venv': venv)",
   "language": "python",
   "name": "python3"
  },
  "language_info": {
   "codemirror_mode": {
    "name": "ipython",
    "version": 3
   },
   "file_extension": ".py",
   "mimetype": "text/x-python",
   "name": "python",
   "nbconvert_exporter": "python",
   "pygments_lexer": "ipython3",
   "version": "3.8.15"
  },
  "orig_nbformat": 4,
  "vscode": {
   "interpreter": {
    "hash": "bab11497baf8882c4e95e2d544b4f7a8d499018a7e93af1d4b5fac976897075f"
   }
  }
 },
 "nbformat": 4,
 "nbformat_minor": 2
}
