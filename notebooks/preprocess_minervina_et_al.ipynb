{
 "cells": [
  {
   "cell_type": "code",
   "execution_count": 1,
   "metadata": {},
   "outputs": [],
   "source": [
    "from pathlib import Path\n",
    "import pandas as pd"
   ]
  },
  {
   "cell_type": "code",
   "execution_count": 15,
   "metadata": {},
   "outputs": [],
   "source": [
    "raw_dir = Path('/home/yutanagano/UCLOneDrive/MBPhD/projects/tcr_embedder/data/raw')\n",
    "processed_dir = Path('/home/yutanagano/UCLOneDrive/MBPhD/projects/tcr_embedder/data/preprocessed')"
   ]
  },
  {
   "cell_type": "code",
   "execution_count": 9,
   "metadata": {},
   "outputs": [],
   "source": [
    "tcrs = pd.read_excel(raw_dir/'minervina'/'Minervina_SARS_CoV_2_TCRs.xlsx', sheet_name='clonotypes')"
   ]
  },
  {
   "cell_type": "code",
   "execution_count": 10,
   "metadata": {},
   "outputs": [],
   "source": [
    "tcrs = tcrs[['va', 'cdr3a', 'ja', 'vb', 'cdr3b', 'jb', 'epitope']]\n",
    "tcrs.columns = ['TRAV', 'CDR3A', 'TRAJ', 'TRBV', 'CDR3B', 'TRBJ', 'Epitope']"
   ]
  },
  {
   "cell_type": "code",
   "execution_count": 11,
   "metadata": {},
   "outputs": [],
   "source": [
    "tcrs['MHCA'] = pd.NA\n",
    "tcrs['MHCB'] = pd.NA\n",
    "tcrs['duplicate_count'] = pd.NA"
   ]
  },
  {
   "cell_type": "code",
   "execution_count": 12,
   "metadata": {},
   "outputs": [
    {
     "data": {
      "text/plain": [
       "Epitope\n",
       "A01_DTD        88\n",
       "A01_FTS       450\n",
       "A01_LTD       398\n",
       "A01_NTN         9\n",
       "A01_PTD       155\n",
       "A01_TTD      1909\n",
       "A02_ALS       197\n",
       "A02_LLY        53\n",
       "A02_YLQ       288\n",
       "A24_NYN       166\n",
       "A24_QYI       102\n",
       "A24_VYF       269\n",
       "A24_VYI        91\n",
       "B15_NQK       148\n",
       "B15_RVA        68\n",
       "B44_AEA         1\n",
       "B44_AEV        57\n",
       "B44_QEL        31\n",
       "B44_VEN_H       4\n",
       "dtype: int64"
      ]
     },
     "execution_count": 12,
     "metadata": {},
     "output_type": "execute_result"
    }
   ],
   "source": [
    "tcrs.groupby('Epitope').size()"
   ]
  },
  {
   "cell_type": "code",
   "execution_count": 13,
   "metadata": {},
   "outputs": [],
   "source": [
    "filtered = tcrs.groupby('Epitope').filter(lambda x: len(x) > 20)"
   ]
  },
  {
   "cell_type": "code",
   "execution_count": 16,
   "metadata": {},
   "outputs": [],
   "source": [
    "filtered.to_csv(processed_dir/'minervina'/'preprocessed.csv', index=False)"
   ]
  },
  {
   "cell_type": "code",
   "execution_count": 19,
   "metadata": {},
   "outputs": [
    {
     "data": {
      "text/html": [
       "<div>\n",
       "<style scoped>\n",
       "    .dataframe tbody tr th:only-of-type {\n",
       "        vertical-align: middle;\n",
       "    }\n",
       "\n",
       "    .dataframe tbody tr th {\n",
       "        vertical-align: top;\n",
       "    }\n",
       "\n",
       "    .dataframe thead th {\n",
       "        text-align: right;\n",
       "    }\n",
       "</style>\n",
       "<table border=\"1\" class=\"dataframe\">\n",
       "  <thead>\n",
       "    <tr style=\"text-align: right;\">\n",
       "      <th></th>\n",
       "      <th>TRAV</th>\n",
       "      <th>CDR3A</th>\n",
       "      <th>TRAJ</th>\n",
       "      <th>TRBV</th>\n",
       "      <th>CDR3B</th>\n",
       "      <th>TRBJ</th>\n",
       "      <th>Epitope</th>\n",
       "      <th>MHCA</th>\n",
       "      <th>MHCB</th>\n",
       "      <th>duplicate_count</th>\n",
       "    </tr>\n",
       "  </thead>\n",
       "  <tbody>\n",
       "    <tr>\n",
       "      <th>0</th>\n",
       "      <td>&lt;NA&gt;</td>\n",
       "      <td>&lt;NA&gt;</td>\n",
       "      <td>&lt;NA&gt;</td>\n",
       "      <td>TRBV5-1</td>\n",
       "      <td>CASSFENQPEAFF</td>\n",
       "      <td>TRBJ1-1</td>\n",
       "      <td>A01_DTD</td>\n",
       "      <td>&lt;NA&gt;</td>\n",
       "      <td>&lt;NA&gt;</td>\n",
       "      <td>&lt;NA&gt;</td>\n",
       "    </tr>\n",
       "    <tr>\n",
       "      <th>1</th>\n",
       "      <td>&lt;NA&gt;</td>\n",
       "      <td>&lt;NA&gt;</td>\n",
       "      <td>&lt;NA&gt;</td>\n",
       "      <td>TRBV5-1</td>\n",
       "      <td>CASSLAGYEQYF</td>\n",
       "      <td>TRBJ2-7</td>\n",
       "      <td>A01_LTD</td>\n",
       "      <td>&lt;NA&gt;</td>\n",
       "      <td>&lt;NA&gt;</td>\n",
       "      <td>&lt;NA&gt;</td>\n",
       "    </tr>\n",
       "    <tr>\n",
       "      <th>2</th>\n",
       "      <td>&lt;NA&gt;</td>\n",
       "      <td>&lt;NA&gt;</td>\n",
       "      <td>&lt;NA&gt;</td>\n",
       "      <td>TRBV5-6</td>\n",
       "      <td>CASMSLYQETQYF</td>\n",
       "      <td>TRBJ2-5</td>\n",
       "      <td>A01_TTD</td>\n",
       "      <td>&lt;NA&gt;</td>\n",
       "      <td>&lt;NA&gt;</td>\n",
       "      <td>&lt;NA&gt;</td>\n",
       "    </tr>\n",
       "    <tr>\n",
       "      <th>3</th>\n",
       "      <td>&lt;NA&gt;</td>\n",
       "      <td>&lt;NA&gt;</td>\n",
       "      <td>&lt;NA&gt;</td>\n",
       "      <td>TRBV27</td>\n",
       "      <td>CASSRHPRGEKLFF</td>\n",
       "      <td>TRBJ1-4</td>\n",
       "      <td>A01_TTD</td>\n",
       "      <td>&lt;NA&gt;</td>\n",
       "      <td>&lt;NA&gt;</td>\n",
       "      <td>&lt;NA&gt;</td>\n",
       "    </tr>\n",
       "    <tr>\n",
       "      <th>4</th>\n",
       "      <td>&lt;NA&gt;</td>\n",
       "      <td>&lt;NA&gt;</td>\n",
       "      <td>&lt;NA&gt;</td>\n",
       "      <td>TRBV28</td>\n",
       "      <td>CASSLLSPGYNSPLHF</td>\n",
       "      <td>TRBJ1-6</td>\n",
       "      <td>A24_VYF</td>\n",
       "      <td>&lt;NA&gt;</td>\n",
       "      <td>&lt;NA&gt;</td>\n",
       "      <td>&lt;NA&gt;</td>\n",
       "    </tr>\n",
       "  </tbody>\n",
       "</table>\n",
       "</div>"
      ],
      "text/plain": [
       "   TRAV CDR3A  TRAJ     TRBV             CDR3B     TRBJ  Epitope  MHCA  MHCB  \\\n",
       "0  <NA>  <NA>  <NA>  TRBV5-1     CASSFENQPEAFF  TRBJ1-1  A01_DTD  <NA>  <NA>   \n",
       "1  <NA>  <NA>  <NA>  TRBV5-1      CASSLAGYEQYF  TRBJ2-7  A01_LTD  <NA>  <NA>   \n",
       "2  <NA>  <NA>  <NA>  TRBV5-6     CASMSLYQETQYF  TRBJ2-5  A01_TTD  <NA>  <NA>   \n",
       "3  <NA>  <NA>  <NA>   TRBV27    CASSRHPRGEKLFF  TRBJ1-4  A01_TTD  <NA>  <NA>   \n",
       "4  <NA>  <NA>  <NA>   TRBV28  CASSLLSPGYNSPLHF  TRBJ1-6  A24_VYF  <NA>  <NA>   \n",
       "\n",
       "  duplicate_count  \n",
       "0            <NA>  \n",
       "1            <NA>  \n",
       "2            <NA>  \n",
       "3            <NA>  \n",
       "4            <NA>  "
      ]
     },
     "execution_count": 19,
     "metadata": {},
     "output_type": "execute_result"
    }
   ],
   "source": [
    "beta = filtered.copy()\n",
    "beta[['TRAV', 'CDR3A', 'TRAJ']] = pd.NA\n",
    "beta.head()"
   ]
  },
  {
   "cell_type": "code",
   "execution_count": 20,
   "metadata": {},
   "outputs": [],
   "source": [
    "beta.to_csv(processed_dir/'minervina'/'preprocessed_beta.csv', index=False)"
   ]
  },
  {
   "cell_type": "code",
   "execution_count": null,
   "metadata": {},
   "outputs": [],
   "source": []
  }
 ],
 "metadata": {
  "kernelspec": {
   "display_name": "Python 3.8.15 ('.venv': venv)",
   "language": "python",
   "name": "python3"
  },
  "language_info": {
   "codemirror_mode": {
    "name": "ipython",
    "version": 3
   },
   "file_extension": ".py",
   "mimetype": "text/x-python",
   "name": "python",
   "nbconvert_exporter": "python",
   "pygments_lexer": "ipython3",
   "version": "3.10.9"
  },
  "orig_nbformat": 4,
  "vscode": {
   "interpreter": {
    "hash": "bab11497baf8882c4e95e2d544b4f7a8d499018a7e93af1d4b5fac976897075f"
   }
  }
 },
 "nbformat": 4,
 "nbformat_minor": 2
}
