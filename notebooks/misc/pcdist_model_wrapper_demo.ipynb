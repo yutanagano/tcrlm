{
 "cells": [
  {
   "attachments": {},
   "cell_type": "markdown",
   "metadata": {},
   "source": [
    "# PCDistModelWrapper demo"
   ]
  },
  {
   "cell_type": "code",
   "execution_count": 1,
   "metadata": {},
   "outputs": [],
   "source": [
    "import sys\n",
    "import os\n",
    "sys.path.append('/home/yutanagano/Projects/tcr_embedder')\n",
    "os.chdir('/home/yutanagano/Projects/tcr_embedder')"
   ]
  },
  {
   "attachments": {},
   "cell_type": "markdown",
   "metadata": {},
   "source": [
    "#### Demo prep (this can be ignored)"
   ]
  },
  {
   "cell_type": "code",
   "execution_count": 2,
   "metadata": {},
   "outputs": [],
   "source": [
    "from src.modules import RandomEmbedder\n",
    "dummy_model = RandomEmbedder()\n",
    "state_dict = dummy_model.state_dict()"
   ]
  },
  {
   "attachments": {},
   "cell_type": "markdown",
   "metadata": {},
   "source": [
    "## 1. Instantiating model\n",
    "\n",
    "What you need:\n",
    "- Access to the source code for the appropriate model class (`RandomEmbedder` in this demo)\n",
    "- A copy of the state_dict of the trained model state (`state_dict` in this notebook, which is just a fake one I generated above. In reality this will need to be loaded from a file via `torch.load`. For an example see the `benchmark.ipynb` notebook.)"
   ]
  },
  {
   "cell_type": "code",
   "execution_count": 3,
   "metadata": {},
   "outputs": [
    {
     "data": {
      "text/plain": [
       "<All keys matched successfully>"
      ]
     },
     "execution_count": 3,
     "metadata": {},
     "output_type": "execute_result"
    }
   ],
   "source": [
    "from src.modules import RandomEmbedder\n",
    "\n",
    "model = RandomEmbedder()\n",
    "model.load_state_dict(state_dict)"
   ]
  },
  {
   "attachments": {},
   "cell_type": "markdown",
   "metadata": {},
   "source": [
    "## 2. Wrap model\n",
    "\n",
    "What you need:\n",
    "- Access to the source code for the wrapper class (`PCDistModelWrapper`)\n",
    "- Access to the source code for the appropriate `Tokeniser` class (`CDR3Tokeniser` in this notebook)"
   ]
  },
  {
   "cell_type": "code",
   "execution_count": 4,
   "metadata": {},
   "outputs": [],
   "source": [
    "from src.datahandling.tokenisers import CDR3Tokeniser\n",
    "from src.utils import PCDistModelWrapper\n",
    "\n",
    "wrapped_model = PCDistModelWrapper(model=model, tokeniser=CDR3Tokeniser())"
   ]
  },
  {
   "attachments": {},
   "cell_type": "markdown",
   "metadata": {},
   "source": [
    "## 3. `pdist` and `cdist`"
   ]
  },
  {
   "cell_type": "code",
   "execution_count": 5,
   "metadata": {},
   "outputs": [],
   "source": [
    "import numpy as np\n",
    "\n",
    "data_1 = {\n",
    "    'CDR3A': np.array(['AAA', 'AAC', 'ACC']),\n",
    "    'CDR3B': np.array(['AAA', 'AAA', 'AAA'])\n",
    "}\n",
    "data_2 = {\n",
    "    'CDR3A': np.array(['AAA', 'AAC'])\n",
    "}"
   ]
  },
  {
   "cell_type": "code",
   "execution_count": 6,
   "metadata": {},
   "outputs": [
    {
     "data": {
      "text/plain": [
       "array([0.4630851 , 1.0275284 , 0.60230976], dtype=float32)"
      ]
     },
     "execution_count": 6,
     "metadata": {},
     "output_type": "execute_result"
    }
   ],
   "source": [
    "wrapped_model.pdist(sequence_elements=data_1)"
   ]
  },
  {
   "cell_type": "code",
   "execution_count": 7,
   "metadata": {},
   "outputs": [
    {
     "data": {
      "text/plain": [
       "array([[0.76536685, 0.87089807],\n",
       "       [1.1478796 , 1.1057673 ],\n",
       "       [1.5708961 , 1.435915  ]], dtype=float32)"
      ]
     },
     "execution_count": 7,
     "metadata": {},
     "output_type": "execute_result"
    }
   ],
   "source": [
    "wrapped_model.cdist(\n",
    "    sequence_elements_1=data_1,\n",
    "    sequence_elements_2=data_2\n",
    ")"
   ]
  },
  {
   "cell_type": "code",
   "execution_count": null,
   "metadata": {},
   "outputs": [],
   "source": []
  }
 ],
 "metadata": {
  "kernelspec": {
   "display_name": ".venv",
   "language": "python",
   "name": "python3"
  },
  "language_info": {
   "codemirror_mode": {
    "name": "ipython",
    "version": 3
   },
   "file_extension": ".py",
   "mimetype": "text/x-python",
   "name": "python",
   "nbconvert_exporter": "python",
   "pygments_lexer": "ipython3",
   "version": "3.10.9"
  },
  "orig_nbformat": 4,
  "vscode": {
   "interpreter": {
    "hash": "bab11497baf8882c4e95e2d544b4f7a8d499018a7e93af1d4b5fac976897075f"
   }
  }
 },
 "nbformat": 4,
 "nbformat_minor": 2
}
