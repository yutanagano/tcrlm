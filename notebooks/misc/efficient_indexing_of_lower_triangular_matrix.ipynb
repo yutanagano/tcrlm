{
 "cells": [
  {
   "cell_type": "code",
   "execution_count": 1,
   "metadata": {},
   "outputs": [],
   "source": [
    "import math"
   ]
  },
  {
   "cell_type": "code",
   "execution_count": 2,
   "metadata": {},
   "outputs": [],
   "source": [
    "from tqdm import tqdm"
   ]
  },
  {
   "cell_type": "code",
   "execution_count": 3,
   "metadata": {},
   "outputs": [],
   "source": [
    "def lin_to_i_j(k: int, n: int) -> tuple:\n",
    "    \"\"\"\n",
    "    Given linear index k of a lower triangular matrix with size n, compute\n",
    "    and return the row-column indices i and j\n",
    "    \"\"\"\n",
    "\n",
    "    k = k + 1\n",
    "\n",
    "    k_prime = n * (n-1) / 2 - k\n",
    "    p = math.floor((math.sqrt(1 + 8*k_prime) - 1) / 2)\n",
    "\n",
    "    i = int(n - 2 - p)\n",
    "    j = int(k - (n-1) * (n-2) / 2 + p * (p+1) / 2)\n",
    "\n",
    "    return (i, j)"
   ]
  },
  {
   "cell_type": "code",
   "execution_count": 4,
   "metadata": {},
   "outputs": [
    {
     "data": {
      "text/plain": [
       "(2, 3)"
      ]
     },
     "execution_count": 4,
     "metadata": {},
     "output_type": "execute_result"
    }
   ],
   "source": [
    "lin_to_i_j(5, 4)"
   ]
  },
  {
   "cell_type": "code",
   "execution_count": 5,
   "metadata": {},
   "outputs": [],
   "source": [
    "def lin_i_to_j_looped(k: int, n: int) -> tuple:\n",
    "        \"\"\"\n",
    "        Explicit version of above function\n",
    "        \"\"\"\n",
    "        j = k\n",
    "\n",
    "        for i in range(n-1):\n",
    "            current_i_pair_count = n-1-i\n",
    "\n",
    "            if j < current_i_pair_count:\n",
    "                # Adjust rhs_idx because the rhs_idx currently counts how many\n",
    "                # rows down from the row below lhs the rhs is\n",
    "                return i, (i + 1 + j)\n",
    "            \n",
    "            j -= current_i_pair_count\n",
    "        \n",
    "        raise IndexError(f\"Internal pair index {k} out of range!\")"
   ]
  },
  {
   "cell_type": "code",
   "execution_count": 6,
   "metadata": {},
   "outputs": [
    {
     "data": {
      "text/plain": [
       "(2, 3)"
      ]
     },
     "execution_count": 6,
     "metadata": {},
     "output_type": "execute_result"
    }
   ],
   "source": [
    "lin_i_to_j_looped(5, 4)"
   ]
  },
  {
   "cell_type": "code",
   "execution_count": 12,
   "metadata": {},
   "outputs": [
    {
     "name": "stderr",
     "output_type": "stream",
     "text": [
      "100%|██████████| 499500/499500 [00:00<00:00, 1302822.70it/s]\n",
      "100%|██████████| 499500/499500 [00:09<00:00, 50918.55it/s] \n"
     ]
    }
   ],
   "source": [
    "N = 1_000\n",
    "\n",
    "for k in tqdm(range(N * (N - 1) // 2)):\n",
    "    lin_to_i_j(k, N)\n",
    "\n",
    "for k in tqdm(range(N * (N - 1) // 2)):\n",
    "    lin_i_to_j_looped(k, N)"
   ]
  },
  {
   "cell_type": "code",
   "execution_count": null,
   "metadata": {},
   "outputs": [],
   "source": []
  }
 ],
 "metadata": {
  "kernelspec": {
   "display_name": ".venv",
   "language": "python",
   "name": "python3"
  },
  "language_info": {
   "codemirror_mode": {
    "name": "ipython",
    "version": 3
   },
   "file_extension": ".py",
   "mimetype": "text/x-python",
   "name": "python",
   "nbconvert_exporter": "python",
   "pygments_lexer": "ipython3",
   "version": "3.11.3"
  },
  "orig_nbformat": 4
 },
 "nbformat": 4,
 "nbformat_minor": 2
}
