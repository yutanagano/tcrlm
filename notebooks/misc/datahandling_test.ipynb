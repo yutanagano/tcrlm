{
 "cells": [
  {
   "cell_type": "code",
   "execution_count": 1,
   "metadata": {},
   "outputs": [],
   "source": [
    "from torch.utils.data import Dataset, DataLoader\n",
    "from typing import Any, Iterable\n",
    "from torch.utils.data.distributed import DistributedSampler\n",
    "from torch.distributed import init_process_group, destroy_process_group\n",
    "import os"
   ]
  },
  {
   "cell_type": "code",
   "execution_count": 2,
   "metadata": {},
   "outputs": [],
   "source": [
    "class DataUnit:\n",
    "    def __init__(self, value: int) -> None:\n",
    "        self.value = value\n",
    "\n",
    "    def __repr__(self) -> str:\n",
    "        return f\"DataUnit({self.value})\""
   ]
  },
  {
   "cell_type": "code",
   "execution_count": 3,
   "metadata": {},
   "outputs": [],
   "source": [
    "data_source = range(100)"
   ]
  },
  {
   "cell_type": "code",
   "execution_count": 4,
   "metadata": {},
   "outputs": [],
   "source": [
    "class CustomDataset(Dataset):\n",
    "    def __init__(self, data: Iterable) -> None:\n",
    "        super().__init__()\n",
    "        self.data = [DataUnit(val) for val in data]\n",
    "\n",
    "    def __len__(self) -> int:\n",
    "        return len(self.data)\n",
    "    \n",
    "    def __getitem__(self, index) -> Any:\n",
    "        return self.data[index]\n",
    "    \n",
    "\n",
    "class CustomDataLoader(DataLoader):\n",
    "    def __init__(self, *args, **kwargs) -> None:\n",
    "        super().__init__(*args, **kwargs, collate_fn=self.collate_fn)\n",
    "\n",
    "    def collate_fn(self, batch) -> list:\n",
    "        return batch"
   ]
  },
  {
   "cell_type": "code",
   "execution_count": null,
   "metadata": {},
   "outputs": [],
   "source": [
    "os.environ[\"MASTER_ADDR\"] = \"localhost\"\n",
    "os.environ[\"MASTER_PORT\"] = \"12345\"\n",
    "init_process_group(backend=\"nccl\", rank=0, world_size=2)"
   ]
  },
  {
   "cell_type": "code",
   "execution_count": null,
   "metadata": {},
   "outputs": [],
   "source": [
    "dataset = CustomDataset(data_source)"
   ]
  },
  {
   "cell_type": "code",
   "execution_count": 9,
   "metadata": {},
   "outputs": [],
   "source": [
    "dataloader = CustomDataLoader(dataset, batch_size=10, sampler=DistributedSampler(dataset))"
   ]
  },
  {
   "cell_type": "code",
   "execution_count": 10,
   "metadata": {},
   "outputs": [
    {
     "name": "stdout",
     "output_type": "stream",
     "text": [
      "[DataUnit(44), DataUnit(19), DataUnit(93), DataUnit(90), DataUnit(71), DataUnit(69), DataUnit(37), DataUnit(95), DataUnit(53), DataUnit(91)]\n",
      "[DataUnit(81), DataUnit(42), DataUnit(80), DataUnit(85), DataUnit(74), DataUnit(56), DataUnit(76), DataUnit(63), DataUnit(82), DataUnit(40)]\n",
      "[DataUnit(26), DataUnit(92), DataUnit(57), DataUnit(10), DataUnit(16), DataUnit(66), DataUnit(89), DataUnit(41), DataUnit(97), DataUnit(8)]\n",
      "[DataUnit(31), DataUnit(24), DataUnit(35), DataUnit(30), DataUnit(65), DataUnit(7), DataUnit(98), DataUnit(23), DataUnit(20), DataUnit(29)]\n",
      "[DataUnit(78), DataUnit(61), DataUnit(94), DataUnit(15), DataUnit(4), DataUnit(52), DataUnit(59), DataUnit(5), DataUnit(54), DataUnit(46)]\n",
      "[DataUnit(3), DataUnit(28), DataUnit(2), DataUnit(70), DataUnit(6), DataUnit(60), DataUnit(49), DataUnit(68), DataUnit(55), DataUnit(72)]\n",
      "[DataUnit(79), DataUnit(77), DataUnit(45), DataUnit(1), DataUnit(32), DataUnit(34), DataUnit(11), DataUnit(0), DataUnit(22), DataUnit(12)]\n",
      "[DataUnit(87), DataUnit(50), DataUnit(25), DataUnit(47), DataUnit(36), DataUnit(96), DataUnit(9), DataUnit(83), DataUnit(62), DataUnit(84)]\n",
      "[DataUnit(18), DataUnit(17), DataUnit(75), DataUnit(67), DataUnit(13), DataUnit(48), DataUnit(39), DataUnit(21), DataUnit(64), DataUnit(88)]\n",
      "[DataUnit(38), DataUnit(27), DataUnit(14), DataUnit(73), DataUnit(33), DataUnit(58), DataUnit(86), DataUnit(43), DataUnit(99), DataUnit(51)]\n"
     ]
    }
   ],
   "source": [
    "for item in dataloader:\n",
    "    print(item)"
   ]
  },
  {
   "cell_type": "code",
   "execution_count": 49,
   "metadata": {},
   "outputs": [],
   "source": [
    "dataloader.sampler.set_epoch(2)"
   ]
  },
  {
   "cell_type": "code",
   "execution_count": 50,
   "metadata": {},
   "outputs": [
    {
     "name": "stdout",
     "output_type": "stream",
     "text": [
      "[DataUnit(8), DataUnit(7), DataUnit(1)]\n",
      "[DataUnit(5), DataUnit(6), DataUnit(9)]\n",
      "[DataUnit(0), DataUnit(4), DataUnit(2)]\n",
      "[DataUnit(3)]\n"
     ]
    }
   ],
   "source": [
    "for item in dataloader:\n",
    "    print(item)"
   ]
  },
  {
   "cell_type": "code",
   "execution_count": null,
   "metadata": {},
   "outputs": [],
   "source": []
  }
 ],
 "metadata": {
  "kernelspec": {
   "display_name": ".venv",
   "language": "python",
   "name": "python3"
  },
  "language_info": {
   "codemirror_mode": {
    "name": "ipython",
    "version": 3
   },
   "file_extension": ".py",
   "mimetype": "text/x-python",
   "name": "python",
   "nbconvert_exporter": "python",
   "pygments_lexer": "ipython3",
   "version": "3.11.4"
  },
  "orig_nbformat": 4
 },
 "nbformat": 4,
 "nbformat_minor": 2
}
