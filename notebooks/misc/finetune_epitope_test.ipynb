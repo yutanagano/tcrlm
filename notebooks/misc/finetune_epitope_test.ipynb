{
 "cells": [
  {
   "cell_type": "code",
   "execution_count": 159,
   "metadata": {},
   "outputs": [],
   "source": [
    "import os\n",
    "from pathlib import Path\n",
    "import sys\n",
    "\n",
    "if \"__project_dir__\" not in globals():\n",
    "    __project_dir__ = Path.cwd().parents[1].resolve()\n",
    "\n",
    "sys.path.append(__project_dir__)\n",
    "os.chdir(__project_dir__)"
   ]
  },
  {
   "cell_type": "code",
   "execution_count": 160,
   "metadata": {},
   "outputs": [],
   "source": [
    "import pandas as pd\n",
    "from src.model_loader import ModelLoader\n",
    "import torch\n",
    "from torch import Tensor\n",
    "from torch.nn import Linear, Module, SoftMarginLoss\n",
    "from torch.optim import Adam\n",
    "from torch.utils.data import DataLoader\n",
    "from tqdm import tqdm"
   ]
  },
  {
   "attachments": {},
   "cell_type": "markdown",
   "metadata": {},
   "source": [
    "### Load data"
   ]
  },
  {
   "cell_type": "code",
   "execution_count": 161,
   "metadata": {},
   "outputs": [],
   "source": [
    "ep_data = pd.read_csv(\"/home/yutanagano/UCLOneDrive/MBPhD/projects/tcr_embedder/data/preprocessed/vdjdb/evaluation_beta.csv\")\n",
    "bg_data = pd.read_csv(\"/home/yutanagano/UCLOneDrive/MBPhD/projects/tcr_embedder/data/preprocessed/tanno/test.csv\")"
   ]
  },
  {
   "cell_type": "code",
   "execution_count": 162,
   "metadata": {},
   "outputs": [
    {
     "data": {
      "text/plain": [
       "array(['ATDALMTGY', 'AVFDRKSDAK', 'CINGVCWTV', 'EIYKRWII', 'ELAGIGILTV',\n",
       "       'FLKEKGGL', 'FRDYVDRFYKTLRAEQASQE', 'GILGFVFTL', 'GLCTLVAML',\n",
       "       'GLIYNRMGAVTTEV', 'IVTDFSVIK', 'KAFSPEVIPMF', 'KLGGALQAK',\n",
       "       'KRWIILGLNK', 'LLLGIGILV', 'LLQTGIHVRVSQPSL', 'LLWNGPMAV',\n",
       "       'LPRRSGAAGA', 'NEGVKAAW', 'NLSALGIFST', 'NLVPMVATV',\n",
       "       'PKYVKQNTLKLAT', 'QARQMVQAMRTIGTHP', 'RAKFKQLL', 'RLRAEAQVK',\n",
       "       'SFHSLHLLF', 'TPQDLNTML', 'TPRVTGGGAM', 'VTEHDTLLY'], dtype=object)"
      ]
     },
     "execution_count": 162,
     "metadata": {},
     "output_type": "execute_result"
    }
   ],
   "source": [
    "ep_data.Epitope.unique()"
   ]
  },
  {
   "cell_type": "code",
   "execution_count": 163,
   "metadata": {},
   "outputs": [],
   "source": [
    "EPITOPE = \"ELAGIGILTV\""
   ]
  },
  {
   "cell_type": "code",
   "execution_count": 164,
   "metadata": {},
   "outputs": [],
   "source": [
    "bg_data.Epitope = \"BG\""
   ]
  },
  {
   "cell_type": "code",
   "execution_count": 165,
   "metadata": {},
   "outputs": [],
   "source": [
    "ep_train = ep_data[ep_data.Epitope == EPITOPE][:50]\n",
    "ep_valid = ep_data[ep_data.Epitope == EPITOPE][50:]"
   ]
  },
  {
   "cell_type": "code",
   "execution_count": 166,
   "metadata": {},
   "outputs": [],
   "source": [
    "bg_train = bg_data.sample(n=50, random_state=420)\n",
    "bg_valid = bg_data.sample(n=50, random_state=421)"
   ]
  },
  {
   "cell_type": "code",
   "execution_count": 167,
   "metadata": {},
   "outputs": [],
   "source": [
    "train = pd.concat([ep_train, bg_train], ignore_index=True)\n",
    "train = train[[\"TRBV\", \"CDR3B\", \"TRBJ\", \"Epitope\"]]\n",
    "\n",
    "valid = pd.concat([ep_valid, bg_valid], ignore_index=True)\n",
    "valid = valid[[\"TRBV\", \"CDR3B\", \"TRBJ\", \"Epitope\"]]"
   ]
  },
  {
   "cell_type": "code",
   "execution_count": 168,
   "metadata": {},
   "outputs": [],
   "source": [
    "train_labels = train.Epitope.map({EPITOPE: 1, \"BG\": -1})\n",
    "valid_labels = valid.Epitope.map({EPITOPE: 1, \"BG\": -1})"
   ]
  },
  {
   "attachments": {},
   "cell_type": "markdown",
   "metadata": {},
   "source": [
    "### Load BLAsTR"
   ]
  },
  {
   "cell_type": "code",
   "execution_count": 169,
   "metadata": {},
   "outputs": [],
   "source": [
    "blastr = ModelLoader(Path(\"/home/yutanagano/UCLOneDrive/MBPhD/projects/tcr_embedder/model_saves/BCDRBERT_ACL_small_double_censoring\"))"
   ]
  },
  {
   "attachments": {},
   "cell_type": "markdown",
   "metadata": {},
   "source": [
    "### Vectorise TCRs"
   ]
  },
  {
   "cell_type": "code",
   "execution_count": 170,
   "metadata": {},
   "outputs": [],
   "source": [
    "train_tcrs = blastr.embed(train)\n",
    "valid_tcrs = blastr.embed(valid)"
   ]
  },
  {
   "attachments": {},
   "cell_type": "markdown",
   "metadata": {},
   "source": [
    "### Prepare training objects"
   ]
  },
  {
   "cell_type": "code",
   "execution_count": 171,
   "metadata": {},
   "outputs": [],
   "source": [
    "class SVM(Module):\n",
    "    def __init__(self) -> None:\n",
    "        super().__init__()\n",
    "        self.linear = Linear(64, 1, bias=True)\n",
    "\n",
    "    def forward(self, x: Tensor) -> Tensor:\n",
    "        return self.linear(x)"
   ]
  },
  {
   "cell_type": "code",
   "execution_count": 172,
   "metadata": {},
   "outputs": [],
   "source": [
    "model = SVM()"
   ]
  },
  {
   "cell_type": "code",
   "execution_count": 173,
   "metadata": {},
   "outputs": [],
   "source": [
    "loss_fn = SoftMarginLoss()"
   ]
  },
  {
   "cell_type": "code",
   "execution_count": 174,
   "metadata": {},
   "outputs": [],
   "source": [
    "optimiser = Adam(params=model.parameters())"
   ]
  },
  {
   "cell_type": "code",
   "execution_count": 175,
   "metadata": {},
   "outputs": [],
   "source": [
    "train_dl = DataLoader(dataset=list(zip(train_tcrs, train_labels)), batch_size=100, shuffle=True)\n",
    "valid_dl = DataLoader(dataset=list(zip(valid_tcrs, valid_labels)), batch_size=100, shuffle=True)"
   ]
  },
  {
   "cell_type": "code",
   "execution_count": 176,
   "metadata": {},
   "outputs": [
    {
     "name": "stdout",
     "output_type": "stream",
     "text": [
      "0.6200000047683716\n"
     ]
    }
   ],
   "source": [
    "accuracy_tracker = []\n",
    "\n",
    "for epoch in range(1000):\n",
    "    batch_accuracies = []\n",
    "\n",
    "    for tcrs, labels in valid_dl:\n",
    "        preds = model(tcrs)\n",
    "        labels = labels.unsqueeze(-1)\n",
    "\n",
    "        accuracy = ((preds * labels) > 0).to(float).mean()\n",
    "        batch_accuracies.append(accuracy.item())\n",
    "\n",
    "    accuracy_tracker.append(torch.tensor(batch_accuracies).mean().item())\n",
    "\n",
    "    for tcrs, labels in train_dl:\n",
    "        preds = model(tcrs)\n",
    "        labels = labels.unsqueeze(-1)\n",
    "\n",
    "        optimiser.zero_grad()\n",
    "        loss = loss_fn(preds, labels)\n",
    "        loss.backward()\n",
    "        optimiser.step()\n",
    "\n",
    "\n",
    "print(max(accuracy_tracker))"
   ]
  },
  {
   "cell_type": "code",
   "execution_count": null,
   "metadata": {},
   "outputs": [],
   "source": []
  }
 ],
 "metadata": {
  "kernelspec": {
   "display_name": ".venv",
   "language": "python",
   "name": "python3"
  },
  "language_info": {
   "codemirror_mode": {
    "name": "ipython",
    "version": 3
   },
   "file_extension": ".py",
   "mimetype": "text/x-python",
   "name": "python",
   "nbconvert_exporter": "python",
   "pygments_lexer": "ipython3",
   "version": "3.8.16"
  },
  "orig_nbformat": 4
 },
 "nbformat": 4,
 "nbformat_minor": 2
}
