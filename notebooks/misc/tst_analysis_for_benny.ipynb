{
 "cells": [
  {
   "cell_type": "code",
   "execution_count": 1,
   "metadata": {},
   "outputs": [],
   "source": [
    "import os\n",
    "from pathlib import Path\n",
    "import sys\n",
    "\n",
    "if \"__project_dir__\" not in globals():\n",
    "    __project_dir__ = Path.cwd().parents[1].resolve()\n",
    "\n",
    "sys.path.append(__project_dir__)\n",
    "os.chdir(__project_dir__)"
   ]
  },
  {
   "cell_type": "code",
   "execution_count": 16,
   "metadata": {},
   "outputs": [],
   "source": [
    "import numpy as np\n",
    "import pandas as pd\n",
    "from pandas import DataFrame\n",
    "import tidytcells as tt\n",
    "\n",
    "from src.model_loader import ModelLoader"
   ]
  },
  {
   "cell_type": "code",
   "execution_count": 5,
   "metadata": {},
   "outputs": [],
   "source": [
    "def load_decombinator_csv_from_path(p: Path) -> DataFrame:\n",
    "    raw_decombinator_table = pd.read_csv(p)\n",
    "    cleaned_decombinator_table = standardize_tcr_nomenclature(raw_decombinator_table)\n",
    "    cleaned_decombinator_table = cleaned_decombinator_table[[\"v_call\", \"junction_aa\", \"j_call\"]]\n",
    "\n",
    "    if is_alpha_chain_data(cleaned_decombinator_table):\n",
    "        cleaned_decombinator_table.columns = [\"TRAV\", \"CDR3A\", \"TRAJ\"]\n",
    "    else:\n",
    "        cleaned_decombinator_table.columns = [\"TRBV\", \"CDR3B\", \"TRBJ\"]\n",
    "\n",
    "    return cleaned_decombinator_table\n",
    "\n",
    "def standardize_tcr_nomenclature(decombinator_table: DataFrame) -> DataFrame:\n",
    "    decombinator_table.v_call = decombinator_table.v_call.map(standardize_trb_gene_and_only_keep_functional)\n",
    "    decombinator_table.j_call = decombinator_table.j_call.map(standardize_trb_gene_and_only_keep_functional)\n",
    "    decombinator_table.junction_aa = decombinator_table.junction_aa.map(tt.junction.standardize)\n",
    "\n",
    "    return decombinator_table\n",
    "\n",
    "def standardize_trb_gene_and_only_keep_functional(gene: str) -> str:\n",
    "    return tt.tcr.standardize(gene=gene, enforce_functional=True)\n",
    "    \n",
    "def is_alpha_chain_data(decombinator_table: DataFrame) -> bool:\n",
    "    first_v_gene = decombinator_table.v_call.iloc[0]\n",
    "    first_v_gene_is_trav = \"TRAV\" in first_v_gene\n",
    "    \n",
    "    return first_v_gene_is_trav"
   ]
  },
  {
   "cell_type": "code",
   "execution_count": 8,
   "metadata": {},
   "outputs": [
    {
     "name": "stderr",
     "output_type": "stream",
     "text": [
      "/home/yutanagano/Projects/tcr_embedder/.venv/lib/python3.11/site-packages/tidytcells/_utils/warnings.py:12: UserWarning: Failed to standardize \"TRAV8-7\" for species homosapiens: gene has no functional alleles. Attempted fix: \"TRAV8-7\".\n",
      "  warn(\n",
      "/home/yutanagano/Projects/tcr_embedder/.venv/lib/python3.11/site-packages/tidytcells/_utils/warnings.py:12: UserWarning: Failed to standardize \"TRAJ58\" for species homosapiens: gene has no functional alleles. Attempted fix: \"TRAJ58\".\n",
      "  warn(\n",
      "/home/yutanagano/Projects/tcr_embedder/.venv/lib/python3.11/site-packages/tidytcells/_utils/warnings.py:12: UserWarning: Failed to standardize \"TRAJ25\" for species homosapiens: gene has no functional alleles. Attempted fix: \"TRAJ25\".\n",
      "  warn(\n",
      "/home/yutanagano/Projects/tcr_embedder/.venv/lib/python3.11/site-packages/tidytcells/_utils/warnings.py:12: UserWarning: Failed to standardize \"TRAJ61\" for species homosapiens: gene has no functional alleles. Attempted fix: \"TRAJ61\".\n",
      "  warn(\n",
      "/home/yutanagano/Projects/tcr_embedder/.venv/lib/python3.11/site-packages/tidytcells/_utils/warnings.py:12: UserWarning: Failed to standardize \"TRAJ2\" for species homosapiens: gene has no functional alleles. Attempted fix: \"TRAJ2\".\n",
      "  warn(\n",
      "/home/yutanagano/Projects/tcr_embedder/.venv/lib/python3.11/site-packages/tidytcells/_utils/warnings.py:12: UserWarning: Failed to standardize \"TRAJ60\" for species homosapiens: gene has no functional alleles. Attempted fix: \"TRAJ60\".\n",
      "  warn(\n",
      "/home/yutanagano/Projects/tcr_embedder/.venv/lib/python3.11/site-packages/tidytcells/_utils/warnings.py:12: UserWarning: Failed to standardize \"TRBV21-1\" for species homosapiens: gene has no functional alleles. Attempted fix: \"TRBV21-1\".\n",
      "  warn(\n",
      "/home/yutanagano/Projects/tcr_embedder/.venv/lib/python3.11/site-packages/tidytcells/_utils/warnings.py:12: UserWarning: Failed to standardize \"TRBV23-1\" for species homosapiens: gene has no functional alleles. Attempted fix: \"TRBV23-1\".\n",
      "  warn(\n",
      "/home/yutanagano/Projects/tcr_embedder/.venv/lib/python3.11/site-packages/tidytcells/_utils/warnings.py:12: UserWarning: Failed to standardize \"TRBV6-7\" for species homosapiens: gene has no functional alleles. Attempted fix: \"TRBV6-7\".\n",
      "  warn(\n",
      "/home/yutanagano/Projects/tcr_embedder/.venv/lib/python3.11/site-packages/tidytcells/_utils/warnings.py:12: UserWarning: Failed to standardize \"TRBV1\" for species homosapiens: gene has no functional alleles. Attempted fix: \"TRBV1\".\n",
      "  warn(\n",
      "/home/yutanagano/Projects/tcr_embedder/.venv/lib/python3.11/site-packages/tidytcells/_utils/warnings.py:12: UserWarning: Failed to standardize \"TRBV7-5\" for species homosapiens: gene has no functional alleles. Attempted fix: \"TRBV7-5\".\n",
      "  warn(\n",
      "/home/yutanagano/Projects/tcr_embedder/.venv/lib/python3.11/site-packages/tidytcells/_utils/warnings.py:12: UserWarning: Failed to standardize \"TRBV17\" for species homosapiens: gene has no functional alleles. Attempted fix: \"TRBV17\".\n",
      "  warn(\n",
      "/home/yutanagano/Projects/tcr_embedder/.venv/lib/python3.11/site-packages/tidytcells/_utils/warnings.py:12: UserWarning: Failed to standardize \"TRBV5-3\" for species homosapiens: gene has no functional alleles. Attempted fix: \"TRBV5-3\".\n",
      "  warn(\n",
      "/home/yutanagano/Projects/tcr_embedder/.venv/lib/python3.11/site-packages/tidytcells/_utils/warnings.py:12: UserWarning: Failed to standardize \"TRBV5-7\" for species homosapiens: gene has no functional alleles. Attempted fix: \"TRBV5-7\".\n",
      "  warn(\n"
     ]
    }
   ],
   "source": [
    "alpha_df = load_decombinator_csv_from_path(\"/home/yutanagano/Downloads/TST_2023/alpha_TCR_all.csv\")\n",
    "beta_df = load_decombinator_csv_from_path(\"/home/yutanagano/Downloads/TST_2023/beta_TCR_all.csv\")"
   ]
  },
  {
   "cell_type": "code",
   "execution_count": 9,
   "metadata": {},
   "outputs": [],
   "source": [
    "beta_only_model = ModelLoader(Path(\"/home/yutanagano/UCLOneDrive/MBPhD/projects/tcr_embedder/model_saves/BCDRBERT_ACL_small_double_censoring\"))\n",
    "paired_chain_model = ModelLoader(Path(\"/home/yutanagano/UCLOneDrive/MBPhD/projects/tcr_embedder/model_saves/CDRBERT_+ACL_cns_020_cdrcns_001_chaincns_020\"))"
   ]
  },
  {
   "cell_type": "code",
   "execution_count": 10,
   "metadata": {},
   "outputs": [
    {
     "name": "stderr",
     "output_type": "stream",
     "text": [
      "/home/yutanagano/Projects/tcr_embedder/.venv/lib/python3.11/site-packages/torch/nn/modules/transformer.py:296: UserWarning: The PyTorch API of nested tensors is in prototype stage and will change in the near future. (Triggered internally at ../aten/src/ATen/NestedTensorImpl.cpp:177.)\n",
      "  output = torch._nested_tensor_from_mask(output, src_key_padding_mask.logical_not(), mask_check=False)\n"
     ]
    }
   ],
   "source": [
    "beta_embeddings = beta_only_model.embed(beta_df)"
   ]
  },
  {
   "cell_type": "code",
   "execution_count": 17,
   "metadata": {},
   "outputs": [],
   "source": [
    "np.save(\"beta_embeddings.npy\", beta_embeddings)"
   ]
  },
  {
   "cell_type": "code",
   "execution_count": 18,
   "metadata": {},
   "outputs": [],
   "source": [
    "alpha_embeddings = paired_chain_model.embed(alpha_df)"
   ]
  },
  {
   "cell_type": "code",
   "execution_count": 21,
   "metadata": {},
   "outputs": [],
   "source": [
    "np.save(\"alpha_embeddings.npy\", alpha_embeddings)"
   ]
  },
  {
   "cell_type": "code",
   "execution_count": null,
   "metadata": {},
   "outputs": [],
   "source": []
  }
 ],
 "metadata": {
  "kernelspec": {
   "display_name": ".venv",
   "language": "python",
   "name": "python3"
  },
  "language_info": {
   "codemirror_mode": {
    "name": "ipython",
    "version": 3
   },
   "file_extension": ".py",
   "mimetype": "text/x-python",
   "name": "python",
   "nbconvert_exporter": "python",
   "pygments_lexer": "ipython3",
   "version": "3.11.2"
  },
  "orig_nbformat": 4
 },
 "nbformat": 4,
 "nbformat_minor": 2
}
