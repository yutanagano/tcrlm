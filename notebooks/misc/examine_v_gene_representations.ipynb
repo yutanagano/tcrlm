{
 "cells": [
  {
   "cell_type": "code",
   "execution_count": 2,
   "metadata": {},
   "outputs": [],
   "source": [
    "import os\n",
    "from pathlib import Path\n",
    "import sys\n",
    "\n",
    "if \"__project_dir__\" not in globals():\n",
    "    __project_dir__ = Path.cwd().parents[1].resolve()\n",
    "\n",
    "sys.path.append(__project_dir__)\n",
    "os.chdir(__project_dir__)"
   ]
  },
  {
   "cell_type": "code",
   "execution_count": 3,
   "metadata": {},
   "outputs": [],
   "source": [
    "import numpy as np\n",
    "import os\n",
    "import pandas as pd\n",
    "from pathlib import Path\n",
    "from scipy.spatial.distance import pdist, squareform\n",
    "from src.model_loader import ModelLoader\n",
    "import sys\n",
    "import tidytcells as tt\n",
    "\n",
    "if \"__project_dir__\" not in globals():\n",
    "    __project_dir__ = Path.cwd().parents[1].resolve()\n",
    "\n",
    "sys.path.append(__project_dir__)\n",
    "os.chdir(__project_dir__)"
   ]
  },
  {
   "cell_type": "code",
   "execution_count": 17,
   "metadata": {},
   "outputs": [],
   "source": [
    "functional_trbvs = pd.DataFrame(\n",
    "    tt.tcr.query(precision=\"gene\", functionality=\"F\", contains=\"TRBV\"), columns=[\"TRBV\"]\n",
    ").sort_values(by=\"TRBV\", ignore_index=True)"
   ]
  },
  {
   "cell_type": "code",
   "execution_count": 18,
   "metadata": {},
   "outputs": [],
   "source": [
    "savedir = Path(\"v_gene_representations\")\n",
    "\n",
    "if not savedir.is_dir():\n",
    "    savedir.mkdir()"
   ]
  },
  {
   "cell_type": "code",
   "execution_count": 19,
   "metadata": {},
   "outputs": [],
   "source": [
    "model = ModelLoader(\n",
    "    Path(\"/home/yutanagano/UCLOneDrive/MBPhD/projects/tcr_embedder/model_saves/BCDRBERT_ACL_small_double_censoring\")\n",
    ")\n",
    "\n",
    "embeddings = model.embed(functional_trbvs)\n",
    "cdist = squareform(pdist(embeddings))"
   ]
  },
  {
   "cell_type": "code",
   "execution_count": 22,
   "metadata": {},
   "outputs": [],
   "source": [
    "cdist = pd.DataFrame(cdist, columns=functional_trbvs[\"TRBV\"].values, index=functional_trbvs[\"TRBV\"].values)"
   ]
  },
  {
   "cell_type": "code",
   "execution_count": 25,
   "metadata": {},
   "outputs": [],
   "source": [
    "cdist.to_csv(savedir/\"ml_trbv_dists.csv\")"
   ]
  },
  {
   "cell_type": "code",
   "execution_count": null,
   "metadata": {},
   "outputs": [],
   "source": []
  }
 ],
 "metadata": {
  "kernelspec": {
   "display_name": ".venv",
   "language": "python",
   "name": "python3"
  },
  "language_info": {
   "codemirror_mode": {
    "name": "ipython",
    "version": 3
   },
   "file_extension": ".py",
   "mimetype": "text/x-python",
   "name": "python",
   "nbconvert_exporter": "python",
   "pygments_lexer": "ipython3",
   "version": "3.11.2"
  },
  "orig_nbformat": 4
 },
 "nbformat": 4,
 "nbformat_minor": 2
}
