{
 "cells": [
  {
   "cell_type": "code",
   "execution_count": 1,
   "metadata": {},
   "outputs": [],
   "source": [
    "import sys\n",
    "import os\n",
    "sys.path.append('/home/yutanagano/Projects/tcr_embedder')\n",
    "os.chdir('/home/yutanagano/Projects/tcr_embedder')"
   ]
  },
  {
   "cell_type": "code",
   "execution_count": 2,
   "metadata": {},
   "outputs": [],
   "source": [
    "import json\n",
    "import matplotlib.pyplot as plt\n",
    "import pandas as pd\n",
    "from pathlib import Path\n",
    "import seaborn\n",
    "\n",
    "seaborn.set_theme()\n",
    "seaborn.set_style('white')"
   ]
  },
  {
   "cell_type": "code",
   "execution_count": 3,
   "metadata": {},
   "outputs": [],
   "source": [
    "BENCHMARKING_PARENT_DIR = Path('benchmarks_beta')"
   ]
  },
  {
   "cell_type": "code",
   "execution_count": 4,
   "metadata": {},
   "outputs": [],
   "source": [
    "metric_dicts = [\n",
    "    {\n",
    "        'model_name': 'random_guess',\n",
    "        '5nn_accuracy': 1/46\n",
    "    }\n",
    "]\n",
    "\n",
    "for model in BENCHMARKING_PARENT_DIR.iterdir():\n",
    "    with open(model/'metrics.json', 'r') as f:\n",
    "        metric_dicts.append(json.load(f))"
   ]
  },
  {
   "cell_type": "code",
   "execution_count": 5,
   "metadata": {},
   "outputs": [],
   "source": [
    "metrics = pd.DataFrame(metric_dicts)\n",
    "metrics = metrics.sort_values(by='5nn_accuracy', ignore_index=True)"
   ]
  },
  {
   "cell_type": "code",
   "execution_count": 6,
   "metadata": {},
   "outputs": [
    {
     "data": {
      "text/html": [
       "<div>\n",
       "<style scoped>\n",
       "    .dataframe tbody tr th:only-of-type {\n",
       "        vertical-align: middle;\n",
       "    }\n",
       "\n",
       "    .dataframe tbody tr th {\n",
       "        vertical-align: top;\n",
       "    }\n",
       "\n",
       "    .dataframe thead th {\n",
       "        text-align: right;\n",
       "    }\n",
       "</style>\n",
       "<table border=\"1\" class=\"dataframe\">\n",
       "  <thead>\n",
       "    <tr style=\"text-align: right;\">\n",
       "      <th></th>\n",
       "      <th>model_name</th>\n",
       "      <th>5nn_accuracy</th>\n",
       "      <th>alignment</th>\n",
       "      <th>uniformity</th>\n",
       "      <th>alignment + uniformity</th>\n",
       "    </tr>\n",
       "  </thead>\n",
       "  <tbody>\n",
       "    <tr>\n",
       "      <th>0</th>\n",
       "      <td>random_guess</td>\n",
       "      <td>0.021739</td>\n",
       "      <td>NaN</td>\n",
       "      <td>NaN</td>\n",
       "      <td>NaN</td>\n",
       "    </tr>\n",
       "    <tr>\n",
       "      <th>1</th>\n",
       "      <td>random_embedder_1</td>\n",
       "      <td>0.096522</td>\n",
       "      <td>0.689678</td>\n",
       "      <td>-0.673951</td>\n",
       "      <td>0.015727</td>\n",
       "    </tr>\n",
       "    <tr>\n",
       "      <th>2</th>\n",
       "      <td>random_embedder_2</td>\n",
       "      <td>0.097826</td>\n",
       "      <td>0.797777</td>\n",
       "      <td>-0.784192</td>\n",
       "      <td>0.013585</td>\n",
       "    </tr>\n",
       "    <tr>\n",
       "      <th>3</th>\n",
       "      <td>random_embedder_3</td>\n",
       "      <td>0.098696</td>\n",
       "      <td>0.873280</td>\n",
       "      <td>-0.832943</td>\n",
       "      <td>0.040337</td>\n",
       "    </tr>\n",
       "    <tr>\n",
       "      <th>4</th>\n",
       "      <td>random_embedder_4</td>\n",
       "      <td>0.099348</td>\n",
       "      <td>1.028797</td>\n",
       "      <td>-1.011197</td>\n",
       "      <td>0.017601</td>\n",
       "    </tr>\n",
       "    <tr>\n",
       "      <th>5</th>\n",
       "      <td>random_embedder_0</td>\n",
       "      <td>0.102609</td>\n",
       "      <td>0.688372</td>\n",
       "      <td>-0.684504</td>\n",
       "      <td>0.003868</td>\n",
       "    </tr>\n",
       "    <tr>\n",
       "      <th>6</th>\n",
       "      <td>atchley_embedder</td>\n",
       "      <td>0.103913</td>\n",
       "      <td>0.835641</td>\n",
       "      <td>-0.780887</td>\n",
       "      <td>0.054754</td>\n",
       "    </tr>\n",
       "    <tr>\n",
       "      <th>7</th>\n",
       "      <td>BetaCDR3BERT_a_6_128_8_512-embed_5</td>\n",
       "      <td>0.204783</td>\n",
       "      <td>0.847306</td>\n",
       "      <td>-0.881839</td>\n",
       "      <td>-0.034533</td>\n",
       "    </tr>\n",
       "    <tr>\n",
       "      <th>8</th>\n",
       "      <td>BetaCDR3BERT_ap_6_128_8_512-embed_5</td>\n",
       "      <td>0.258043</td>\n",
       "      <td>0.932148</td>\n",
       "      <td>-0.967318</td>\n",
       "      <td>-0.035171</td>\n",
       "    </tr>\n",
       "  </tbody>\n",
       "</table>\n",
       "</div>"
      ],
      "text/plain": [
       "                            model_name  5nn_accuracy  alignment  uniformity  \\\n",
       "0                         random_guess      0.021739        NaN         NaN   \n",
       "1                    random_embedder_1      0.096522   0.689678   -0.673951   \n",
       "2                    random_embedder_2      0.097826   0.797777   -0.784192   \n",
       "3                    random_embedder_3      0.098696   0.873280   -0.832943   \n",
       "4                    random_embedder_4      0.099348   1.028797   -1.011197   \n",
       "5                    random_embedder_0      0.102609   0.688372   -0.684504   \n",
       "6                     atchley_embedder      0.103913   0.835641   -0.780887   \n",
       "7   BetaCDR3BERT_a_6_128_8_512-embed_5      0.204783   0.847306   -0.881839   \n",
       "8  BetaCDR3BERT_ap_6_128_8_512-embed_5      0.258043   0.932148   -0.967318   \n",
       "\n",
       "   alignment + uniformity  \n",
       "0                     NaN  \n",
       "1                0.015727  \n",
       "2                0.013585  \n",
       "3                0.040337  \n",
       "4                0.017601  \n",
       "5                0.003868  \n",
       "6                0.054754  \n",
       "7               -0.034533  \n",
       "8               -0.035171  "
      ]
     },
     "execution_count": 6,
     "metadata": {},
     "output_type": "execute_result"
    }
   ],
   "source": [
    "metrics"
   ]
  },
  {
   "cell_type": "code",
   "execution_count": 7,
   "metadata": {},
   "outputs": [],
   "source": [
    "\n",
    "def collapse_names(name):\n",
    "    groups = (\n",
    "        'AutoContrastive_CDR3BERT_AULoss',\n",
    "        'AutoContrastive_CDR3BERT_SimCLoss',\n",
    "        'EpitopeContrastive_CDR3BERT_SimCLoss',\n",
    "        'CDR3BERT_acp',\n",
    "        'CDR3BERT_ap',\n",
    "        'CDR3BERT_ac',\n",
    "        'CDR3BERT_a',\n",
    "        'random_embedder'\n",
    "    )\n",
    "\n",
    "    for group in groups:\n",
    "        if group in name:\n",
    "            return group\n",
    "    \n",
    "    return name\n",
    "\n",
    "metrics['model_name'] = metrics['model_name'].map(collapse_names)"
   ]
  },
  {
   "cell_type": "code",
   "execution_count": 8,
   "metadata": {},
   "outputs": [
    {
     "data": {
      "text/html": [
       "<div>\n",
       "<style scoped>\n",
       "    .dataframe tbody tr th:only-of-type {\n",
       "        vertical-align: middle;\n",
       "    }\n",
       "\n",
       "    .dataframe tbody tr th {\n",
       "        vertical-align: top;\n",
       "    }\n",
       "\n",
       "    .dataframe thead th {\n",
       "        text-align: right;\n",
       "    }\n",
       "</style>\n",
       "<table border=\"1\" class=\"dataframe\">\n",
       "  <thead>\n",
       "    <tr style=\"text-align: right;\">\n",
       "      <th></th>\n",
       "      <th>model_name</th>\n",
       "      <th>5nn_accuracy</th>\n",
       "      <th>alignment</th>\n",
       "      <th>uniformity</th>\n",
       "      <th>alignment + uniformity</th>\n",
       "    </tr>\n",
       "  </thead>\n",
       "  <tbody>\n",
       "    <tr>\n",
       "      <th>0</th>\n",
       "      <td>random_guess</td>\n",
       "      <td>0.021739</td>\n",
       "      <td>NaN</td>\n",
       "      <td>NaN</td>\n",
       "      <td>NaN</td>\n",
       "    </tr>\n",
       "    <tr>\n",
       "      <th>1</th>\n",
       "      <td>random_embedder</td>\n",
       "      <td>0.096522</td>\n",
       "      <td>0.689678</td>\n",
       "      <td>-0.673951</td>\n",
       "      <td>0.015727</td>\n",
       "    </tr>\n",
       "    <tr>\n",
       "      <th>2</th>\n",
       "      <td>random_embedder</td>\n",
       "      <td>0.097826</td>\n",
       "      <td>0.797777</td>\n",
       "      <td>-0.784192</td>\n",
       "      <td>0.013585</td>\n",
       "    </tr>\n",
       "    <tr>\n",
       "      <th>3</th>\n",
       "      <td>random_embedder</td>\n",
       "      <td>0.098696</td>\n",
       "      <td>0.873280</td>\n",
       "      <td>-0.832943</td>\n",
       "      <td>0.040337</td>\n",
       "    </tr>\n",
       "    <tr>\n",
       "      <th>4</th>\n",
       "      <td>random_embedder</td>\n",
       "      <td>0.099348</td>\n",
       "      <td>1.028797</td>\n",
       "      <td>-1.011197</td>\n",
       "      <td>0.017601</td>\n",
       "    </tr>\n",
       "    <tr>\n",
       "      <th>5</th>\n",
       "      <td>random_embedder</td>\n",
       "      <td>0.102609</td>\n",
       "      <td>0.688372</td>\n",
       "      <td>-0.684504</td>\n",
       "      <td>0.003868</td>\n",
       "    </tr>\n",
       "    <tr>\n",
       "      <th>6</th>\n",
       "      <td>atchley_embedder</td>\n",
       "      <td>0.103913</td>\n",
       "      <td>0.835641</td>\n",
       "      <td>-0.780887</td>\n",
       "      <td>0.054754</td>\n",
       "    </tr>\n",
       "    <tr>\n",
       "      <th>7</th>\n",
       "      <td>CDR3BERT_a</td>\n",
       "      <td>0.204783</td>\n",
       "      <td>0.847306</td>\n",
       "      <td>-0.881839</td>\n",
       "      <td>-0.034533</td>\n",
       "    </tr>\n",
       "    <tr>\n",
       "      <th>8</th>\n",
       "      <td>CDR3BERT_ap</td>\n",
       "      <td>0.258043</td>\n",
       "      <td>0.932148</td>\n",
       "      <td>-0.967318</td>\n",
       "      <td>-0.035171</td>\n",
       "    </tr>\n",
       "  </tbody>\n",
       "</table>\n",
       "</div>"
      ],
      "text/plain": [
       "         model_name  5nn_accuracy  alignment  uniformity  \\\n",
       "0      random_guess      0.021739        NaN         NaN   \n",
       "1   random_embedder      0.096522   0.689678   -0.673951   \n",
       "2   random_embedder      0.097826   0.797777   -0.784192   \n",
       "3   random_embedder      0.098696   0.873280   -0.832943   \n",
       "4   random_embedder      0.099348   1.028797   -1.011197   \n",
       "5   random_embedder      0.102609   0.688372   -0.684504   \n",
       "6  atchley_embedder      0.103913   0.835641   -0.780887   \n",
       "7        CDR3BERT_a      0.204783   0.847306   -0.881839   \n",
       "8       CDR3BERT_ap      0.258043   0.932148   -0.967318   \n",
       "\n",
       "   alignment + uniformity  \n",
       "0                     NaN  \n",
       "1                0.015727  \n",
       "2                0.013585  \n",
       "3                0.040337  \n",
       "4                0.017601  \n",
       "5                0.003868  \n",
       "6                0.054754  \n",
       "7               -0.034533  \n",
       "8               -0.035171  "
      ]
     },
     "execution_count": 8,
     "metadata": {},
     "output_type": "execute_result"
    }
   ],
   "source": [
    "metrics"
   ]
  },
  {
   "cell_type": "code",
   "execution_count": 9,
   "metadata": {},
   "outputs": [
    {
     "data": {
      "image/png": "[encoded data removed]",
      "text/plain": [
       "<Figure size 640x480 with 1 Axes>"
      ]
     },
     "metadata": {},
     "output_type": "display_data"
    }
   ],
   "source": [
    "knn_acc_plot = seaborn.barplot(metrics, x='model_name', y='5nn_accuracy')\n",
    "knn_acc_plot.set_xticklabels(knn_acc_plot.get_xticklabels(), rotation=90)\n",
    "plt.show()"
   ]
  },
  {
   "cell_type": "code",
   "execution_count": 10,
   "metadata": {},
   "outputs": [
    {
     "data": {
      "image/png": "[encoded data removed]",
      "text/plain": [
       "<Figure size 640x480 with 1 Axes>"
      ]
     },
     "metadata": {},
     "output_type": "display_data"
    }
   ],
   "source": [
    "scatter_model_names = seaborn.scatterplot(metrics, x='5nn_accuracy', y='alignment + uniformity', hue='model_name')\n",
    "plt.show()"
   ]
  },
  {
   "cell_type": "code",
   "execution_count": null,
   "metadata": {},
   "outputs": [],
   "source": []
  }
 ],
 "metadata": {
  "kernelspec": {
   "display_name": "Python 3.8.15 ('.venv': venv)",
   "language": "python",
   "name": "python3"
  },
  "language_info": {
   "codemirror_mode": {
    "name": "ipython",
    "version": 3
   },
   "file_extension": ".py",
   "mimetype": "text/x-python",
   "name": "python",
   "nbconvert_exporter": "python",
   "pygments_lexer": "ipython3",
   "version": "3.10.9"
  },
  "orig_nbformat": 4,
  "vscode": {
   "interpreter": {
    "hash": "bab11497baf8882c4e95e2d544b4f7a8d499018a7e93af1d4b5fac976897075f"
   }
  }
 },
 "nbformat": 4,
 "nbformat_minor": 2
}
