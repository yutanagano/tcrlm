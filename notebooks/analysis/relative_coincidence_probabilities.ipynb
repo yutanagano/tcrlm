{
 "cells": [
  {
   "cell_type": "markdown",
   "metadata": {},
   "source": [
    "### Setup"
   ]
  },
  {
   "cell_type": "code",
   "execution_count": 1,
   "metadata": {},
   "outputs": [],
   "source": [
    "import os\n",
    "from pathlib import Path\n",
    "import sys\n",
    "\n",
    "def set_current_directory_of_notebook_interpreter_to_project_root():\n",
    "    if \"__project_dir__\" not in globals():\n",
    "        __project_dir__ = Path.cwd().parents[1].resolve()\n",
    "\n",
    "    sys.path.append(__project_dir__)\n",
    "    os.chdir(__project_dir__)\n",
    "\n",
    "set_current_directory_of_notebook_interpreter_to_project_root()"
   ]
  },
  {
   "cell_type": "code",
   "execution_count": 2,
   "metadata": {},
   "outputs": [],
   "source": [
    "import math\n",
    "import pandas as pd\n",
    "from pandas import DataFrame"
   ]
  },
  {
   "cell_type": "markdown",
   "metadata": {},
   "source": [
    "### Load data"
   ]
  },
  {
   "cell_type": "code",
   "execution_count": 3,
   "metadata": {},
   "outputs": [],
   "source": [
    "tanno_dataframe = pd.read_csv(\"/home/yutanagano/UCLOneDrive/MBPhD/projects/tcr_embedder/data/preprocessed/tanno/combined.csv\")\n",
    "minervina_dataframe= pd.read_csv(\"/home/yutanagano/UCLOneDrive/MBPhD/projects/tcr_embedder/data/preprocessed/minervina/preprocessed.csv\")"
   ]
  },
  {
   "cell_type": "code",
   "execution_count": 4,
   "metadata": {},
   "outputs": [
    {
     "data": {
      "text/html": [
       "<div>\n",
       "<style scoped>\n",
       "    .dataframe tbody tr th:only-of-type {\n",
       "        vertical-align: middle;\n",
       "    }\n",
       "\n",
       "    .dataframe tbody tr th {\n",
       "        vertical-align: top;\n",
       "    }\n",
       "\n",
       "    .dataframe thead th {\n",
       "        text-align: right;\n",
       "    }\n",
       "</style>\n",
       "<table border=\"1\" class=\"dataframe\">\n",
       "  <thead>\n",
       "    <tr style=\"text-align: right;\">\n",
       "      <th></th>\n",
       "      <th>TRAV</th>\n",
       "      <th>CDR3A</th>\n",
       "      <th>TRAJ</th>\n",
       "      <th>TRBV</th>\n",
       "      <th>CDR3B</th>\n",
       "      <th>TRBJ</th>\n",
       "      <th>Epitope</th>\n",
       "      <th>MHCA</th>\n",
       "      <th>MHCB</th>\n",
       "      <th>clone_count</th>\n",
       "    </tr>\n",
       "  </thead>\n",
       "  <tbody>\n",
       "    <tr>\n",
       "      <th>0</th>\n",
       "      <td>TRAV1-1</td>\n",
       "      <td>CAAANQAGTALIF</td>\n",
       "      <td>TRAJ15</td>\n",
       "      <td>TRBV6-1</td>\n",
       "      <td>CASSDGVAETQYF</td>\n",
       "      <td>TRBJ2-5</td>\n",
       "      <td>NaN</td>\n",
       "      <td>NaN</td>\n",
       "      <td>NaN</td>\n",
       "      <td>1</td>\n",
       "    </tr>\n",
       "    <tr>\n",
       "      <th>1</th>\n",
       "      <td>TRAV1-1</td>\n",
       "      <td>CAAANTGFQKLVF</td>\n",
       "      <td>TRAJ8</td>\n",
       "      <td>TRBV27</td>\n",
       "      <td>CASSPLQGYEQYF</td>\n",
       "      <td>TRBJ2-7</td>\n",
       "      <td>NaN</td>\n",
       "      <td>NaN</td>\n",
       "      <td>NaN</td>\n",
       "      <td>1</td>\n",
       "    </tr>\n",
       "    <tr>\n",
       "      <th>2</th>\n",
       "      <td>TRAV1-1</td>\n",
       "      <td>CAAAPGFQKLVF</td>\n",
       "      <td>TRAJ8</td>\n",
       "      <td>TRBV7-2</td>\n",
       "      <td>CASSPTVSQETQYF</td>\n",
       "      <td>TRBJ2-5</td>\n",
       "      <td>NaN</td>\n",
       "      <td>NaN</td>\n",
       "      <td>NaN</td>\n",
       "      <td>1</td>\n",
       "    </tr>\n",
       "    <tr>\n",
       "      <th>3</th>\n",
       "      <td>TRAV1-1</td>\n",
       "      <td>CAAAQAGTALIF</td>\n",
       "      <td>TRAJ15</td>\n",
       "      <td>TRBV30</td>\n",
       "      <td>CAWRDVAGAEKLFF</td>\n",
       "      <td>TRBJ1-4</td>\n",
       "      <td>NaN</td>\n",
       "      <td>NaN</td>\n",
       "      <td>NaN</td>\n",
       "      <td>1</td>\n",
       "    </tr>\n",
       "    <tr>\n",
       "      <th>4</th>\n",
       "      <td>TRAV1-1</td>\n",
       "      <td>CAAAQGGKLIF</td>\n",
       "      <td>TRAJ23</td>\n",
       "      <td>TRBV7-9</td>\n",
       "      <td>CASTGSNYGYTF</td>\n",
       "      <td>TRBJ1-2</td>\n",
       "      <td>NaN</td>\n",
       "      <td>NaN</td>\n",
       "      <td>NaN</td>\n",
       "      <td>1</td>\n",
       "    </tr>\n",
       "  </tbody>\n",
       "</table>\n",
       "</div>"
      ],
      "text/plain": [
       "      TRAV          CDR3A    TRAJ     TRBV           CDR3B     TRBJ  Epitope  \\\n",
       "0  TRAV1-1  CAAANQAGTALIF  TRAJ15  TRBV6-1   CASSDGVAETQYF  TRBJ2-5      NaN   \n",
       "1  TRAV1-1  CAAANTGFQKLVF   TRAJ8   TRBV27   CASSPLQGYEQYF  TRBJ2-7      NaN   \n",
       "2  TRAV1-1   CAAAPGFQKLVF   TRAJ8  TRBV7-2  CASSPTVSQETQYF  TRBJ2-5      NaN   \n",
       "3  TRAV1-1   CAAAQAGTALIF  TRAJ15   TRBV30  CAWRDVAGAEKLFF  TRBJ1-4      NaN   \n",
       "4  TRAV1-1    CAAAQGGKLIF  TRAJ23  TRBV7-9    CASTGSNYGYTF  TRBJ1-2      NaN   \n",
       "\n",
       "   MHCA  MHCB  clone_count  \n",
       "0   NaN   NaN            1  \n",
       "1   NaN   NaN            1  \n",
       "2   NaN   NaN            1  \n",
       "3   NaN   NaN            1  \n",
       "4   NaN   NaN            1  "
      ]
     },
     "execution_count": 4,
     "metadata": {},
     "output_type": "execute_result"
    }
   ],
   "source": [
    "tanno_dataframe.head()"
   ]
  },
  {
   "cell_type": "code",
   "execution_count": 5,
   "metadata": {},
   "outputs": [
    {
     "data": {
      "text/html": [
       "<div>\n",
       "<style scoped>\n",
       "    .dataframe tbody tr th:only-of-type {\n",
       "        vertical-align: middle;\n",
       "    }\n",
       "\n",
       "    .dataframe tbody tr th {\n",
       "        vertical-align: top;\n",
       "    }\n",
       "\n",
       "    .dataframe thead th {\n",
       "        text-align: right;\n",
       "    }\n",
       "</style>\n",
       "<table border=\"1\" class=\"dataframe\">\n",
       "  <thead>\n",
       "    <tr style=\"text-align: right;\">\n",
       "      <th></th>\n",
       "      <th>TRAV</th>\n",
       "      <th>CDR3A</th>\n",
       "      <th>TRAJ</th>\n",
       "      <th>TRBV</th>\n",
       "      <th>CDR3B</th>\n",
       "      <th>TRBJ</th>\n",
       "      <th>Epitope</th>\n",
       "      <th>MHCA</th>\n",
       "      <th>MHCB</th>\n",
       "      <th>clone_count</th>\n",
       "    </tr>\n",
       "  </thead>\n",
       "  <tbody>\n",
       "    <tr>\n",
       "      <th>0</th>\n",
       "      <td>TRAV1-1</td>\n",
       "      <td>CAAEMNFNKFYF</td>\n",
       "      <td>TRAJ21</td>\n",
       "      <td>TRBV27</td>\n",
       "      <td>CASSSTVTLAKNIQYF</td>\n",
       "      <td>TRBJ2-4</td>\n",
       "      <td>VYF</td>\n",
       "      <td>HLA-A*24</td>\n",
       "      <td>NaN</td>\n",
       "      <td>1</td>\n",
       "    </tr>\n",
       "    <tr>\n",
       "      <th>1</th>\n",
       "      <td>TRAV1-1</td>\n",
       "      <td>CAGLEALLNDMRF</td>\n",
       "      <td>TRAJ43</td>\n",
       "      <td>TRBV28</td>\n",
       "      <td>CASERANTGELFF</td>\n",
       "      <td>TRBJ2-2</td>\n",
       "      <td>TTD</td>\n",
       "      <td>HLA-A*01</td>\n",
       "      <td>NaN</td>\n",
       "      <td>1</td>\n",
       "    </tr>\n",
       "    <tr>\n",
       "      <th>2</th>\n",
       "      <td>TRAV1-1</td>\n",
       "      <td>CAGTDTGGFKTIF</td>\n",
       "      <td>TRAJ9</td>\n",
       "      <td>TRBV5-1</td>\n",
       "      <td>CASSSTDGNTGELFF</td>\n",
       "      <td>TRBJ2-2</td>\n",
       "      <td>FTS</td>\n",
       "      <td>HLA-A*01</td>\n",
       "      <td>NaN</td>\n",
       "      <td>1</td>\n",
       "    </tr>\n",
       "    <tr>\n",
       "      <th>3</th>\n",
       "      <td>TRAV1-1</td>\n",
       "      <td>CAMPTDKLIF</td>\n",
       "      <td>TRAJ34</td>\n",
       "      <td>TRBV15</td>\n",
       "      <td>CATSPGLAGGETGELFF</td>\n",
       "      <td>TRBJ2-2</td>\n",
       "      <td>VYF</td>\n",
       "      <td>HLA-A*24</td>\n",
       "      <td>NaN</td>\n",
       "      <td>1</td>\n",
       "    </tr>\n",
       "    <tr>\n",
       "      <th>4</th>\n",
       "      <td>TRAV1-1</td>\n",
       "      <td>CAPDSNYQLIW</td>\n",
       "      <td>TRAJ33</td>\n",
       "      <td>TRBV7-9</td>\n",
       "      <td>CASSLESADRAHYGYTF</td>\n",
       "      <td>TRBJ1-2</td>\n",
       "      <td>VYI</td>\n",
       "      <td>HLA-A*24</td>\n",
       "      <td>NaN</td>\n",
       "      <td>1</td>\n",
       "    </tr>\n",
       "  </tbody>\n",
       "</table>\n",
       "</div>"
      ],
      "text/plain": [
       "      TRAV          CDR3A    TRAJ     TRBV              CDR3B     TRBJ  \\\n",
       "0  TRAV1-1   CAAEMNFNKFYF  TRAJ21   TRBV27   CASSSTVTLAKNIQYF  TRBJ2-4   \n",
       "1  TRAV1-1  CAGLEALLNDMRF  TRAJ43   TRBV28      CASERANTGELFF  TRBJ2-2   \n",
       "2  TRAV1-1  CAGTDTGGFKTIF   TRAJ9  TRBV5-1    CASSSTDGNTGELFF  TRBJ2-2   \n",
       "3  TRAV1-1     CAMPTDKLIF  TRAJ34   TRBV15  CATSPGLAGGETGELFF  TRBJ2-2   \n",
       "4  TRAV1-1    CAPDSNYQLIW  TRAJ33  TRBV7-9  CASSLESADRAHYGYTF  TRBJ1-2   \n",
       "\n",
       "  Epitope      MHCA  MHCB  clone_count  \n",
       "0     VYF  HLA-A*24   NaN            1  \n",
       "1     TTD  HLA-A*01   NaN            1  \n",
       "2     FTS  HLA-A*01   NaN            1  \n",
       "3     VYF  HLA-A*24   NaN            1  \n",
       "4     VYI  HLA-A*24   NaN            1  "
      ]
     },
     "execution_count": 5,
     "metadata": {},
     "output_type": "execute_result"
    }
   ],
   "source": [
    "minervina_dataframe.head()"
   ]
  },
  {
   "cell_type": "markdown",
   "metadata": {},
   "source": [
    "### Paired chain exact coincidences"
   ]
  },
  {
   "cell_type": "code",
   "execution_count": 6,
   "metadata": {},
   "outputs": [],
   "source": [
    "def get_exact_coincidence_probability(dataframe: DataFrame) -> float:\n",
    "    total_num_pairs_without_replacement = get_total_num_pairs_without_replacement(dataframe)\n",
    "    num_exact_coincidences_without_replacement = get_num_exact_coincidences_without_replacement(dataframe)\n",
    "    return num_exact_coincidences_without_replacement / total_num_pairs_without_replacement\n",
    "\n",
    "\n",
    "def get_total_num_pairs_without_replacement(dataframe: DataFrame) -> int:\n",
    "    tcrs_grouped_by_specificity = dataframe.groupby(\"Epitope\", dropna=False)\n",
    "    num_tcrs_in_specificity_groups = tcrs_grouped_by_specificity.aggregate({\"clone_count\": \"sum\"})\n",
    "    num_pairs_in_specificity_groups = num_tcrs_in_specificity_groups.clone_count.map(lambda n: math.comb(n, 2))\n",
    "    return num_pairs_in_specificity_groups.sum()\n",
    "\n",
    "\n",
    "def get_num_exact_coincidences_without_replacement(dataframe: DataFrame) -> int:\n",
    "    num_exact_coincidences_per_unique_tcr_epitope_combination = dataframe.clone_count.map(lambda n: math.comb(n, 2))\n",
    "    return num_exact_coincidences_per_unique_tcr_epitope_combination.sum()"
   ]
  },
  {
   "cell_type": "code",
   "execution_count": 7,
   "metadata": {},
   "outputs": [
    {
     "name": "stdout",
     "output_type": "stream",
     "text": [
      "tanno AB Pc:     7.307721481634151e-08\n",
      "minervina AB Pc: 3.01908947048422e-05\n",
      "AB enrichment:   413.13690978396346\n"
     ]
    }
   ],
   "source": [
    "tanno_ab_pc = get_exact_coincidence_probability(tanno_dataframe)\n",
    "minervina_ab_pc = get_exact_coincidence_probability(minervina_dataframe)\n",
    "ab_enrichment = minervina_ab_pc / tanno_ab_pc\n",
    "\n",
    "print(f\"tanno AB Pc:     {tanno_ab_pc}\")\n",
    "print(f\"minervina AB Pc: {minervina_ab_pc}\")\n",
    "print(f\"AB enrichment:   {ab_enrichment}\")"
   ]
  },
  {
   "cell_type": "markdown",
   "metadata": {},
   "source": [
    "### Beta chain only exact coincidences"
   ]
  },
  {
   "cell_type": "code",
   "execution_count": 8,
   "metadata": {},
   "outputs": [],
   "source": [
    "def generate_unique_beta_only_dataframe_from_paired_dataframe(paired_dataframe: DataFrame) -> DataFrame:\n",
    "    return paired_dataframe.groupby(\n",
    "        by=[\"TRBV\", \"CDR3B\", \"TRBJ\", \"Epitope\"],\n",
    "        as_index=False,\n",
    "        dropna=False\n",
    "    ).aggregate({\"clone_count\": \"sum\"})"
   ]
  },
  {
   "cell_type": "code",
   "execution_count": 9,
   "metadata": {},
   "outputs": [],
   "source": [
    "tanno_beta_dataframe = generate_unique_beta_only_dataframe_from_paired_dataframe(tanno_dataframe)\n",
    "minervina_beta_dataframe = generate_unique_beta_only_dataframe_from_paired_dataframe(minervina_dataframe)"
   ]
  },
  {
   "cell_type": "code",
   "execution_count": 10,
   "metadata": {},
   "outputs": [
    {
     "data": {
      "text/html": [
       "<div>\n",
       "<style scoped>\n",
       "    .dataframe tbody tr th:only-of-type {\n",
       "        vertical-align: middle;\n",
       "    }\n",
       "\n",
       "    .dataframe tbody tr th {\n",
       "        vertical-align: top;\n",
       "    }\n",
       "\n",
       "    .dataframe thead th {\n",
       "        text-align: right;\n",
       "    }\n",
       "</style>\n",
       "<table border=\"1\" class=\"dataframe\">\n",
       "  <thead>\n",
       "    <tr style=\"text-align: right;\">\n",
       "      <th></th>\n",
       "      <th>TRBV</th>\n",
       "      <th>CDR3B</th>\n",
       "      <th>TRBJ</th>\n",
       "      <th>Epitope</th>\n",
       "      <th>clone_count</th>\n",
       "    </tr>\n",
       "  </thead>\n",
       "  <tbody>\n",
       "    <tr>\n",
       "      <th>0</th>\n",
       "      <td>TRBV10-1</td>\n",
       "      <td>CAETAGQGVYEQYF</td>\n",
       "      <td>TRBJ2-7</td>\n",
       "      <td>NaN</td>\n",
       "      <td>1</td>\n",
       "    </tr>\n",
       "    <tr>\n",
       "      <th>1</th>\n",
       "      <td>TRBV10-1</td>\n",
       "      <td>CAEVGGRSYEQYF</td>\n",
       "      <td>TRBJ2-7</td>\n",
       "      <td>NaN</td>\n",
       "      <td>1</td>\n",
       "    </tr>\n",
       "    <tr>\n",
       "      <th>2</th>\n",
       "      <td>TRBV10-1</td>\n",
       "      <td>CAFFGAGANVLTF</td>\n",
       "      <td>TRBJ2-6</td>\n",
       "      <td>NaN</td>\n",
       "      <td>1</td>\n",
       "    </tr>\n",
       "    <tr>\n",
       "      <th>3</th>\n",
       "      <td>TRBV10-1</td>\n",
       "      <td>CAIFRDGHQDGKLFF</td>\n",
       "      <td>TRBJ1-4</td>\n",
       "      <td>NaN</td>\n",
       "      <td>1</td>\n",
       "    </tr>\n",
       "    <tr>\n",
       "      <th>4</th>\n",
       "      <td>TRBV10-1</td>\n",
       "      <td>CAIILAGPSYEQYF</td>\n",
       "      <td>TRBJ2-7</td>\n",
       "      <td>NaN</td>\n",
       "      <td>1</td>\n",
       "    </tr>\n",
       "  </tbody>\n",
       "</table>\n",
       "</div>"
      ],
      "text/plain": [
       "       TRBV            CDR3B     TRBJ  Epitope  clone_count\n",
       "0  TRBV10-1   CAETAGQGVYEQYF  TRBJ2-7      NaN            1\n",
       "1  TRBV10-1    CAEVGGRSYEQYF  TRBJ2-7      NaN            1\n",
       "2  TRBV10-1    CAFFGAGANVLTF  TRBJ2-6      NaN            1\n",
       "3  TRBV10-1  CAIFRDGHQDGKLFF  TRBJ1-4      NaN            1\n",
       "4  TRBV10-1   CAIILAGPSYEQYF  TRBJ2-7      NaN            1"
      ]
     },
     "execution_count": 10,
     "metadata": {},
     "output_type": "execute_result"
    }
   ],
   "source": [
    "tanno_beta_dataframe.head()"
   ]
  },
  {
   "cell_type": "code",
   "execution_count": 11,
   "metadata": {},
   "outputs": [
    {
     "data": {
      "text/html": [
       "<div>\n",
       "<style scoped>\n",
       "    .dataframe tbody tr th:only-of-type {\n",
       "        vertical-align: middle;\n",
       "    }\n",
       "\n",
       "    .dataframe tbody tr th {\n",
       "        vertical-align: top;\n",
       "    }\n",
       "\n",
       "    .dataframe thead th {\n",
       "        text-align: right;\n",
       "    }\n",
       "</style>\n",
       "<table border=\"1\" class=\"dataframe\">\n",
       "  <thead>\n",
       "    <tr style=\"text-align: right;\">\n",
       "      <th></th>\n",
       "      <th>TRBV</th>\n",
       "      <th>CDR3B</th>\n",
       "      <th>TRBJ</th>\n",
       "      <th>Epitope</th>\n",
       "      <th>clone_count</th>\n",
       "    </tr>\n",
       "  </thead>\n",
       "  <tbody>\n",
       "    <tr>\n",
       "      <th>0</th>\n",
       "      <td>TRBV10-1</td>\n",
       "      <td>CASASELADTDTQYF</td>\n",
       "      <td>TRBJ2-3</td>\n",
       "      <td>TTD</td>\n",
       "      <td>1</td>\n",
       "    </tr>\n",
       "    <tr>\n",
       "      <th>1</th>\n",
       "      <td>TRBV10-1</td>\n",
       "      <td>CASSDRGLAGTSSYEQYF</td>\n",
       "      <td>TRBJ2-7</td>\n",
       "      <td>VYF</td>\n",
       "      <td>1</td>\n",
       "    </tr>\n",
       "    <tr>\n",
       "      <th>2</th>\n",
       "      <td>TRBV10-1</td>\n",
       "      <td>CASSDSGFGYGYTF</td>\n",
       "      <td>TRBJ1-2</td>\n",
       "      <td>LTD</td>\n",
       "      <td>1</td>\n",
       "    </tr>\n",
       "    <tr>\n",
       "      <th>3</th>\n",
       "      <td>TRBV10-1</td>\n",
       "      <td>CASSDVSGENNSPLHF</td>\n",
       "      <td>TRBJ1-6</td>\n",
       "      <td>ALS</td>\n",
       "      <td>1</td>\n",
       "    </tr>\n",
       "    <tr>\n",
       "      <th>4</th>\n",
       "      <td>TRBV10-1</td>\n",
       "      <td>CASSEFQGESTDTQYF</td>\n",
       "      <td>TRBJ2-3</td>\n",
       "      <td>TTD</td>\n",
       "      <td>1</td>\n",
       "    </tr>\n",
       "  </tbody>\n",
       "</table>\n",
       "</div>"
      ],
      "text/plain": [
       "       TRBV               CDR3B     TRBJ Epitope  clone_count\n",
       "0  TRBV10-1     CASASELADTDTQYF  TRBJ2-3     TTD            1\n",
       "1  TRBV10-1  CASSDRGLAGTSSYEQYF  TRBJ2-7     VYF            1\n",
       "2  TRBV10-1      CASSDSGFGYGYTF  TRBJ1-2     LTD            1\n",
       "3  TRBV10-1    CASSDVSGENNSPLHF  TRBJ1-6     ALS            1\n",
       "4  TRBV10-1    CASSEFQGESTDTQYF  TRBJ2-3     TTD            1"
      ]
     },
     "execution_count": 11,
     "metadata": {},
     "output_type": "execute_result"
    }
   ],
   "source": [
    "minervina_beta_dataframe.head()"
   ]
  },
  {
   "cell_type": "code",
   "execution_count": 12,
   "metadata": {},
   "outputs": [
    {
     "name": "stdout",
     "output_type": "stream",
     "text": [
      "tanno B Pc:     1.732526944107104e-07\n",
      "minervina B Pc: 0.0003111984531114504\n",
      "B enrichment:   1796.2113326429874\n"
     ]
    }
   ],
   "source": [
    "tanno_b_pc = get_exact_coincidence_probability(tanno_beta_dataframe)\n",
    "minervina_b_pc = get_exact_coincidence_probability(minervina_beta_dataframe)\n",
    "b_enrichment = minervina_b_pc / tanno_b_pc\n",
    "\n",
    "print(f\"tanno B Pc:     {tanno_b_pc}\")\n",
    "print(f\"minervina B Pc: {minervina_b_pc}\")\n",
    "print(f\"B enrichment:   {b_enrichment}\")"
   ]
  },
  {
   "cell_type": "markdown",
   "metadata": {},
   "source": [
    "### Pairing signal within Minervina"
   ]
  },
  {
   "cell_type": "code",
   "execution_count": 13,
   "metadata": {},
   "outputs": [],
   "source": [
    "def get_exact_coincidence_probability_disregarding_epitopes(dataframe: DataFrame) -> float:\n",
    "    total_num_pairs_without_replacement = get_total_num_pairs_without_replacement_disregarding_epitopes(dataframe)\n",
    "    num_exact_coincidences_without_replacement = get_num_exact_coincidences_without_replacement_disregarding_epitopes(dataframe)\n",
    "    return num_exact_coincidences_without_replacement / total_num_pairs_without_replacement\n",
    "\n",
    "\n",
    "def get_total_num_pairs_without_replacement_disregarding_epitopes(dataframe: DataFrame) -> int:\n",
    "    total_num_tcrs = dataframe.clone_count.sum()\n",
    "    return math.comb(total_num_tcrs, 2)\n",
    "\n",
    "\n",
    "def get_num_exact_coincidences_without_replacement_disregarding_epitopes(dataframe: DataFrame) -> int:\n",
    "    unique_tcrs = dataframe.groupby(\n",
    "        by=[\"TRAV\", \"CDR3A\", \"TRAJ\", \"TRBV\", \"CDR3B\", \"TRBJ\"],\n",
    "        as_index=False,\n",
    "        dropna=False\n",
    "    ).aggregate({\"clone_count\": \"sum\"})\n",
    "    num_exact_coincidences = unique_tcrs.clone_count.map(lambda n: math.comb(n, 2))\n",
    "    return num_exact_coincidences.sum()"
   ]
  },
  {
   "cell_type": "code",
   "execution_count": 17,
   "metadata": {},
   "outputs": [
    {
     "name": "stdout",
     "output_type": "stream",
     "text": [
      "4.524993724557368\n"
     ]
    }
   ],
   "source": [
    "minervina_ab_pc_disregarding_epitopes = get_exact_coincidence_probability_disregarding_epitopes(minervina_dataframe)\n",
    "\n",
    "print(minervina_ab_pc / minervina_ab_pc_disregarding_epitopes)"
   ]
  },
  {
   "cell_type": "code",
   "execution_count": 16,
   "metadata": {},
   "outputs": [
    {
     "data": {
      "text/plain": [
       "6.672030182272894e-06"
      ]
     },
     "execution_count": 16,
     "metadata": {},
     "output_type": "execute_result"
    }
   ],
   "source": []
  },
  {
   "cell_type": "code",
   "execution_count": null,
   "metadata": {},
   "outputs": [],
   "source": []
  }
 ],
 "metadata": {
  "kernelspec": {
   "display_name": ".venv",
   "language": "python",
   "name": "python3"
  },
  "language_info": {
   "codemirror_mode": {
    "name": "ipython",
    "version": 3
   },
   "file_extension": ".py",
   "mimetype": "text/x-python",
   "name": "python",
   "nbconvert_exporter": "python",
   "pygments_lexer": "ipython3",
   "version": "3.11.5"
  },
  "orig_nbformat": 4
 },
 "nbformat": 4,
 "nbformat_minor": 2
}
