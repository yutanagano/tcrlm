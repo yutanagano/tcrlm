{
 "cells": [
  {
   "cell_type": "code",
   "execution_count": 1,
   "metadata": {},
   "outputs": [],
   "source": [
    "import os\n",
    "from pathlib import Path\n",
    "import sys\n",
    "\n",
    "if \"__project_dir__\" not in globals():\n",
    "    __project_dir__ = Path.cwd().parents[1].resolve()\n",
    "\n",
    "sys.path.append(__project_dir__)\n",
    "os.chdir(__project_dir__)"
   ]
  },
  {
   "cell_type": "code",
   "execution_count": 2,
   "metadata": {},
   "outputs": [
    {
     "name": "stderr",
     "output_type": "stream",
     "text": [
      "/home/yutanagano/Projects/tcr_embedder/.venv/lib64/python3.11/site-packages/tqdm/auto.py:21: TqdmWarning: IProgress not found. Please update jupyter and ipywidgets. See https://ipywidgets.readthedocs.io/en/stable/user_install.html\n",
      "  from .autonotebook import tqdm as notebook_tqdm\n"
     ]
    }
   ],
   "source": [
    "import numpy as np\n",
    "from src.model_analyser import ModelAnalyser\n",
    "from src.model import tcr_metric, tcr_representation_model"
   ]
  },
  {
   "cell_type": "code",
   "execution_count": 4,
   "metadata": {},
   "outputs": [],
   "source": [
    "analyser = ModelAnalyser()\n",
    "model = tcr_representation_model.load_sceptr_save(Path(\"/home/yutanagano/UCLOneDrive/MBPhD/projects/tcr_embedder/model_saves/AB_SCEPTR_large\"))\n",
    "# model.distance_bins = np.linspace(0, 0.8, num=21)"
   ]
  },
  {
   "cell_type": "code",
   "execution_count": 5,
   "metadata": {},
   "outputs": [],
   "source": [
    "# model = tcr_metric.Tcrdist()"
   ]
  },
  {
   "cell_type": "code",
   "execution_count": 6,
   "metadata": {},
   "outputs": [
    {
     "name": "stdout",
     "output_type": "stream",
     "text": [
      "Running OneVsRest...\n"
     ]
    },
    {
     "name": "stderr",
     "output_type": "stream",
     "text": [
      "  0%|          | 0/15 [00:00<?, ?it/s]"
     ]
    },
    {
     "name": "stderr",
     "output_type": "stream",
     "text": [
      "/home/yutanagano/Projects/tcr_embedder/.venv/lib64/python3.11/site-packages/torch/nn/modules/transformer.py:296: UserWarning: The PyTorch API of nested tensors is in prototype stage and will change in the near future. (Triggered internally at ../aten/src/ATen/NestedTensorImpl.cpp:177.)\n",
      "  output = torch._nested_tensor_from_mask(output, src_key_padding_mask.logical_not(), mask_check=False)\n",
      "100%|██████████| 15/15 [00:31<00:00,  2.12s/it]\n"
     ]
    },
    {
     "name": "stdout",
     "output_type": "stream",
     "text": [
      "10 TCRs processed...\n",
      "Number of estimates at positions:\n",
      "min: 0, max: 1200, mean: 692.0\n",
      "Number of estimates for each edit:\n",
      "min: 0, max: 173, mean: 16.476190476190474\n",
      "20 TCRs processed...\n",
      "Number of estimates at positions:\n",
      "min: 0, max: 2360, mean: 1360.0\n",
      "Number of estimates for each edit:\n",
      "min: 0, max: 340, mean: 32.38095238095238\n",
      "30 TCRs processed...\n",
      "Number of estimates at positions:\n",
      "min: 0, max: 3520, mean: 2044.0\n",
      "Number of estimates for each edit:\n",
      "min: 0, max: 511, mean: 48.666666666666664\n",
      "40 TCRs processed...\n",
      "Number of estimates at positions:\n",
      "min: 0, max: 4680, mean: 2728.0\n",
      "Number of estimates for each edit:\n",
      "min: 0, max: 682, mean: 64.95238095238095\n",
      "50 TCRs processed...\n",
      "Number of estimates at positions:\n",
      "min: 0, max: 5800, mean: 3388.0\n",
      "Number of estimates for each edit:\n",
      "min: 0, max: 847, mean: 80.66666666666667\n",
      "60 TCRs processed...\n",
      "Number of estimates at positions:\n",
      "min: 0, max: 6920, mean: 4072.0\n",
      "Number of estimates for each edit:\n",
      "min: 0, max: 1018, mean: 96.95238095238095\n",
      "70 TCRs processed...\n",
      "Number of estimates at positions:\n",
      "min: 0, max: 8080, mean: 4740.0\n",
      "Number of estimates for each edit:\n",
      "min: 0, max: 1185, mean: 112.85714285714286\n",
      "80 TCRs processed...\n",
      "Number of estimates at positions:\n",
      "min: 0, max: 9240, mean: 5412.0\n",
      "Number of estimates for each edit:\n",
      "min: 0, max: 1353, mean: 128.85714285714286\n",
      "90 TCRs processed...\n",
      "Number of estimates at positions:\n",
      "min: 0, max: 10400, mean: 6092.0\n",
      "Number of estimates for each edit:\n",
      "min: 0, max: 1523, mean: 145.04761904761904\n"
     ]
    },
    {
     "name": "stderr",
     "output_type": "stream",
     "text": [
      "100%|██████████| 15/15 [00:01<00:00, 12.02it/s]\n"
     ]
    },
    {
     "name": "stdout",
     "output_type": "stream",
     "text": [
      "Running OneVsBackground...\n"
     ]
    },
    {
     "name": "stderr",
     "output_type": "stream",
     "text": [
      "100%|██████████| 15/15 [04:35<00:00, 18.40s/it]\n",
      "100%|██████████| 15/15 [06:09<00:00, 24.64s/it]\n"
     ]
    },
    {
     "name": "stdout",
     "output_type": "stream",
     "text": [
      "Running EpitopeRanking...\n"
     ]
    },
    {
     "name": "stderr",
     "output_type": "stream",
     "text": [
      "100%|██████████| 15/15 [00:00<00:00, 108.61it/s]\n",
      "100%|██████████| 15/15 [00:00<00:00, 647.82it/s]\n"
     ]
    }
   ],
   "source": [
    "analyser.analyse(model)"
   ]
  },
  {
   "cell_type": "code",
   "execution_count": null,
   "metadata": {},
   "outputs": [],
   "source": []
  }
 ],
 "metadata": {
  "kernelspec": {
   "display_name": ".venv",
   "language": "python",
   "name": "python3"
  },
  "language_info": {
   "codemirror_mode": {
    "name": "ipython",
    "version": 3
   },
   "file_extension": ".py",
   "mimetype": "text/x-python",
   "name": "python",
   "nbconvert_exporter": "python",
   "pygments_lexer": "ipython3",
   "version": "3.11.7"
  },
  "orig_nbformat": 4
 },
 "nbformat": 4,
 "nbformat_minor": 2
}
