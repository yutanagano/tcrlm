{
 "cells": [
  {
   "cell_type": "code",
   "execution_count": 11,
   "metadata": {},
   "outputs": [],
   "source": [
    "import os\n",
    "from pathlib import Path\n",
    "import sys\n",
    "\n",
    "if \"__project_dir__\" not in globals():\n",
    "    __project_dir__ = Path.cwd().parents[1].resolve()\n",
    "\n",
    "sys.path.append(__project_dir__)\n",
    "os.chdir(__project_dir__)"
   ]
  },
  {
   "cell_type": "code",
   "execution_count": 12,
   "metadata": {},
   "outputs": [],
   "source": [
    "from src.model_analyser import ModelAnalyser\n",
    "from src.model import tcr_metric, tcr_representation_model"
   ]
  },
  {
   "cell_type": "code",
   "execution_count": 16,
   "metadata": {},
   "outputs": [],
   "source": [
    "analyser = ModelAnalyser()\n",
    "model = tcr_representation_model.load_blastr_save(Path(\"/home/yutanagano/UCLOneDrive/MBPhD/projects/tcr_embedder/model_saves/Beta_CDR_BERT_Unsupervised\"))"
   ]
  },
  {
   "cell_type": "code",
   "execution_count": 17,
   "metadata": {},
   "outputs": [],
   "source": [
    "# model = tcr_metric.BetaTcrdist()"
   ]
  },
  {
   "cell_type": "code",
   "execution_count": 18,
   "metadata": {},
   "outputs": [
    {
     "name": "stdout",
     "output_type": "stream",
     "text": [
      "Running DistanceCorrelateAnalysis...\n",
      "10 TCRs processed...\n",
      "Number of estimates at positions:\n",
      "min: 960, max: 1280, mean: 1120.0\n",
      "Number of estimates for each edit:\n",
      "min: 0, max: 145, mean: 13.333333333333334\n",
      "20 TCRs processed...\n",
      "Number of estimates at positions:\n",
      "min: 2040, max: 2680, mean: 2336.0\n",
      "Number of estimates for each edit:\n",
      "min: 0, max: 302, mean: 27.80952380952381\n"
     ]
    },
    {
     "ename": "KeyboardInterrupt",
     "evalue": "",
     "output_type": "error",
     "traceback": [
      "\u001b[0;31m---------------------------------------------------------------------------\u001b[0m",
      "\u001b[0;31mKeyboardInterrupt\u001b[0m                         Traceback (most recent call last)",
      "\u001b[1;32m/home/yutanagano/Projects/tcr_embedder/notebooks/analysis/analyse_models.ipynb Cell 5\u001b[0m line \u001b[0;36m1\n\u001b[0;32m----> <a href='vscode-notebook-cell:/home/yutanagano/Projects/tcr_embedder/notebooks/analysis/analyse_models.ipynb#W4sZmlsZQ%3D%3D?line=0'>1</a>\u001b[0m analyser\u001b[39m.\u001b[39;49manalyse(model)\n",
      "File \u001b[0;32m~/Projects/tcr_embedder/src/model_analyser/model_analyser.py:70\u001b[0m, in \u001b[0;36mModelAnalyser.analyse\u001b[0;34m(self, tcr_model)\u001b[0m\n\u001b[1;32m     60\u001b[0m \u001b[39mdef\u001b[39;00m \u001b[39manalyse\u001b[39m(\u001b[39mself\u001b[39m, tcr_model: TcrMetric) \u001b[39m-\u001b[39m\u001b[39m>\u001b[39m \u001b[39mNone\u001b[39;00m:\n\u001b[1;32m     61\u001b[0m     analyses \u001b[39m=\u001b[39m [\n\u001b[1;32m     62\u001b[0m         \u001b[39m# AucByLevenshteinGroups,\u001b[39;00m\n\u001b[1;32m     63\u001b[0m         \u001b[39m# MetricCalibrationAnalysis,\u001b[39;00m\n\u001b[0;32m   (...)\u001b[0m\n\u001b[1;32m     67\u001b[0m         DistanceCorrelateAnalysis,\n\u001b[1;32m     68\u001b[0m     ]\n\u001b[0;32m---> 70\u001b[0m     analysis_results \u001b[39m=\u001b[39m [\n\u001b[1;32m     71\u001b[0m         \u001b[39mself\u001b[39;49m\u001b[39m.\u001b[39;49m_run_analysis(AnalysisClass, tcr_model) \u001b[39mfor\u001b[39;49;00m AnalysisClass \u001b[39min\u001b[39;49;00m analyses\n\u001b[1;32m     72\u001b[0m     ]\n\u001b[1;32m     74\u001b[0m     path_to_save_directory \u001b[39m=\u001b[39m \u001b[39mself\u001b[39m\u001b[39m.\u001b[39m_get_path_to_save_directory(tcr_model)\n\u001b[1;32m     76\u001b[0m     \u001b[39mfor\u001b[39;00m analysis_result \u001b[39min\u001b[39;00m analysis_results:\n",
      "File \u001b[0;32m~/Projects/tcr_embedder/src/model_analyser/model_analyser.py:71\u001b[0m, in \u001b[0;36m<listcomp>\u001b[0;34m(.0)\u001b[0m\n\u001b[1;32m     60\u001b[0m \u001b[39mdef\u001b[39;00m \u001b[39manalyse\u001b[39m(\u001b[39mself\u001b[39m, tcr_model: TcrMetric) \u001b[39m-\u001b[39m\u001b[39m>\u001b[39m \u001b[39mNone\u001b[39;00m:\n\u001b[1;32m     61\u001b[0m     analyses \u001b[39m=\u001b[39m [\n\u001b[1;32m     62\u001b[0m         \u001b[39m# AucByLevenshteinGroups,\u001b[39;00m\n\u001b[1;32m     63\u001b[0m         \u001b[39m# MetricCalibrationAnalysis,\u001b[39;00m\n\u001b[0;32m   (...)\u001b[0m\n\u001b[1;32m     67\u001b[0m         DistanceCorrelateAnalysis,\n\u001b[1;32m     68\u001b[0m     ]\n\u001b[1;32m     70\u001b[0m     analysis_results \u001b[39m=\u001b[39m [\n\u001b[0;32m---> 71\u001b[0m         \u001b[39mself\u001b[39;49m\u001b[39m.\u001b[39;49m_run_analysis(AnalysisClass, tcr_model) \u001b[39mfor\u001b[39;00m AnalysisClass \u001b[39min\u001b[39;00m analyses\n\u001b[1;32m     72\u001b[0m     ]\n\u001b[1;32m     74\u001b[0m     path_to_save_directory \u001b[39m=\u001b[39m \u001b[39mself\u001b[39m\u001b[39m.\u001b[39m_get_path_to_save_directory(tcr_model)\n\u001b[1;32m     76\u001b[0m     \u001b[39mfor\u001b[39;00m analysis_result \u001b[39min\u001b[39;00m analysis_results:\n",
      "File \u001b[0;32m~/Projects/tcr_embedder/src/model_analyser/model_analyser.py:91\u001b[0m, in \u001b[0;36mModelAnalyser._run_analysis\u001b[0;34m(self, analysis_class, tcr_model)\u001b[0m\n\u001b[1;32m     82\u001b[0m \u001b[39mprint\u001b[39m(\u001b[39mf\u001b[39m\u001b[39m\"\u001b[39m\u001b[39mRunning \u001b[39m\u001b[39m{\u001b[39;00manalysis_class\u001b[39m.\u001b[39m\u001b[39m__name__\u001b[39m\u001b[39m}\u001b[39;00m\u001b[39m...\u001b[39m\u001b[39m\"\u001b[39m)\n\u001b[1;32m     84\u001b[0m analysis \u001b[39m=\u001b[39m analysis_class(\n\u001b[1;32m     85\u001b[0m     background_data\u001b[39m=\u001b[39m\u001b[39mself\u001b[39m\u001b[39m.\u001b[39m_background_data,\n\u001b[1;32m     86\u001b[0m     background_pgen\u001b[39m=\u001b[39m\u001b[39mself\u001b[39m\u001b[39m.\u001b[39m_background_pgen,\n\u001b[0;32m   (...)\u001b[0m\n\u001b[1;32m     89\u001b[0m     working_directory\u001b[39m=\u001b[39m\u001b[39mself\u001b[39m\u001b[39m.\u001b[39m_working_directory,\n\u001b[1;32m     90\u001b[0m )\n\u001b[0;32m---> 91\u001b[0m analysis_result \u001b[39m=\u001b[39m analysis\u001b[39m.\u001b[39;49mrun()\n\u001b[1;32m     92\u001b[0m \u001b[39mreturn\u001b[39;00m analysis_result\n",
      "File \u001b[0;32m~/Projects/tcr_embedder/src/model_analyser/analysis/distance_correlate_analysis.py:20\u001b[0m, in \u001b[0;36mDistanceCorrelateAnalysis.run\u001b[0;34m(self)\u001b[0m\n\u001b[1;32m     17\u001b[0m     \u001b[39mreturn\u001b[39;00m AnalysisResult(\u001b[39m\"\u001b[39m\u001b[39mna\u001b[39m\u001b[39m\"\u001b[39m)\n\u001b[1;32m     19\u001b[0m edit_record_collection \u001b[39m=\u001b[39m \u001b[39mself\u001b[39m\u001b[39m.\u001b[39m_get_edit_record_collection()\n\u001b[0;32m---> 20\u001b[0m filled_edit_record_collection \u001b[39m=\u001b[39m \u001b[39mself\u001b[39;49m\u001b[39m.\u001b[39;49m_fill_edit_record_collection_with_estimates(edit_record_collection)\n\u001b[1;32m     21\u001b[0m \u001b[39mself\u001b[39m\u001b[39m.\u001b[39m_save_edit_record_collection(filled_edit_record_collection)\n\u001b[1;32m     23\u001b[0m analyser \u001b[39m=\u001b[39m TcrEditDistanceRecordCollectionAnalyser(filled_edit_record_collection)\n",
      "File \u001b[0;32m~/Projects/tcr_embedder/src/model_analyser/analysis/distance_correlate_analysis.py:47\u001b[0m, in \u001b[0;36mDistanceCorrelateAnalysis._fill_edit_record_collection_with_estimates\u001b[0;34m(self, edit_record_collection)\u001b[0m\n\u001b[1;32m     45\u001b[0m \u001b[39mwhile\u001b[39;00m \u001b[39mnot\u001b[39;00m edit_record_collection\u001b[39m.\u001b[39mhas_sufficient_coverage():\n\u001b[1;32m     46\u001b[0m     tcr \u001b[39m=\u001b[39m \u001b[39mself\u001b[39m\u001b[39m.\u001b[39m_get_random_background_tcr_as_df()\n\u001b[0;32m---> 47\u001b[0m     edits_and_resulting_distances \u001b[39m=\u001b[39m \u001b[39mself\u001b[39;49m\u001b[39m.\u001b[39;49m_get_all_possible_edits_and_resulting_distances(tcr)\n\u001b[1;32m     49\u001b[0m     \u001b[39mfor\u001b[39;00m edit, distance \u001b[39min\u001b[39;00m edits_and_resulting_distances:\n\u001b[1;32m     50\u001b[0m         edit_record_collection\u001b[39m.\u001b[39mupdate_edit_record(edit, distance)\n",
      "File \u001b[0;32m~/Projects/tcr_embedder/src/model_analyser/analysis/distance_correlate_analysis.py:65\u001b[0m, in \u001b[0;36mDistanceCorrelateAnalysis._get_all_possible_edits_and_resulting_distances\u001b[0;34m(self, tcr)\u001b[0m\n\u001b[1;32m     63\u001b[0m \u001b[39mdef\u001b[39;00m \u001b[39m_get_all_possible_edits_and_resulting_distances\u001b[39m(\u001b[39mself\u001b[39m, tcr: DataFrame) \u001b[39m-\u001b[39m\u001b[39m>\u001b[39m Iterable[Tuple[TcrEdit, \u001b[39mfloat\u001b[39m]]:\n\u001b[1;32m     64\u001b[0m     original_tcr \u001b[39m=\u001b[39m tcr\n\u001b[0;32m---> 65\u001b[0m     edits, edited_tcrs \u001b[39m=\u001b[39m \u001b[39mself\u001b[39;49m\u001b[39m.\u001b[39;49m_get_edits_and_resulting_variants_of_tcr(tcr)\n\u001b[1;32m     66\u001b[0m     distances_between_original_and_edited_tcrs \u001b[39m=\u001b[39m \u001b[39mself\u001b[39m\u001b[39m.\u001b[39m_model\u001b[39m.\u001b[39mcalc_cdist_matrix(original_tcr, edited_tcrs)\u001b[39m.\u001b[39msqueeze()\n\u001b[1;32m     67\u001b[0m     \u001b[39mreturn\u001b[39;00m \u001b[39mzip\u001b[39m(edits, distances_between_original_and_edited_tcrs)\n",
      "File \u001b[0;32m~/Projects/tcr_embedder/src/model_analyser/analysis/distance_correlate_analysis.py:77\u001b[0m, in \u001b[0;36mDistanceCorrelateAnalysis._get_edits_and_resulting_variants_of_tcr\u001b[0;34m(self, tcr)\u001b[0m\n\u001b[1;32m     75\u001b[0m all_edits \u001b[39m=\u001b[39m [\u001b[39m*\u001b[39mtrav_edits, \u001b[39m*\u001b[39mtrbv_edits, \u001b[39m*\u001b[39malpha_junction_edits, \u001b[39m*\u001b[39mbeta_junction_edits]\n\u001b[1;32m     76\u001b[0m all_edited_tcrs \u001b[39m=\u001b[39m [\u001b[39m*\u001b[39mtcrs_with_trav_edits, \u001b[39m*\u001b[39mtcrs_with_trbv_edits, \u001b[39m*\u001b[39mtcrs_with_alpha_junction_edits, \u001b[39m*\u001b[39mtcrs_with_beta_junction_edits]\n\u001b[0;32m---> 77\u001b[0m all_edited_tcrs_as_df \u001b[39m=\u001b[39m pd\u001b[39m.\u001b[39;49mconcat(all_edited_tcrs, axis\u001b[39m=\u001b[39;49m\u001b[39m\"\u001b[39;49m\u001b[39mindex\u001b[39;49m\u001b[39m\"\u001b[39;49m)\n\u001b[1;32m     79\u001b[0m \u001b[39mreturn\u001b[39;00m (all_edits, all_edited_tcrs_as_df)\n",
      "File \u001b[0;32m~/Projects/tcr_embedder/.venv/lib64/python3.11/site-packages/pandas/core/reshape/concat.py:385\u001b[0m, in \u001b[0;36mconcat\u001b[0;34m(objs, axis, join, ignore_index, keys, levels, names, verify_integrity, sort, copy)\u001b[0m\n\u001b[1;32m    370\u001b[0m     copy \u001b[39m=\u001b[39m \u001b[39mFalse\u001b[39;00m\n\u001b[1;32m    372\u001b[0m op \u001b[39m=\u001b[39m _Concatenator(\n\u001b[1;32m    373\u001b[0m     objs,\n\u001b[1;32m    374\u001b[0m     axis\u001b[39m=\u001b[39maxis,\n\u001b[0;32m   (...)\u001b[0m\n\u001b[1;32m    382\u001b[0m     sort\u001b[39m=\u001b[39msort,\n\u001b[1;32m    383\u001b[0m )\n\u001b[0;32m--> 385\u001b[0m \u001b[39mreturn\u001b[39;00m op\u001b[39m.\u001b[39;49mget_result()\n",
      "File \u001b[0;32m~/Projects/tcr_embedder/.venv/lib64/python3.11/site-packages/pandas/core/reshape/concat.py:616\u001b[0m, in \u001b[0;36m_Concatenator.get_result\u001b[0;34m(self)\u001b[0m\n\u001b[1;32m    612\u001b[0m             indexers[ax] \u001b[39m=\u001b[39m obj_labels\u001b[39m.\u001b[39mget_indexer(new_labels)\n\u001b[1;32m    614\u001b[0m     mgrs_indexers\u001b[39m.\u001b[39mappend((obj\u001b[39m.\u001b[39m_mgr, indexers))\n\u001b[0;32m--> 616\u001b[0m new_data \u001b[39m=\u001b[39m concatenate_managers(\n\u001b[1;32m    617\u001b[0m     mgrs_indexers, \u001b[39mself\u001b[39;49m\u001b[39m.\u001b[39;49mnew_axes, concat_axis\u001b[39m=\u001b[39;49m\u001b[39mself\u001b[39;49m\u001b[39m.\u001b[39;49mbm_axis, copy\u001b[39m=\u001b[39;49m\u001b[39mself\u001b[39;49m\u001b[39m.\u001b[39;49mcopy\n\u001b[1;32m    618\u001b[0m )\n\u001b[1;32m    619\u001b[0m \u001b[39mif\u001b[39;00m \u001b[39mnot\u001b[39;00m \u001b[39mself\u001b[39m\u001b[39m.\u001b[39mcopy \u001b[39mand\u001b[39;00m \u001b[39mnot\u001b[39;00m using_copy_on_write():\n\u001b[1;32m    620\u001b[0m     new_data\u001b[39m.\u001b[39m_consolidate_inplace()\n",
      "File \u001b[0;32m~/Projects/tcr_embedder/.venv/lib64/python3.11/site-packages/pandas/core/internals/concat.py:242\u001b[0m, in \u001b[0;36mconcatenate_managers\u001b[0;34m(mgrs_indexers, axes, concat_axis, copy)\u001b[0m\n\u001b[1;32m    240\u001b[0m     fastpath \u001b[39m=\u001b[39m blk\u001b[39m.\u001b[39mvalues\u001b[39m.\u001b[39mdtype \u001b[39m==\u001b[39m values\u001b[39m.\u001b[39mdtype\n\u001b[1;32m    241\u001b[0m \u001b[39melse\u001b[39;00m:\n\u001b[0;32m--> 242\u001b[0m     values \u001b[39m=\u001b[39m _concatenate_join_units(join_units, copy\u001b[39m=\u001b[39;49mcopy)\n\u001b[1;32m    243\u001b[0m     fastpath \u001b[39m=\u001b[39m \u001b[39mFalse\u001b[39;00m\n\u001b[1;32m    245\u001b[0m \u001b[39mif\u001b[39;00m fastpath:\n",
      "File \u001b[0;32m~/Projects/tcr_embedder/.venv/lib64/python3.11/site-packages/pandas/core/internals/concat.py:576\u001b[0m, in \u001b[0;36m_concatenate_join_units\u001b[0;34m(join_units, copy)\u001b[0m\n\u001b[1;32m    572\u001b[0m \u001b[39mdef\u001b[39;00m \u001b[39m_concatenate_join_units\u001b[39m(join_units: \u001b[39mlist\u001b[39m[JoinUnit], copy: \u001b[39mbool\u001b[39m) \u001b[39m-\u001b[39m\u001b[39m>\u001b[39m ArrayLike:\n\u001b[1;32m    573\u001b[0m \u001b[39m    \u001b[39m\u001b[39m\"\"\"\u001b[39;00m\n\u001b[1;32m    574\u001b[0m \u001b[39m    Concatenate values from several join units along axis=1.\u001b[39;00m\n\u001b[1;32m    575\u001b[0m \u001b[39m    \"\"\"\u001b[39;00m\n\u001b[0;32m--> 576\u001b[0m     empty_dtype \u001b[39m=\u001b[39m _get_empty_dtype(join_units)\n\u001b[1;32m    578\u001b[0m     has_none_blocks \u001b[39m=\u001b[39m \u001b[39many\u001b[39m(unit\u001b[39m.\u001b[39mblock\u001b[39m.\u001b[39mdtype\u001b[39m.\u001b[39mkind \u001b[39m==\u001b[39m \u001b[39m\"\u001b[39m\u001b[39mV\u001b[39m\u001b[39m\"\u001b[39m \u001b[39mfor\u001b[39;00m unit \u001b[39min\u001b[39;00m join_units)\n\u001b[1;32m    579\u001b[0m     upcasted_na \u001b[39m=\u001b[39m _dtype_to_na_value(empty_dtype, has_none_blocks)\n",
      "File \u001b[0;32m~/Projects/tcr_embedder/.venv/lib64/python3.11/site-packages/pandas/core/internals/concat.py:663\u001b[0m, in \u001b[0;36m_get_empty_dtype\u001b[0;34m(join_units)\u001b[0m\n\u001b[1;32m    661\u001b[0m dtypes \u001b[39m=\u001b[39m [unit\u001b[39m.\u001b[39mdtype \u001b[39mfor\u001b[39;00m unit \u001b[39min\u001b[39;00m join_units \u001b[39mif\u001b[39;00m \u001b[39mnot\u001b[39;00m unit\u001b[39m.\u001b[39mis_na]\n\u001b[1;32m    662\u001b[0m \u001b[39mif\u001b[39;00m \u001b[39mnot\u001b[39;00m \u001b[39mlen\u001b[39m(dtypes):\n\u001b[0;32m--> 663\u001b[0m     dtypes \u001b[39m=\u001b[39m [unit\u001b[39m.\u001b[39;49mdtype \u001b[39mfor\u001b[39;49;00m unit \u001b[39min\u001b[39;49;00m join_units \u001b[39mif\u001b[39;49;00m unit\u001b[39m.\u001b[39;49mblock\u001b[39m.\u001b[39;49mdtype\u001b[39m.\u001b[39;49mkind \u001b[39m!=\u001b[39;49m \u001b[39m\"\u001b[39;49m\u001b[39mV\u001b[39;49m\u001b[39m\"\u001b[39;49m]\n\u001b[1;32m    665\u001b[0m dtype \u001b[39m=\u001b[39m find_common_type(dtypes)\n\u001b[1;32m    666\u001b[0m \u001b[39mif\u001b[39;00m has_none_blocks:\n",
      "File \u001b[0;32m~/Projects/tcr_embedder/.venv/lib64/python3.11/site-packages/pandas/core/internals/concat.py:663\u001b[0m, in \u001b[0;36m<listcomp>\u001b[0;34m(.0)\u001b[0m\n\u001b[1;32m    661\u001b[0m dtypes \u001b[39m=\u001b[39m [unit\u001b[39m.\u001b[39mdtype \u001b[39mfor\u001b[39;00m unit \u001b[39min\u001b[39;00m join_units \u001b[39mif\u001b[39;00m \u001b[39mnot\u001b[39;00m unit\u001b[39m.\u001b[39mis_na]\n\u001b[1;32m    662\u001b[0m \u001b[39mif\u001b[39;00m \u001b[39mnot\u001b[39;00m \u001b[39mlen\u001b[39m(dtypes):\n\u001b[0;32m--> 663\u001b[0m     dtypes \u001b[39m=\u001b[39m [unit\u001b[39m.\u001b[39;49mdtype \u001b[39mfor\u001b[39;00m unit \u001b[39min\u001b[39;00m join_units \u001b[39mif\u001b[39;00m unit\u001b[39m.\u001b[39mblock\u001b[39m.\u001b[39mdtype\u001b[39m.\u001b[39mkind \u001b[39m!=\u001b[39m \u001b[39m\"\u001b[39m\u001b[39mV\u001b[39m\u001b[39m\"\u001b[39m]\n\u001b[1;32m    665\u001b[0m dtype \u001b[39m=\u001b[39m find_common_type(dtypes)\n\u001b[1;32m    666\u001b[0m \u001b[39mif\u001b[39;00m has_none_blocks:\n",
      "File \u001b[0;32m~/Projects/tcr_embedder/.venv/lib64/python3.11/site-packages/pandas/_libs/properties.pyx:36\u001b[0m, in \u001b[0;36mpandas._libs.properties.CachedProperty.__get__\u001b[0;34m()\u001b[0m\n",
      "File \u001b[0;32m~/Projects/tcr_embedder/.venv/lib64/python3.11/site-packages/pandas/core/internals/concat.py:420\u001b[0m, in \u001b[0;36mJoinUnit.dtype\u001b[0;34m(self)\u001b[0m\n\u001b[1;32m    416\u001b[0m             \u001b[39mreturn\u001b[39;00m \u001b[39mTrue\u001b[39;00m\n\u001b[1;32m    418\u001b[0m     \u001b[39mreturn\u001b[39;00m \u001b[39mFalse\u001b[39;00m\n\u001b[0;32m--> 420\u001b[0m \u001b[39m@cache_readonly\u001b[39m\n\u001b[1;32m    421\u001b[0m \u001b[39mdef\u001b[39;00m \u001b[39mdtype\u001b[39m(\u001b[39mself\u001b[39m) \u001b[39m-\u001b[39m\u001b[39m>\u001b[39m DtypeObj:\n\u001b[1;32m    422\u001b[0m     blk \u001b[39m=\u001b[39m \u001b[39mself\u001b[39m\u001b[39m.\u001b[39mblock\n\u001b[1;32m    423\u001b[0m     \u001b[39mif\u001b[39;00m blk\u001b[39m.\u001b[39mvalues\u001b[39m.\u001b[39mdtype\u001b[39m.\u001b[39mkind \u001b[39m==\u001b[39m \u001b[39m\"\u001b[39m\u001b[39mV\u001b[39m\u001b[39m\"\u001b[39m:\n",
      "\u001b[0;31mKeyboardInterrupt\u001b[0m: "
     ]
    }
   ],
   "source": [
    "analyser.analyse(model)"
   ]
  },
  {
   "cell_type": "code",
   "execution_count": null,
   "metadata": {},
   "outputs": [],
   "source": []
  }
 ],
 "metadata": {
  "kernelspec": {
   "display_name": ".venv",
   "language": "python",
   "name": "python3"
  },
  "language_info": {
   "codemirror_mode": {
    "name": "ipython",
    "version": 3
   },
   "file_extension": ".py",
   "mimetype": "text/x-python",
   "name": "python",
   "nbconvert_exporter": "python",
   "pygments_lexer": "ipython3",
   "version": "3.11.5"
  },
  "orig_nbformat": 4
 },
 "nbformat": 4,
 "nbformat_minor": 2
}
