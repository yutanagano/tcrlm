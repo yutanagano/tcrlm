{
 "cells": [
  {
   "cell_type": "code",
   "execution_count": 1,
   "metadata": {},
   "outputs": [],
   "source": [
    "import os\n",
    "from pathlib import Path\n",
    "import sys\n",
    "\n",
    "if \"__project_dir__\" not in globals():\n",
    "    __project_dir__ = Path.cwd().parents[1].resolve()\n",
    "\n",
    "sys.path.append(__project_dir__)\n",
    "os.chdir(__project_dir__)"
   ]
  },
  {
   "cell_type": "code",
   "execution_count": 2,
   "metadata": {},
   "outputs": [
    {
     "name": "stderr",
     "output_type": "stream",
     "text": [
      "/home/yutanagano/Projects/tcr_embedder/.venv/lib64/python3.11/site-packages/tqdm/auto.py:21: TqdmWarning: IProgress not found. Please update jupyter and ipywidgets. See https://ipywidgets.readthedocs.io/en/stable/user_install.html\n",
      "  from .autonotebook import tqdm as notebook_tqdm\n"
     ]
    }
   ],
   "source": [
    "import numpy as np\n",
    "from src.model_analyser import ModelAnalyser\n",
    "from src.model import tcr_metric, tcr_representation_model"
   ]
  },
  {
   "cell_type": "code",
   "execution_count": 3,
   "metadata": {},
   "outputs": [],
   "source": [
    "mltcrdist = tcr_metric.BetaMlTcrDist()"
   ]
  },
  {
   "cell_type": "code",
   "execution_count": 4,
   "metadata": {},
   "outputs": [],
   "source": [
    "analyser = ModelAnalyser()\n",
    "# model = tcr_representation_model.load_blastr_save(Path(\"/home/yutanagano/UCLOneDrive/MBPhD/projects/tcr_embedder/model_saves/Beta_CDR_BERT_Unsupervised_Large_2\"))\n",
    "# model.distance_bins = np.linspace(0, 0.8, num=21)"
   ]
  },
  {
   "cell_type": "code",
   "execution_count": 5,
   "metadata": {},
   "outputs": [],
   "source": [
    "model = mltcrdist"
   ]
  },
  {
   "cell_type": "code",
   "execution_count": 6,
   "metadata": {},
   "outputs": [],
   "source": [
    "def v_gene_allowed(v_gene: str) -> bool:\n",
    "    for allowed_v_gene in mltcrdist._V_TO_NUMBER.keys():\n",
    "        if allowed_v_gene in v_gene:\n",
    "            return True\n",
    "    \n",
    "    return False\n",
    "\n",
    "analyser._background_data = analyser._background_data[analyser._background_data.TRBV.map(v_gene_allowed)]\n",
    "\n",
    "for dataset_name, dataset in analyser._labelled_data.items():\n",
    "    analyser._labelled_data[dataset_name] = dataset[dataset.TRBV.map(v_gene_allowed)]"
   ]
  },
  {
   "cell_type": "code",
   "execution_count": 7,
   "metadata": {},
   "outputs": [
    {
     "name": "stdout",
     "output_type": "stream",
     "text": [
      "Running PrecisionRecallAnalysis...\n"
     ]
    },
    {
     "ename": "KeyboardInterrupt",
     "evalue": "",
     "output_type": "error",
     "traceback": [
      "\u001b[0;31m---------------------------------------------------------------------------\u001b[0m",
      "\u001b[0;31mKeyboardInterrupt\u001b[0m                         Traceback (most recent call last)",
      "\u001b[1;32m/home/yutanagano/Projects/tcr_embedder/notebooks/analysis/analyse_models.ipynb Cell 7\u001b[0m line \u001b[0;36m1\n\u001b[0;32m----> <a href='vscode-notebook-cell:/home/yutanagano/Projects/tcr_embedder/notebooks/analysis/analyse_models.ipynb#W4sZmlsZQ%3D%3D?line=0'>1</a>\u001b[0m analyser\u001b[39m.\u001b[39;49manalyse(model)\n",
      "File \u001b[0;32m~/Projects/tcr_embedder/src/model_analyser/model_analyser.py:78\u001b[0m, in \u001b[0;36mModelAnalyser.analyse\u001b[0;34m(self, tcr_model)\u001b[0m\n\u001b[1;32m     68\u001b[0m \u001b[39mdef\u001b[39;00m \u001b[39manalyse\u001b[39m(\u001b[39mself\u001b[39m, tcr_model: TcrMetric) \u001b[39m-\u001b[39m\u001b[39m>\u001b[39m \u001b[39mNone\u001b[39;00m:\n\u001b[1;32m     69\u001b[0m     analyses \u001b[39m=\u001b[39m [\n\u001b[1;32m     70\u001b[0m         \u001b[39m# AucByLevenshteinGroups,\u001b[39;00m\n\u001b[1;32m     71\u001b[0m         \u001b[39m# MetricCalibrationAnalysis,\u001b[39;00m\n\u001b[0;32m   (...)\u001b[0m\n\u001b[1;32m     75\u001b[0m         \u001b[39m# DistanceCorrelateAnalysis,\u001b[39;00m\n\u001b[1;32m     76\u001b[0m     ]\n\u001b[0;32m---> 78\u001b[0m     analysis_results \u001b[39m=\u001b[39m [\n\u001b[1;32m     79\u001b[0m         \u001b[39mself\u001b[39;49m\u001b[39m.\u001b[39;49m_run_analysis(AnalysisClass, tcr_model) \u001b[39mfor\u001b[39;49;00m AnalysisClass \u001b[39min\u001b[39;49;00m analyses\n\u001b[1;32m     80\u001b[0m     ]\n\u001b[1;32m     82\u001b[0m     path_to_save_directory \u001b[39m=\u001b[39m \u001b[39mself\u001b[39m\u001b[39m.\u001b[39m_get_path_to_save_directory(tcr_model)\n\u001b[1;32m     84\u001b[0m     \u001b[39mfor\u001b[39;00m analysis_result \u001b[39min\u001b[39;00m analysis_results:\n",
      "File \u001b[0;32m~/Projects/tcr_embedder/src/model_analyser/model_analyser.py:79\u001b[0m, in \u001b[0;36m<listcomp>\u001b[0;34m(.0)\u001b[0m\n\u001b[1;32m     68\u001b[0m \u001b[39mdef\u001b[39;00m \u001b[39manalyse\u001b[39m(\u001b[39mself\u001b[39m, tcr_model: TcrMetric) \u001b[39m-\u001b[39m\u001b[39m>\u001b[39m \u001b[39mNone\u001b[39;00m:\n\u001b[1;32m     69\u001b[0m     analyses \u001b[39m=\u001b[39m [\n\u001b[1;32m     70\u001b[0m         \u001b[39m# AucByLevenshteinGroups,\u001b[39;00m\n\u001b[1;32m     71\u001b[0m         \u001b[39m# MetricCalibrationAnalysis,\u001b[39;00m\n\u001b[0;32m   (...)\u001b[0m\n\u001b[1;32m     75\u001b[0m         \u001b[39m# DistanceCorrelateAnalysis,\u001b[39;00m\n\u001b[1;32m     76\u001b[0m     ]\n\u001b[1;32m     78\u001b[0m     analysis_results \u001b[39m=\u001b[39m [\n\u001b[0;32m---> 79\u001b[0m         \u001b[39mself\u001b[39;49m\u001b[39m.\u001b[39;49m_run_analysis(AnalysisClass, tcr_model) \u001b[39mfor\u001b[39;00m AnalysisClass \u001b[39min\u001b[39;00m analyses\n\u001b[1;32m     80\u001b[0m     ]\n\u001b[1;32m     82\u001b[0m     path_to_save_directory \u001b[39m=\u001b[39m \u001b[39mself\u001b[39m\u001b[39m.\u001b[39m_get_path_to_save_directory(tcr_model)\n\u001b[1;32m     84\u001b[0m     \u001b[39mfor\u001b[39;00m analysis_result \u001b[39min\u001b[39;00m analysis_results:\n",
      "File \u001b[0;32m~/Projects/tcr_embedder/src/model_analyser/model_analyser.py:99\u001b[0m, in \u001b[0;36mModelAnalyser._run_analysis\u001b[0;34m(self, analysis_class, tcr_model)\u001b[0m\n\u001b[1;32m     90\u001b[0m \u001b[39mprint\u001b[39m(\u001b[39mf\u001b[39m\u001b[39m\"\u001b[39m\u001b[39mRunning \u001b[39m\u001b[39m{\u001b[39;00manalysis_class\u001b[39m.\u001b[39m\u001b[39m__name__\u001b[39m\u001b[39m}\u001b[39;00m\u001b[39m...\u001b[39m\u001b[39m\"\u001b[39m)\n\u001b[1;32m     92\u001b[0m analysis \u001b[39m=\u001b[39m analysis_class(\n\u001b[1;32m     93\u001b[0m     background_data\u001b[39m=\u001b[39m\u001b[39mself\u001b[39m\u001b[39m.\u001b[39m_background_data,\n\u001b[1;32m     94\u001b[0m     background_pgen\u001b[39m=\u001b[39m\u001b[39mself\u001b[39m\u001b[39m.\u001b[39m_background_pgen,\n\u001b[0;32m   (...)\u001b[0m\n\u001b[1;32m     97\u001b[0m     working_directory\u001b[39m=\u001b[39m\u001b[39mself\u001b[39m\u001b[39m.\u001b[39m_working_directory,\n\u001b[1;32m     98\u001b[0m )\n\u001b[0;32m---> 99\u001b[0m analysis_result \u001b[39m=\u001b[39m analysis\u001b[39m.\u001b[39;49mrun()\n\u001b[1;32m    100\u001b[0m \u001b[39mreturn\u001b[39;00m analysis_result\n",
      "File \u001b[0;32m~/Projects/tcr_embedder/src/model_analyser/analysis/precision_recall_analysis.py:24\u001b[0m, in \u001b[0;36mPrecisionRecallAnalysis.run\u001b[0;34m(self, testing)\u001b[0m\n\u001b[1;32m     21\u001b[0m figures \u001b[39m=\u001b[39m \u001b[39mdict\u001b[39m()\n\u001b[1;32m     23\u001b[0m \u001b[39mfor\u001b[39;00m dataset_name, dataset \u001b[39min\u001b[39;00m \u001b[39mself\u001b[39m\u001b[39m.\u001b[39m_labelled_data\u001b[39m.\u001b[39mitems():\n\u001b[0;32m---> 24\u001b[0m     pr_stats \u001b[39m=\u001b[39m \u001b[39mself\u001b[39;49m\u001b[39m.\u001b[39;49m_evaluate_pr_curve(dataset)\n\u001b[1;32m     25\u001b[0m     pr_figure \u001b[39m=\u001b[39m \u001b[39mself\u001b[39m\u001b[39m.\u001b[39m_plot_pr_curve(pr_stats, dataset_name)\n\u001b[1;32m     26\u001b[0m     bg_discovery_rate_figure \u001b[39m=\u001b[39m \u001b[39mself\u001b[39m\u001b[39m.\u001b[39m_plot_background_discovery_rate(pr_stats, dataset_name)\n",
      "File \u001b[0;32m~/Projects/tcr_embedder/src/model_analyser/analysis/precision_recall_analysis.py:54\u001b[0m, in \u001b[0;36mPrecisionRecallAnalysis._evaluate_pr_curve\u001b[0;34m(self, dataset)\u001b[0m\n\u001b[1;32m     51\u001b[0m     recalls \u001b[39m=\u001b[39m \u001b[39mself\u001b[39m\u001b[39m.\u001b[39m_intelligently_subsample_list(recalls)\n\u001b[1;32m     52\u001b[0m     thresholds \u001b[39m=\u001b[39m \u001b[39mself\u001b[39m\u001b[39m.\u001b[39m_intelligently_subsample_list(thresholds)\n\u001b[0;32m---> 54\u001b[0m background_discovery_rates \u001b[39m=\u001b[39m \u001b[39mself\u001b[39;49m\u001b[39m.\u001b[39;49m_get_background_discovery_rates(\n\u001b[1;32m     55\u001b[0m     thresholds, dataset\n\u001b[1;32m     56\u001b[0m )\n\u001b[1;32m     57\u001b[0m avg_precision \u001b[39m=\u001b[39m metrics\u001b[39m.\u001b[39maverage_precision_score(\n\u001b[1;32m     58\u001b[0m     positive_pair_mask, similarity_scores\n\u001b[1;32m     59\u001b[0m )\n\u001b[1;32m     61\u001b[0m \u001b[39mreturn\u001b[39;00m {\n\u001b[1;32m     62\u001b[0m     \u001b[39m\"\u001b[39m\u001b[39mavg_precision\u001b[39m\u001b[39m\"\u001b[39m: avg_precision,\n\u001b[1;32m     63\u001b[0m     \u001b[39m\"\u001b[39m\u001b[39mprecisions\u001b[39m\u001b[39m\"\u001b[39m: precisions,\n\u001b[1;32m     64\u001b[0m     \u001b[39m\"\u001b[39m\u001b[39mrecalls\u001b[39m\u001b[39m\"\u001b[39m: recalls,\n\u001b[1;32m     65\u001b[0m     \u001b[39m\"\u001b[39m\u001b[39mbackground_discovery_rates\u001b[39m\u001b[39m\"\u001b[39m: background_discovery_rates\n\u001b[1;32m     66\u001b[0m }\n",
      "File \u001b[0;32m~/Projects/tcr_embedder/src/model_analyser/analysis/precision_recall_analysis.py:136\u001b[0m, in \u001b[0;36mPrecisionRecallAnalysis._get_background_discovery_rates\u001b[0;34m(self, thresholds, reference_tcrs)\u001b[0m\n\u001b[1;32m    135\u001b[0m \u001b[39mdef\u001b[39;00m \u001b[39m_get_background_discovery_rates\u001b[39m(\u001b[39mself\u001b[39m, thresholds: \u001b[39mlist\u001b[39m, reference_tcrs: DataFrame) \u001b[39m-\u001b[39m\u001b[39m>\u001b[39m \u001b[39mlist\u001b[39m:\n\u001b[0;32m--> 136\u001b[0m     cdist_matrix \u001b[39m=\u001b[39m \u001b[39mself\u001b[39;49m\u001b[39m.\u001b[39;49m_model_computation_cacher\u001b[39m.\u001b[39;49mcalc_cdist_matrix(\n\u001b[1;32m    137\u001b[0m         \u001b[39mself\u001b[39;49m\u001b[39m.\u001b[39;49m_background_data\u001b[39m.\u001b[39;49msample(n\u001b[39m=\u001b[39;49m\u001b[39mself\u001b[39;49m\u001b[39m.\u001b[39;49mBG_SAMPLE_SIZE, random_state\u001b[39m=\u001b[39;49m\u001b[39m420\u001b[39;49m), reference_tcrs\n\u001b[1;32m    138\u001b[0m     )\n\u001b[1;32m    139\u001b[0m     similarity_scores \u001b[39m=\u001b[39m \u001b[39mself\u001b[39m\u001b[39m.\u001b[39m_get_similarity_scores_from_distances(cdist_matrix)\n\u001b[1;32m    140\u001b[0m     thresholds_except_infinitessimal \u001b[39m=\u001b[39m thresholds[\u001b[39m1\u001b[39m:]\n",
      "File \u001b[0;32m~/Projects/tcr_embedder/src/model_analyser/model_computation_cacher.py:37\u001b[0m, in \u001b[0;36mModelComputationCacher.calc_cdist_matrix\u001b[0;34m(self, anchor_tcrs, comparison_tcrs)\u001b[0m\n\u001b[1;32m     34\u001b[0m filename \u001b[39m=\u001b[39m \u001b[39mf\u001b[39m\u001b[39m\"\u001b[39m\u001b[39mcdist_\u001b[39m\u001b[39m{\u001b[39;00margument_hash_str\u001b[39m}\u001b[39;00m\u001b[39m.npy\u001b[39m\u001b[39m\"\u001b[39m\n\u001b[1;32m     35\u001b[0m compute_fn \u001b[39m=\u001b[39m \u001b[39mlambda\u001b[39;00m: \u001b[39mself\u001b[39m\u001b[39m.\u001b[39m_model\u001b[39m.\u001b[39mcalc_cdist_matrix(anchor_tcrs, comparison_tcrs)\n\u001b[0;32m---> 37\u001b[0m cdist_matrix \u001b[39m=\u001b[39m \u001b[39mself\u001b[39;49m\u001b[39m.\u001b[39;49mget_cached_or_compute_array(filename, compute_fn)\n\u001b[1;32m     39\u001b[0m \u001b[39mreturn\u001b[39;00m cdist_matrix\n",
      "File \u001b[0;32m~/Projects/tcr_embedder/src/model_analyser/model_computation_cacher.py:74\u001b[0m, in \u001b[0;36mModelComputationCacher.get_cached_or_compute_array\u001b[0;34m(self, filename, compute_fn)\u001b[0m\n\u001b[1;32m     72\u001b[0m     \u001b[39mreturn\u001b[39;00m np\u001b[39m.\u001b[39mload(file)\n\u001b[1;32m     73\u001b[0m \u001b[39melse\u001b[39;00m:\n\u001b[0;32m---> 74\u001b[0m     computed_result \u001b[39m=\u001b[39m compute_fn()\n\u001b[1;32m     75\u001b[0m     np\u001b[39m.\u001b[39msave(\n\u001b[1;32m     76\u001b[0m         file,\n\u001b[1;32m     77\u001b[0m         computed_result,\n\u001b[1;32m     78\u001b[0m     )\n\u001b[1;32m     79\u001b[0m     \u001b[39mreturn\u001b[39;00m computed_result\n",
      "File \u001b[0;32m~/Projects/tcr_embedder/src/model_analyser/model_computation_cacher.py:35\u001b[0m, in \u001b[0;36mModelComputationCacher.calc_cdist_matrix.<locals>.<lambda>\u001b[0;34m()\u001b[0m\n\u001b[1;32m     33\u001b[0m argument_hash_str \u001b[39m=\u001b[39m \u001b[39mself\u001b[39m\u001b[39m.\u001b[39m_get_argument_hash_str(anchor_tcrs, comparison_tcrs)\n\u001b[1;32m     34\u001b[0m filename \u001b[39m=\u001b[39m \u001b[39mf\u001b[39m\u001b[39m\"\u001b[39m\u001b[39mcdist_\u001b[39m\u001b[39m{\u001b[39;00margument_hash_str\u001b[39m}\u001b[39;00m\u001b[39m.npy\u001b[39m\u001b[39m\"\u001b[39m\n\u001b[0;32m---> 35\u001b[0m compute_fn \u001b[39m=\u001b[39m \u001b[39mlambda\u001b[39;00m: \u001b[39mself\u001b[39;49m\u001b[39m.\u001b[39;49m_model\u001b[39m.\u001b[39;49mcalc_cdist_matrix(anchor_tcrs, comparison_tcrs)\n\u001b[1;32m     37\u001b[0m cdist_matrix \u001b[39m=\u001b[39m \u001b[39mself\u001b[39m\u001b[39m.\u001b[39mget_cached_or_compute_array(filename, compute_fn)\n\u001b[1;32m     39\u001b[0m \u001b[39mreturn\u001b[39;00m cdist_matrix\n",
      "File \u001b[0;32m~/Projects/tcr_embedder/src/model/tcr_metric/ml_tcrdist/ml_tcrdist.py:63\u001b[0m, in \u001b[0;36mBetaMlTcrDist.calc_cdist_matrix\u001b[0;34m(self, anchor_tcrs, comparison_tcrs)\u001b[0m\n\u001b[1;32m     60\u001b[0m cdist_matrix \u001b[39m=\u001b[39m np\u001b[39m.\u001b[39mempty((num_anchors, num_comparisons), dtype\u001b[39m=\u001b[39m\u001b[39mfloat\u001b[39m)\n\u001b[1;32m     62\u001b[0m \u001b[39mfor\u001b[39;00m anchor_index, comparison_index \u001b[39min\u001b[39;00m itertools\u001b[39m.\u001b[39mproduct(\u001b[39mrange\u001b[39m(num_anchors), \u001b[39mrange\u001b[39m(num_comparisons)):\n\u001b[0;32m---> 63\u001b[0m     cdist_matrix[anchor_index, comparison_index] \u001b[39m=\u001b[39m \u001b[39mself\u001b[39;49m\u001b[39m.\u001b[39;49m_compute_distance(\n\u001b[1;32m     64\u001b[0m         packaged_anchor_tcrs\u001b[39m.\u001b[39;49miloc[anchor_index],\n\u001b[1;32m     65\u001b[0m         packaged_comparison_tcrs\u001b[39m.\u001b[39;49miloc[comparison_index]\n\u001b[1;32m     66\u001b[0m     )\n\u001b[1;32m     68\u001b[0m \u001b[39mreturn\u001b[39;00m cdist_matrix\n",
      "File \u001b[0;32m~/Projects/tcr_embedder/src/model/tcr_metric/ml_tcrdist/ml_tcrdist.py:85\u001b[0m, in \u001b[0;36mBetaMlTcrDist._compute_distance\u001b[0;34m(self, anchor_tcr, comparison_tcr)\u001b[0m\n\u001b[1;32m     83\u001b[0m \u001b[39mdef\u001b[39;00m \u001b[39m_compute_distance\u001b[39m(\u001b[39mself\u001b[39m, anchor_tcr: \u001b[39mtuple\u001b[39m, comparison_tcr: \u001b[39mtuple\u001b[39m) \u001b[39m-\u001b[39m\u001b[39m>\u001b[39m \u001b[39mfloat\u001b[39m:\n\u001b[1;32m     84\u001b[0m     dr \u001b[39m=\u001b[39m Levenshtein\u001b[39m.\u001b[39mdistance(anchor_tcr[\u001b[39m0\u001b[39m],comparison_tcr[\u001b[39m0\u001b[39m])\n\u001b[0;32m---> 85\u001b[0m     JJJ \u001b[39m=\u001b[39m [np\u001b[39m.\u001b[39mlog(\u001b[39m8e-2\u001b[39m), np\u001b[39m.\u001b[39;49mlog(\u001b[39m1e-2\u001b[39;49m), np\u001b[39m.\u001b[39mlog(\u001b[39m3e-3\u001b[39m),np\u001b[39m.\u001b[39mlog(\u001b[39m1e-3\u001b[39m)]\n\u001b[1;32m     86\u001b[0m     d \u001b[39m=\u001b[39m \u001b[39m0\u001b[39m\n\u001b[1;32m     87\u001b[0m     \u001b[39mif\u001b[39;00m dr \u001b[39m>\u001b[39m \u001b[39m0.5\u001b[39m \u001b[39mand\u001b[39;00m dr \u001b[39m<\u001b[39m \u001b[39m8.5\u001b[39m:\n",
      "\u001b[0;31mKeyboardInterrupt\u001b[0m: "
     ]
    }
   ],
   "source": [
    "analyser.analyse(model)"
   ]
  },
  {
   "cell_type": "code",
   "execution_count": null,
   "metadata": {},
   "outputs": [],
   "source": []
  }
 ],
 "metadata": {
  "kernelspec": {
   "display_name": ".venv",
   "language": "python",
   "name": "python3"
  },
  "language_info": {
   "codemirror_mode": {
    "name": "ipython",
    "version": 3
   },
   "file_extension": ".py",
   "mimetype": "text/x-python",
   "name": "python",
   "nbconvert_exporter": "python",
   "pygments_lexer": "ipython3",
   "version": "3.11.6"
  },
  "orig_nbformat": 4
 },
 "nbformat": 4,
 "nbformat_minor": 2
}
