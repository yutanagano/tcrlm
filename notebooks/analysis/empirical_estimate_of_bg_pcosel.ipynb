{
 "cells": [
  {
   "cell_type": "code",
   "execution_count": 2,
   "metadata": {},
   "outputs": [],
   "source": [
    "import os\n",
    "from pathlib import Path\n",
    "import sys\n",
    "\n",
    "if \"__project_dir__\" not in globals():\n",
    "    __project_dir__ = Path.cwd().parents[1].resolve()\n",
    "\n",
    "sys.path.append(__project_dir__)\n",
    "os.chdir(__project_dir__)"
   ]
  },
  {
   "cell_type": "code",
   "execution_count": 3,
   "metadata": {},
   "outputs": [],
   "source": [
    "import math\n",
    "import pandas as pd"
   ]
  },
  {
   "cell_type": "code",
   "execution_count": 4,
   "metadata": {},
   "outputs": [],
   "source": [
    "background_data = pd.read_csv(\"/home/yutanagano/UCLOneDrive/MBPhD/projects/tcr_embedder/data/preprocessed/tanno/test.csv\")\n",
    "epitope_specific_data = pd.read_csv(\"/home/yutanagano/UCLOneDrive/MBPhD/projects/tcr_embedder/data/preprocessed/minervina/preprocessed.csv\")"
   ]
  },
  {
   "cell_type": "code",
   "execution_count": 5,
   "metadata": {},
   "outputs": [],
   "source": [
    "total_num_bg_clones = background_data.clone_count.sum()\n",
    "total_num_bg_pairs = math.comb(total_num_bg_clones, 2)\n",
    "num_guaranteed_positive_bg_pairs = background_data.clone_count.map(lambda x: math.comb(x, 2)).sum()\n",
    "\n",
    "p_tcr_coincidence_bg = num_guaranteed_positive_bg_pairs / total_num_bg_pairs"
   ]
  },
  {
   "cell_type": "code",
   "execution_count": 6,
   "metadata": {},
   "outputs": [],
   "source": [
    "total_num_cospecific_pairs_from_epitope_specific_data = epitope_specific_data.groupby(\"Epitope\").aggregate({\"clone_count\": \"sum\"}).clone_count.map(lambda x: math.comb(x, 2)).sum()\n",
    "total_num_coicidences_within_cospecific_pairs = epitope_specific_data.clone_count.map(lambda x: math.comb(x, 2)).sum()\n",
    "\n",
    "p_tcr_coincidence_ep = total_num_coicidences_within_cospecific_pairs / total_num_cospecific_pairs_from_epitope_specific_data"
   ]
  },
  {
   "cell_type": "code",
   "execution_count": 19,
   "metadata": {},
   "outputs": [
    {
     "data": {
      "text/plain": [
       "2152967"
      ]
     },
     "execution_count": 19,
     "metadata": {},
     "output_type": "execute_result"
    }
   ],
   "source": [
    "total_num_cospecific_pairs_from_epitope_specific_data"
   ]
  },
  {
   "cell_type": "code",
   "execution_count": 7,
   "metadata": {},
   "outputs": [
    {
     "data": {
      "text/plain": [
       "3.01908947048422e-05"
      ]
     },
     "execution_count": 7,
     "metadata": {},
     "output_type": "execute_result"
    }
   ],
   "source": [
    "p_tcr_coincidence_ep"
   ]
  },
  {
   "cell_type": "code",
   "execution_count": 8,
   "metadata": {},
   "outputs": [],
   "source": [
    "bg_beta = background_data.groupby(\n",
    "    [\"TRBV\", \"CDR3B\", \"TRBJ\"],\n",
    "    as_index=False,\n",
    "    dropna=False,\n",
    ").aggregate({\"clone_count\": \"sum\"})\n",
    "ep_beta = epitope_specific_data.groupby(\n",
    "    [\"TRBV\", \"CDR3B\", \"TRBJ\", \"Epitope\"],\n",
    "    as_index=False,\n",
    "    dropna=False,\n",
    ").aggregate({\"clone_count\": \"sum\"})"
   ]
  },
  {
   "cell_type": "code",
   "execution_count": 9,
   "metadata": {},
   "outputs": [],
   "source": [
    "num_beta_bg_positives = bg_beta.clone_count.map(lambda x: math.comb(x, 2)).sum()\n",
    "p_beta_coincidence_bg = num_beta_bg_positives / total_num_bg_pairs"
   ]
  },
  {
   "cell_type": "code",
   "execution_count": 10,
   "metadata": {},
   "outputs": [],
   "source": [
    "num_beta_ep_coincidences = ep_beta.clone_count.map(lambda x: math.comb(x, 2)).sum()\n",
    "p_beta_coincidence_ep = num_beta_ep_coincidences / total_num_cospecific_pairs_from_epitope_specific_data"
   ]
  },
  {
   "cell_type": "code",
   "execution_count": 11,
   "metadata": {},
   "outputs": [
    {
     "data": {
      "text/plain": [
       "382.72292475586346"
      ]
     },
     "execution_count": 11,
     "metadata": {},
     "output_type": "execute_result"
    }
   ],
   "source": [
    "p_tcr_coincidence_ep / p_tcr_coincidence_bg"
   ]
  },
  {
   "cell_type": "code",
   "execution_count": 12,
   "metadata": {},
   "outputs": [
    {
     "data": {
      "text/plain": [
       "1661.048483150954"
      ]
     },
     "execution_count": 12,
     "metadata": {},
     "output_type": "execute_result"
    }
   ],
   "source": [
    "p_beta_coincidence_ep / p_beta_coincidence_bg"
   ]
  },
  {
   "cell_type": "code",
   "execution_count": null,
   "metadata": {},
   "outputs": [],
   "source": []
  }
 ],
 "metadata": {
  "kernelspec": {
   "display_name": ".venv",
   "language": "python",
   "name": "python3"
  },
  "language_info": {
   "codemirror_mode": {
    "name": "ipython",
    "version": 3
   },
   "file_extension": ".py",
   "mimetype": "text/x-python",
   "name": "python",
   "nbconvert_exporter": "python",
   "pygments_lexer": "ipython3",
   "version": "3.11.4"
  },
  "orig_nbformat": 4
 },
 "nbformat": 4,
 "nbformat_minor": 2
}
