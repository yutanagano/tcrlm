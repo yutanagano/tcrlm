{
 "cells": [
  {
   "cell_type": "code",
   "execution_count": 10,
   "metadata": {},
   "outputs": [],
   "source": [
    "import pandas as pd\n",
    "from pathlib import Path\n",
    "from src.model import tcr_metric, tcr_representation_model"
   ]
  },
  {
   "cell_type": "markdown",
   "metadata": {},
   "source": [
    "### Prepare data"
   ]
  },
  {
   "cell_type": "code",
   "execution_count": 11,
   "metadata": {},
   "outputs": [],
   "source": [
    "processed_data_path = Path.cwd().parent/\"tcr_data\"/\"preprocessed\"\n",
    "model_saves_path = Path.cwd().parent/\"model_saves\""
   ]
  },
  {
   "cell_type": "code",
   "execution_count": 16,
   "metadata": {},
   "outputs": [],
   "source": [
    "labelled_data = pd.read_csv(processed_data_path/\"gdb\"/\"test.csv\")\n",
    "background_data = pd.read_csv(processed_data_path/\"tanno\"/\"test.csv\")"
   ]
  },
  {
   "cell_type": "code",
   "execution_count": 26,
   "metadata": {},
   "outputs": [],
   "source": [
    "background_sample = background_data.sample(n=500, random_state=420)"
   ]
  },
  {
   "cell_type": "code",
   "execution_count": 39,
   "metadata": {},
   "outputs": [],
   "source": [
    "evaluation_data = pd.concat([labelled_data, background_sample]).reset_index(drop=True)"
   ]
  },
  {
   "cell_type": "markdown",
   "metadata": {},
   "source": [
    "### Load models"
   ]
  },
  {
   "cell_type": "code",
   "execution_count": 15,
   "metadata": {},
   "outputs": [],
   "source": [
    "tcrdist = tcr_metric.BetaTcrdist()\n",
    "blastr = tcr_representation_model.load_blastr_save(model_saves_path/\"Beta_CDR_BERT_Unsupervised_Large_2\")"
   ]
  },
  {
   "cell_type": "markdown",
   "metadata": {},
   "source": [
    "### Benchmarking"
   ]
  },
  {
   "cell_type": "code",
   "execution_count": 42,
   "metadata": {},
   "outputs": [],
   "source": [
    "cdist_matrix = tcrdist.calc_cdist_matrix(evaluation_data, labelled_data)"
   ]
  },
  {
   "cell_type": "code",
   "execution_count": 45,
   "metadata": {},
   "outputs": [
    {
     "data": {
      "text/plain": [
       "array([[  0, 150, 135, ..., 142, 108, 147],\n",
       "       [150,   0, 182, ..., 135, 146, 155],\n",
       "       [135, 182,   0, ..., 191, 133,  69],\n",
       "       ...,\n",
       "       [109, 131, 147, ..., 137, 133, 147],\n",
       "       [118, 132, 119, ..., 105, 139, 131],\n",
       "       [144, 146, 121, ..., 151, 108, 142]], dtype=int16)"
      ]
     },
     "execution_count": 45,
     "metadata": {},
     "output_type": "execute_result"
    }
   ],
   "source": [
    "cdist_matrix"
   ]
  },
  {
   "cell_type": "code",
   "execution_count": null,
   "metadata": {},
   "outputs": [],
   "source": []
  }
 ],
 "metadata": {
  "kernelspec": {
   "display_name": ".venv",
   "language": "python",
   "name": "python3"
  },
  "language_info": {
   "codemirror_mode": {
    "name": "ipython",
    "version": 3
   },
   "file_extension": ".py",
   "mimetype": "text/x-python",
   "name": "python",
   "nbconvert_exporter": "python",
   "pygments_lexer": "ipython3",
   "version": "3.11.6"
  }
 },
 "nbformat": 4,
 "nbformat_minor": 2
}
